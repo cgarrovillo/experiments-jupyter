{
 "cells": [
  {
   "cell_type": "markdown",
   "metadata": {},
   "source": [
    "# Programming in Python for Data Science \n",
    "\n",
    "# Assignment 4: Basic Python"
   ]
  },
  {
   "cell_type": "markdown",
   "metadata": {},
   "source": [
    "You can't learn technical subjects without hands-on practice. The assignments are an important part of the course. To submit this assignment you will need to make sure that you save your Jupyter notebook. \n",
    "\n",
    "Below are the links of 2 videos that explain:\n",
    "\n",
    "1. [How to save your Jupyter notebook](https://youtu.be/0aoLgBoAUSA) and,       \n",
    "2. [How to answer a question in a Jupyter notebook assignment](https://youtu.be/7j0WKhI3W4s).    "
   ]
  },
  {
   "cell_type": "markdown",
   "metadata": {},
   "source": [
    "### Assignment Learning Goals:\n",
    "\n",
    "By the end of the module, students are expected to:\n",
    "\n",
    "- Compare and contrast Python's key data types.\n",
    "- Compare and contrast Python's key data structures. \n",
    "- Use python to determine the type and structure of an object.\n",
    "- Demonstrate how to create data structures and convert them to another.\n",
    "- Identify which operations can be applied to different data types and columns dtypes. \n",
    "\n",
    "This assignment covers [Module 4](https://prog-learn.mds.ubc.ca/en/module4) of the online course. You should complete this module before attempting this assignment."
   ]
  },
  {
   "cell_type": "markdown",
   "metadata": {},
   "source": [
    "Any place you see `...`, you must fill in the function, variable, or data to complete the code. Substitute the `None` and the `raise NotImplementedError # No Answer - remove if you provide an answer` with your completed code and answers then proceed to run the cell!"
   ]
  },
  {
   "cell_type": "markdown",
   "metadata": {},
   "source": [
    "Note that some of the questions in this assignment will have hidden tests. This means that no feedback will be given as to the correctness of your solution. It will be left up to you to decide if your answer is sufficiently correct. These questions are worth 2 points."
   ]
  },
  {
   "cell_type": "code",
   "execution_count": 1,
   "metadata": {},
   "outputs": [],
   "source": [
    "# Import libraries needed for this lab\n",
    "import pandas as pd\n",
    "import test_assignment4 as t\n",
    "from hashlib import sha1\n",
    "import altair as alt"
   ]
  },
  {
   "cell_type": "markdown",
   "metadata": {},
   "source": [
    "## 1.  Python Datatypes "
   ]
  },
  {
   "cell_type": "markdown",
   "metadata": {},
   "source": [
    "**Question 1(a)** <br> {points: 1}  \n",
    "\n",
    "Match the objects below to their associated correct datatype.\n",
    " \n",
    "    a) 'False'     \n",
    "    b) 67       \n",
    "    c) None      \n",
    "    d) [False, 'Wrong', None, \"Lies\"]      \n",
    "    e) True      \n",
    "    f) {'Name': 'Cookies and Cream', 'Brand': \"Hersey's\", 'Weight' = 48}        \n",
    "    g) \"None\"      \n",
    "    h) 67.0        \n",
    "    i) ('Never', 'gonna', 'give', 'you', 'up')          \n",
    "    j) 7.777777          \n",
    "    k) \"45\"          \n",
    "\n",
    "\n",
    "In the code chunk below, assign each object to it's corresponding datatype by putting the  following datatypes in quotes (as a string!):       \n",
    "`int`, `float`, `bool`, `str`, `list`, `tuple`, `dict`, `NoneType`.\n",
    "\n",
    "\n",
    "_Make sure your answer is written as the datatype selected above. _\n",
    "\n",
    "***Example:***\n",
    "\n",
    "    z)   23\n",
    "\n",
    "`answer1_z = 'int'`"
   ]
  },
  {
   "cell_type": "code",
   "execution_count": 2,
   "metadata": {
    "deletable": false,
    "nbgrader": {
     "cell_type": "code",
     "checksum": "45963785cd1522dbdb237ee92c6fa988",
     "grade": false,
     "grade_id": "cell-dd23213c014f85af",
     "locked": false,
     "schema_version": 3,
     "solution": true,
     "task": false
    }
   },
   "outputs": [],
   "source": [
    "answer1_a = 'str'\n",
    "answer1_b = 'int' \n",
    "answer1_c = 'NoneType'\n",
    "answer1_d = 'list'\n",
    "answer1_e = 'bool'\n",
    "answer1_f = 'dict'\n",
    "answer1_g = 'str'\n",
    "answer1_h = 'float'\n",
    "answer1_i = 'tuple'\n",
    "answer1_j = 'float'\n",
    "answer1_k = 'str'"
   ]
  },
  {
   "cell_type": "code",
   "execution_count": 3,
   "metadata": {
    "deletable": false,
    "editable": false,
    "nbgrader": {
     "cell_type": "code",
     "checksum": "22b787e36eb816b98e6ee4108f525f95",
     "grade": true,
     "grade_id": "cell-e7ceb2b5a029de7b",
     "locked": true,
     "points": 1,
     "schema_version": 3,
     "solution": false,
     "task": false
    }
   },
   "outputs": [
    {
     "data": {
      "text/plain": [
       "'Success'"
      ]
     },
     "execution_count": 3,
     "metadata": {},
     "output_type": "execute_result"
    }
   ],
   "source": [
    "t.test_1a([answer1_a,answer1_b,answer1_c,answer1_d,answer1_e,answer1_f,answer1_g,answer1_h,\n",
    "         answer1_i,answer1_j,answer1_k])"
   ]
  },
  {
   "cell_type": "markdown",
   "metadata": {},
   "source": [
    "## 2. Pandas Datatypes "
   ]
  },
  {
   "cell_type": "markdown",
   "metadata": {},
   "source": [
    "For the next couple questions, please refer to this table referencing different astronauts and their space accomplishments: \n",
    "\n",
    "|    | Name |   Year |   Group | Status   | Birth_Date | Birth_Place    | Gender   | Graduate | Military | Space_Walks | Space_Walks_hrs | Deceased   | Missions  |\n",
    "|---:|:-----|----:|-----:|:-----|:-------|:--------|:---------|:---------|:------|-----:|-----:|:-----------|:-----|\n",
    "|**0**| Neil A. Armstrong |   1962 |2 | Deceased | 1930-08-05| Wapakoneta, OH | Male| Aerospace Engineering   | False | 1 |  2   | True  | [Gemini 8,  Apollo 11]   |\n",
    "|**1**| Buzz Aldrin  |1963 |  3 | Retired  | 1930-01-20| Montclair, NJ  | Male     | Astronautics | True | 2 | 8 | False      | [ Gemini 12,  Apollo 11] |\n",
    "|**2**| Patricia Hilliard Robertson |   1998 |   17 | Deceased | 1963-03-12| Indiana, PA | Female   | Medicine| False| 0 |0   | True| [] |\n",
    "|**3**| Alfred M. Worden |   1966 |  5 | Retired  | 1932-02-07| Jackson, MI    | Male |Aeronautical & Astronautical Engineering | True | 1 | 0.5 | False      | [Apollo 15]|\n"
   ]
  },
  {
   "cell_type": "markdown",
   "metadata": {},
   "source": [
    "**Question 2(a)** <br> {points: 1}  \n",
    "\n",
    "For the dataframe above what is the data dtype of each column? Save your answer as a string in an object named with the column label.      \n",
    "Remember you can chose from the following data types: \n",
    "\n",
    "- `object` \n",
    "- `int64`   \n",
    "- `float64`   \n",
    "- `datetime64`   \n",
    "- `bool`     "
   ]
  },
  {
   "cell_type": "code",
   "execution_count": 4,
   "metadata": {
    "deletable": false,
    "nbgrader": {
     "cell_type": "code",
     "checksum": "06fbf6a3094c02dbb0149249e497055a",
     "grade": false,
     "grade_id": "cell-550e922f66bcbd57",
     "locked": false,
     "schema_version": 3,
     "solution": true,
     "task": false
    }
   },
   "outputs": [],
   "source": [
    "Name = 'object' \n",
    "Year = 'int64'\n",
    "Group = 'int64'\n",
    "Status = 'object' \n",
    "Birth_Date = 'datetime64'\n",
    "Birth_Place = 'object'\n",
    "Gender = 'object'\n",
    "Graduate = 'object'\n",
    "Military = 'bool'\n",
    "Space_Walks = 'int64'\n",
    "Space_Walks_hrs = 'float64'\n",
    "Deceased = 'bool'\n",
    "Missions = 'object'"
   ]
  },
  {
   "cell_type": "code",
   "execution_count": 5,
   "metadata": {
    "deletable": false,
    "editable": false,
    "nbgrader": {
     "cell_type": "code",
     "checksum": "fbb18ca403c4c88949d5a0a5b85dafc5",
     "grade": true,
     "grade_id": "cell-6ad4da99b7dfef74",
     "locked": true,
     "points": 1,
     "schema_version": 3,
     "solution": false,
     "task": false
    }
   },
   "outputs": [
    {
     "data": {
      "text/plain": [
       "'Success'"
      ]
     },
     "execution_count": 5,
     "metadata": {},
     "output_type": "execute_result"
    }
   ],
   "source": [
    "t.test_2a([Name,Year,Group,Status,Birth_Date,Birth_Place,Gender,Graduate,\n",
    "         Military,Space_Walks,Space_Walks_hrs,Deceased,Missions])"
   ]
  },
  {
   "cell_type": "markdown",
   "metadata": {},
   "source": [
    "**Question 2(b)** <br> {points: 2} \n",
    "\n",
    "Using the dataframe above, which of the columns contain cell values that are **NOT** of type `str`?\n",
    "\n",
    "_Assign your answer to an object called `answer2_b` in the code chunk below. Place each column name in a list._\n",
    "\n",
    "_For example if you believe the answer is `Name`, `Year` and `Group` your answer would like this:_  \n",
    "\n",
    "`answer2_b = ['Name', 'Year', 'Group']`\n"
   ]
  },
  {
   "cell_type": "code",
   "execution_count": 6,
   "metadata": {
    "deletable": false,
    "nbgrader": {
     "cell_type": "code",
     "checksum": "4809ddd77487ade4cb32d1599d52e664",
     "grade": false,
     "grade_id": "cell-d1ca33359d1a6e78",
     "locked": false,
     "schema_version": 3,
     "solution": true,
     "task": false
    }
   },
   "outputs": [],
   "source": [
    "answer2_b = ['Year', 'Group', 'Military', 'Space_Walks', 'Space_Walks_hrs', 'Deceased', 'Missions']"
   ]
  },
  {
   "cell_type": "code",
   "execution_count": 7,
   "metadata": {
    "deletable": false,
    "editable": false,
    "nbgrader": {
     "cell_type": "code",
     "checksum": "d21184a60c290988e75a86c166471a5d",
     "grade": true,
     "grade_id": "cell-8a2c66ce17162ab8",
     "locked": true,
     "points": 2,
     "schema_version": 3,
     "solution": false,
     "task": false
    }
   },
   "outputs": [],
   "source": [
    "# check that the variable exists\n",
    "assert 'answer2_b' in globals(\n",
    "), \"Please make sure that your solution is named 'answer2_b'\"\n",
    "\n",
    "# This test has been intentionally hidden. It will be up to you to decide if your solution\n",
    "# is sufficiently good."
   ]
  },
  {
   "cell_type": "markdown",
   "metadata": {},
   "source": [
    "**Question 2(c)** <br> {points: 1}  \n",
    "\n",
    "Let's try the same time with a new dataframe below: \n",
    "\n",
    "|  | show_id| categ|title|director| cast|us_made|date_added|release_year| rating| duration| listed_in| description|\n",
    "|--:|:-------|:----|:-----|:--------|:----|:------|:---------|-----------:|:------|:--------|:---------|------------:|\n",
    "|**0**| 70044595  | Movie   | Monster House   | Gil Kenan   | [Mitchel Musso, Sam Lerner, Spencer Locke, Steve Buscemi, Kathleen Turner, Jason Lee, Jon Heder, Maggie Gyllenhaal] | TRue  | 01-Nov-19  | 2006 | PG  | 91 min | Children & Family Movies, Comedies   |  NaN |\n",
    "|**1**| 7oo56441  | Movie   | Teenage Mutant Ninja Turtles| Kevin Munroe    | [Chris Evans, Sarah Michelle Gellar, Mako Iwamatsu, Kevin Smith, Patrick Stewart, Zhang Ziyi, Laurence Fishburne]   | NaN| 01-May-19|2007 | PG| 87 min     | Children & Family Movies, Comedies   |NaN |\n",
    "|**2**| 80164032  | Movie   | A Plastic Ocean| NaN | Tanya Streeter | False| 04-Oct-19|2016 | PG       | 100 min    | Documentaries  |NaN |\n",
    "|**3**| 80036412  | TV Show | A.D. Kingdom and Empire  | NaN | [Juan Pablo Di Pace, Adam Levy, Chipo Chung, Babou Ceesay, Emmett Scanlan, Will Thorp, Richard Coyle] | True.     | 15-Dec-17|2015 | 14| 46 mins| TV Dramas|NaN |\n",
    "|**4**| 70196145  | TV Show | New Girl| NaN| [Zooey Deschanel, Jake Johnson, Max Greenfield, Hannah Simone, Lamorne Morris, Damon Wayans Jr.]| True| April 11, 2019 |2017 | 14| 28 mins  | Romantic TV Shows, TV Comedies|NaN |\n",
    "|**5**| 60029154  | Movie| Terminator 3: Rise of the Machines | Jonathan Mostow | [Arnold Schwarzenegger, Nick Stahl, Claire Danes, Kristanna Loken, David Andrews, Mark Famiglietti]| True| 01-Jan-20|2003 | R| 109 min    | Action & Adventure, Sci-Fi & Fantasy |NaN |\n",
    "\n",
    "What are the data types of the values within each column?\n",
    "\n",
    "Save your answers as a string in an object named with the column label.      \n",
    "Remember you can chose from the following data types: \n",
    "\n",
    "- `str` \n",
    "- `int`   \n",
    "- `float`   \n",
    "- `Timestamp`   \n",
    "- `bool`   \n"
   ]
  },
  {
   "cell_type": "code",
   "execution_count": 8,
   "metadata": {
    "deletable": false,
    "nbgrader": {
     "cell_type": "code",
     "checksum": "37ef25f5c5883615de8839d00f7e5116",
     "grade": false,
     "grade_id": "cell-e9ff05447014e52d",
     "locked": false,
     "schema_version": 3,
     "solution": true,
     "task": false
    }
   },
   "outputs": [],
   "source": [
    "show_id = 'str' \n",
    "categ = 'str'\n",
    "title = 'str' \n",
    "director = 'str'\n",
    "cast = 'str'\n",
    "us_made = 'str'\n",
    "date_added = 'str'\n",
    "release_year = 'int'\n",
    "rating = 'str'\n",
    "duration = 'str'\n",
    "listed_in = 'str'\n",
    "description = 'float'\n"
   ]
  },
  {
   "cell_type": "code",
   "execution_count": 9,
   "metadata": {
    "deletable": false,
    "editable": false,
    "nbgrader": {
     "cell_type": "code",
     "checksum": "fd2e12fb3ed2be356adb2b2b14b646ad",
     "grade": true,
     "grade_id": "cell-499dd84702e1817a",
     "locked": true,
     "points": 1,
     "schema_version": 3,
     "solution": false,
     "task": false
    }
   },
   "outputs": [
    {
     "data": {
      "text/plain": [
       "'Success'"
      ]
     },
     "execution_count": 9,
     "metadata": {},
     "output_type": "execute_result"
    }
   ],
   "source": [
    "t.test_2c([show_id,categ,title,director,cast,us_made,date_added,release_year,\n",
    "         rating,duration,listed_in,description])"
   ]
  },
  {
   "cell_type": "markdown",
   "metadata": {},
   "source": [
    "# 3. Gapminder "
   ]
  },
  {
   "cell_type": "markdown",
   "metadata": {},
   "source": [
    "Remember the`gapminder.csv` data that we used in Assignment 3. "
   ]
  },
  {
   "cell_type": "code",
   "execution_count": 10,
   "metadata": {},
   "outputs": [
    {
     "data": {
      "text/html": [
       "<div>\n",
       "<style scoped>\n",
       "    .dataframe tbody tr th:only-of-type {\n",
       "        vertical-align: middle;\n",
       "    }\n",
       "\n",
       "    .dataframe tbody tr th {\n",
       "        vertical-align: top;\n",
       "    }\n",
       "\n",
       "    .dataframe thead th {\n",
       "        text-align: right;\n",
       "    }\n",
       "</style>\n",
       "<table border=\"1\" class=\"dataframe\">\n",
       "  <thead>\n",
       "    <tr style=\"text-align: right;\">\n",
       "      <th></th>\n",
       "      <th>Country</th>\n",
       "      <th>2012</th>\n",
       "      <th>2013</th>\n",
       "      <th>2014</th>\n",
       "      <th>2015</th>\n",
       "      <th>2016</th>\n",
       "    </tr>\n",
       "  </thead>\n",
       "  <tbody>\n",
       "    <tr>\n",
       "      <th>0</th>\n",
       "      <td>Afghanistan</td>\n",
       "      <td>31200000</td>\n",
       "      <td>32300000</td>\n",
       "      <td>33400000</td>\n",
       "      <td>34400000</td>\n",
       "      <td>35400000</td>\n",
       "    </tr>\n",
       "    <tr>\n",
       "      <th>1</th>\n",
       "      <td>Albania</td>\n",
       "      <td>2910000</td>\n",
       "      <td>2900000</td>\n",
       "      <td>2900000</td>\n",
       "      <td>2890000</td>\n",
       "      <td>2890000</td>\n",
       "    </tr>\n",
       "    <tr>\n",
       "      <th>2</th>\n",
       "      <td>Algeria</td>\n",
       "      <td>37400000</td>\n",
       "      <td>38100000</td>\n",
       "      <td>38900000</td>\n",
       "      <td>39700000</td>\n",
       "      <td>40600000</td>\n",
       "    </tr>\n",
       "    <tr>\n",
       "      <th>3</th>\n",
       "      <td>Andorra</td>\n",
       "      <td>82400</td>\n",
       "      <td>80800</td>\n",
       "      <td>79200</td>\n",
       "      <td>78000</td>\n",
       "      <td>77300</td>\n",
       "    </tr>\n",
       "    <tr>\n",
       "      <th>4</th>\n",
       "      <td>Angola</td>\n",
       "      <td>25100000</td>\n",
       "      <td>26000000</td>\n",
       "      <td>26900000</td>\n",
       "      <td>27900000</td>\n",
       "      <td>28800000</td>\n",
       "    </tr>\n",
       "    <tr>\n",
       "      <th>...</th>\n",
       "      <td>...</td>\n",
       "      <td>...</td>\n",
       "      <td>...</td>\n",
       "      <td>...</td>\n",
       "      <td>...</td>\n",
       "      <td>...</td>\n",
       "    </tr>\n",
       "    <tr>\n",
       "      <th>190</th>\n",
       "      <td>Venezuela</td>\n",
       "      <td>29400000</td>\n",
       "      <td>29800000</td>\n",
       "      <td>30000000</td>\n",
       "      <td>30100000</td>\n",
       "      <td>29900000</td>\n",
       "    </tr>\n",
       "    <tr>\n",
       "      <th>191</th>\n",
       "      <td>Vietnam</td>\n",
       "      <td>89800000</td>\n",
       "      <td>90800000</td>\n",
       "      <td>91700000</td>\n",
       "      <td>92700000</td>\n",
       "      <td>93600000</td>\n",
       "    </tr>\n",
       "    <tr>\n",
       "      <th>192</th>\n",
       "      <td>Yemen</td>\n",
       "      <td>24500000</td>\n",
       "      <td>25100000</td>\n",
       "      <td>25800000</td>\n",
       "      <td>26500000</td>\n",
       "      <td>27200000</td>\n",
       "    </tr>\n",
       "    <tr>\n",
       "      <th>193</th>\n",
       "      <td>Zambia</td>\n",
       "      <td>14500000</td>\n",
       "      <td>14900000</td>\n",
       "      <td>15400000</td>\n",
       "      <td>15900000</td>\n",
       "      <td>16400000</td>\n",
       "    </tr>\n",
       "    <tr>\n",
       "      <th>194</th>\n",
       "      <td>Zimbabwe</td>\n",
       "      <td>13100000</td>\n",
       "      <td>13400000</td>\n",
       "      <td>13600000</td>\n",
       "      <td>13800000</td>\n",
       "      <td>14000000</td>\n",
       "    </tr>\n",
       "  </tbody>\n",
       "</table>\n",
       "<p>195 rows × 6 columns</p>\n",
       "</div>"
      ],
      "text/plain": [
       "         Country      2012      2013      2014      2015      2016\n",
       "0    Afghanistan  31200000  32300000  33400000  34400000  35400000\n",
       "1        Albania   2910000   2900000   2900000   2890000   2890000\n",
       "2        Algeria  37400000  38100000  38900000  39700000  40600000\n",
       "3        Andorra     82400     80800     79200     78000     77300\n",
       "4         Angola  25100000  26000000  26900000  27900000  28800000\n",
       "..           ...       ...       ...       ...       ...       ...\n",
       "190    Venezuela  29400000  29800000  30000000  30100000  29900000\n",
       "191      Vietnam  89800000  90800000  91700000  92700000  93600000\n",
       "192        Yemen  24500000  25100000  25800000  26500000  27200000\n",
       "193       Zambia  14500000  14900000  15400000  15900000  16400000\n",
       "194     Zimbabwe  13100000  13400000  13600000  13800000  14000000\n",
       "\n",
       "[195 rows x 6 columns]"
      ]
     },
     "execution_count": 10,
     "metadata": {},
     "output_type": "execute_result"
    }
   ],
   "source": [
    "gapminder = pd.read_csv('data/gapminder.csv')\n",
    "gapminder"
   ]
  },
  {
   "cell_type": "markdown",
   "metadata": {},
   "source": [
    "**Question 3(a)** <br> {points: 1} \n",
    "\n",
    "Use `.dtypes` to find the data type of each column."
   ]
  },
  {
   "cell_type": "code",
   "execution_count": 11,
   "metadata": {
    "deletable": false,
    "nbgrader": {
     "cell_type": "code",
     "checksum": "d60c615acc9e985452ce1b931edb8517",
     "grade": false,
     "grade_id": "cell-43a3fe0102f54fe9",
     "locked": false,
     "schema_version": 3,
     "solution": true,
     "task": false
    }
   },
   "outputs": [],
   "source": [
    "country = gapminder['Country'].dtypes\n",
    "year_2012 = gapminder['2012'].dtypes\n",
    "year_2013 = gapminder['2013'].dtypes\n",
    "year_2014 = gapminder['2014'].dtypes\n",
    "year_2015 = gapminder['2015'].dtypes\n",
    "year_2016 = gapminder['2016'].dtypes"
   ]
  },
  {
   "cell_type": "code",
   "execution_count": 12,
   "metadata": {
    "deletable": false,
    "editable": false,
    "nbgrader": {
     "cell_type": "code",
     "checksum": "74817e80177e6e62454e23860d4bce35",
     "grade": true,
     "grade_id": "cell-d5755344476551c4",
     "locked": true,
     "points": 1,
     "schema_version": 3,
     "solution": false,
     "task": false
    }
   },
   "outputs": [
    {
     "data": {
      "text/plain": [
       "'Success'"
      ]
     },
     "execution_count": 12,
     "metadata": {},
     "output_type": "execute_result"
    }
   ],
   "source": [
    "t.test_3a([country,year_2012,year_2013,year_2014,year_2015,year_2016])"
   ]
  },
  {
   "cell_type": "markdown",
   "metadata": {},
   "source": [
    "**Question 3(b)** <br> {points: 1} \n",
    "\n",
    "Similarly as we did in the last assignment, melt the data to produce a single column named `Year` that contain the years 2012 - 2014 and a new column named `Population` with associated population values. Name the long dataframe `gapminder_long`. \n"
   ]
  },
  {
   "cell_type": "code",
   "execution_count": 13,
   "metadata": {
    "deletable": false,
    "nbgrader": {
     "cell_type": "code",
     "checksum": "210622071f69f70f8bd2a46a4b14da95",
     "grade": false,
     "grade_id": "cell-b9790e4a26b35d2c",
     "locked": false,
     "schema_version": 3,
     "solution": true,
     "task": false
    }
   },
   "outputs": [
    {
     "data": {
      "text/html": [
       "<div>\n",
       "<style scoped>\n",
       "    .dataframe tbody tr th:only-of-type {\n",
       "        vertical-align: middle;\n",
       "    }\n",
       "\n",
       "    .dataframe tbody tr th {\n",
       "        vertical-align: top;\n",
       "    }\n",
       "\n",
       "    .dataframe thead th {\n",
       "        text-align: right;\n",
       "    }\n",
       "</style>\n",
       "<table border=\"1\" class=\"dataframe\">\n",
       "  <thead>\n",
       "    <tr style=\"text-align: right;\">\n",
       "      <th></th>\n",
       "      <th>Country</th>\n",
       "      <th>Year</th>\n",
       "      <th>Population</th>\n",
       "    </tr>\n",
       "  </thead>\n",
       "  <tbody>\n",
       "    <tr>\n",
       "      <th>0</th>\n",
       "      <td>Afghanistan</td>\n",
       "      <td>2012</td>\n",
       "      <td>31200000</td>\n",
       "    </tr>\n",
       "    <tr>\n",
       "      <th>1</th>\n",
       "      <td>Albania</td>\n",
       "      <td>2012</td>\n",
       "      <td>2910000</td>\n",
       "    </tr>\n",
       "    <tr>\n",
       "      <th>2</th>\n",
       "      <td>Algeria</td>\n",
       "      <td>2012</td>\n",
       "      <td>37400000</td>\n",
       "    </tr>\n",
       "    <tr>\n",
       "      <th>3</th>\n",
       "      <td>Andorra</td>\n",
       "      <td>2012</td>\n",
       "      <td>82400</td>\n",
       "    </tr>\n",
       "    <tr>\n",
       "      <th>4</th>\n",
       "      <td>Angola</td>\n",
       "      <td>2012</td>\n",
       "      <td>25100000</td>\n",
       "    </tr>\n",
       "    <tr>\n",
       "      <th>...</th>\n",
       "      <td>...</td>\n",
       "      <td>...</td>\n",
       "      <td>...</td>\n",
       "    </tr>\n",
       "    <tr>\n",
       "      <th>580</th>\n",
       "      <td>Venezuela</td>\n",
       "      <td>2014</td>\n",
       "      <td>30000000</td>\n",
       "    </tr>\n",
       "    <tr>\n",
       "      <th>581</th>\n",
       "      <td>Vietnam</td>\n",
       "      <td>2014</td>\n",
       "      <td>91700000</td>\n",
       "    </tr>\n",
       "    <tr>\n",
       "      <th>582</th>\n",
       "      <td>Yemen</td>\n",
       "      <td>2014</td>\n",
       "      <td>25800000</td>\n",
       "    </tr>\n",
       "    <tr>\n",
       "      <th>583</th>\n",
       "      <td>Zambia</td>\n",
       "      <td>2014</td>\n",
       "      <td>15400000</td>\n",
       "    </tr>\n",
       "    <tr>\n",
       "      <th>584</th>\n",
       "      <td>Zimbabwe</td>\n",
       "      <td>2014</td>\n",
       "      <td>13600000</td>\n",
       "    </tr>\n",
       "  </tbody>\n",
       "</table>\n",
       "<p>585 rows × 3 columns</p>\n",
       "</div>"
      ],
      "text/plain": [
       "         Country  Year  Population\n",
       "0    Afghanistan  2012    31200000\n",
       "1        Albania  2012     2910000\n",
       "2        Algeria  2012    37400000\n",
       "3        Andorra  2012       82400\n",
       "4         Angola  2012    25100000\n",
       "..           ...   ...         ...\n",
       "580    Venezuela  2014    30000000\n",
       "581      Vietnam  2014    91700000\n",
       "582        Yemen  2014    25800000\n",
       "583       Zambia  2014    15400000\n",
       "584     Zimbabwe  2014    13600000\n",
       "\n",
       "[585 rows x 3 columns]"
      ]
     },
     "execution_count": 13,
     "metadata": {},
     "output_type": "execute_result"
    }
   ],
   "source": [
    "gapminder_long = (gapminder.melt(id_vars=['Country'],\n",
    "                                 value_vars=['2012', '2013', '2014'],\n",
    "                                 var_name='Year',\n",
    "                                 value_name='Population'\n",
    "                                 ))\n",
    "\n",
    "gapminder_long"
   ]
  },
  {
   "cell_type": "code",
   "execution_count": 14,
   "metadata": {
    "deletable": false,
    "editable": false,
    "nbgrader": {
     "cell_type": "code",
     "checksum": "d2d6d9d371d0da7f2e780cb7b29e04b5",
     "grade": true,
     "grade_id": "cell-09e08d60d57a2a2a",
     "locked": true,
     "points": 1,
     "schema_version": 3,
     "solution": false,
     "task": false
    }
   },
   "outputs": [
    {
     "data": {
      "text/plain": [
       "'Success'"
      ]
     },
     "execution_count": 14,
     "metadata": {},
     "output_type": "execute_result"
    }
   ],
   "source": [
    "t.test_3b(gapminder_long)"
   ]
  },
  {
   "cell_type": "markdown",
   "metadata": {},
   "source": [
    "**Question 3(c)** <br> {points: 1} \n",
    "\n",
    "\n",
    "What are the datatypes of the columns `Year` and `Population`in the `gapminder_long` dataframe?   \n",
    " Save them in the objects named `Year_type` and `Population_type`."
   ]
  },
  {
   "cell_type": "code",
   "execution_count": 15,
   "metadata": {
    "deletable": false,
    "nbgrader": {
     "cell_type": "code",
     "checksum": "78bcf665ea538f54293ef57dcd3cc623",
     "grade": false,
     "grade_id": "cell-68ddafc972be022a",
     "locked": false,
     "schema_version": 3,
     "solution": true,
     "task": false
    }
   },
   "outputs": [
    {
     "name": "stdout",
     "output_type": "stream",
     "text": [
      "object\n",
      "int64\n"
     ]
    }
   ],
   "source": [
    "Year_type = gapminder_long['Year'].dtype\n",
    "Population_type = gapminder_long['Population'].dtype\n",
    "\n",
    "print(Year_type)\n",
    "print(Population_type)"
   ]
  },
  {
   "cell_type": "code",
   "execution_count": 16,
   "metadata": {
    "deletable": false,
    "editable": false,
    "nbgrader": {
     "cell_type": "code",
     "checksum": "5569314c1c16ad677dc1b02cd81bba91",
     "grade": true,
     "grade_id": "cell-a1d43232711c4f89",
     "locked": true,
     "points": 1,
     "schema_version": 3,
     "solution": false,
     "task": false
    }
   },
   "outputs": [
    {
     "data": {
      "text/plain": [
       "'Success'"
      ]
     },
     "execution_count": 16,
     "metadata": {},
     "output_type": "execute_result"
    }
   ],
   "source": [
    "t.test_3c([Year_type,Population_type])"
   ]
  },
  {
   "cell_type": "markdown",
   "metadata": {},
   "source": [
    "**Question 3(d)** <br> {points: 2} \n",
    "\n",
    "If we attempt to take the range of the years in the data we obtain the following error: "
   ]
  },
  {
   "cell_type": "code",
   "execution_count": 17,
   "metadata": {},
   "outputs": [],
   "source": [
    "# Uncomment the code below to see the error\n",
    "# max(gapminder_long['Year']) - min(gapminder_long['Year'])"
   ]
  },
  {
   "cell_type": "markdown",
   "metadata": {},
   "source": [
    "Which of the following most appropriately explains what is happening with the `Year` variable. \n",
    "\n",
    "\n",
    "A) When `.melt()` was used, it converted the `Year` values from data types `int` to `str`.  \n",
    "\n",
    "B) The `Year` column labels were always of type `str`. When melted, it converted the labels to cell values so the labels became cell values of type `str` and we cannot use a subtraction operator on values of type `str`. \n",
    "\n",
    "C) The `Year` column labels were always of type `str`. When melted, it converted the labels to cell values so the labels became cell values of type `str`  and we cannot use the verbs `max()` and `min()` on values of type `str`. \n",
    "\n",
    "D) There is no column named `Year` and so the code cannot execute. \n",
    "\n",
    "*Answer in the cell below using the uppercase letter associated with your answer. Place your answer between `\"\"`, assign the correct answer to an object called `answer3_d`.*"
   ]
  },
  {
   "cell_type": "code",
   "execution_count": 18,
   "metadata": {
    "deletable": false,
    "nbgrader": {
     "cell_type": "code",
     "checksum": "9b0c0b76d8174ddefa464dd6fc6c235f",
     "grade": false,
     "grade_id": "cell-d7eb6e529f418cad",
     "locked": false,
     "schema_version": 3,
     "solution": true,
     "task": false
    }
   },
   "outputs": [],
   "source": [
    "answer3_d = \"B\""
   ]
  },
  {
   "cell_type": "code",
   "execution_count": 19,
   "metadata": {
    "deletable": false,
    "editable": false,
    "nbgrader": {
     "cell_type": "code",
     "checksum": "bb5db66f6028b9397776fa7dbb34928f",
     "grade": true,
     "grade_id": "cell-b356d614209a82a2",
     "locked": true,
     "points": 2,
     "schema_version": 3,
     "solution": false,
     "task": false
    }
   },
   "outputs": [],
   "source": [
    "# check that the variable exists\n",
    "assert 'answer3_d' in globals(\n",
    "), \"Please make sure that your solution is named 'answer3_d'\"\n",
    "\n",
    "# This test has been intentionally hidden. It will be up to you to decide if your solution\n",
    "# is sufficiently good."
   ]
  },
  {
   "cell_type": "markdown",
   "metadata": {},
   "source": [
    "**Question 3(e)** <br> {points: 1} \n",
    "\n",
    "\n",
    "Tranform the column `Year` in the `gapminder_long` dataframe into a more appropriate dtype.     \n",
    "Name the new dataframe object `gm_long_fixed`."
   ]
  },
  {
   "cell_type": "code",
   "execution_count": 20,
   "metadata": {
    "deletable": false,
    "nbgrader": {
     "cell_type": "code",
     "checksum": "bbc6042486494b17ef504308147c9885",
     "grade": false,
     "grade_id": "cell-10b02c1e5055cd3a",
     "locked": false,
     "schema_version": 3,
     "solution": true,
     "task": false
    }
   },
   "outputs": [],
   "source": [
    "gm_long_fixed = gapminder_long.assign(Year=gapminder_long['Year'].astype('int'))"
   ]
  },
  {
   "cell_type": "code",
   "execution_count": 21,
   "metadata": {
    "deletable": false,
    "editable": false,
    "nbgrader": {
     "cell_type": "code",
     "checksum": "208dc4d9bbf895844d25e2e6f1a06d73",
     "grade": true,
     "grade_id": "cell-15fc50ced0793e77",
     "locked": true,
     "points": 1,
     "schema_version": 3,
     "solution": false,
     "task": false
    }
   },
   "outputs": [
    {
     "data": {
      "text/plain": [
       "'Success'"
      ]
     },
     "execution_count": 21,
     "metadata": {},
     "output_type": "execute_result"
    }
   ],
   "source": [
    "t.test_3e(gm_long_fixed)"
   ]
  },
  {
   "cell_type": "markdown",
   "metadata": {},
   "source": [
    "**Question 3(f)** <br> {points: 1} \n",
    "\n",
    "After casting the column `Year` into a more appropriate data type, does the code for obtaining the range of years in the data (from question 3d) execute without errors with `gm_long_fixed`? \n",
    "\n",
    "A) No, since the verbs `max()` and `min()` cannot be used on values with the new data type.\n",
    "\n",
    "B) No, since subtraction cannot be done on on values with the new data type.\n",
    "\n",
    "C) Yes it executes and the range is 2.\n",
    "\n",
    "D) Yes, it executes and the range is 1. \n",
    "\n",
    "*Answer in the cell below using the uppercase letter associated with your answer. Place your answer between `\"\"`, assign the correct answer to an object called `answer3_f`.*"
   ]
  },
  {
   "cell_type": "code",
   "execution_count": 22,
   "metadata": {
    "deletable": false,
    "nbgrader": {
     "cell_type": "code",
     "checksum": "1d45ad94700ac82d75684583473ccd8c",
     "grade": false,
     "grade_id": "cell-073b3d477d49274b",
     "locked": false,
     "schema_version": 3,
     "solution": true,
     "task": false
    }
   },
   "outputs": [],
   "source": [
    "answer3_f = \"C\""
   ]
  },
  {
   "cell_type": "code",
   "execution_count": 23,
   "metadata": {
    "deletable": false,
    "editable": false,
    "nbgrader": {
     "cell_type": "code",
     "checksum": "d68150c1f4c6ed05a2dae920dfbd09f3",
     "grade": true,
     "grade_id": "cell-4b62ed87febc005d",
     "locked": true,
     "points": 1,
     "schema_version": 3,
     "solution": false,
     "task": false
    }
   },
   "outputs": [
    {
     "data": {
      "text/plain": [
       "'Success'"
      ]
     },
     "execution_count": 23,
     "metadata": {},
     "output_type": "execute_result"
    }
   ],
   "source": [
    "t.test_3f(answer3_f)"
   ]
  },
  {
   "cell_type": "markdown",
   "metadata": {},
   "source": [
    "## 4. Lists, Sets and Tuples "
   ]
  },
  {
   "cell_type": "markdown",
   "metadata": {},
   "source": [
    "**Question 4** <br> {points: 10}  \n",
    "\n",
    "Which data structure(s) describe the following statements  (multiple datatypes are possible): \n",
    "\n",
    "    a) Elements cannot be accessed with square brackets \n",
    "    b) Can be sliced, take repeated values, and entries can be changed and edited.   \n",
    "    c) Cannot be sliced and entries can be independently deleted.   \n",
    "    d) A set of key value pairs.  \n",
    "    e) Immutable.  \n",
    "    f) Are created with parentheses.   \n",
    "    g) Can be sliced.   \n",
    "    h) Can be split into their separate entries with `.split()`.  \n",
    "    i) Outputted when using `.split()`.  \n",
    "    j) Are created with curly brackets.    \n",
    "\n",
    " <br> \n",
    "\n",
    "\n",
    "Save all possible answers as strings within a list.      \n",
    "Remember you can chose from the following data types: \n",
    "\n",
    "- `str` \n",
    "- `list`   \n",
    "- `tuple`   \n",
    "- `set`   \n",
    "- `dict`   \n",
    "\n",
    "***Example:***    \n",
    "\n",
    "`answer4_z = ['set', 'dict']`\n",
    "\n"
   ]
  },
  {
   "cell_type": "code",
   "execution_count": 24,
   "metadata": {
    "deletable": false,
    "nbgrader": {
     "cell_type": "code",
     "checksum": "2b64cf94d508b934e6ef1bfecb2acf80",
     "grade": false,
     "grade_id": "cell-9d07992c6bd83587",
     "locked": false,
     "schema_version": 3,
     "solution": true,
     "task": false
    }
   },
   "outputs": [],
   "source": [
    "answer4_a = ['set']\n",
    "answer4_b = ['list'] \n",
    "answer4_c = ['set', 'dict']\n",
    "answer4_d = ['dict']\n",
    "answer4_e = ['tuple', 'str']\n",
    "answer4_f = ['tuple']\n",
    "answer4_g = ['list', 'tuple', 'str']\n",
    "answer4_h = ['str']\n",
    "answer4_i = ['list']\n",
    "answer4_j = ['dict', 'set']"
   ]
  },
  {
   "cell_type": "code",
   "execution_count": 25,
   "metadata": {
    "deletable": false,
    "editable": false,
    "nbgrader": {
     "cell_type": "code",
     "checksum": "3cd680724dd7a06c5f68127e57418375",
     "grade": true,
     "grade_id": "cell-12bb2d09caa43239",
     "locked": true,
     "points": 10,
     "schema_version": 3,
     "solution": false,
     "task": false
    }
   },
   "outputs": [
    {
     "data": {
      "text/plain": [
       "'Success'"
      ]
     },
     "execution_count": 25,
     "metadata": {},
     "output_type": "execute_result"
    }
   ],
   "source": [
    "t.test_4a([sorted(answer4_a),sorted(answer4_b),sorted(answer4_c),sorted(answer4_d),sorted(answer4_e),\n",
    "          sorted(answer4_f),sorted(answer4_g),\n",
    "         sorted(answer4_h),sorted(answer4_i),sorted(answer4_j)])"
   ]
  },
  {
   "cell_type": "markdown",
   "metadata": {},
   "source": [
    "## 5. Workforce Pay Rates"
   ]
  },
  {
   "cell_type": "markdown",
   "metadata": {},
   "source": [
    "The data named `workforce-pay-rates-and-gender.csv`  was aquired from the [City of Vancouver's Open Data Portal](https://opendata.vancouver.ca/explore/dataset/workforce-pay-rates-and-gender/information/?sort=classification). \n",
    "It provides a look at the range of hourly wages for city jobs across Vancouver including the gender of staff within sector classification.  \n",
    "\n",
    "***Note: many popular datasets have sex as a feature where the possible values are male and female. This representation reflects how the data were collected and is not meant to imply that, for example, gender is binary.***\n",
    "\n"
   ]
  },
  {
   "cell_type": "markdown",
   "metadata": {},
   "source": [
    "The data we are reading in is contained in a json file. It looks like the output of the object `data` below."
   ]
  },
  {
   "cell_type": "code",
   "execution_count": 26,
   "metadata": {},
   "outputs": [],
   "source": [
    "# ignore this code and instead focus on the output of data in the next cell\n",
    "import json\n",
    "\n",
    "with open('data/workforce-pay-rates-and-gender.json') as file:\n",
    "    data = json.load(file)"
   ]
  },
  {
   "cell_type": "code",
   "execution_count": 27,
   "metadata": {},
   "outputs": [],
   "source": [
    "# Uncomment out the next line to view the object\n",
    "\n",
    "# data"
   ]
  },
  {
   "cell_type": "markdown",
   "metadata": {},
   "source": [
    "**Question 5(a)**  <br> {points: 1}  \n",
    "\n",
    "What kind of data structure is a json file? \n",
    "\n",
    "A) List \n",
    "\n",
    "B) Tuple \n",
    "\n",
    "C) Dictionary\n",
    "\n",
    "D) Set\n",
    "\n",
    "*Answer in the cell below using the uppercase letter associated with your answer. Place your answer between `\"\"`, assign the correct answer to an object called `answer5_a`.*"
   ]
  },
  {
   "cell_type": "code",
   "execution_count": 28,
   "metadata": {
    "deletable": false,
    "nbgrader": {
     "cell_type": "code",
     "checksum": "50304413ea00fcecd668e9413db533f9",
     "grade": false,
     "grade_id": "cell-b5c598b1591c8a7b",
     "locked": false,
     "schema_version": 3,
     "solution": true,
     "task": false
    }
   },
   "outputs": [],
   "source": [
    "answer5_a = \"C\""
   ]
  },
  {
   "cell_type": "code",
   "execution_count": 29,
   "metadata": {
    "deletable": false,
    "editable": false,
    "nbgrader": {
     "cell_type": "code",
     "checksum": "fd1c1072d235c54e62a47f531100c39a",
     "grade": true,
     "grade_id": "cell-870615ffdfe8cbaf",
     "locked": true,
     "points": 1,
     "schema_version": 3,
     "solution": false,
     "task": false
    }
   },
   "outputs": [
    {
     "data": {
      "text/plain": [
       "'Success'"
      ]
     },
     "execution_count": 29,
     "metadata": {},
     "output_type": "execute_result"
    }
   ],
   "source": [
    "t.test_5a(answer5_a)"
   ]
  },
  {
   "cell_type": "markdown",
   "metadata": {},
   "source": [
    "**Question 5(b)**  <br> {points: 1}  \n",
    "\n",
    "Us the appropriate verb to convert data into a dataframe.    \n",
    "Name the object `van_wages`."
   ]
  },
  {
   "cell_type": "code",
   "execution_count": 30,
   "metadata": {
    "deletable": false,
    "nbgrader": {
     "cell_type": "code",
     "checksum": "a293c9b93990fd8c2b4e6ffcff036293",
     "grade": false,
     "grade_id": "cell-d467a43d7301b394",
     "locked": false,
     "schema_version": 3,
     "solution": true,
     "task": false
    }
   },
   "outputs": [
    {
     "data": {
      "text/html": [
       "<div>\n",
       "<style scoped>\n",
       "    .dataframe tbody tr th:only-of-type {\n",
       "        vertical-align: middle;\n",
       "    }\n",
       "\n",
       "    .dataframe tbody tr th {\n",
       "        vertical-align: top;\n",
       "    }\n",
       "\n",
       "    .dataframe thead th {\n",
       "        text-align: right;\n",
       "    }\n",
       "</style>\n",
       "<table border=\"1\" class=\"dataframe\">\n",
       "  <thead>\n",
       "    <tr style=\"text-align: right;\">\n",
       "      <th></th>\n",
       "      <th>Year</th>\n",
       "      <th>Classification</th>\n",
       "      <th>Union</th>\n",
       "      <th>Minimum hourly rate</th>\n",
       "      <th>Maximum hourly rate</th>\n",
       "      <th>Women</th>\n",
       "      <th>Men</th>\n",
       "    </tr>\n",
       "  </thead>\n",
       "  <tbody>\n",
       "    <tr>\n",
       "      <th>0</th>\n",
       "      <td>2019</td>\n",
       "      <td>Administrative Manager 3</td>\n",
       "      <td>False</td>\n",
       "      <td>47.97</td>\n",
       "      <td>66.30</td>\n",
       "      <td>18.0</td>\n",
       "      <td>19.0</td>\n",
       "    </tr>\n",
       "    <tr>\n",
       "      <th>1</th>\n",
       "      <td>2019</td>\n",
       "      <td>General Manager 2</td>\n",
       "      <td>False</td>\n",
       "      <td>120.47</td>\n",
       "      <td>150.95</td>\n",
       "      <td>3.0</td>\n",
       "      <td>6.0</td>\n",
       "    </tr>\n",
       "    <tr>\n",
       "      <th>2</th>\n",
       "      <td>2019</td>\n",
       "      <td>Manager 1</td>\n",
       "      <td>False</td>\n",
       "      <td>50.06</td>\n",
       "      <td>70.97</td>\n",
       "      <td>49.0</td>\n",
       "      <td>39.0</td>\n",
       "    </tr>\n",
       "    <tr>\n",
       "      <th>3</th>\n",
       "      <td>2019</td>\n",
       "      <td>Manager 3</td>\n",
       "      <td>False</td>\n",
       "      <td>64.62</td>\n",
       "      <td>95.49</td>\n",
       "      <td>19.0</td>\n",
       "      <td>32.0</td>\n",
       "    </tr>\n",
       "    <tr>\n",
       "      <th>4</th>\n",
       "      <td>2019</td>\n",
       "      <td>Operations Manager 0</td>\n",
       "      <td>False</td>\n",
       "      <td>40.62</td>\n",
       "      <td>53.65</td>\n",
       "      <td>1.0</td>\n",
       "      <td>21.0</td>\n",
       "    </tr>\n",
       "    <tr>\n",
       "      <th>...</th>\n",
       "      <td>...</td>\n",
       "      <td>...</td>\n",
       "      <td>...</td>\n",
       "      <td>...</td>\n",
       "      <td>...</td>\n",
       "      <td>...</td>\n",
       "      <td>...</td>\n",
       "    </tr>\n",
       "    <tr>\n",
       "      <th>184</th>\n",
       "      <td>2019</td>\n",
       "      <td>Lead Mechanic</td>\n",
       "      <td>True</td>\n",
       "      <td>53.67</td>\n",
       "      <td>53.67</td>\n",
       "      <td>NaN</td>\n",
       "      <td>1.0</td>\n",
       "    </tr>\n",
       "    <tr>\n",
       "      <th>185</th>\n",
       "      <td>2019</td>\n",
       "      <td>Training Officer Fire</td>\n",
       "      <td>True</td>\n",
       "      <td>71.43</td>\n",
       "      <td>71.43</td>\n",
       "      <td>NaN</td>\n",
       "      <td>10.0</td>\n",
       "    </tr>\n",
       "    <tr>\n",
       "      <th>186</th>\n",
       "      <td>2019</td>\n",
       "      <td>Theatre Casual V</td>\n",
       "      <td>True</td>\n",
       "      <td>32.87</td>\n",
       "      <td>42.13</td>\n",
       "      <td>NaN</td>\n",
       "      <td>10.0</td>\n",
       "    </tr>\n",
       "    <tr>\n",
       "      <th>187</th>\n",
       "      <td>2019</td>\n",
       "      <td>Theatre Technician</td>\n",
       "      <td>True</td>\n",
       "      <td>40.35</td>\n",
       "      <td>40.35</td>\n",
       "      <td>NaN</td>\n",
       "      <td>2.0</td>\n",
       "    </tr>\n",
       "    <tr>\n",
       "      <th>188</th>\n",
       "      <td>2019</td>\n",
       "      <td>Electrical Apprentice</td>\n",
       "      <td>True</td>\n",
       "      <td>17.49</td>\n",
       "      <td>28.42</td>\n",
       "      <td>1.0</td>\n",
       "      <td>4.0</td>\n",
       "    </tr>\n",
       "  </tbody>\n",
       "</table>\n",
       "<p>189 rows × 7 columns</p>\n",
       "</div>"
      ],
      "text/plain": [
       "     Year            Classification  Union  Minimum hourly rate  \\\n",
       "0    2019  Administrative Manager 3  False                47.97   \n",
       "1    2019         General Manager 2  False               120.47   \n",
       "2    2019                 Manager 1  False                50.06   \n",
       "3    2019                 Manager 3  False                64.62   \n",
       "4    2019      Operations Manager 0  False                40.62   \n",
       "..    ...                       ...    ...                  ...   \n",
       "184  2019             Lead Mechanic   True                53.67   \n",
       "185  2019     Training Officer Fire   True                71.43   \n",
       "186  2019          Theatre Casual V   True                32.87   \n",
       "187  2019        Theatre Technician   True                40.35   \n",
       "188  2019     Electrical Apprentice   True                17.49   \n",
       "\n",
       "     Maximum hourly rate  Women   Men  \n",
       "0                  66.30   18.0  19.0  \n",
       "1                 150.95    3.0   6.0  \n",
       "2                  70.97   49.0  39.0  \n",
       "3                  95.49   19.0  32.0  \n",
       "4                  53.65    1.0  21.0  \n",
       "..                   ...    ...   ...  \n",
       "184                53.67    NaN   1.0  \n",
       "185                71.43    NaN  10.0  \n",
       "186                42.13    NaN  10.0  \n",
       "187                40.35    NaN   2.0  \n",
       "188                28.42    1.0   4.0  \n",
       "\n",
       "[189 rows x 7 columns]"
      ]
     },
     "execution_count": 30,
     "metadata": {},
     "output_type": "execute_result"
    }
   ],
   "source": [
    "van_wages = pd.DataFrame.from_dict(data)\n",
    "van_wages"
   ]
  },
  {
   "cell_type": "code",
   "execution_count": 31,
   "metadata": {
    "deletable": false,
    "editable": false,
    "nbgrader": {
     "cell_type": "code",
     "checksum": "38e41b8cf1b3ede589b65f034e6992fc",
     "grade": true,
     "grade_id": "cell-83f264ae29621331",
     "locked": true,
     "points": 1,
     "schema_version": 3,
     "solution": false,
     "task": false
    }
   },
   "outputs": [
    {
     "data": {
      "text/plain": [
       "'Success'"
      ]
     },
     "execution_count": 31,
     "metadata": {},
     "output_type": "execute_result"
    }
   ],
   "source": [
    "t.test_5b(van_wages)"
   ]
  },
  {
   "cell_type": "markdown",
   "metadata": {},
   "source": [
    "**Question 5(c)**  <br> {points: 1}  \n",
    "\n",
    "\n",
    "Created a column for the total number of people with each classification, and name the column  `Total`. \n",
    "Name the new object `van_wages_total`.\n"
   ]
  },
  {
   "cell_type": "code",
   "execution_count": 32,
   "metadata": {
    "deletable": false,
    "nbgrader": {
     "cell_type": "code",
     "checksum": "7710152fe266c67d634a55714c30d12f",
     "grade": false,
     "grade_id": "cell-4b76f39982071096",
     "locked": false,
     "schema_version": 3,
     "solution": true,
     "task": false
    }
   },
   "outputs": [
    {
     "data": {
      "text/html": [
       "<div>\n",
       "<style scoped>\n",
       "    .dataframe tbody tr th:only-of-type {\n",
       "        vertical-align: middle;\n",
       "    }\n",
       "\n",
       "    .dataframe tbody tr th {\n",
       "        vertical-align: top;\n",
       "    }\n",
       "\n",
       "    .dataframe thead th {\n",
       "        text-align: right;\n",
       "    }\n",
       "</style>\n",
       "<table border=\"1\" class=\"dataframe\">\n",
       "  <thead>\n",
       "    <tr style=\"text-align: right;\">\n",
       "      <th></th>\n",
       "      <th>Year</th>\n",
       "      <th>Classification</th>\n",
       "      <th>Union</th>\n",
       "      <th>Minimum hourly rate</th>\n",
       "      <th>Maximum hourly rate</th>\n",
       "      <th>Women</th>\n",
       "      <th>Men</th>\n",
       "      <th>Total</th>\n",
       "    </tr>\n",
       "  </thead>\n",
       "  <tbody>\n",
       "    <tr>\n",
       "      <th>0</th>\n",
       "      <td>2019</td>\n",
       "      <td>Administrative Manager 3</td>\n",
       "      <td>False</td>\n",
       "      <td>47.97</td>\n",
       "      <td>66.30</td>\n",
       "      <td>18.0</td>\n",
       "      <td>19.0</td>\n",
       "      <td>37.0</td>\n",
       "    </tr>\n",
       "    <tr>\n",
       "      <th>1</th>\n",
       "      <td>2019</td>\n",
       "      <td>General Manager 2</td>\n",
       "      <td>False</td>\n",
       "      <td>120.47</td>\n",
       "      <td>150.95</td>\n",
       "      <td>3.0</td>\n",
       "      <td>6.0</td>\n",
       "      <td>9.0</td>\n",
       "    </tr>\n",
       "    <tr>\n",
       "      <th>2</th>\n",
       "      <td>2019</td>\n",
       "      <td>Manager 1</td>\n",
       "      <td>False</td>\n",
       "      <td>50.06</td>\n",
       "      <td>70.97</td>\n",
       "      <td>49.0</td>\n",
       "      <td>39.0</td>\n",
       "      <td>88.0</td>\n",
       "    </tr>\n",
       "    <tr>\n",
       "      <th>3</th>\n",
       "      <td>2019</td>\n",
       "      <td>Manager 3</td>\n",
       "      <td>False</td>\n",
       "      <td>64.62</td>\n",
       "      <td>95.49</td>\n",
       "      <td>19.0</td>\n",
       "      <td>32.0</td>\n",
       "      <td>51.0</td>\n",
       "    </tr>\n",
       "    <tr>\n",
       "      <th>4</th>\n",
       "      <td>2019</td>\n",
       "      <td>Operations Manager 0</td>\n",
       "      <td>False</td>\n",
       "      <td>40.62</td>\n",
       "      <td>53.65</td>\n",
       "      <td>1.0</td>\n",
       "      <td>21.0</td>\n",
       "      <td>22.0</td>\n",
       "    </tr>\n",
       "    <tr>\n",
       "      <th>...</th>\n",
       "      <td>...</td>\n",
       "      <td>...</td>\n",
       "      <td>...</td>\n",
       "      <td>...</td>\n",
       "      <td>...</td>\n",
       "      <td>...</td>\n",
       "      <td>...</td>\n",
       "      <td>...</td>\n",
       "    </tr>\n",
       "    <tr>\n",
       "      <th>184</th>\n",
       "      <td>2019</td>\n",
       "      <td>Lead Mechanic</td>\n",
       "      <td>True</td>\n",
       "      <td>53.67</td>\n",
       "      <td>53.67</td>\n",
       "      <td>NaN</td>\n",
       "      <td>1.0</td>\n",
       "      <td>1.0</td>\n",
       "    </tr>\n",
       "    <tr>\n",
       "      <th>185</th>\n",
       "      <td>2019</td>\n",
       "      <td>Training Officer Fire</td>\n",
       "      <td>True</td>\n",
       "      <td>71.43</td>\n",
       "      <td>71.43</td>\n",
       "      <td>NaN</td>\n",
       "      <td>10.0</td>\n",
       "      <td>10.0</td>\n",
       "    </tr>\n",
       "    <tr>\n",
       "      <th>186</th>\n",
       "      <td>2019</td>\n",
       "      <td>Theatre Casual V</td>\n",
       "      <td>True</td>\n",
       "      <td>32.87</td>\n",
       "      <td>42.13</td>\n",
       "      <td>NaN</td>\n",
       "      <td>10.0</td>\n",
       "      <td>10.0</td>\n",
       "    </tr>\n",
       "    <tr>\n",
       "      <th>187</th>\n",
       "      <td>2019</td>\n",
       "      <td>Theatre Technician</td>\n",
       "      <td>True</td>\n",
       "      <td>40.35</td>\n",
       "      <td>40.35</td>\n",
       "      <td>NaN</td>\n",
       "      <td>2.0</td>\n",
       "      <td>2.0</td>\n",
       "    </tr>\n",
       "    <tr>\n",
       "      <th>188</th>\n",
       "      <td>2019</td>\n",
       "      <td>Electrical Apprentice</td>\n",
       "      <td>True</td>\n",
       "      <td>17.49</td>\n",
       "      <td>28.42</td>\n",
       "      <td>1.0</td>\n",
       "      <td>4.0</td>\n",
       "      <td>5.0</td>\n",
       "    </tr>\n",
       "  </tbody>\n",
       "</table>\n",
       "<p>189 rows × 8 columns</p>\n",
       "</div>"
      ],
      "text/plain": [
       "     Year            Classification  Union  Minimum hourly rate  \\\n",
       "0    2019  Administrative Manager 3  False                47.97   \n",
       "1    2019         General Manager 2  False               120.47   \n",
       "2    2019                 Manager 1  False                50.06   \n",
       "3    2019                 Manager 3  False                64.62   \n",
       "4    2019      Operations Manager 0  False                40.62   \n",
       "..    ...                       ...    ...                  ...   \n",
       "184  2019             Lead Mechanic   True                53.67   \n",
       "185  2019     Training Officer Fire   True                71.43   \n",
       "186  2019          Theatre Casual V   True                32.87   \n",
       "187  2019        Theatre Technician   True                40.35   \n",
       "188  2019     Electrical Apprentice   True                17.49   \n",
       "\n",
       "     Maximum hourly rate  Women   Men  Total  \n",
       "0                  66.30   18.0  19.0   37.0  \n",
       "1                 150.95    3.0   6.0    9.0  \n",
       "2                  70.97   49.0  39.0   88.0  \n",
       "3                  95.49   19.0  32.0   51.0  \n",
       "4                  53.65    1.0  21.0   22.0  \n",
       "..                   ...    ...   ...    ...  \n",
       "184                53.67    NaN   1.0    1.0  \n",
       "185                71.43    NaN  10.0   10.0  \n",
       "186                42.13    NaN  10.0   10.0  \n",
       "187                40.35    NaN   2.0    2.0  \n",
       "188                28.42    1.0   4.0    5.0  \n",
       "\n",
       "[189 rows x 8 columns]"
      ]
     },
     "execution_count": 32,
     "metadata": {},
     "output_type": "execute_result"
    }
   ],
   "source": [
    "van_wages_total = van_wages.assign(Total=van_wages[['Women', 'Men']].sum(axis=1))\n",
    "van_wages_total\n"
   ]
  },
  {
   "cell_type": "code",
   "execution_count": 33,
   "metadata": {
    "deletable": false,
    "editable": false,
    "nbgrader": {
     "cell_type": "code",
     "checksum": "c0ee8ba208459715590033a1eddd6b93",
     "grade": true,
     "grade_id": "cell-de942db5679929f8",
     "locked": true,
     "points": 1,
     "schema_version": 3,
     "solution": false,
     "task": false
    }
   },
   "outputs": [
    {
     "data": {
      "text/plain": [
       "'Success'"
      ]
     },
     "execution_count": 33,
     "metadata": {},
     "output_type": "execute_result"
    }
   ],
   "source": [
    "t.test_5c(van_wages_total)"
   ]
  },
  {
   "cell_type": "markdown",
   "metadata": {},
   "source": [
    "**Question 5(d)**  <br> {points: 2}  \n",
    "\n",
    "Which columns in `van_wages_total` will throw an error if the ***sum*** of the column is attempted to be calculated.  \n",
    "\n",
    "Save the column name(s) as strings in a list as an object named `answer5_d`.        \n",
    "\n",
    "***Example:***\n",
    "\n",
    "`answer6_e = ['Year', 'Union', 'Minimum hourly rate']`\n"
   ]
  },
  {
   "cell_type": "code",
   "execution_count": 34,
   "metadata": {},
   "outputs": [
    {
     "data": {
      "text/plain": [
       "Year                     int64\n",
       "Classification          object\n",
       "Union                     bool\n",
       "Minimum hourly rate    float64\n",
       "Maximum hourly rate    float64\n",
       "Women                  float64\n",
       "Men                    float64\n",
       "Total                  float64\n",
       "dtype: object"
      ]
     },
     "execution_count": 34,
     "metadata": {},
     "output_type": "execute_result"
    }
   ],
   "source": [
    "van_wages_total.dtypes"
   ]
  },
  {
   "cell_type": "code",
   "execution_count": 35,
   "metadata": {
    "deletable": false,
    "nbgrader": {
     "cell_type": "code",
     "checksum": "e3e24869cff21863de306e0b4bcad2f3",
     "grade": false,
     "grade_id": "cell-0de07d28b19d1011",
     "locked": false,
     "schema_version": 3,
     "solution": true,
     "task": false
    }
   },
   "outputs": [
    {
     "ename": "NotImplementedError",
     "evalue": "",
     "output_type": "error",
     "traceback": [
      "\u001b[0;31m---------------------------------------------------------------------------\u001b[0m",
      "\u001b[0;31mNotImplementedError\u001b[0m                       Traceback (most recent call last)",
      "\u001b[0;32m<ipython-input-35-660d7638a3c9>\u001b[0m in \u001b[0;36m<module>\u001b[0;34m\u001b[0m\n\u001b[1;32m      2\u001b[0m \u001b[0;34m\u001b[0m\u001b[0m\n\u001b[1;32m      3\u001b[0m \u001b[0;31m# your code here\u001b[0m\u001b[0;34m\u001b[0m\u001b[0;34m\u001b[0m\u001b[0;34m\u001b[0m\u001b[0m\n\u001b[0;32m----> 4\u001b[0;31m \u001b[0;32mraise\u001b[0m \u001b[0mNotImplementedError\u001b[0m \u001b[0;31m# No Answer - remove if you provide an answer\u001b[0m\u001b[0;34m\u001b[0m\u001b[0;34m\u001b[0m\u001b[0m\n\u001b[0m",
      "\u001b[0;31mNotImplementedError\u001b[0m: "
     ]
    }
   ],
   "source": [
    "answer5_d = ['Classification']\n",
    "\n",
    "# your code here\n",
    "raise NotImplementedError # No Answer - remove if you provide an answer"
   ]
  },
  {
   "cell_type": "code",
   "execution_count": null,
   "metadata": {
    "deletable": false,
    "editable": false,
    "nbgrader": {
     "cell_type": "code",
     "checksum": "038b2496338b73eae87de49b359fe44e",
     "grade": true,
     "grade_id": "cell-db4a5922a7b5d25a",
     "locked": true,
     "points": 2,
     "schema_version": 3,
     "solution": false,
     "task": false
    }
   },
   "outputs": [],
   "source": [
    "# check that the variable exists\n",
    "assert 'answer5_d' in globals(\n",
    "), \"Please make sure that your solution is named 'answer5_d'\"\n",
    "\n",
    "# This test has been intentionally hidden. It will be up to you to decide if your solution\n",
    "# is sufficiently good.\n"
   ]
  },
  {
   "cell_type": "markdown",
   "metadata": {},
   "source": [
    "**Question 5(e)**  <br> {points: 1}  \n",
    "\n",
    "Which columns in `van_wages_total` will throw an error if the ***mean*** of the column is attempted to be calculated.\n",
    "\n",
    "Save the column name(s) as strings in a list as an object named `answer5_e`.    \n",
    "\n",
    "***Example:***\n",
    "\n",
    "`answer5_e = ['Year', 'Union', 'Minimum hourly rate']`\n",
    "\n",
    "\n",
    "If you think that none of the columns will throw an error than answer will be an empty list `[]`.  "
   ]
  },
  {
   "cell_type": "code",
   "execution_count": null,
   "metadata": {
    "deletable": false,
    "nbgrader": {
     "cell_type": "code",
     "checksum": "caa14a937d571dc6a59affc86d508ef4",
     "grade": false,
     "grade_id": "cell-e4dbbeb6eb1acd64",
     "locked": false,
     "schema_version": 3,
     "solution": true,
     "task": false
    }
   },
   "outputs": [],
   "source": [
    "answer5_e = ['Classification']"
   ]
  },
  {
   "cell_type": "code",
   "execution_count": null,
   "metadata": {
    "deletable": false,
    "editable": false,
    "nbgrader": {
     "cell_type": "code",
     "checksum": "08487b5cba07022b4698e8feba825fcb",
     "grade": true,
     "grade_id": "cell-cd94178956ccec26",
     "locked": true,
     "points": 1,
     "schema_version": 3,
     "solution": false,
     "task": false
    }
   },
   "outputs": [],
   "source": [
    "t.test_5e(answer5_e)"
   ]
  },
  {
   "cell_type": "markdown",
   "metadata": {},
   "source": [
    "## 6. Lists and Operations with Weather"
   ]
  },
  {
   "cell_type": "markdown",
   "metadata": {},
   "source": [
    "Below is the upcoming 7 day weather forecast  displayed in a dataframe: \n",
    "\n",
    "|    | day       | description       |   day_temperature |   night_temperature |   pop | wind   |   hrs_sun | rain   |\n",
    "|---:|:----------|:------------------|------------------:|--------------------:|------:|:-------|----------:|:-------|\n",
    "|  0 | Monday    | sunny             |                22 |                  14 |    10 | 7 SW   |        15 |        |\n",
    "|  1 | Tuesday   | sunny             |                21 |                  15 |     0 | 8 S    |        15 |        |\n",
    "|  2 | Wednesday | showers           |                23 |                  14 |    80 | 13 SW  |         6 | 1-3 mm |\n",
    "|  3 | Thursday  | cloudy            |                23 |                  14 |    20 | 10 W   |         9 |        |\n",
    "|  4 | Friday    | chance of showers |                22 |                  14 |    70 | 8 SE   |         5 | ~1 mm  |\n",
    "|  5 | Saturday  | chance of showers |                21 |                  12 |    40 | 21 W   |         4 | ~1 mm  |\n",
    "|  6 | Sunday    | chance of showers |                22 |                  13 |    40 | 12 W   |         5 | ~1 mm  |"
   ]
  },
  {
   "cell_type": "markdown",
   "metadata": {},
   "source": [
    "**Question 6(a)**  <br> {points: 1}\n",
    "\n",
    "Create the data frame using the data structures provided below and name the dataframe `weather`. "
   ]
  },
  {
   "cell_type": "code",
   "execution_count": null,
   "metadata": {},
   "outputs": [],
   "source": [
    "monday = ['Monday', 'sunny', 22.0, '14.0', '10', '7 SW', 15.0, None]\n",
    "tuesday = ['Tuesday', 'sunny', 21.0, '15.0', '0', '8 S', 15.0, None]\n",
    "wednesday = ['Wednesday', 'showers', 23.0, '14.0', '80', '13 SW', 6.0, '1-3 mm']\n",
    "thursday = ['Thursday', 'cloudy', 23.0, '14.0', '20', '10 W', 9.0, None]\n",
    "friday = ['Friday', 'chance of showers', 22.0, '14.0', '70', '8 SE', 5.0, '~1 mm']\n",
    "saturday = ['Saturday', 'chance of showers', 21.0, '12.0', '40', '21 W', 4.0, '~1 mm']\n",
    "sunday = ['Sunday', 'chance of showers', 22.0, '13.0', '40', '12 W', 5.0, '~1 mm']\n",
    "\n",
    "\n",
    "names = ['day', 'description',  'day_temperature', 'night_temperature', 'pop', 'wind', 'hrs_sun', 'rain']"
   ]
  },
  {
   "cell_type": "code",
   "execution_count": null,
   "metadata": {
    "deletable": false,
    "nbgrader": {
     "cell_type": "code",
     "checksum": "ef0fc4b1d0809d6469386df99aa4b9a0",
     "grade": false,
     "grade_id": "cell-cd6d1b9a30fd24c8",
     "locked": false,
     "schema_version": 3,
     "solution": true,
     "task": false
    }
   },
   "outputs": [],
   "source": [
    "weather = pd.DataFrame(data=[monday, tuesday, wednesday, thursday, friday, saturday, sunday], columns=names)\n",
    "weather"
   ]
  },
  {
   "cell_type": "code",
   "execution_count": null,
   "metadata": {},
   "outputs": [],
   "source": [
    "weather.dtypes"
   ]
  },
  {
   "cell_type": "code",
   "execution_count": null,
   "metadata": {
    "deletable": false,
    "editable": false,
    "nbgrader": {
     "cell_type": "code",
     "checksum": "8934d9b2b2486492e243b74999cf57d1",
     "grade": true,
     "grade_id": "cell-b06c0f51a6768b9f",
     "locked": true,
     "points": 1,
     "schema_version": 3,
     "solution": false,
     "task": false
    }
   },
   "outputs": [],
   "source": [
    "t.test_6a(weather)"
   ]
  },
  {
   "cell_type": "markdown",
   "metadata": {},
   "source": [
    "**Question 6(b)**  <br> {points: 2}\n",
    "\n",
    "What data types or data structure are the object labeled by the days of the week? \n",
    "\n",
    "\n",
    "A) List \n",
    "\n",
    "B) Tuple \n",
    "\n",
    "C) Dictionary\n",
    "\n",
    "D) Set\n",
    "\n",
    "*Answer in the cell below using the uppercase letter associated with your answer. Place your answer between `\"\"`, assign the correct answer to an object called `answer6_b`.*"
   ]
  },
  {
   "cell_type": "code",
   "execution_count": null,
   "metadata": {
    "deletable": false,
    "nbgrader": {
     "cell_type": "code",
     "checksum": "b4648873a2d973c8862d658abe03aaff",
     "grade": false,
     "grade_id": "cell-906749f0f0237903",
     "locked": false,
     "schema_version": 3,
     "solution": true,
     "task": false
    }
   },
   "outputs": [],
   "source": [
    "answer6_b = 'A'"
   ]
  },
  {
   "cell_type": "code",
   "execution_count": null,
   "metadata": {
    "deletable": false,
    "editable": false,
    "nbgrader": {
     "cell_type": "code",
     "checksum": "6b01b99352c93c3b224558c539c6aeb9",
     "grade": true,
     "grade_id": "cell-c1fa535dc6b05f3a",
     "locked": true,
     "points": 2,
     "schema_version": 3,
     "solution": false,
     "task": false
    }
   },
   "outputs": [],
   "source": [
    "# check that the variable exists\n",
    "assert 'answer6_b' in globals(\n",
    "), \"Please make sure that your solution is named 'answer6_b'\"\n",
    "\n",
    "# This test has been intentionally hidden. It will be up to you to decide if your solution\n",
    "# is sufficiently good."
   ]
  },
  {
   "cell_type": "markdown",
   "metadata": {},
   "source": [
    "**Question 6(c)**  <br> {points: 1}\n",
    "\n",
    "What is the average chance of precipitation (`pop`) over the week? Answer using the `.mean()` function and convert datatypes if needed.     \n",
    "Save as object as `pop_mean`."
   ]
  },
  {
   "cell_type": "code",
   "execution_count": null,
   "metadata": {
    "deletable": false,
    "nbgrader": {
     "cell_type": "code",
     "checksum": "5765a6c1d29cc07190f3435f3e42d4a0",
     "grade": false,
     "grade_id": "cell-1612bf4df887bd04",
     "locked": false,
     "schema_version": 3,
     "solution": true,
     "task": false
    }
   },
   "outputs": [],
   "source": [
    "pop_mean = weather.assign(pop=weather['pop'].astype('int'))['pop'].mean()\n",
    "\n",
    "pop_mean"
   ]
  },
  {
   "cell_type": "code",
   "execution_count": null,
   "metadata": {
    "deletable": false,
    "editable": false,
    "nbgrader": {
     "cell_type": "code",
     "checksum": "2edd50f3ee14fb12a0b6ce096f615280",
     "grade": true,
     "grade_id": "cell-ca0adf0f075431e0",
     "locked": true,
     "points": 1,
     "schema_version": 3,
     "solution": false,
     "task": false
    }
   },
   "outputs": [],
   "source": [
    "t.test_6c(pop_mean)"
   ]
  },
  {
   "cell_type": "markdown",
   "metadata": {},
   "source": [
    "**Question 6(d)**  <br> {points: 1}\n",
    "\n",
    "Create a new column named `temp_avg` which is the average temperature for the whole day (day and night temperature).    \n",
    "Name the new dataframe `weather_ext`.       \n",
    "_Hint: You may need to make changes to the `night_temperature` column first._"
   ]
  },
  {
   "cell_type": "code",
   "execution_count": null,
   "metadata": {
    "deletable": false,
    "nbgrader": {
     "cell_type": "code",
     "checksum": "e9fab003df7ff2cf8b43dd3f0539f7f2",
     "grade": false,
     "grade_id": "cell-75bffa5b60a04627",
     "locked": false,
     "schema_version": 3,
     "solution": true,
     "task": false
    }
   },
   "outputs": [],
   "source": [
    "weather_n_temp_fixed = weather.assign(night_temperature=weather['night_temperature'].astype('float'))\n",
    "weather_ext = weather_n_temp_fixed.assign(temp_avg=weather_n_temp_fixed[['day_temperature', 'night_temperature']].mean(axis=1).to_frame().sum(axis=1))\n",
    "\n",
    "weather_ext"
   ]
  },
  {
   "cell_type": "code",
   "execution_count": null,
   "metadata": {
    "deletable": false,
    "editable": false,
    "nbgrader": {
     "cell_type": "code",
     "checksum": "82b2cc66d5b5c5312abf8b903ea81efd",
     "grade": true,
     "grade_id": "cell-64b898d4611ff820",
     "locked": true,
     "points": 1,
     "schema_version": 3,
     "solution": false,
     "task": false
    }
   },
   "outputs": [],
   "source": [
    "t.test_6d(weather_ext)"
   ]
  },
  {
   "cell_type": "markdown",
   "metadata": {},
   "source": [
    "**Question 6(e)**  <br> {points: 2}\n",
    "\n",
    "Use `.str.split()` with argument `expand=True` to split the column `wind` into a 2 separate columns named  `wind_speed` and `wind_direction`. Make sure the `wind_speed` column is of dtype `int64`.    \n",
    "Name the new dataframe `wind_stats`. "
   ]
  },
  {
   "cell_type": "code",
   "execution_count": null,
   "metadata": {
    "deletable": false,
    "nbgrader": {
     "cell_type": "code",
     "checksum": "29df295dcbf20ceb7ab7b3d193065c28",
     "grade": false,
     "grade_id": "cell-95558162c7b975fc",
     "locked": false,
     "schema_version": 3,
     "solution": true,
     "task": false
    }
   },
   "outputs": [],
   "source": [
    "wind_stats = weather_ext['wind'].str.split(' ', expand=True)\n",
    "# rename split columns\n",
    "wind_stats = wind_split.rename(columns = {0: 'wind_speed', 1: 'wind_direction'})\n",
    "# wind_speed is column int\n",
    "wind_stats = wind_split.assign(wind_speed=wind_stats['wind_speed'].astype('int'))\n",
    "\n",
    "wind_stats.shape"
   ]
  },
  {
   "cell_type": "code",
   "execution_count": null,
   "metadata": {
    "deletable": false,
    "editable": false,
    "nbgrader": {
     "cell_type": "code",
     "checksum": "6e61437cf9972124f9c36d1e2949f3c9",
     "grade": true,
     "grade_id": "cell-5d8dc27af23d5065",
     "locked": true,
     "points": 2,
     "schema_version": 3,
     "solution": false,
     "task": false
    }
   },
   "outputs": [],
   "source": [
    "t.test_6e(wind_stats)"
   ]
  },
  {
   "cell_type": "markdown",
   "metadata": {},
   "source": [
    "**Question 6(f)**  <br> {points: 2}\n",
    "\n",
    "Merge or concatenate these columns back with the original dataframe `weather_ext`. \n",
    "Name the new dataframe `weather_extended`."
   ]
  },
  {
   "cell_type": "code",
   "execution_count": null,
   "metadata": {
    "deletable": false,
    "nbgrader": {
     "cell_type": "code",
     "checksum": "801274c8230f8ca4db75e98cd7915d42",
     "grade": false,
     "grade_id": "cell-6d5ae7710bf9d74d",
     "locked": false,
     "schema_version": 3,
     "solution": true,
     "task": false
    }
   },
   "outputs": [],
   "source": [
    "weather_extended = weather_ext.assign(wind_speed=wind_stats['wind_speed'], wind_direction=wind_stats['wind_direction'])"
   ]
  },
  {
   "cell_type": "code",
   "execution_count": null,
   "metadata": {
    "deletable": false,
    "editable": false,
    "nbgrader": {
     "cell_type": "code",
     "checksum": "7bd6db965f19a375e0aad64b83a4d0e1",
     "grade": true,
     "grade_id": "cell-5a4d7ddb2a290d79",
     "locked": true,
     "points": 2,
     "schema_version": 3,
     "solution": false,
     "task": false
    }
   },
   "outputs": [],
   "source": [
    "t.test_6f(weather_extended)"
   ]
  },
  {
   "cell_type": "markdown",
   "metadata": {},
   "source": [
    "**Question 6(g)**  <br> {points: 1}\n",
    "\n",
    "Create a line plot using `alt.chart(..., width=500, height=300).mark_line()` where the x and y axis are `day` and `wind_speed` respectively. Don't forget to give it a title using the `.properties(title=\"\")` function. \n",
    "\n",
    "If you want the days of the week to be sorted correctly, use the argument      \n",
    "`sort=['Monday','Tuesday','Wednesday','Thursday','Friday','Saturday','Sunday']` within `alt.X()`. \n",
    "\n",
    "Name the plot `wind_plot`. "
   ]
  },
  {
   "cell_type": "code",
   "execution_count": null,
   "metadata": {
    "deletable": false,
    "nbgrader": {
     "cell_type": "code",
     "checksum": "6ffe0cefaa49cbae773897a42ba2f9c3",
     "grade": false,
     "grade_id": "cell-812ff6784b477b3f",
     "locked": false,
     "schema_version": 3,
     "solution": true,
     "task": false
    }
   },
   "outputs": [],
   "source": [
    "wind_plot = alt.Chart(weather_extended).mark_line().encode(x='day', y='wind_speed').properties(title='Wind speeds of each day of the week')\n",
    "wind_plot"
   ]
  },
  {
   "cell_type": "code",
   "execution_count": null,
   "metadata": {
    "deletable": false,
    "editable": false,
    "nbgrader": {
     "cell_type": "code",
     "checksum": "f26b77501ff4dfb0f2ff8722aacdfcad",
     "grade": true,
     "grade_id": "cell-af571615e5396f56",
     "locked": true,
     "points": 1,
     "schema_version": 3,
     "solution": false,
     "task": false
    }
   },
   "outputs": [],
   "source": [
    "t.test_6g(wind_plot)"
   ]
  },
  {
   "cell_type": "markdown",
   "metadata": {},
   "source": [
    "Before submitting your assignment please do the following:\n",
    "\n",
    "- Read through your solutions\n",
    "- **Restart your kernel and clear output and rerun your cells from top to bottom** \n",
    "- Makes sure that none of your code is broken \n",
    "- Verify that the tests from the questions you answered have obtained the output \"Success\"\n",
    "\n",
    "This is a simple way to make sure that you are submitting all the variables needed to mark the assignment. This method should help avoid losing marks due to changes in your environment.  "
   ]
  },
  {
   "cell_type": "markdown",
   "metadata": {},
   "source": [
    "## Attributions\n",
    "- Gapminder Dataset - [Gapminder](https://www.gapminder.org/data/)\n",
    "- Astronaut Dataset - [Kaggle](https://www.kaggle.com/nasa/astronaut-yearbook?select=astronauts.csv)\n",
    "- Netflix Dataset - [Kaggle](https://www.kaggle.com/shivamb/netflix-shows?select=netflix_titles.csv)\n",
    "- MDS DSCI 511 - Programming for Data Science - [MDS's GitHub website](https://ubc-mds.github.io/course-descriptions/DSCI_511_prog-dsci/) \n"
   ]
  },
  {
   "cell_type": "markdown",
   "metadata": {},
   "source": [
    "## Module Debriefing\n",
    "\n",
    "If this video is not showing up below, click on the cell and click the ▶ button in the toolbar above."
   ]
  },
  {
   "cell_type": "code",
   "execution_count": null,
   "metadata": {},
   "outputs": [],
   "source": [
    "from IPython.display import YouTubeVideo\n",
    "YouTubeVideo('bHmaiwexLTc', width=854, height=480)"
   ]
  },
  {
   "cell_type": "code",
   "execution_count": null,
   "metadata": {},
   "outputs": [],
   "source": []
  }
 ],
 "metadata": {
  "kernelspec": {
   "display_name": "Python 3",
   "language": "python",
   "name": "python3"
  },
  "language_info": {
   "codemirror_mode": {
    "name": "ipython",
    "version": 3
   },
   "file_extension": ".py",
   "mimetype": "text/x-python",
   "name": "python",
   "nbconvert_exporter": "python",
   "pygments_lexer": "ipython3",
   "version": "3.8.5"
  },
  "toc": {
   "base_numbering": 1,
   "nav_menu": {},
   "number_sections": true,
   "sideBar": true,
   "skip_h1_title": false,
   "title_cell": "Table of Contents",
   "title_sidebar": "Contents",
   "toc_cell": false,
   "toc_position": {},
   "toc_section_display": true,
   "toc_window_display": false
  }
 },
 "nbformat": 4,
 "nbformat_minor": 4
}
