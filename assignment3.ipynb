{
 "cells": [
  {
   "cell_type": "markdown",
   "metadata": {},
   "source": [
    "# Programming in Python for Data Science \n",
    "\n",
    "# Assignment 3: Tidy Data and Joining Dataframes"
   ]
  },
  {
   "cell_type": "markdown",
   "metadata": {},
   "source": [
    "You can't learn technical subjects without hands-on practice. The assignments are an important part of the course. To submit this assignment you will need to make sure that you save your Jupyter notebook. \n",
    "\n",
    "Below are the links of 2 videos that explain:\n",
    "\n",
    "1. [How to save your Jupyter notebook](https://youtu.be/0aoLgBoAUSA) and,       \n",
    "2. [How to answer a question in a Jupyter notebook assignment](https://youtu.be/7j0WKhI3W4s)."
   ]
  },
  {
   "cell_type": "markdown",
   "metadata": {},
   "source": [
    "### Assignment Learning Goals:\n",
    "\n",
    "By the end of the module, students are expected to:\n",
    "\n",
    "- Explain what tidy data is.\n",
    "- Use [`.melt()`](https://pandas.pydata.org/docs/reference/api/pandas.melt.html) and [`.pivot()`](https://pandas.pydata.org/pandas-docs/stable/reference/api/pandas.DataFrame.pivot.html) to reshape dataframes, specifically to make tidy data.\n",
    "- Learn how to reset a dataframe's index.\n",
    "- Combine dataframes using [`.merge()`](https://pandas.pydata.org/pandas-docs/stable/reference/api/pandas.DataFrame.merge.html) and [`.concat()`](https://pandas.pydata.org/pandas-docs/stable/reference/api/pandas.concat.html) and know when to use these different methods.\n",
    "- Understand the different joining methods.\n",
    "\n",
    "This assignment covers [Module 3](https://prog-learn.mds.ubc.ca/en/module3) of the online course. You should complete this module before attempting this assignment."
   ]
  },
  {
   "cell_type": "markdown",
   "metadata": {},
   "source": [
    "Any place you see `...`, you must fill in the function, variable, or data to complete the code. Substitute the `None` and the `raise NotImplementedError # No Answer - remove if you provide an answer` with your completed code and answers then proceed to run the cell!"
   ]
  },
  {
   "cell_type": "markdown",
   "metadata": {},
   "source": [
    "Note that some of the questions in this assignment will have hidden tests. This means that no feedback will be given as to the correctness of your solution. It will be left up to you to decide if your answer is sufficiently correct. These questions are worth 2 points."
   ]
  },
  {
   "cell_type": "code",
   "execution_count": 1,
   "metadata": {},
   "outputs": [],
   "source": [
    "# Import libraries needed for this lab\n",
    "from hashlib import sha1\n",
    "import pandas as pd\n",
    "import test_assignment3 as t\n",
    "import altair as alt"
   ]
  },
  {
   "cell_type": "markdown",
   "metadata": {},
   "source": [
    "## 1.  Tidy Data"
   ]
  },
  {
   "cell_type": "markdown",
   "metadata": {},
   "source": [
    "**Question 1(a)** <br> {points: 1}  \n",
    "\n",
    "Which of the following do **NOT** characterize a tidy dataset? *note - there may be more than 1 correct answers to this question*\n",
    "\n",
    "A) Each row is a single variable\n",
    "\n",
    "B) There are no missing or erroneous values\n",
    "\n",
    "C) Each value is a single cell\n",
    "\n",
    "D) Each variable is a single column\n",
    "\n",
    "_Assign your answer to an object called `answer1_a` in the code chunk below. Make sure your answer contains uppercase letters and surround it with quotation marks and square brackets.  If there are more than one answers to this question, separate each letter with a comma within the square brackets. For example if you believe the answer is A, B and C your answer would like this:      \n",
    "`answer1_a = ['A', 'B', 'C')`_\n"
   ]
  },
  {
   "cell_type": "code",
   "execution_count": 2,
   "metadata": {
    "deletable": false,
    "nbgrader": {
     "cell_type": "code",
     "checksum": "7cd7543a8d4c857330d86e7e36a3935f",
     "grade": false,
     "grade_id": "cell-885c670d16b8075a",
     "locked": false,
     "schema_version": 3,
     "solution": true,
     "task": false
    }
   },
   "outputs": [],
   "source": [
    "answer1_a = [\"A\", \"B\"]"
   ]
  },
  {
   "cell_type": "code",
   "execution_count": 3,
   "metadata": {
    "deletable": false,
    "editable": false,
    "nbgrader": {
     "cell_type": "code",
     "checksum": "f7f9d600dc1f116ba80b8556b5682440",
     "grade": true,
     "grade_id": "cell-b9575c023870ca02",
     "locked": true,
     "points": 1,
     "schema_version": 3,
     "solution": false,
     "task": false
    }
   },
   "outputs": [
    {
     "data": {
      "text/plain": [
       "'Success'"
      ]
     },
     "execution_count": 3,
     "metadata": {},
     "output_type": "execute_result"
    }
   ],
   "source": [
    "t.test_1a(answer1_a)"
   ]
  },
  {
   "cell_type": "markdown",
   "metadata": {},
   "source": [
    "**Question 1(b)** \n",
    "<br> {points: 1}  \n",
    "\n",
    "The data below is wine ratings given for 3 wines by 5 different wine tasters. We are interested in seeing if Taster or Wine type influences the rating.  Given that motivation, which arrangement of the data set show below is \"tidy\"?\n",
    "\n",
    "##### Data set 1:\n",
    "\n",
    "|     Taster       | Chardonnay | Pinot Grigio | Pinot Blanc |\n",
    "|------------|------------|--------------|-----------------|\n",
    "| 001 | 75         | 89           | 92              |\n",
    "| 002 | 89         | 88           | 89              |\n",
    "| 003 | 72         | 90           | 95              |\n",
    "| 004 | 85         | 81           | 90              |\n",
    "| 005 | 83         | 89           | 88              |\n",
    "\n",
    "\n",
    "##### Data set 2:\n",
    "|   Wine | Taster 001 | Taster 002 | Taster 003 | Taster 004 | Taster 005 |\n",
    "|------------|------------|--------------|-----------------|-------|---------|\n",
    "| Chardonnay | 75         | 89           | 72              | 85 | 83\n",
    "| Pinot Grigio | 89         | 88           | 90             | 81 | 89 |\n",
    "| Pinot Blanc | 92         | 89           | 95              | 90 | 88 |\n",
    "\n",
    "##### Data set 3:\n",
    "\n",
    "| Taster           | Wine | Rating | \n",
    "|------------|------------|----|\n",
    "| 001 |  Chardonnay |  75         | \n",
    "| 002 |  Chardonnay | 89         | \n",
    "| 003 |  Chardonnay |72         |  \n",
    "| 004 |  Chardonnay |85         | \n",
    "| 005 | Chardonnay | 83         |  \n",
    "| 001 |  Pinot Grigio | 89         | \n",
    "| 002 |  Pinot Grigio | 88         | \n",
    "| 003 |  Pinot Grigio | 90         | \n",
    "| 004 |  Pinot Grigio | 81         | \n",
    "| 005 |  Pinot Grigio | 90         | \n",
    "| 001 |  Pinot Blanc | 92         | \n",
    "| 002 | Pinot Blanc | 89         |\n",
    "| 003 | Pinot Blanc | 95         | \n",
    "| 004 | Pinot Blanc | 90         | \n",
    "| 005 | Pinot Blanc | 88         | \n",
    "\n",
    "##### Data set 4: \n",
    "| Taster    | Chardonnay Rating | \n",
    "|------------|------------|\n",
    "| 001 |  75         | \n",
    "| 002 |   89         | \n",
    "| 003 |  72         |  \n",
    "| 004 | 85         | \n",
    "| 005 | 83         |  \n",
    "\n",
    "| Taster           | Pinot Grigio Rating | \n",
    "|------------|------------|\n",
    "| 001 |   89         | \n",
    "| 002 |  88         | \n",
    "| 003 |  90         | \n",
    "| 004 | 81         | \n",
    "| 005 |  90         | \n",
    "\n",
    "| Taster           | Pinot Blanc Rating | \n",
    "|------------|------------|\n",
    "| 001 |   92         | \n",
    "| 002 |  89         |\n",
    "| 003 |  95         | \n",
    "| 004 |  90         | \n",
    "| 005 |  88         | \n",
    "\n",
    "Given that motivation, which arrangement of the data set show below is \"tidy\"?\n",
    "\n",
    "_Assign your answer to an object called `answer1_b` in the code chunk below. Make sure your answer is surrounded by square brackets. If there are more than one answers to this question, separate each number with a comma in the square brackets. For example if you believe the answer is 1, 2 and 3 your answer would like this:   \n",
    "`answer1_b = [1, 2, 3]`_\n",
    "\n"
   ]
  },
  {
   "cell_type": "code",
   "execution_count": 4,
   "metadata": {
    "deletable": false,
    "nbgrader": {
     "cell_type": "code",
     "checksum": "706f53baa2e668418dc32008a033fadd",
     "grade": false,
     "grade_id": "cell-056483e434ae664a",
     "locked": false,
     "schema_version": 3,
     "solution": true,
     "task": false
    }
   },
   "outputs": [],
   "source": [
    "answer1_b = [3]"
   ]
  },
  {
   "cell_type": "code",
   "execution_count": 5,
   "metadata": {
    "deletable": false,
    "editable": false,
    "nbgrader": {
     "cell_type": "code",
     "checksum": "ae8b71690c53a76d773fd3a242f55d46",
     "grade": true,
     "grade_id": "cell-e35eba9f97d1d7bf",
     "locked": true,
     "points": 1,
     "schema_version": 3,
     "solution": false,
     "task": false
    }
   },
   "outputs": [
    {
     "data": {
      "text/plain": [
       "'Success'"
      ]
     },
     "execution_count": 5,
     "metadata": {},
     "output_type": "execute_result"
    }
   ],
   "source": [
    "t.test_1b(answer1_b)"
   ]
  },
  {
   "cell_type": "markdown",
   "metadata": {},
   "source": [
    "**Question 1(c)** <br> {points: 2}  \n",
    "\n",
    "To answer the question, assign the letter associated with the correct answer to a variable in the code cell below:   \n",
    "\n",
    "Why is the primary goal of data wrangling getting dataframes into the tidy data format?\n",
    " \n",
    "A) Having data expressed in such a way, allows for easier readability and is more aesthetically pleasing. \n",
    "\n",
    "B) Tidy format uses less storage space on your computer. \n",
    "\n",
    "C) Many or most modern Data Science tools accept the tidy data format directly (or very close to that) and we need to get the data in a state ready for analysis.\n",
    "\n",
    "*Answer in the cell below using the uppercase letter associated with your answer. Place your answer between `\"\"`, assign the correct answer to an object called `answer1_c`.*\n"
   ]
  },
  {
   "cell_type": "code",
   "execution_count": 6,
   "metadata": {
    "deletable": false,
    "nbgrader": {
     "cell_type": "code",
     "checksum": "f5eaa4a29c6aab1707fcd67dd4bdf777",
     "grade": false,
     "grade_id": "cell-c5a440fc14cdd03d",
     "locked": false,
     "schema_version": 3,
     "solution": true,
     "task": false
    }
   },
   "outputs": [],
   "source": [
    "answer1_c = \"C\""
   ]
  },
  {
   "cell_type": "code",
   "execution_count": 7,
   "metadata": {
    "deletable": false,
    "editable": false,
    "nbgrader": {
     "cell_type": "code",
     "checksum": "f28565910b7c085aac869f3d84020ebb",
     "grade": true,
     "grade_id": "cell-8277a8851358fbf9",
     "locked": true,
     "points": 2,
     "schema_version": 3,
     "solution": false,
     "task": false
    }
   },
   "outputs": [],
   "source": [
    "assert 'answer1_c' in locals(), \"Your answer should be named 'answer1_c'\"\n",
    "\n",
    "# Note that this test has been hidden intentionally.\n",
    "# It will provide no feedback as to the correctness of your answers.\n",
    "# Thus, it is up to you to decide if your answer is sufficiently correct."
   ]
  },
  {
   "cell_type": "markdown",
   "metadata": {},
   "source": [
    "**Question 1(d)** <br> {points: 1}  \n",
    "\n",
    "Use `.pivot()` or `.melt()` to tidy the `planes1` dataframe below to convert it to tidy data. Name the new dataframe `planes2`\n"
   ]
  },
  {
   "cell_type": "code",
   "execution_count": 8,
   "metadata": {},
   "outputs": [
    {
     "data": {
      "text/html": [
       "<div>\n",
       "<style scoped>\n",
       "    .dataframe tbody tr th:only-of-type {\n",
       "        vertical-align: middle;\n",
       "    }\n",
       "\n",
       "    .dataframe tbody tr th {\n",
       "        vertical-align: top;\n",
       "    }\n",
       "\n",
       "    .dataframe thead th {\n",
       "        text-align: right;\n",
       "    }\n",
       "</style>\n",
       "<table border=\"1\" class=\"dataframe\">\n",
       "  <thead>\n",
       "    <tr style=\"text-align: right;\">\n",
       "      <th></th>\n",
       "      <th>on_time</th>\n",
       "      <th>airline_US</th>\n",
       "      <th>airline_UA</th>\n",
       "    </tr>\n",
       "  </thead>\n",
       "  <tbody>\n",
       "    <tr>\n",
       "      <th>0</th>\n",
       "      <td>yes</td>\n",
       "      <td>18</td>\n",
       "      <td>13</td>\n",
       "    </tr>\n",
       "    <tr>\n",
       "      <th>1</th>\n",
       "      <td>no</td>\n",
       "      <td>17</td>\n",
       "      <td>9</td>\n",
       "    </tr>\n",
       "  </tbody>\n",
       "</table>\n",
       "</div>"
      ],
      "text/plain": [
       "  on_time  airline_US  airline_UA\n",
       "0     yes          18          13\n",
       "1      no          17           9"
      ]
     },
     "execution_count": 8,
     "metadata": {},
     "output_type": "execute_result"
    }
   ],
   "source": [
    "flights = {'on_time': ['yes', 'no'],\n",
    "           'airline_US': [18, 17],\n",
    "           'airline_UA' : [13, 9]\n",
    "          }\n",
    "planes1 = pd.DataFrame(flights, columns = ['on_time', 'airline_US', 'airline_UA'])\n",
    "planes1\n"
   ]
  },
  {
   "cell_type": "code",
   "execution_count": 9,
   "metadata": {
    "deletable": false,
    "nbgrader": {
     "cell_type": "code",
     "checksum": "c2bb064b39e89023b1d08e2c7992b888",
     "grade": false,
     "grade_id": "cell-2d6f65755b4e202b",
     "locked": false,
     "schema_version": 3,
     "solution": true,
     "task": false
    }
   },
   "outputs": [
    {
     "data": {
      "text/html": [
       "<div>\n",
       "<style scoped>\n",
       "    .dataframe tbody tr th:only-of-type {\n",
       "        vertical-align: middle;\n",
       "    }\n",
       "\n",
       "    .dataframe tbody tr th {\n",
       "        vertical-align: top;\n",
       "    }\n",
       "\n",
       "    .dataframe thead th {\n",
       "        text-align: right;\n",
       "    }\n",
       "</style>\n",
       "<table border=\"1\" class=\"dataframe\">\n",
       "  <thead>\n",
       "    <tr style=\"text-align: right;\">\n",
       "      <th></th>\n",
       "      <th>on_time</th>\n",
       "      <th>on_time_flights</th>\n",
       "      <th>value</th>\n",
       "    </tr>\n",
       "  </thead>\n",
       "  <tbody>\n",
       "    <tr>\n",
       "      <th>0</th>\n",
       "      <td>yes</td>\n",
       "      <td>airline_US</td>\n",
       "      <td>18</td>\n",
       "    </tr>\n",
       "    <tr>\n",
       "      <th>1</th>\n",
       "      <td>no</td>\n",
       "      <td>airline_US</td>\n",
       "      <td>17</td>\n",
       "    </tr>\n",
       "    <tr>\n",
       "      <th>2</th>\n",
       "      <td>yes</td>\n",
       "      <td>airline_UA</td>\n",
       "      <td>13</td>\n",
       "    </tr>\n",
       "    <tr>\n",
       "      <th>3</th>\n",
       "      <td>no</td>\n",
       "      <td>airline_UA</td>\n",
       "      <td>9</td>\n",
       "    </tr>\n",
       "  </tbody>\n",
       "</table>\n",
       "</div>"
      ],
      "text/plain": [
       "  on_time on_time_flights  value\n",
       "0     yes      airline_US     18\n",
       "1      no      airline_US     17\n",
       "2     yes      airline_UA     13\n",
       "3      no      airline_UA      9"
      ]
     },
     "execution_count": 9,
     "metadata": {},
     "output_type": "execute_result"
    }
   ],
   "source": [
    "planes2 = (planes1.melt(\n",
    "                    id_vars=['on_time'],\n",
    "                    value_vars=['airline_US', 'airline_UA'],\n",
    "                    var_name='on_time_flights',\n",
    "                    value_name='value'))\n",
    "planes2"
   ]
  },
  {
   "cell_type": "code",
   "execution_count": 10,
   "metadata": {
    "deletable": false,
    "editable": false,
    "nbgrader": {
     "cell_type": "code",
     "checksum": "c338ea59a0a35837ea381f2b7f74caab",
     "grade": true,
     "grade_id": "cell-ec7481e5b9a9f30a",
     "locked": true,
     "points": 1,
     "schema_version": 3,
     "solution": false,
     "task": false
    }
   },
   "outputs": [
    {
     "data": {
      "text/plain": [
       "'Success'"
      ]
     },
     "execution_count": 10,
     "metadata": {},
     "output_type": "execute_result"
    }
   ],
   "source": [
    "t.test_1d(planes2)"
   ]
  },
  {
   "cell_type": "markdown",
   "metadata": {},
   "source": [
    "**Question 1(e)** <br> {points: 1}  \n",
    "\n",
    "We are interested in determining if the number of medals is influenced by the country and the type of medal. Given this statistical question, is the below dataset tidy data? \n",
    "\n",
    "\\begin{array}{ccccc}\n",
    "& & COUNTRY & GOLD & SILVER & BRONZE\\\\\n",
    "& 1 & USA & 46 & 37 & 38\\\\\n",
    "medals\\_df = & 2 & CHN & 38 & 23 & 17\\\\\n",
    "& 3 & GBR & 29 & 18 & 26\\\\\n",
    "\\end{array}\n"
   ]
  },
  {
   "cell_type": "markdown",
   "metadata": {},
   "source": [
    "To answer the question, assign the letter associated with the correct answer to a variable in the code cell below:   \n",
    " \n",
    "A) The dataframe is tidy.\n",
    "\n",
    "B) The dataframe is ***NOT*** tidy and cannot be changed to tidy data by using `.pivot()` or `.melt()`. \n",
    "\n",
    "C) The dataframe is ***NOT*** tidy and can be changed to tidy data by using `.pivot()`.\n",
    "\n",
    "D) The dataframe is ***NOT*** tidy and can be changed to tidy data by using `.melt()`.\n",
    "\n",
    "*Answer in the cell below using the uppercase letter associated with your answer. Place your answer between `\"\"`, assign the correct answer to an object called `answer1_e`.*"
   ]
  },
  {
   "cell_type": "code",
   "execution_count": 11,
   "metadata": {
    "deletable": false,
    "nbgrader": {
     "cell_type": "code",
     "checksum": "10f9a59df78a309f92bce5d24a8a068c",
     "grade": false,
     "grade_id": "cell-492bb19dc3a7130f",
     "locked": false,
     "schema_version": 3,
     "solution": true,
     "task": false
    }
   },
   "outputs": [],
   "source": [
    "answer1_e = \"D\""
   ]
  },
  {
   "cell_type": "code",
   "execution_count": 12,
   "metadata": {
    "deletable": false,
    "editable": false,
    "nbgrader": {
     "cell_type": "code",
     "checksum": "9baaefccf8ba27bd6a21dd3db7c6fc52",
     "grade": true,
     "grade_id": "cell-01a6e527e9db7a0e",
     "locked": true,
     "points": 1,
     "schema_version": 3,
     "solution": false,
     "task": false
    }
   },
   "outputs": [
    {
     "data": {
      "text/plain": [
       "'Success'"
      ]
     },
     "execution_count": 12,
     "metadata": {},
     "output_type": "execute_result"
    }
   ],
   "source": [
    "t.test_1e(answer1_e)"
   ]
  },
  {
   "cell_type": "markdown",
   "metadata": {},
   "source": [
    "## 2.  Pivot and Melt"
   ]
  },
  {
   "cell_type": "markdown",
   "metadata": {},
   "source": [
    "**Question 2(a)** <br> {points: 1}  \n",
    "\n",
    "The file at this [url](https://raw.githubusercontent.com/plotly/datasets/master/school_earnings.csv) contains data about the average wage in 1000 dollars per year for men and women graduates from various US universities. \n",
    "\n",
    "***Note: many popular datasets have sex as a feature where the possible values are male and female. This representation reflects how the data were collected and is not meant to imply that, for example, gender is binary.***\n",
    "\n",
    "\n",
    "Load only the `School`, `Women` and `Men` columns into a dataframe named `wages`.\n",
    "\n"
   ]
  },
  {
   "cell_type": "code",
   "execution_count": 13,
   "metadata": {
    "deletable": false,
    "nbgrader": {
     "cell_type": "code",
     "checksum": "8e62dda1d13cba3573bc4b049bac0b48",
     "grade": false,
     "grade_id": "cell-6e9f73a26ab62a99",
     "locked": false,
     "schema_version": 3,
     "solution": true,
     "task": false
    }
   },
   "outputs": [
    {
     "data": {
      "text/html": [
       "<div>\n",
       "<style scoped>\n",
       "    .dataframe tbody tr th:only-of-type {\n",
       "        vertical-align: middle;\n",
       "    }\n",
       "\n",
       "    .dataframe tbody tr th {\n",
       "        vertical-align: top;\n",
       "    }\n",
       "\n",
       "    .dataframe thead th {\n",
       "        text-align: right;\n",
       "    }\n",
       "</style>\n",
       "<table border=\"1\" class=\"dataframe\">\n",
       "  <thead>\n",
       "    <tr style=\"text-align: right;\">\n",
       "      <th></th>\n",
       "      <th>School</th>\n",
       "      <th>Women</th>\n",
       "      <th>Men</th>\n",
       "    </tr>\n",
       "  </thead>\n",
       "  <tbody>\n",
       "    <tr>\n",
       "      <th>0</th>\n",
       "      <td>MIT</td>\n",
       "      <td>94</td>\n",
       "      <td>152</td>\n",
       "    </tr>\n",
       "    <tr>\n",
       "      <th>1</th>\n",
       "      <td>Stanford</td>\n",
       "      <td>96</td>\n",
       "      <td>151</td>\n",
       "    </tr>\n",
       "    <tr>\n",
       "      <th>2</th>\n",
       "      <td>Harvard</td>\n",
       "      <td>112</td>\n",
       "      <td>165</td>\n",
       "    </tr>\n",
       "    <tr>\n",
       "      <th>3</th>\n",
       "      <td>U.Penn</td>\n",
       "      <td>92</td>\n",
       "      <td>141</td>\n",
       "    </tr>\n",
       "    <tr>\n",
       "      <th>4</th>\n",
       "      <td>Princeton</td>\n",
       "      <td>90</td>\n",
       "      <td>137</td>\n",
       "    </tr>\n",
       "    <tr>\n",
       "      <th>5</th>\n",
       "      <td>Chicago</td>\n",
       "      <td>78</td>\n",
       "      <td>118</td>\n",
       "    </tr>\n",
       "    <tr>\n",
       "      <th>6</th>\n",
       "      <td>Georgetown</td>\n",
       "      <td>94</td>\n",
       "      <td>131</td>\n",
       "    </tr>\n",
       "    <tr>\n",
       "      <th>7</th>\n",
       "      <td>Tufts</td>\n",
       "      <td>76</td>\n",
       "      <td>112</td>\n",
       "    </tr>\n",
       "    <tr>\n",
       "      <th>8</th>\n",
       "      <td>Yale</td>\n",
       "      <td>79</td>\n",
       "      <td>114</td>\n",
       "    </tr>\n",
       "    <tr>\n",
       "      <th>9</th>\n",
       "      <td>Columbia</td>\n",
       "      <td>86</td>\n",
       "      <td>119</td>\n",
       "    </tr>\n",
       "    <tr>\n",
       "      <th>10</th>\n",
       "      <td>Duke</td>\n",
       "      <td>93</td>\n",
       "      <td>124</td>\n",
       "    </tr>\n",
       "    <tr>\n",
       "      <th>11</th>\n",
       "      <td>Dartmouth</td>\n",
       "      <td>84</td>\n",
       "      <td>114</td>\n",
       "    </tr>\n",
       "    <tr>\n",
       "      <th>12</th>\n",
       "      <td>NYU</td>\n",
       "      <td>67</td>\n",
       "      <td>94</td>\n",
       "    </tr>\n",
       "    <tr>\n",
       "      <th>13</th>\n",
       "      <td>Notre Dame</td>\n",
       "      <td>73</td>\n",
       "      <td>100</td>\n",
       "    </tr>\n",
       "    <tr>\n",
       "      <th>14</th>\n",
       "      <td>Cornell</td>\n",
       "      <td>80</td>\n",
       "      <td>107</td>\n",
       "    </tr>\n",
       "    <tr>\n",
       "      <th>15</th>\n",
       "      <td>Michigan</td>\n",
       "      <td>62</td>\n",
       "      <td>84</td>\n",
       "    </tr>\n",
       "    <tr>\n",
       "      <th>16</th>\n",
       "      <td>Brown</td>\n",
       "      <td>72</td>\n",
       "      <td>92</td>\n",
       "    </tr>\n",
       "    <tr>\n",
       "      <th>17</th>\n",
       "      <td>Berkeley</td>\n",
       "      <td>71</td>\n",
       "      <td>88</td>\n",
       "    </tr>\n",
       "    <tr>\n",
       "      <th>18</th>\n",
       "      <td>Emory</td>\n",
       "      <td>68</td>\n",
       "      <td>82</td>\n",
       "    </tr>\n",
       "    <tr>\n",
       "      <th>19</th>\n",
       "      <td>UCLA</td>\n",
       "      <td>64</td>\n",
       "      <td>78</td>\n",
       "    </tr>\n",
       "    <tr>\n",
       "      <th>20</th>\n",
       "      <td>SoCal</td>\n",
       "      <td>72</td>\n",
       "      <td>81</td>\n",
       "    </tr>\n",
       "  </tbody>\n",
       "</table>\n",
       "</div>"
      ],
      "text/plain": [
       "        School  Women  Men\n",
       "0          MIT     94  152\n",
       "1     Stanford     96  151\n",
       "2      Harvard    112  165\n",
       "3       U.Penn     92  141\n",
       "4    Princeton     90  137\n",
       "5      Chicago     78  118\n",
       "6   Georgetown     94  131\n",
       "7        Tufts     76  112\n",
       "8         Yale     79  114\n",
       "9     Columbia     86  119\n",
       "10        Duke     93  124\n",
       "11   Dartmouth     84  114\n",
       "12         NYU     67   94\n",
       "13  Notre Dame     73  100\n",
       "14     Cornell     80  107\n",
       "15    Michigan     62   84\n",
       "16       Brown     72   92\n",
       "17    Berkeley     71   88\n",
       "18       Emory     68   82\n",
       "19        UCLA     64   78\n",
       "20       SoCal     72   81"
      ]
     },
     "execution_count": 13,
     "metadata": {},
     "output_type": "execute_result"
    }
   ],
   "source": [
    "wages = pd.read_csv('https://raw.githubusercontent.com/plotly/datasets/master/school_earnings.csv', usecols=[0, 1, 2])\n",
    "wages"
   ]
  },
  {
   "cell_type": "code",
   "execution_count": 14,
   "metadata": {
    "deletable": false,
    "editable": false,
    "nbgrader": {
     "cell_type": "code",
     "checksum": "73f54264417dca30bec830ee2c52f3f1",
     "grade": true,
     "grade_id": "cell-e0cd5c037882035a",
     "locked": true,
     "points": 1,
     "schema_version": 3,
     "solution": false,
     "task": false
    }
   },
   "outputs": [
    {
     "data": {
      "text/plain": [
       "'Success'"
      ]
     },
     "execution_count": 14,
     "metadata": {},
     "output_type": "execute_result"
    }
   ],
   "source": [
    "t.test_2a(wages)"
   ]
  },
  {
   "cell_type": "markdown",
   "metadata": {},
   "source": [
    "**Question 2(b)** <br> {points: 1}  \n",
    "\n",
    "We are interested in seeing if a person's wage is influenced by the variables gender and school. Given this statistical question, which tidy data criterion is not being satisfied in the dataframe?"
   ]
  },
  {
   "cell_type": "markdown",
   "metadata": {},
   "source": [
    "To answer the question, assign the letter associated with the correct answer to a variable in the code cell below:   \n",
    " \n",
    "A) Criterion 1: Each row is a single observation      \n",
    "\n",
    "B) Criterion 2: Each variable is a single column     \n",
    "\n",
    "C) Criterion 3: Each value is a single cell      \n",
    "\n",
    "*Answer in the cell below using the uppercase letter associated with your answer. Place your answer between `\"\"`, assign the correct answer to an object called `answer2_b`.*"
   ]
  },
  {
   "cell_type": "code",
   "execution_count": 15,
   "metadata": {
    "deletable": false,
    "nbgrader": {
     "cell_type": "code",
     "checksum": "21ba60cffa6848b7f80dab24ea1b3392",
     "grade": false,
     "grade_id": "cell-603c14df9149a8a2",
     "locked": false,
     "schema_version": 3,
     "solution": true,
     "task": false
    }
   },
   "outputs": [],
   "source": [
    "answer2_b = \"B\"\n"
   ]
  },
  {
   "cell_type": "code",
   "execution_count": 16,
   "metadata": {
    "deletable": false,
    "editable": false,
    "nbgrader": {
     "cell_type": "code",
     "checksum": "679a38fd258ae387770e2f61abdb8328",
     "grade": true,
     "grade_id": "cell-239c2fb98499b9f4",
     "locked": true,
     "points": 1,
     "schema_version": 3,
     "solution": false,
     "task": false
    }
   },
   "outputs": [
    {
     "data": {
      "text/plain": [
       "'Success'"
      ]
     },
     "execution_count": 16,
     "metadata": {},
     "output_type": "execute_result"
    }
   ],
   "source": [
    "t.test_2b(answer2_b)"
   ]
  },
  {
   "cell_type": "markdown",
   "metadata": {},
   "source": [
    "**Question 2(c)** <br> {points: 1}  \n",
    "\n",
    "Make the dataset tidy by using `.melt()`.    \n",
    "Use `School` as `id_vars`, `Gender` as `var_name` and `Wage` as `value_name` and sort the dataframe by `School` and then `Gender`.      \n",
    "Name the new object `tidy_wages`. "
   ]
  },
  {
   "cell_type": "code",
   "execution_count": 17,
   "metadata": {
    "deletable": false,
    "nbgrader": {
     "cell_type": "code",
     "checksum": "dc5e18e26ad0dedd823b9a075c704c7b",
     "grade": false,
     "grade_id": "cell-73c51126a6542e2d",
     "locked": false,
     "schema_version": 3,
     "solution": true,
     "task": false
    }
   },
   "outputs": [
    {
     "data": {
      "text/html": [
       "<div>\n",
       "<style scoped>\n",
       "    .dataframe tbody tr th:only-of-type {\n",
       "        vertical-align: middle;\n",
       "    }\n",
       "\n",
       "    .dataframe tbody tr th {\n",
       "        vertical-align: top;\n",
       "    }\n",
       "\n",
       "    .dataframe thead th {\n",
       "        text-align: right;\n",
       "    }\n",
       "</style>\n",
       "<table border=\"1\" class=\"dataframe\">\n",
       "  <thead>\n",
       "    <tr style=\"text-align: right;\">\n",
       "      <th></th>\n",
       "      <th>School</th>\n",
       "      <th>Gender</th>\n",
       "      <th>Wage</th>\n",
       "    </tr>\n",
       "  </thead>\n",
       "  <tbody>\n",
       "    <tr>\n",
       "      <th>38</th>\n",
       "      <td>Berkeley</td>\n",
       "      <td>Men</td>\n",
       "      <td>88</td>\n",
       "    </tr>\n",
       "    <tr>\n",
       "      <th>17</th>\n",
       "      <td>Berkeley</td>\n",
       "      <td>Women</td>\n",
       "      <td>71</td>\n",
       "    </tr>\n",
       "    <tr>\n",
       "      <th>37</th>\n",
       "      <td>Brown</td>\n",
       "      <td>Men</td>\n",
       "      <td>92</td>\n",
       "    </tr>\n",
       "    <tr>\n",
       "      <th>16</th>\n",
       "      <td>Brown</td>\n",
       "      <td>Women</td>\n",
       "      <td>72</td>\n",
       "    </tr>\n",
       "    <tr>\n",
       "      <th>26</th>\n",
       "      <td>Chicago</td>\n",
       "      <td>Men</td>\n",
       "      <td>118</td>\n",
       "    </tr>\n",
       "    <tr>\n",
       "      <th>5</th>\n",
       "      <td>Chicago</td>\n",
       "      <td>Women</td>\n",
       "      <td>78</td>\n",
       "    </tr>\n",
       "    <tr>\n",
       "      <th>30</th>\n",
       "      <td>Columbia</td>\n",
       "      <td>Men</td>\n",
       "      <td>119</td>\n",
       "    </tr>\n",
       "    <tr>\n",
       "      <th>9</th>\n",
       "      <td>Columbia</td>\n",
       "      <td>Women</td>\n",
       "      <td>86</td>\n",
       "    </tr>\n",
       "    <tr>\n",
       "      <th>35</th>\n",
       "      <td>Cornell</td>\n",
       "      <td>Men</td>\n",
       "      <td>107</td>\n",
       "    </tr>\n",
       "    <tr>\n",
       "      <th>14</th>\n",
       "      <td>Cornell</td>\n",
       "      <td>Women</td>\n",
       "      <td>80</td>\n",
       "    </tr>\n",
       "    <tr>\n",
       "      <th>32</th>\n",
       "      <td>Dartmouth</td>\n",
       "      <td>Men</td>\n",
       "      <td>114</td>\n",
       "    </tr>\n",
       "    <tr>\n",
       "      <th>11</th>\n",
       "      <td>Dartmouth</td>\n",
       "      <td>Women</td>\n",
       "      <td>84</td>\n",
       "    </tr>\n",
       "    <tr>\n",
       "      <th>31</th>\n",
       "      <td>Duke</td>\n",
       "      <td>Men</td>\n",
       "      <td>124</td>\n",
       "    </tr>\n",
       "    <tr>\n",
       "      <th>10</th>\n",
       "      <td>Duke</td>\n",
       "      <td>Women</td>\n",
       "      <td>93</td>\n",
       "    </tr>\n",
       "    <tr>\n",
       "      <th>39</th>\n",
       "      <td>Emory</td>\n",
       "      <td>Men</td>\n",
       "      <td>82</td>\n",
       "    </tr>\n",
       "    <tr>\n",
       "      <th>18</th>\n",
       "      <td>Emory</td>\n",
       "      <td>Women</td>\n",
       "      <td>68</td>\n",
       "    </tr>\n",
       "    <tr>\n",
       "      <th>27</th>\n",
       "      <td>Georgetown</td>\n",
       "      <td>Men</td>\n",
       "      <td>131</td>\n",
       "    </tr>\n",
       "    <tr>\n",
       "      <th>6</th>\n",
       "      <td>Georgetown</td>\n",
       "      <td>Women</td>\n",
       "      <td>94</td>\n",
       "    </tr>\n",
       "    <tr>\n",
       "      <th>23</th>\n",
       "      <td>Harvard</td>\n",
       "      <td>Men</td>\n",
       "      <td>165</td>\n",
       "    </tr>\n",
       "    <tr>\n",
       "      <th>2</th>\n",
       "      <td>Harvard</td>\n",
       "      <td>Women</td>\n",
       "      <td>112</td>\n",
       "    </tr>\n",
       "    <tr>\n",
       "      <th>21</th>\n",
       "      <td>MIT</td>\n",
       "      <td>Men</td>\n",
       "      <td>152</td>\n",
       "    </tr>\n",
       "    <tr>\n",
       "      <th>0</th>\n",
       "      <td>MIT</td>\n",
       "      <td>Women</td>\n",
       "      <td>94</td>\n",
       "    </tr>\n",
       "    <tr>\n",
       "      <th>36</th>\n",
       "      <td>Michigan</td>\n",
       "      <td>Men</td>\n",
       "      <td>84</td>\n",
       "    </tr>\n",
       "    <tr>\n",
       "      <th>15</th>\n",
       "      <td>Michigan</td>\n",
       "      <td>Women</td>\n",
       "      <td>62</td>\n",
       "    </tr>\n",
       "    <tr>\n",
       "      <th>33</th>\n",
       "      <td>NYU</td>\n",
       "      <td>Men</td>\n",
       "      <td>94</td>\n",
       "    </tr>\n",
       "    <tr>\n",
       "      <th>12</th>\n",
       "      <td>NYU</td>\n",
       "      <td>Women</td>\n",
       "      <td>67</td>\n",
       "    </tr>\n",
       "    <tr>\n",
       "      <th>34</th>\n",
       "      <td>Notre Dame</td>\n",
       "      <td>Men</td>\n",
       "      <td>100</td>\n",
       "    </tr>\n",
       "    <tr>\n",
       "      <th>13</th>\n",
       "      <td>Notre Dame</td>\n",
       "      <td>Women</td>\n",
       "      <td>73</td>\n",
       "    </tr>\n",
       "    <tr>\n",
       "      <th>25</th>\n",
       "      <td>Princeton</td>\n",
       "      <td>Men</td>\n",
       "      <td>137</td>\n",
       "    </tr>\n",
       "    <tr>\n",
       "      <th>4</th>\n",
       "      <td>Princeton</td>\n",
       "      <td>Women</td>\n",
       "      <td>90</td>\n",
       "    </tr>\n",
       "    <tr>\n",
       "      <th>41</th>\n",
       "      <td>SoCal</td>\n",
       "      <td>Men</td>\n",
       "      <td>81</td>\n",
       "    </tr>\n",
       "    <tr>\n",
       "      <th>20</th>\n",
       "      <td>SoCal</td>\n",
       "      <td>Women</td>\n",
       "      <td>72</td>\n",
       "    </tr>\n",
       "    <tr>\n",
       "      <th>22</th>\n",
       "      <td>Stanford</td>\n",
       "      <td>Men</td>\n",
       "      <td>151</td>\n",
       "    </tr>\n",
       "    <tr>\n",
       "      <th>1</th>\n",
       "      <td>Stanford</td>\n",
       "      <td>Women</td>\n",
       "      <td>96</td>\n",
       "    </tr>\n",
       "    <tr>\n",
       "      <th>28</th>\n",
       "      <td>Tufts</td>\n",
       "      <td>Men</td>\n",
       "      <td>112</td>\n",
       "    </tr>\n",
       "    <tr>\n",
       "      <th>7</th>\n",
       "      <td>Tufts</td>\n",
       "      <td>Women</td>\n",
       "      <td>76</td>\n",
       "    </tr>\n",
       "    <tr>\n",
       "      <th>24</th>\n",
       "      <td>U.Penn</td>\n",
       "      <td>Men</td>\n",
       "      <td>141</td>\n",
       "    </tr>\n",
       "    <tr>\n",
       "      <th>3</th>\n",
       "      <td>U.Penn</td>\n",
       "      <td>Women</td>\n",
       "      <td>92</td>\n",
       "    </tr>\n",
       "    <tr>\n",
       "      <th>40</th>\n",
       "      <td>UCLA</td>\n",
       "      <td>Men</td>\n",
       "      <td>78</td>\n",
       "    </tr>\n",
       "    <tr>\n",
       "      <th>19</th>\n",
       "      <td>UCLA</td>\n",
       "      <td>Women</td>\n",
       "      <td>64</td>\n",
       "    </tr>\n",
       "    <tr>\n",
       "      <th>29</th>\n",
       "      <td>Yale</td>\n",
       "      <td>Men</td>\n",
       "      <td>114</td>\n",
       "    </tr>\n",
       "    <tr>\n",
       "      <th>8</th>\n",
       "      <td>Yale</td>\n",
       "      <td>Women</td>\n",
       "      <td>79</td>\n",
       "    </tr>\n",
       "  </tbody>\n",
       "</table>\n",
       "</div>"
      ],
      "text/plain": [
       "        School Gender  Wage\n",
       "38    Berkeley    Men    88\n",
       "17    Berkeley  Women    71\n",
       "37       Brown    Men    92\n",
       "16       Brown  Women    72\n",
       "26     Chicago    Men   118\n",
       "5      Chicago  Women    78\n",
       "30    Columbia    Men   119\n",
       "9     Columbia  Women    86\n",
       "35     Cornell    Men   107\n",
       "14     Cornell  Women    80\n",
       "32   Dartmouth    Men   114\n",
       "11   Dartmouth  Women    84\n",
       "31        Duke    Men   124\n",
       "10        Duke  Women    93\n",
       "39       Emory    Men    82\n",
       "18       Emory  Women    68\n",
       "27  Georgetown    Men   131\n",
       "6   Georgetown  Women    94\n",
       "23     Harvard    Men   165\n",
       "2      Harvard  Women   112\n",
       "21         MIT    Men   152\n",
       "0          MIT  Women    94\n",
       "36    Michigan    Men    84\n",
       "15    Michigan  Women    62\n",
       "33         NYU    Men    94\n",
       "12         NYU  Women    67\n",
       "34  Notre Dame    Men   100\n",
       "13  Notre Dame  Women    73\n",
       "25   Princeton    Men   137\n",
       "4    Princeton  Women    90\n",
       "41       SoCal    Men    81\n",
       "20       SoCal  Women    72\n",
       "22    Stanford    Men   151\n",
       "1     Stanford  Women    96\n",
       "28       Tufts    Men   112\n",
       "7        Tufts  Women    76\n",
       "24      U.Penn    Men   141\n",
       "3       U.Penn  Women    92\n",
       "40        UCLA    Men    78\n",
       "19        UCLA  Women    64\n",
       "29        Yale    Men   114\n",
       "8         Yale  Women    79"
      ]
     },
     "execution_count": 17,
     "metadata": {},
     "output_type": "execute_result"
    }
   ],
   "source": [
    "tidy_wages = (wages.melt(id_vars=['School'],\n",
    "                        var_name='Gender',\n",
    "                        value_name='Wage')\n",
    "                    .sort_values(['School','Gender']))\n",
    "tidy_wages"
   ]
  },
  {
   "cell_type": "code",
   "execution_count": 18,
   "metadata": {
    "deletable": false,
    "editable": false,
    "nbgrader": {
     "cell_type": "code",
     "checksum": "de73beb71d6192e6b870fc7ecdebde1d",
     "grade": true,
     "grade_id": "cell-1f14881b27d05b6a",
     "locked": true,
     "points": 1,
     "schema_version": 3,
     "solution": false,
     "task": false
    }
   },
   "outputs": [
    {
     "data": {
      "text/plain": [
       "'Success'"
      ]
     },
     "execution_count": 18,
     "metadata": {},
     "output_type": "execute_result"
    }
   ],
   "source": [
    "t.test_2c(tidy_wages)"
   ]
  },
  {
   "cell_type": "markdown",
   "metadata": {},
   "source": [
    "**Question 2(d)** <br> {points: 2}  \n",
    "\n",
    "`.groupby()` the `Gender` column and find the mean `Wage` of each group.    \n",
    "Save the new dataframe as `wage_means`. "
   ]
  },
  {
   "cell_type": "code",
   "execution_count": 19,
   "metadata": {
    "deletable": false,
    "nbgrader": {
     "cell_type": "code",
     "checksum": "3efafdff58a1c4655eb9053a196a7fca",
     "grade": false,
     "grade_id": "cell-35d4b922fc450705",
     "locked": false,
     "schema_version": 3,
     "solution": true,
     "task": false
    }
   },
   "outputs": [
    {
     "data": {
      "text/html": [
       "<div>\n",
       "<style scoped>\n",
       "    .dataframe tbody tr th:only-of-type {\n",
       "        vertical-align: middle;\n",
       "    }\n",
       "\n",
       "    .dataframe tbody tr th {\n",
       "        vertical-align: top;\n",
       "    }\n",
       "\n",
       "    .dataframe thead th {\n",
       "        text-align: right;\n",
       "    }\n",
       "</style>\n",
       "<table border=\"1\" class=\"dataframe\">\n",
       "  <thead>\n",
       "    <tr style=\"text-align: right;\">\n",
       "      <th></th>\n",
       "      <th>Wage</th>\n",
       "    </tr>\n",
       "    <tr>\n",
       "      <th>Gender</th>\n",
       "      <th></th>\n",
       "    </tr>\n",
       "  </thead>\n",
       "  <tbody>\n",
       "    <tr>\n",
       "      <th>Men</th>\n",
       "      <td>113.523810</td>\n",
       "    </tr>\n",
       "    <tr>\n",
       "      <th>Women</th>\n",
       "      <td>81.095238</td>\n",
       "    </tr>\n",
       "  </tbody>\n",
       "</table>\n",
       "</div>"
      ],
      "text/plain": [
       "              Wage\n",
       "Gender            \n",
       "Men     113.523810\n",
       "Women    81.095238"
      ]
     },
     "execution_count": 19,
     "metadata": {},
     "output_type": "execute_result"
    }
   ],
   "source": [
    "wage_means = tidy_wages.groupby('Gender').mean()\n",
    "wage_means"
   ]
  },
  {
   "cell_type": "code",
   "execution_count": 20,
   "metadata": {
    "deletable": false,
    "editable": false,
    "nbgrader": {
     "cell_type": "code",
     "checksum": "b37f54ac4e20a768f742a1d28a8dc022",
     "grade": true,
     "grade_id": "cell-c4891e7ec95d0a58",
     "locked": true,
     "points": 2,
     "schema_version": 3,
     "solution": false,
     "task": false
    }
   },
   "outputs": [],
   "source": [
    "assert 'wage_means' in locals(), \"Your answer should be named 'wage_means'\"\n",
    "\n",
    "# Note that this test has been hidden intentionally.\n",
    "# It will provide no feedback as to the correctness of your answers.\n",
    "# Thus, it is up to you to decide if your answer is sufficiently correct."
   ]
  },
  {
   "cell_type": "markdown",
   "metadata": {},
   "source": [
    "**Question 2(e)** <br> {points: 1}  \n",
    "\n",
    "Which of the following is True? \n",
    "\n",
    "To answer the question, assign the letter associated with the correct answer to a variable in the code cell below:   \n",
    " \n",
    "A) Men and Women's mean wage are approximately equal. \n",
    "\n",
    "B) Women are making 0.9 the amount of Men  \n",
    "\n",
    "C) Men are making 1.2 the amount of Women \n",
    "\n",
    "D) Women are making 0.7 the amount of Men \n",
    "\n",
    "*Answer in the cell below using the uppercase letter associated with your answer. Place your answer between `\"\"`, assign the correct answer to an object called `answer2_e`.*"
   ]
  },
  {
   "cell_type": "code",
   "execution_count": 21,
   "metadata": {
    "deletable": false,
    "nbgrader": {
     "cell_type": "code",
     "checksum": "626a02cfe571d369b5762424d30a9b50",
     "grade": false,
     "grade_id": "cell-1ca40c4420470421",
     "locked": false,
     "schema_version": 3,
     "solution": true,
     "task": false
    }
   },
   "outputs": [],
   "source": [
    "answer2_e = \"D\"\n"
   ]
  },
  {
   "cell_type": "code",
   "execution_count": 22,
   "metadata": {
    "deletable": false,
    "editable": false,
    "nbgrader": {
     "cell_type": "code",
     "checksum": "e7781e4a2f259c5838fdcc693ae66df9",
     "grade": true,
     "grade_id": "cell-4db36636a741a9e1",
     "locked": true,
     "points": 1,
     "schema_version": 3,
     "solution": false,
     "task": false
    }
   },
   "outputs": [
    {
     "data": {
      "text/plain": [
       "'Success'"
      ]
     },
     "execution_count": 22,
     "metadata": {},
     "output_type": "execute_result"
    }
   ],
   "source": [
    "t.test_2e(answer2_e)"
   ]
  },
  {
   "cell_type": "markdown",
   "metadata": {},
   "source": [
    "**Question 2(f)** <br> {points: 1}  \n",
    "\n",
    "Reverse the operation you performed in **Question 2(c)** using `.pivot()`. Do not forget to reset your index.\n",
    "You will need to chain `.rename_axis('', axis='columns')` after you reset your axis to adjust for an incorrect axis label. \n",
    "Name the untidied object `untidied_wages`. "
   ]
  },
  {
   "cell_type": "code",
   "execution_count": 23,
   "metadata": {
    "deletable": false,
    "nbgrader": {
     "cell_type": "code",
     "checksum": "0b20732055c817d315a3634fbfa65a4f",
     "grade": false,
     "grade_id": "cell-d245d98a9ad389fa",
     "locked": false,
     "schema_version": 3,
     "solution": true,
     "task": false
    }
   },
   "outputs": [
    {
     "data": {
      "text/html": [
       "<div>\n",
       "<style scoped>\n",
       "    .dataframe tbody tr th:only-of-type {\n",
       "        vertical-align: middle;\n",
       "    }\n",
       "\n",
       "    .dataframe tbody tr th {\n",
       "        vertical-align: top;\n",
       "    }\n",
       "\n",
       "    .dataframe thead th {\n",
       "        text-align: right;\n",
       "    }\n",
       "</style>\n",
       "<table border=\"1\" class=\"dataframe\">\n",
       "  <thead>\n",
       "    <tr style=\"text-align: right;\">\n",
       "      <th></th>\n",
       "      <th>School</th>\n",
       "      <th>Men</th>\n",
       "      <th>Women</th>\n",
       "    </tr>\n",
       "  </thead>\n",
       "  <tbody>\n",
       "    <tr>\n",
       "      <th>0</th>\n",
       "      <td>Berkeley</td>\n",
       "      <td>88</td>\n",
       "      <td>71</td>\n",
       "    </tr>\n",
       "    <tr>\n",
       "      <th>1</th>\n",
       "      <td>Brown</td>\n",
       "      <td>92</td>\n",
       "      <td>72</td>\n",
       "    </tr>\n",
       "    <tr>\n",
       "      <th>2</th>\n",
       "      <td>Chicago</td>\n",
       "      <td>118</td>\n",
       "      <td>78</td>\n",
       "    </tr>\n",
       "    <tr>\n",
       "      <th>3</th>\n",
       "      <td>Columbia</td>\n",
       "      <td>119</td>\n",
       "      <td>86</td>\n",
       "    </tr>\n",
       "    <tr>\n",
       "      <th>4</th>\n",
       "      <td>Cornell</td>\n",
       "      <td>107</td>\n",
       "      <td>80</td>\n",
       "    </tr>\n",
       "    <tr>\n",
       "      <th>5</th>\n",
       "      <td>Dartmouth</td>\n",
       "      <td>114</td>\n",
       "      <td>84</td>\n",
       "    </tr>\n",
       "    <tr>\n",
       "      <th>6</th>\n",
       "      <td>Duke</td>\n",
       "      <td>124</td>\n",
       "      <td>93</td>\n",
       "    </tr>\n",
       "    <tr>\n",
       "      <th>7</th>\n",
       "      <td>Emory</td>\n",
       "      <td>82</td>\n",
       "      <td>68</td>\n",
       "    </tr>\n",
       "    <tr>\n",
       "      <th>8</th>\n",
       "      <td>Georgetown</td>\n",
       "      <td>131</td>\n",
       "      <td>94</td>\n",
       "    </tr>\n",
       "    <tr>\n",
       "      <th>9</th>\n",
       "      <td>Harvard</td>\n",
       "      <td>165</td>\n",
       "      <td>112</td>\n",
       "    </tr>\n",
       "    <tr>\n",
       "      <th>10</th>\n",
       "      <td>MIT</td>\n",
       "      <td>152</td>\n",
       "      <td>94</td>\n",
       "    </tr>\n",
       "    <tr>\n",
       "      <th>11</th>\n",
       "      <td>Michigan</td>\n",
       "      <td>84</td>\n",
       "      <td>62</td>\n",
       "    </tr>\n",
       "    <tr>\n",
       "      <th>12</th>\n",
       "      <td>NYU</td>\n",
       "      <td>94</td>\n",
       "      <td>67</td>\n",
       "    </tr>\n",
       "    <tr>\n",
       "      <th>13</th>\n",
       "      <td>Notre Dame</td>\n",
       "      <td>100</td>\n",
       "      <td>73</td>\n",
       "    </tr>\n",
       "    <tr>\n",
       "      <th>14</th>\n",
       "      <td>Princeton</td>\n",
       "      <td>137</td>\n",
       "      <td>90</td>\n",
       "    </tr>\n",
       "    <tr>\n",
       "      <th>15</th>\n",
       "      <td>SoCal</td>\n",
       "      <td>81</td>\n",
       "      <td>72</td>\n",
       "    </tr>\n",
       "    <tr>\n",
       "      <th>16</th>\n",
       "      <td>Stanford</td>\n",
       "      <td>151</td>\n",
       "      <td>96</td>\n",
       "    </tr>\n",
       "    <tr>\n",
       "      <th>17</th>\n",
       "      <td>Tufts</td>\n",
       "      <td>112</td>\n",
       "      <td>76</td>\n",
       "    </tr>\n",
       "    <tr>\n",
       "      <th>18</th>\n",
       "      <td>U.Penn</td>\n",
       "      <td>141</td>\n",
       "      <td>92</td>\n",
       "    </tr>\n",
       "    <tr>\n",
       "      <th>19</th>\n",
       "      <td>UCLA</td>\n",
       "      <td>78</td>\n",
       "      <td>64</td>\n",
       "    </tr>\n",
       "    <tr>\n",
       "      <th>20</th>\n",
       "      <td>Yale</td>\n",
       "      <td>114</td>\n",
       "      <td>79</td>\n",
       "    </tr>\n",
       "  </tbody>\n",
       "</table>\n",
       "</div>"
      ],
      "text/plain": [
       "        School  Men  Women\n",
       "0     Berkeley   88     71\n",
       "1        Brown   92     72\n",
       "2      Chicago  118     78\n",
       "3     Columbia  119     86\n",
       "4      Cornell  107     80\n",
       "5    Dartmouth  114     84\n",
       "6         Duke  124     93\n",
       "7        Emory   82     68\n",
       "8   Georgetown  131     94\n",
       "9      Harvard  165    112\n",
       "10         MIT  152     94\n",
       "11    Michigan   84     62\n",
       "12         NYU   94     67\n",
       "13  Notre Dame  100     73\n",
       "14   Princeton  137     90\n",
       "15       SoCal   81     72\n",
       "16    Stanford  151     96\n",
       "17       Tufts  112     76\n",
       "18      U.Penn  141     92\n",
       "19        UCLA   78     64\n",
       "20        Yale  114     79"
      ]
     },
     "execution_count": 23,
     "metadata": {},
     "output_type": "execute_result"
    }
   ],
   "source": [
    "untidied_wages = (tidy_wages.pivot(index='School', columns='Gender', values='Wage')\n",
    "                     .reset_index()\n",
    "                     .rename_axis('', axis='columns')\n",
    "                 )\n",
    " \n",
    "\n",
    "untidied_wages"
   ]
  },
  {
   "cell_type": "code",
   "execution_count": 24,
   "metadata": {
    "deletable": false,
    "editable": false,
    "nbgrader": {
     "cell_type": "code",
     "checksum": "a96ba3e3f7112e036ca72d451eb3ccdd",
     "grade": true,
     "grade_id": "cell-e89f064e31704eae",
     "locked": true,
     "points": 1,
     "schema_version": 3,
     "solution": false,
     "task": false
    }
   },
   "outputs": [
    {
     "data": {
      "text/plain": [
       "'Success'"
      ]
     },
     "execution_count": 24,
     "metadata": {},
     "output_type": "execute_result"
    }
   ],
   "source": [
    "t.test_2f(untidied_wages)"
   ]
  },
  {
   "cell_type": "markdown",
   "metadata": {},
   "source": [
    "**Question 2(g)** <br> {points: 1}  \n",
    "\n",
    "Using `untidied_wages`  We are trying to answer the question, *Which school has the largest wage gap between among women and men?*\n",
    "\n",
    "You will need to add a new column in the dataframe named `Wage_Gap` (Men wage - Woman wage). Sort your new dataframe in descending order and name it `wage_gap_df`."
   ]
  },
  {
   "cell_type": "code",
   "execution_count": 25,
   "metadata": {
    "deletable": false,
    "nbgrader": {
     "cell_type": "code",
     "checksum": "7c64fa198b0adf90769ae5cb52999755",
     "grade": false,
     "grade_id": "cell-2d8b2e33a5fda5a8",
     "locked": false,
     "schema_version": 3,
     "solution": true,
     "task": false
    }
   },
   "outputs": [],
   "source": [
    "wage_gap_df = (untidied_wages\n",
    "               .assign(Wage_Gap=untidied_wages['Men'] - untidied_wages['Women'])\n",
    "               .sort_values('Wage_Gap', ascending=False))"
   ]
  },
  {
   "cell_type": "code",
   "execution_count": 26,
   "metadata": {},
   "outputs": [
    {
     "data": {
      "text/html": [
       "<div>\n",
       "<style scoped>\n",
       "    .dataframe tbody tr th:only-of-type {\n",
       "        vertical-align: middle;\n",
       "    }\n",
       "\n",
       "    .dataframe tbody tr th {\n",
       "        vertical-align: top;\n",
       "    }\n",
       "\n",
       "    .dataframe thead th {\n",
       "        text-align: right;\n",
       "    }\n",
       "</style>\n",
       "<table border=\"1\" class=\"dataframe\">\n",
       "  <thead>\n",
       "    <tr style=\"text-align: right;\">\n",
       "      <th></th>\n",
       "      <th>School</th>\n",
       "      <th>Men</th>\n",
       "      <th>Women</th>\n",
       "      <th>Wage_Gap</th>\n",
       "    </tr>\n",
       "  </thead>\n",
       "  <tbody>\n",
       "    <tr>\n",
       "      <th>10</th>\n",
       "      <td>MIT</td>\n",
       "      <td>152</td>\n",
       "      <td>94</td>\n",
       "      <td>58</td>\n",
       "    </tr>\n",
       "    <tr>\n",
       "      <th>16</th>\n",
       "      <td>Stanford</td>\n",
       "      <td>151</td>\n",
       "      <td>96</td>\n",
       "      <td>55</td>\n",
       "    </tr>\n",
       "    <tr>\n",
       "      <th>9</th>\n",
       "      <td>Harvard</td>\n",
       "      <td>165</td>\n",
       "      <td>112</td>\n",
       "      <td>53</td>\n",
       "    </tr>\n",
       "    <tr>\n",
       "      <th>18</th>\n",
       "      <td>U.Penn</td>\n",
       "      <td>141</td>\n",
       "      <td>92</td>\n",
       "      <td>49</td>\n",
       "    </tr>\n",
       "    <tr>\n",
       "      <th>14</th>\n",
       "      <td>Princeton</td>\n",
       "      <td>137</td>\n",
       "      <td>90</td>\n",
       "      <td>47</td>\n",
       "    </tr>\n",
       "    <tr>\n",
       "      <th>2</th>\n",
       "      <td>Chicago</td>\n",
       "      <td>118</td>\n",
       "      <td>78</td>\n",
       "      <td>40</td>\n",
       "    </tr>\n",
       "    <tr>\n",
       "      <th>8</th>\n",
       "      <td>Georgetown</td>\n",
       "      <td>131</td>\n",
       "      <td>94</td>\n",
       "      <td>37</td>\n",
       "    </tr>\n",
       "    <tr>\n",
       "      <th>17</th>\n",
       "      <td>Tufts</td>\n",
       "      <td>112</td>\n",
       "      <td>76</td>\n",
       "      <td>36</td>\n",
       "    </tr>\n",
       "    <tr>\n",
       "      <th>20</th>\n",
       "      <td>Yale</td>\n",
       "      <td>114</td>\n",
       "      <td>79</td>\n",
       "      <td>35</td>\n",
       "    </tr>\n",
       "    <tr>\n",
       "      <th>3</th>\n",
       "      <td>Columbia</td>\n",
       "      <td>119</td>\n",
       "      <td>86</td>\n",
       "      <td>33</td>\n",
       "    </tr>\n",
       "    <tr>\n",
       "      <th>6</th>\n",
       "      <td>Duke</td>\n",
       "      <td>124</td>\n",
       "      <td>93</td>\n",
       "      <td>31</td>\n",
       "    </tr>\n",
       "    <tr>\n",
       "      <th>5</th>\n",
       "      <td>Dartmouth</td>\n",
       "      <td>114</td>\n",
       "      <td>84</td>\n",
       "      <td>30</td>\n",
       "    </tr>\n",
       "    <tr>\n",
       "      <th>12</th>\n",
       "      <td>NYU</td>\n",
       "      <td>94</td>\n",
       "      <td>67</td>\n",
       "      <td>27</td>\n",
       "    </tr>\n",
       "    <tr>\n",
       "      <th>13</th>\n",
       "      <td>Notre Dame</td>\n",
       "      <td>100</td>\n",
       "      <td>73</td>\n",
       "      <td>27</td>\n",
       "    </tr>\n",
       "    <tr>\n",
       "      <th>4</th>\n",
       "      <td>Cornell</td>\n",
       "      <td>107</td>\n",
       "      <td>80</td>\n",
       "      <td>27</td>\n",
       "    </tr>\n",
       "    <tr>\n",
       "      <th>11</th>\n",
       "      <td>Michigan</td>\n",
       "      <td>84</td>\n",
       "      <td>62</td>\n",
       "      <td>22</td>\n",
       "    </tr>\n",
       "    <tr>\n",
       "      <th>1</th>\n",
       "      <td>Brown</td>\n",
       "      <td>92</td>\n",
       "      <td>72</td>\n",
       "      <td>20</td>\n",
       "    </tr>\n",
       "    <tr>\n",
       "      <th>0</th>\n",
       "      <td>Berkeley</td>\n",
       "      <td>88</td>\n",
       "      <td>71</td>\n",
       "      <td>17</td>\n",
       "    </tr>\n",
       "    <tr>\n",
       "      <th>7</th>\n",
       "      <td>Emory</td>\n",
       "      <td>82</td>\n",
       "      <td>68</td>\n",
       "      <td>14</td>\n",
       "    </tr>\n",
       "    <tr>\n",
       "      <th>19</th>\n",
       "      <td>UCLA</td>\n",
       "      <td>78</td>\n",
       "      <td>64</td>\n",
       "      <td>14</td>\n",
       "    </tr>\n",
       "    <tr>\n",
       "      <th>15</th>\n",
       "      <td>SoCal</td>\n",
       "      <td>81</td>\n",
       "      <td>72</td>\n",
       "      <td>9</td>\n",
       "    </tr>\n",
       "  </tbody>\n",
       "</table>\n",
       "</div>"
      ],
      "text/plain": [
       "        School  Men  Women  Wage_Gap\n",
       "10         MIT  152     94        58\n",
       "16    Stanford  151     96        55\n",
       "9      Harvard  165    112        53\n",
       "18      U.Penn  141     92        49\n",
       "14   Princeton  137     90        47\n",
       "2      Chicago  118     78        40\n",
       "8   Georgetown  131     94        37\n",
       "17       Tufts  112     76        36\n",
       "20        Yale  114     79        35\n",
       "3     Columbia  119     86        33\n",
       "6         Duke  124     93        31\n",
       "5    Dartmouth  114     84        30\n",
       "12         NYU   94     67        27\n",
       "13  Notre Dame  100     73        27\n",
       "4      Cornell  107     80        27\n",
       "11    Michigan   84     62        22\n",
       "1        Brown   92     72        20\n",
       "0     Berkeley   88     71        17\n",
       "7        Emory   82     68        14\n",
       "19        UCLA   78     64        14\n",
       "15       SoCal   81     72         9"
      ]
     },
     "execution_count": 26,
     "metadata": {},
     "output_type": "execute_result"
    }
   ],
   "source": [
    "wage_gap_df"
   ]
  },
  {
   "cell_type": "code",
   "execution_count": 27,
   "metadata": {
    "deletable": false,
    "editable": false,
    "nbgrader": {
     "cell_type": "code",
     "checksum": "0fb3dbec312f3ef585692d0f7221b260",
     "grade": true,
     "grade_id": "cell-d4a03759945efbad",
     "locked": true,
     "points": 1,
     "schema_version": 3,
     "solution": false,
     "task": false
    }
   },
   "outputs": [
    {
     "data": {
      "text/plain": [
       "'Success'"
      ]
     },
     "execution_count": 27,
     "metadata": {},
     "output_type": "execute_result"
    }
   ],
   "source": [
    "t.test_2g(wage_gap_df)"
   ]
  },
  {
   "cell_type": "markdown",
   "metadata": {},
   "source": [
    "**Question 2(h)** <br> {points: 1}  \n",
    "\n",
    "Plot the dataframe `wage_gap_df` by specifying `School` on the `x-axis` and `Wage_Gap` on the `y-axis`.        \n",
    "Name this object `wage_gap_plot`. Also sort the `Wage_Gap` values in ascending order. Don't forget to provide an informative title for your plot."
   ]
  },
  {
   "cell_type": "code",
   "execution_count": 28,
   "metadata": {
    "deletable": false,
    "nbgrader": {
     "cell_type": "code",
     "checksum": "c764b5872eff4d03ef8a9e937ed5fbdc",
     "grade": false,
     "grade_id": "cell-07402cfb0136e162",
     "locked": false,
     "schema_version": 3,
     "solution": true,
     "task": false
    }
   },
   "outputs": [
    {
     "data": {
      "text/html": [
       "\n",
       "<div id=\"altair-viz-09873dfa152540778a1346adead2f3bd\"></div>\n",
       "<script type=\"text/javascript\">\n",
       "  (function(spec, embedOpt){\n",
       "    let outputDiv = document.currentScript.previousElementSibling;\n",
       "    if (outputDiv.id !== \"altair-viz-09873dfa152540778a1346adead2f3bd\") {\n",
       "      outputDiv = document.getElementById(\"altair-viz-09873dfa152540778a1346adead2f3bd\");\n",
       "    }\n",
       "    const paths = {\n",
       "      \"vega\": \"https://cdn.jsdelivr.net/npm//vega@5?noext\",\n",
       "      \"vega-lib\": \"https://cdn.jsdelivr.net/npm//vega-lib?noext\",\n",
       "      \"vega-lite\": \"https://cdn.jsdelivr.net/npm//vega-lite@4.8.1?noext\",\n",
       "      \"vega-embed\": \"https://cdn.jsdelivr.net/npm//vega-embed@6?noext\",\n",
       "    };\n",
       "\n",
       "    function loadScript(lib) {\n",
       "      return new Promise(function(resolve, reject) {\n",
       "        var s = document.createElement('script');\n",
       "        s.src = paths[lib];\n",
       "        s.async = true;\n",
       "        s.onload = () => resolve(paths[lib]);\n",
       "        s.onerror = () => reject(`Error loading script: ${paths[lib]}`);\n",
       "        document.getElementsByTagName(\"head\")[0].appendChild(s);\n",
       "      });\n",
       "    }\n",
       "\n",
       "    function showError(err) {\n",
       "      outputDiv.innerHTML = `<div class=\"error\" style=\"color:red;\">${err}</div>`;\n",
       "      throw err;\n",
       "    }\n",
       "\n",
       "    function displayChart(vegaEmbed) {\n",
       "      vegaEmbed(outputDiv, spec, embedOpt)\n",
       "        .catch(err => showError(`Javascript Error: ${err.message}<br>This usually means there's a typo in your chart specification. See the javascript console for the full traceback.`));\n",
       "    }\n",
       "\n",
       "    if(typeof define === \"function\" && define.amd) {\n",
       "      requirejs.config({paths});\n",
       "      require([\"vega-embed\"], displayChart, err => showError(`Error loading script: ${err.message}`));\n",
       "    } else if (typeof vegaEmbed === \"function\") {\n",
       "      displayChart(vegaEmbed);\n",
       "    } else {\n",
       "      loadScript(\"vega\")\n",
       "        .then(() => loadScript(\"vega-lite\"))\n",
       "        .then(() => loadScript(\"vega-embed\"))\n",
       "        .catch(showError)\n",
       "        .then(() => displayChart(vegaEmbed));\n",
       "    }\n",
       "  })({\"config\": {\"view\": {\"continuousWidth\": 400, \"continuousHeight\": 300}}, \"data\": {\"name\": \"data-e74fa07317605fc8bf04be18a3105b20\"}, \"mark\": \"bar\", \"encoding\": {\"x\": {\"type\": \"nominal\", \"field\": \"School\"}, \"y\": {\"type\": \"quantitative\", \"field\": \"Wage_Gap\"}}, \"title\": \"Wage Gap in Men and Women graduates across US universities\", \"$schema\": \"https://vega.github.io/schema/vega-lite/v4.8.1.json\", \"datasets\": {\"data-e74fa07317605fc8bf04be18a3105b20\": [{\"School\": \"MIT\", \"Men\": 152, \"Women\": 94, \"Wage_Gap\": 58}, {\"School\": \"Stanford\", \"Men\": 151, \"Women\": 96, \"Wage_Gap\": 55}, {\"School\": \"Harvard\", \"Men\": 165, \"Women\": 112, \"Wage_Gap\": 53}, {\"School\": \"U.Penn\", \"Men\": 141, \"Women\": 92, \"Wage_Gap\": 49}, {\"School\": \"Princeton\", \"Men\": 137, \"Women\": 90, \"Wage_Gap\": 47}, {\"School\": \"Chicago\", \"Men\": 118, \"Women\": 78, \"Wage_Gap\": 40}, {\"School\": \"Georgetown\", \"Men\": 131, \"Women\": 94, \"Wage_Gap\": 37}, {\"School\": \"Tufts\", \"Men\": 112, \"Women\": 76, \"Wage_Gap\": 36}, {\"School\": \"Yale\", \"Men\": 114, \"Women\": 79, \"Wage_Gap\": 35}, {\"School\": \"Columbia\", \"Men\": 119, \"Women\": 86, \"Wage_Gap\": 33}, {\"School\": \"Duke\", \"Men\": 124, \"Women\": 93, \"Wage_Gap\": 31}, {\"School\": \"Dartmouth\", \"Men\": 114, \"Women\": 84, \"Wage_Gap\": 30}, {\"School\": \"NYU\", \"Men\": 94, \"Women\": 67, \"Wage_Gap\": 27}, {\"School\": \"Notre Dame\", \"Men\": 100, \"Women\": 73, \"Wage_Gap\": 27}, {\"School\": \"Cornell\", \"Men\": 107, \"Women\": 80, \"Wage_Gap\": 27}, {\"School\": \"Michigan\", \"Men\": 84, \"Women\": 62, \"Wage_Gap\": 22}, {\"School\": \"Brown\", \"Men\": 92, \"Women\": 72, \"Wage_Gap\": 20}, {\"School\": \"Berkeley\", \"Men\": 88, \"Women\": 71, \"Wage_Gap\": 17}, {\"School\": \"Emory\", \"Men\": 82, \"Women\": 68, \"Wage_Gap\": 14}, {\"School\": \"UCLA\", \"Men\": 78, \"Women\": 64, \"Wage_Gap\": 14}, {\"School\": \"SoCal\", \"Men\": 81, \"Women\": 72, \"Wage_Gap\": 9}]}}, {\"mode\": \"vega-lite\"});\n",
       "</script>"
      ],
      "text/plain": [
       "alt.Chart(...)"
      ]
     },
     "execution_count": 28,
     "metadata": {},
     "output_type": "execute_result"
    }
   ],
   "source": [
    "wage_gap_plot = (alt.Chart(wage_gap_df)\n",
    "                 .mark_bar()\n",
    "                 .encode(x='School', y='Wage_Gap')\n",
    "                 .properties(title=\"Wage Gap in Men and Women graduates across US universities\"))\n",
    "wage_gap_plot"
   ]
  },
  {
   "cell_type": "code",
   "execution_count": 29,
   "metadata": {
    "deletable": false,
    "editable": false,
    "nbgrader": {
     "cell_type": "code",
     "checksum": "0184a092022a135570e599fcf2e1f7f2",
     "grade": true,
     "grade_id": "cell-582c8f7c5ccfe601",
     "locked": true,
     "points": 1,
     "schema_version": 3,
     "solution": false,
     "task": false
    }
   },
   "outputs": [
    {
     "data": {
      "text/plain": [
       "'success'"
      ]
     },
     "execution_count": 29,
     "metadata": {},
     "output_type": "execute_result"
    }
   ],
   "source": [
    "t.test_2h(wage_gap_plot)"
   ]
  },
  {
   "cell_type": "markdown",
   "metadata": {},
   "source": [
    "## 3.  Concat and Merge "
   ]
  },
  {
   "cell_type": "markdown",
   "metadata": {},
   "source": [
    "**Question 3(a)** <br> {points: 1}  \n",
    "\n",
    "Combine the following 2 dataframes using either `pd.concat()` or `.merge()`. Drop any duplicate columns if any arise.    \n",
    "Name the new dataframe `netflix_full`.\n"
   ]
  },
  {
   "cell_type": "code",
   "execution_count": 30,
   "metadata": {},
   "outputs": [
    {
     "data": {
      "text/html": [
       "<div>\n",
       "<style scoped>\n",
       "    .dataframe tbody tr th:only-of-type {\n",
       "        vertical-align: middle;\n",
       "    }\n",
       "\n",
       "    .dataframe tbody tr th {\n",
       "        vertical-align: top;\n",
       "    }\n",
       "\n",
       "    .dataframe thead th {\n",
       "        text-align: right;\n",
       "    }\n",
       "</style>\n",
       "<table border=\"1\" class=\"dataframe\">\n",
       "  <thead>\n",
       "    <tr style=\"text-align: right;\">\n",
       "      <th></th>\n",
       "      <th>title</th>\n",
       "      <th>type</th>\n",
       "      <th>director</th>\n",
       "      <th>country</th>\n",
       "    </tr>\n",
       "  </thead>\n",
       "  <tbody>\n",
       "    <tr>\n",
       "      <th>0</th>\n",
       "      <td>Planet Earth: The Complete Collection</td>\n",
       "      <td>TV Show</td>\n",
       "      <td>Alastair Fothergill</td>\n",
       "      <td>United Kingdom</td>\n",
       "    </tr>\n",
       "    <tr>\n",
       "      <th>1</th>\n",
       "      <td>Bee Movie</td>\n",
       "      <td>Movie</td>\n",
       "      <td>Steve Hickner, Simon J. Smith</td>\n",
       "      <td>United States, Australia</td>\n",
       "    </tr>\n",
       "    <tr>\n",
       "      <th>2</th>\n",
       "      <td>Calendar Girls</td>\n",
       "      <td>Movie</td>\n",
       "      <td>Madhur Bhandarkar</td>\n",
       "      <td>India</td>\n",
       "    </tr>\n",
       "    <tr>\n",
       "      <th>3</th>\n",
       "      <td>Martin Luther: The Idea that Changed the World</td>\n",
       "      <td>Movie</td>\n",
       "      <td>David Batty</td>\n",
       "      <td>United States</td>\n",
       "    </tr>\n",
       "    <tr>\n",
       "      <th>4</th>\n",
       "      <td>Chef's Table</td>\n",
       "      <td>TV Show</td>\n",
       "      <td>NaN</td>\n",
       "      <td>United States</td>\n",
       "    </tr>\n",
       "  </tbody>\n",
       "</table>\n",
       "</div>"
      ],
      "text/plain": [
       "                                            title     type  \\\n",
       "0           Planet Earth: The Complete Collection  TV Show   \n",
       "1                                       Bee Movie    Movie   \n",
       "2                                  Calendar Girls    Movie   \n",
       "3  Martin Luther: The Idea that Changed the World    Movie   \n",
       "4                                    Chef's Table  TV Show   \n",
       "\n",
       "                        director                   country  \n",
       "0            Alastair Fothergill            United Kingdom  \n",
       "1  Steve Hickner, Simon J. Smith  United States, Australia  \n",
       "2              Madhur Bhandarkar                     India  \n",
       "3                    David Batty             United States  \n",
       "4                            NaN             United States  "
      ]
     },
     "execution_count": 30,
     "metadata": {},
     "output_type": "execute_result"
    }
   ],
   "source": [
    "netflix1 = pd.read_csv('data/netflix1.csv')\n",
    "netflix1"
   ]
  },
  {
   "cell_type": "code",
   "execution_count": 31,
   "metadata": {},
   "outputs": [
    {
     "data": {
      "text/html": [
       "<div>\n",
       "<style scoped>\n",
       "    .dataframe tbody tr th:only-of-type {\n",
       "        vertical-align: middle;\n",
       "    }\n",
       "\n",
       "    .dataframe tbody tr th {\n",
       "        vertical-align: top;\n",
       "    }\n",
       "\n",
       "    .dataframe thead th {\n",
       "        text-align: right;\n",
       "    }\n",
       "</style>\n",
       "<table border=\"1\" class=\"dataframe\">\n",
       "  <thead>\n",
       "    <tr style=\"text-align: right;\">\n",
       "      <th></th>\n",
       "      <th>title</th>\n",
       "      <th>date_added</th>\n",
       "      <th>release_year</th>\n",
       "      <th>rating</th>\n",
       "      <th>duration</th>\n",
       "    </tr>\n",
       "  </thead>\n",
       "  <tbody>\n",
       "    <tr>\n",
       "      <th>0</th>\n",
       "      <td>Planet Earth: The Complete Collection</td>\n",
       "      <td>22-Apr-15</td>\n",
       "      <td>2006</td>\n",
       "      <td>TV-PG</td>\n",
       "      <td>1 Season</td>\n",
       "    </tr>\n",
       "    <tr>\n",
       "      <th>1</th>\n",
       "      <td>Bee Movie</td>\n",
       "      <td>01-Jan-17</td>\n",
       "      <td>2007</td>\n",
       "      <td>PG</td>\n",
       "      <td>92 min</td>\n",
       "    </tr>\n",
       "    <tr>\n",
       "      <th>2</th>\n",
       "      <td>Calendar Girls</td>\n",
       "      <td>15-Oct-17</td>\n",
       "      <td>2015</td>\n",
       "      <td>TV-14</td>\n",
       "      <td>126 min</td>\n",
       "    </tr>\n",
       "    <tr>\n",
       "      <th>3</th>\n",
       "      <td>Martin Luther: The Idea that Changed the World</td>\n",
       "      <td>01-Jan-18</td>\n",
       "      <td>2017</td>\n",
       "      <td>TV-PG</td>\n",
       "      <td>55 min</td>\n",
       "    </tr>\n",
       "    <tr>\n",
       "      <th>4</th>\n",
       "      <td>Chef's Table</td>\n",
       "      <td>February 22, 2019</td>\n",
       "      <td>2019</td>\n",
       "      <td>TV-MA</td>\n",
       "      <td>6 Seasons</td>\n",
       "    </tr>\n",
       "  </tbody>\n",
       "</table>\n",
       "</div>"
      ],
      "text/plain": [
       "                                            title          date_added  \\\n",
       "0           Planet Earth: The Complete Collection           22-Apr-15   \n",
       "1                                       Bee Movie           01-Jan-17   \n",
       "2                                  Calendar Girls           15-Oct-17   \n",
       "3  Martin Luther: The Idea that Changed the World           01-Jan-18   \n",
       "4                                    Chef's Table   February 22, 2019   \n",
       "\n",
       "   release_year rating   duration  \n",
       "0          2006  TV-PG   1 Season  \n",
       "1          2007     PG     92 min  \n",
       "2          2015  TV-14    126 min  \n",
       "3          2017  TV-PG     55 min  \n",
       "4          2019  TV-MA  6 Seasons  "
      ]
     },
     "execution_count": 31,
     "metadata": {},
     "output_type": "execute_result"
    }
   ],
   "source": [
    "netflix2 = pd.read_csv('data/netflix2.csv')\n",
    "netflix2"
   ]
  },
  {
   "cell_type": "code",
   "execution_count": 32,
   "metadata": {
    "deletable": false,
    "nbgrader": {
     "cell_type": "code",
     "checksum": "e259e1b5c2420431f4efbe1ff6708ebc",
     "grade": false,
     "grade_id": "cell-50875fc3cd80983e",
     "locked": false,
     "schema_version": 3,
     "solution": true,
     "task": false
    }
   },
   "outputs": [],
   "source": [
    "netflix_full = pd.concat([netflix1, netflix2], axis=1)\n",
    "netflix_full = netflix_full.loc[:, ~netflix_full.columns.duplicated()]"
   ]
  },
  {
   "cell_type": "code",
   "execution_count": 33,
   "metadata": {
    "deletable": false,
    "editable": false,
    "nbgrader": {
     "cell_type": "code",
     "checksum": "bdccfdd53990f4f2b407d0cb8c5435bf",
     "grade": true,
     "grade_id": "cell-74c7e427e77d492b",
     "locked": true,
     "points": 1,
     "schema_version": 3,
     "solution": false,
     "task": false
    }
   },
   "outputs": [
    {
     "data": {
      "text/plain": [
       "'Success'"
      ]
     },
     "execution_count": 33,
     "metadata": {},
     "output_type": "execute_result"
    }
   ],
   "source": [
    "t.test_3a(netflix_full)"
   ]
  },
  {
   "cell_type": "markdown",
   "metadata": {},
   "source": [
    "**Question 3(b)** <br> {points: 2}  \n",
    "\n",
    "Add the new dataframe `new_releases` to the existing dataframe `netflix_full` that you made in the previous question.   \n",
    "Name the new object `netflix_collection`.\n"
   ]
  },
  {
   "cell_type": "code",
   "execution_count": 34,
   "metadata": {},
   "outputs": [
    {
     "data": {
      "text/html": [
       "<div>\n",
       "<style scoped>\n",
       "    .dataframe tbody tr th:only-of-type {\n",
       "        vertical-align: middle;\n",
       "    }\n",
       "\n",
       "    .dataframe tbody tr th {\n",
       "        vertical-align: top;\n",
       "    }\n",
       "\n",
       "    .dataframe thead th {\n",
       "        text-align: right;\n",
       "    }\n",
       "</style>\n",
       "<table border=\"1\" class=\"dataframe\">\n",
       "  <thead>\n",
       "    <tr style=\"text-align: right;\">\n",
       "      <th></th>\n",
       "      <th>title</th>\n",
       "      <th>type</th>\n",
       "      <th>director</th>\n",
       "      <th>country</th>\n",
       "      <th>date_added</th>\n",
       "      <th>release_year</th>\n",
       "      <th>rating</th>\n",
       "      <th>duration</th>\n",
       "    </tr>\n",
       "  </thead>\n",
       "  <tbody>\n",
       "    <tr>\n",
       "      <th>0</th>\n",
       "      <td>Ozark</td>\n",
       "      <td>TV Show</td>\n",
       "      <td>NaN</td>\n",
       "      <td>United States</td>\n",
       "      <td>August 31, 2018</td>\n",
       "      <td>2018</td>\n",
       "      <td>TV-MA</td>\n",
       "      <td>2 Seasons</td>\n",
       "    </tr>\n",
       "    <tr>\n",
       "      <th>1</th>\n",
       "      <td>Friends</td>\n",
       "      <td>TV Show</td>\n",
       "      <td>NaN</td>\n",
       "      <td>United States</td>\n",
       "      <td>NaN</td>\n",
       "      <td>2003</td>\n",
       "      <td>TV-14</td>\n",
       "      <td>10 Seasons</td>\n",
       "    </tr>\n",
       "    <tr>\n",
       "      <th>2</th>\n",
       "      <td>Blackfish</td>\n",
       "      <td>Movie</td>\n",
       "      <td>Gabriela Cowperthwaite</td>\n",
       "      <td>United States</td>\n",
       "      <td>12-Dec-16</td>\n",
       "      <td>2013</td>\n",
       "      <td>PG-13</td>\n",
       "      <td>83 min</td>\n",
       "    </tr>\n",
       "  </tbody>\n",
       "</table>\n",
       "</div>"
      ],
      "text/plain": [
       "       title     type                director        country  \\\n",
       "0      Ozark  TV Show                     NaN  United States   \n",
       "1    Friends  TV Show                     NaN  United States   \n",
       "2  Blackfish    Movie  Gabriela Cowperthwaite  United States   \n",
       "\n",
       "         date_added  release_year rating    duration  \n",
       "0   August 31, 2018          2018  TV-MA   2 Seasons  \n",
       "1               NaN          2003  TV-14  10 Seasons  \n",
       "2         12-Dec-16          2013  PG-13      83 min  "
      ]
     },
     "execution_count": 34,
     "metadata": {},
     "output_type": "execute_result"
    }
   ],
   "source": [
    "new_releases = pd.read_csv('data/netflix3.csv')\n",
    "new_releases"
   ]
  },
  {
   "cell_type": "code",
   "execution_count": 35,
   "metadata": {
    "deletable": false,
    "nbgrader": {
     "cell_type": "code",
     "checksum": "28f5d759a089bf3b150a5b72caba784f",
     "grade": false,
     "grade_id": "cell-0fe1ae1c5d8700ab",
     "locked": false,
     "schema_version": 3,
     "solution": true,
     "task": false
    }
   },
   "outputs": [
    {
     "data": {
      "text/html": [
       "<div>\n",
       "<style scoped>\n",
       "    .dataframe tbody tr th:only-of-type {\n",
       "        vertical-align: middle;\n",
       "    }\n",
       "\n",
       "    .dataframe tbody tr th {\n",
       "        vertical-align: top;\n",
       "    }\n",
       "\n",
       "    .dataframe thead th {\n",
       "        text-align: right;\n",
       "    }\n",
       "</style>\n",
       "<table border=\"1\" class=\"dataframe\">\n",
       "  <thead>\n",
       "    <tr style=\"text-align: right;\">\n",
       "      <th></th>\n",
       "      <th>title</th>\n",
       "      <th>type</th>\n",
       "      <th>director</th>\n",
       "      <th>country</th>\n",
       "      <th>date_added</th>\n",
       "      <th>release_year</th>\n",
       "      <th>rating</th>\n",
       "      <th>duration</th>\n",
       "    </tr>\n",
       "  </thead>\n",
       "  <tbody>\n",
       "    <tr>\n",
       "      <th>0</th>\n",
       "      <td>Planet Earth: The Complete Collection</td>\n",
       "      <td>TV Show</td>\n",
       "      <td>Alastair Fothergill</td>\n",
       "      <td>United Kingdom</td>\n",
       "      <td>22-Apr-15</td>\n",
       "      <td>2006</td>\n",
       "      <td>TV-PG</td>\n",
       "      <td>1 Season</td>\n",
       "    </tr>\n",
       "    <tr>\n",
       "      <th>1</th>\n",
       "      <td>Bee Movie</td>\n",
       "      <td>Movie</td>\n",
       "      <td>Steve Hickner, Simon J. Smith</td>\n",
       "      <td>United States, Australia</td>\n",
       "      <td>01-Jan-17</td>\n",
       "      <td>2007</td>\n",
       "      <td>PG</td>\n",
       "      <td>92 min</td>\n",
       "    </tr>\n",
       "    <tr>\n",
       "      <th>2</th>\n",
       "      <td>Calendar Girls</td>\n",
       "      <td>Movie</td>\n",
       "      <td>Madhur Bhandarkar</td>\n",
       "      <td>India</td>\n",
       "      <td>15-Oct-17</td>\n",
       "      <td>2015</td>\n",
       "      <td>TV-14</td>\n",
       "      <td>126 min</td>\n",
       "    </tr>\n",
       "    <tr>\n",
       "      <th>3</th>\n",
       "      <td>Martin Luther: The Idea that Changed the World</td>\n",
       "      <td>Movie</td>\n",
       "      <td>David Batty</td>\n",
       "      <td>United States</td>\n",
       "      <td>01-Jan-18</td>\n",
       "      <td>2017</td>\n",
       "      <td>TV-PG</td>\n",
       "      <td>55 min</td>\n",
       "    </tr>\n",
       "    <tr>\n",
       "      <th>4</th>\n",
       "      <td>Chef's Table</td>\n",
       "      <td>TV Show</td>\n",
       "      <td>NaN</td>\n",
       "      <td>United States</td>\n",
       "      <td>February 22, 2019</td>\n",
       "      <td>2019</td>\n",
       "      <td>TV-MA</td>\n",
       "      <td>6 Seasons</td>\n",
       "    </tr>\n",
       "    <tr>\n",
       "      <th>0</th>\n",
       "      <td>Ozark</td>\n",
       "      <td>TV Show</td>\n",
       "      <td>NaN</td>\n",
       "      <td>United States</td>\n",
       "      <td>August 31, 2018</td>\n",
       "      <td>2018</td>\n",
       "      <td>TV-MA</td>\n",
       "      <td>2 Seasons</td>\n",
       "    </tr>\n",
       "    <tr>\n",
       "      <th>1</th>\n",
       "      <td>Friends</td>\n",
       "      <td>TV Show</td>\n",
       "      <td>NaN</td>\n",
       "      <td>United States</td>\n",
       "      <td>NaN</td>\n",
       "      <td>2003</td>\n",
       "      <td>TV-14</td>\n",
       "      <td>10 Seasons</td>\n",
       "    </tr>\n",
       "    <tr>\n",
       "      <th>2</th>\n",
       "      <td>Blackfish</td>\n",
       "      <td>Movie</td>\n",
       "      <td>Gabriela Cowperthwaite</td>\n",
       "      <td>United States</td>\n",
       "      <td>12-Dec-16</td>\n",
       "      <td>2013</td>\n",
       "      <td>PG-13</td>\n",
       "      <td>83 min</td>\n",
       "    </tr>\n",
       "  </tbody>\n",
       "</table>\n",
       "</div>"
      ],
      "text/plain": [
       "                                            title     type  \\\n",
       "0           Planet Earth: The Complete Collection  TV Show   \n",
       "1                                       Bee Movie    Movie   \n",
       "2                                  Calendar Girls    Movie   \n",
       "3  Martin Luther: The Idea that Changed the World    Movie   \n",
       "4                                    Chef's Table  TV Show   \n",
       "0                                           Ozark  TV Show   \n",
       "1                                         Friends  TV Show   \n",
       "2                                       Blackfish    Movie   \n",
       "\n",
       "                        director                   country  \\\n",
       "0            Alastair Fothergill            United Kingdom   \n",
       "1  Steve Hickner, Simon J. Smith  United States, Australia   \n",
       "2              Madhur Bhandarkar                     India   \n",
       "3                    David Batty             United States   \n",
       "4                            NaN             United States   \n",
       "0                            NaN             United States   \n",
       "1                            NaN             United States   \n",
       "2         Gabriela Cowperthwaite             United States   \n",
       "\n",
       "           date_added  release_year rating    duration  \n",
       "0           22-Apr-15          2006  TV-PG    1 Season  \n",
       "1           01-Jan-17          2007     PG      92 min  \n",
       "2           15-Oct-17          2015  TV-14     126 min  \n",
       "3           01-Jan-18          2017  TV-PG      55 min  \n",
       "4   February 22, 2019          2019  TV-MA   6 Seasons  \n",
       "0     August 31, 2018          2018  TV-MA   2 Seasons  \n",
       "1                 NaN          2003  TV-14  10 Seasons  \n",
       "2           12-Dec-16          2013  PG-13      83 min  "
      ]
     },
     "execution_count": 35,
     "metadata": {},
     "output_type": "execute_result"
    }
   ],
   "source": [
    "netflix_collection = pd.concat([netflix_full, new_releases], axis=0) \n",
    "netflix_collection"
   ]
  },
  {
   "cell_type": "code",
   "execution_count": 36,
   "metadata": {
    "deletable": false,
    "editable": false,
    "nbgrader": {
     "cell_type": "code",
     "checksum": "7949442412e41f16e9d30a012ce6216d",
     "grade": true,
     "grade_id": "cell-015abf54b72e30df",
     "locked": true,
     "points": 2,
     "schema_version": 3,
     "solution": false,
     "task": false
    }
   },
   "outputs": [],
   "source": [
    "assert 'netflix_collection' in locals(), \"Your answer should be named 'netflix_collection'\"\n",
    "\n",
    "# Note that this test has been hidden intentionally.\n",
    "# It will provide no feedback as to the correctness of your answers.\n",
    "# Thus, it is up to you to decide if your answer is sufficiently correct."
   ]
  },
  {
   "cell_type": "markdown",
   "metadata": {},
   "source": [
    "**Question 3(c)** <br> {points: 1} \n",
    "\n",
    "Here are 2 dataframes:\n",
    "\n",
    "\n",
    "#### Left Dataframe\n",
    "\n",
    "\n",
    "|      | Name                        | Gender   | Status     | Birth Date   | Birth Place     |\n",
    "|---: |:----------------------------|:---------|:-----------|:-------------|:-----------------|\n",
    "|**0**| Gregory E. Chamitoff        | Male     | Active     | 8/6/1962     | Montreal, Canada |\n",
    "|**1**| Patricia Hilliard Robertson | Female   | Deceased   | 3/12/1963    | Indiana, PA      |\n",
    "|**2**| Kathleen Rubins             | Female   | Active     | 10/14/1978   | Farmington, CT   |\n",
    "|**3**| Michael T. Good             | Male     | Management | 10/13/1962   | Parma, OH        |\n",
    "|**4**| Neil A. Armstrong           | Male     | Deceased   | 8/5/1930     | Wapakoneta, OH   |\n",
    "\n",
    "\n",
    "#### Right  Dataframe\n",
    "\n",
    "\n",
    "|     | Name       | Undergraduate Major  | Graduate Major   |   Space Flights |  Space Walks |   Space Walks (hr) |\n",
    "|----:|:--------------------|:-------------------|:------------------|----------------:|--------:|-----------------:|\n",
    "|**0**| Buzz Aldrin                 | Mechanical Engineering   | Astronautics          |     2 |     2 |    8 |\n",
    "|**1**| Patricia Hilliard Robertson | Biology           | Medicine                     |     0 |     0 |    0 |\n",
    "|**2**| Neil A. Armstrong           | Aeronautical Engineering | Aerospace Engineering |     2 |     1 |    2 |\n",
    "|**3**| Mae C. Jemison              | Chemical Engineering     | Medicine              |     1 |     0 |    0 |\n",
    "|**4**| Michael T. Good             | Aerospace Engineering    | Aerospace Engineering |     2 |     4 |   30 |\n",
    "|**5**| Shannon W. Lucid            | Chemistry                | Biochemistry          |     5 |     0 |    0 |\n",
    "\n",
    "\n",
    "The above dataframe have been joined together to produce each of the dataframes below, each one using a different joining methods. Match up each of the merged dataframe labelled A-D with it's corresponding join type ('inner', 'outer', 'left', 'right'). \n",
    "\n",
    "\n",
    "###### Dataframe A\n",
    "|  | Name| Gender| Status| Birth Date| Birth Place| Undergraduate Major| Graduate Major|Space Flights |Space Walks |   Space Walks (hr) |\n",
    "|---:|:----------------------------|:---------|:-----------|:-------------|:---------------|:-------------------------|:----------------------|----------------:|--------------:|-------------------:|\n",
    "|**0**| Patricia Hilliard Robertson | Female| Deceased| 3/12/1963| Indiana, PA| Biology | Medicine  | 0 |0 |0 |\n",
    "|**1**| Michael T. Good| Male|Management|10/13/1962|Parma, OH|Aerospace Engineering|Aerospace Engineering|2 |4|30 |\n",
    "|**2**|Neil A. Armstrong|Male|Deceased| 8/5/1930|Wapakoneta, OH|Aeronautical Engineering|Aerospace Engineering|2|1|2|\n",
    "|**3**| Buzz Aldrin | NaN | NaN | NaN  | NaN | Mechanical Engineering   | Astronautics |  2 |  2 | 8 |\n",
    "|**4**| Mae C. Jemison  | NaN  | NaN | NaN  | NaN | Chemical Engineering | Medicine |  1 | 0 |  0 |\n",
    "|**5**| Shannon W. Lucid   | NaN   | NaN  | NaN | NaN  | Chemistry | Biochemistry   | 5 |    0 |  0 |\n",
    "\n",
    "\n",
    "###### Dataframe B\n",
    "\n",
    "|  | Name| Gender| Status| Birth Date| Birth Place| Undergraduate Major| Graduate Major|Space Flights |Space Walks |   Space Walks (hr) |\n",
    "|---:|:----------------------------|:---------|:-----------|:-------------|:---------------|:-------------------------|:----------------------|----------------:|--------------:|-------------------:|\n",
    "|**0**| Gregory E. Chamitoff| Male| Active| 8/6/1962| Montreal, Canada | NaN| NaN | NaN |  NaN | NaN |\n",
    "|**1**| Patricia Hilliard Robertson | Female| Deceased| 3/12/1963| Indiana, PA| Biology | Medicine  | 0 |0 |0 |\n",
    "|**2**| Kathleen Rubins| Female | Active| 10/14/1978| Farmington, CT| NaN | NaN | NaN | NaN | NaN |\n",
    "|**3**| Michael T. Good| Male|Management|10/13/1962|Parma, OH|Aerospace Engineering|Aerospace Engineering|2 |4|30 |\n",
    "|**4**|Neil A. Armstrong|Male|Deceased| 8/5/1930|Wapakoneta, OH|Aeronautical Engineering|Aerospace Engineering|2|1|2|\n",
    "|**5**| Buzz Aldrin | NaN | NaN | NaN  | NaN | Mechanical Engineering   | Astronautics |  2 |  2 | 8 |\n",
    "|**6**| Mae C. Jemison  | NaN  | NaN | NaN  | NaN | Chemical Engineering | Medicine |  1 | 0 |  0 |\n",
    "|**7**| Shannon W. Lucid   | NaN   | NaN  | NaN | NaN  | Chemistry | Biochemistry   | 5 |    0 |  0 |\n",
    "\n",
    "\n",
    "###### Dataframe C\n",
    "\n",
    "|  | Name| Gender| Status| Birth Date| Birth Place| Undergraduate Major| Graduate Major|Space Flights |Space Walks |   Space Walks (hr) |\n",
    "|---:|:----------------------------|:---------|:-----------|:-------------|:---------------|:-------------------------|:----------------------|----------------:|--------------:|-------------------:|\n",
    "|**0**| Patricia Hilliard Robertson | Female| Deceased| 3/12/1963| Indiana, PA| Biology| Medicine|0 |0 |0 |\n",
    "|**1**|Michael T. Good| Male|Management|10/13/1962|Parma, OH|Aerospace Engineering|Aerospace Engineering|2 |4|30 |\n",
    "|**2**|Neil A. Armstrong|Male|Deceased| 8/5/1930|Wapakoneta, OH|Aeronautical Engineering|Aerospace Engineering|2|1|2|\n",
    "\n",
    "###### Dataframe D\n",
    "\n",
    "\n",
    "\n",
    "|  | Name| Gender| Status| Birth Date| Birth Place| Undergraduate Major| Graduate Major|Space Flights |Space Walks |   Space Walks (hr) |\n",
    "|---:|:----------------------------|:---------|:-----------|:-------------|:---------------|:-------------------------|:----------------------|----------------:|--------------:|-------------------:|\n",
    "|**0**| Gregory E. Chamitoff| Male| Active| 8/6/1962| Montreal, Canada | NaN| NaN | NaN |  NaN | NaN |\n",
    "|**1**| Patricia Hilliard Robertson | Female| Deceased| 3/12/1963| Indiana, PA| Biology | Medicine  | 0 |0 |0 |\n",
    "|**2**| Kathleen Rubins| Female | Active| 10/14/1978| Farmington, CT| NaN | NaN | NaN | NaN | NaN |\n",
    "|**3**| Michael T. Good| Male|Management|10/13/1962|Parma, OH|Aerospace Engineering|Aerospace Engineering|2 |4|30 |\n",
    "|**4**|Neil A. Armstrong|Male|Deceased| 8/5/1930|Wapakoneta, OH|Aeronautical Engineering|Aerospace Engineering|2|1|2|\n",
    "\n"
   ]
  },
  {
   "cell_type": "code",
   "execution_count": 37,
   "metadata": {
    "deletable": false,
    "nbgrader": {
     "cell_type": "code",
     "checksum": "996386288c8cecc72ab1f7ee752bb95e",
     "grade": false,
     "grade_id": "cell-ed8bee364b3945b2",
     "locked": false,
     "schema_version": 3,
     "solution": true,
     "task": false
    }
   },
   "outputs": [],
   "source": [
    "answer3c_dfa = \"right\"\n",
    "answer3c_dfb = \"outer\"\n",
    "answer3c_dfc = \"inner\"\n",
    "answer3c_dfd = \"left\"\n"
   ]
  },
  {
   "cell_type": "code",
   "execution_count": 38,
   "metadata": {
    "deletable": false,
    "editable": false,
    "nbgrader": {
     "cell_type": "code",
     "checksum": "eb32933e7cd030728ebb850818e6000b",
     "grade": true,
     "grade_id": "cell-d4e2a89b6eb53de2",
     "locked": true,
     "points": 1,
     "schema_version": 3,
     "solution": false,
     "task": false
    }
   },
   "outputs": [
    {
     "data": {
      "text/plain": [
       "'Success'"
      ]
     },
     "execution_count": 38,
     "metadata": {},
     "output_type": "execute_result"
    }
   ],
   "source": [
    "t.test_3c(answer3c_dfa, answer3c_dfb, answer3c_dfc, answer3c_dfd)"
   ]
  },
  {
   "cell_type": "markdown",
   "metadata": {},
   "source": [
    "## 4. Green house emissions "
   ]
  },
  {
   "cell_type": "markdown",
   "metadata": {},
   "source": [
    "The file at this [url](https://raw.githubusercontent.com/plotly/datasets/master/Emissions%20Data.csv) contains data for the amount of greenhouse gas emissions in tonnes **per person** per year _(tons/person)_  for different countries around the world for the years 2008 - 2011. "
   ]
  },
  {
   "cell_type": "code",
   "execution_count": 39,
   "metadata": {},
   "outputs": [],
   "source": [
    "emissions = pd.read_csv('https://raw.githubusercontent.com/plotly/datasets/master/Emissions%20Data.csv', dtype = {'Year':'object'})"
   ]
  },
  {
   "cell_type": "markdown",
   "metadata": {},
   "source": [
    "##### Our mission\n",
    "Our interest instead lies on finding the emission per year per person for each *continent* during the year 2010. It would not make sense to add up these current `Emission` variable as each country has a different population.  Instead,  we will need to find the raw quantity of gas emissions in tonnes per year for each country first, sum these per continent before dividing by the total continent population."
   ]
  },
  {
   "cell_type": "markdown",
   "metadata": {},
   "source": [
    " **Question 4(a)** <br> {points: 1} \n",
    " \n",
    " \n",
    "To calculate a country's total green house gas emission from the per person value in the `Emission` column, we will need to obtain each country's population.  The `gapminder.csv` dataset has just that. It is a dataset located in the `/data` folder that has been minorly edited from the [Gapminder website](https://www.gapminder.org/data/) which is a tool and resource that promotes [sustainable global development and achievement of the United Nations Millennium Development Goals](https://www.gapminder.org/about-gapminder/our-mission/). It contains the population of each country from the years 1992 - 2020. Load only the `Country` column and the columns between 2008-2011 (You will have to put the column years in single quotations ex:`'2008'`) and name the dataframe `gapminder`. \n",
    " "
   ]
  },
  {
   "cell_type": "code",
   "execution_count": 40,
   "metadata": {
    "deletable": false,
    "nbgrader": {
     "cell_type": "code",
     "checksum": "498546c7588c1cd1155f6d170450b2ab",
     "grade": false,
     "grade_id": "cell-ed0d3d2ef1c6fe35",
     "locked": false,
     "schema_version": 3,
     "solution": true,
     "task": false
    }
   },
   "outputs": [
    {
     "data": {
      "text/html": [
       "<div>\n",
       "<style scoped>\n",
       "    .dataframe tbody tr th:only-of-type {\n",
       "        vertical-align: middle;\n",
       "    }\n",
       "\n",
       "    .dataframe tbody tr th {\n",
       "        vertical-align: top;\n",
       "    }\n",
       "\n",
       "    .dataframe thead th {\n",
       "        text-align: right;\n",
       "    }\n",
       "</style>\n",
       "<table border=\"1\" class=\"dataframe\">\n",
       "  <thead>\n",
       "    <tr style=\"text-align: right;\">\n",
       "      <th></th>\n",
       "      <th>Country</th>\n",
       "      <th>2008</th>\n",
       "      <th>2009</th>\n",
       "      <th>2010</th>\n",
       "      <th>2011</th>\n",
       "    </tr>\n",
       "  </thead>\n",
       "  <tbody>\n",
       "    <tr>\n",
       "      <th>0</th>\n",
       "      <td>Afghanistan</td>\n",
       "      <td>27700000</td>\n",
       "      <td>28400000</td>\n",
       "      <td>29200000</td>\n",
       "      <td>30100000</td>\n",
       "    </tr>\n",
       "    <tr>\n",
       "      <th>1</th>\n",
       "      <td>Albania</td>\n",
       "      <td>3000000</td>\n",
       "      <td>2970000</td>\n",
       "      <td>2950000</td>\n",
       "      <td>2930000</td>\n",
       "    </tr>\n",
       "    <tr>\n",
       "      <th>2</th>\n",
       "      <td>Algeria</td>\n",
       "      <td>34700000</td>\n",
       "      <td>35300000</td>\n",
       "      <td>36000000</td>\n",
       "      <td>36700000</td>\n",
       "    </tr>\n",
       "    <tr>\n",
       "      <th>3</th>\n",
       "      <td>Andorra</td>\n",
       "      <td>83900</td>\n",
       "      <td>84500</td>\n",
       "      <td>84500</td>\n",
       "      <td>83700</td>\n",
       "    </tr>\n",
       "    <tr>\n",
       "      <th>4</th>\n",
       "      <td>Angola</td>\n",
       "      <td>21700000</td>\n",
       "      <td>22500000</td>\n",
       "      <td>23400000</td>\n",
       "      <td>24200000</td>\n",
       "    </tr>\n",
       "    <tr>\n",
       "      <th>...</th>\n",
       "      <td>...</td>\n",
       "      <td>...</td>\n",
       "      <td>...</td>\n",
       "      <td>...</td>\n",
       "      <td>...</td>\n",
       "    </tr>\n",
       "    <tr>\n",
       "      <th>190</th>\n",
       "      <td>Venezuela</td>\n",
       "      <td>27600000</td>\n",
       "      <td>28000000</td>\n",
       "      <td>28400000</td>\n",
       "      <td>28900000</td>\n",
       "    </tr>\n",
       "    <tr>\n",
       "      <th>191</th>\n",
       "      <td>Vietnam</td>\n",
       "      <td>86200000</td>\n",
       "      <td>87100000</td>\n",
       "      <td>88000000</td>\n",
       "      <td>88900000</td>\n",
       "    </tr>\n",
       "    <tr>\n",
       "      <th>192</th>\n",
       "      <td>Yemen</td>\n",
       "      <td>21900000</td>\n",
       "      <td>22500000</td>\n",
       "      <td>23200000</td>\n",
       "      <td>23800000</td>\n",
       "    </tr>\n",
       "    <tr>\n",
       "      <th>193</th>\n",
       "      <td>Zambia</td>\n",
       "      <td>12800000</td>\n",
       "      <td>13200000</td>\n",
       "      <td>13600000</td>\n",
       "      <td>14000000</td>\n",
       "    </tr>\n",
       "    <tr>\n",
       "      <th>194</th>\n",
       "      <td>Zimbabwe</td>\n",
       "      <td>12400000</td>\n",
       "      <td>12500000</td>\n",
       "      <td>12700000</td>\n",
       "      <td>12900000</td>\n",
       "    </tr>\n",
       "  </tbody>\n",
       "</table>\n",
       "<p>195 rows × 5 columns</p>\n",
       "</div>"
      ],
      "text/plain": [
       "         Country      2008      2009      2010      2011\n",
       "0    Afghanistan  27700000  28400000  29200000  30100000\n",
       "1        Albania   3000000   2970000   2950000   2930000\n",
       "2        Algeria  34700000  35300000  36000000  36700000\n",
       "3        Andorra     83900     84500     84500     83700\n",
       "4         Angola  21700000  22500000  23400000  24200000\n",
       "..           ...       ...       ...       ...       ...\n",
       "190    Venezuela  27600000  28000000  28400000  28900000\n",
       "191      Vietnam  86200000  87100000  88000000  88900000\n",
       "192        Yemen  21900000  22500000  23200000  23800000\n",
       "193       Zambia  12800000  13200000  13600000  14000000\n",
       "194     Zimbabwe  12400000  12500000  12700000  12900000\n",
       "\n",
       "[195 rows x 5 columns]"
      ]
     },
     "execution_count": 40,
     "metadata": {},
     "output_type": "execute_result"
    }
   ],
   "source": [
    "gapminder = pd.read_csv('data/gapminder.csv', usecols=['Country','2008', '2009', '2010', '2011'])\n",
    "gapminder"
   ]
  },
  {
   "cell_type": "code",
   "execution_count": 41,
   "metadata": {
    "deletable": false,
    "editable": false,
    "nbgrader": {
     "cell_type": "code",
     "checksum": "6a7b55d8122a6c0a88e6b35444027480",
     "grade": true,
     "grade_id": "cell-77eea8f3cb8f5d48",
     "locked": true,
     "points": 1,
     "schema_version": 3,
     "solution": false,
     "task": false
    }
   },
   "outputs": [
    {
     "data": {
      "text/plain": [
       "'Success'"
      ]
     },
     "execution_count": 41,
     "metadata": {},
     "output_type": "execute_result"
    }
   ],
   "source": [
    "t.test_4a(gapminder)"
   ]
  },
  {
   "cell_type": "markdown",
   "metadata": {},
   "source": [
    " **Question 4(b)** <br> {points: 1} \n",
    " \n",
    "Use `.melt()` to transform `gapminder` into a long dataframe. Name the new columns `Year` and `Population`.    \n",
    "Name the new object `gapminder_long`."
   ]
  },
  {
   "cell_type": "code",
   "execution_count": 42,
   "metadata": {
    "deletable": false,
    "nbgrader": {
     "cell_type": "code",
     "checksum": "450ae7c60a2835be9c414e970c06aff9",
     "grade": false,
     "grade_id": "cell-1858fb5fc72c26c1",
     "locked": false,
     "schema_version": 3,
     "solution": true,
     "task": false
    }
   },
   "outputs": [
    {
     "data": {
      "text/html": [
       "<div>\n",
       "<style scoped>\n",
       "    .dataframe tbody tr th:only-of-type {\n",
       "        vertical-align: middle;\n",
       "    }\n",
       "\n",
       "    .dataframe tbody tr th {\n",
       "        vertical-align: top;\n",
       "    }\n",
       "\n",
       "    .dataframe thead th {\n",
       "        text-align: right;\n",
       "    }\n",
       "</style>\n",
       "<table border=\"1\" class=\"dataframe\">\n",
       "  <thead>\n",
       "    <tr style=\"text-align: right;\">\n",
       "      <th></th>\n",
       "      <th>Country</th>\n",
       "      <th>Year</th>\n",
       "      <th>Population</th>\n",
       "    </tr>\n",
       "  </thead>\n",
       "  <tbody>\n",
       "    <tr>\n",
       "      <th>0</th>\n",
       "      <td>Afghanistan</td>\n",
       "      <td>2008</td>\n",
       "      <td>27700000</td>\n",
       "    </tr>\n",
       "    <tr>\n",
       "      <th>1</th>\n",
       "      <td>Albania</td>\n",
       "      <td>2008</td>\n",
       "      <td>3000000</td>\n",
       "    </tr>\n",
       "    <tr>\n",
       "      <th>2</th>\n",
       "      <td>Algeria</td>\n",
       "      <td>2008</td>\n",
       "      <td>34700000</td>\n",
       "    </tr>\n",
       "    <tr>\n",
       "      <th>3</th>\n",
       "      <td>Andorra</td>\n",
       "      <td>2008</td>\n",
       "      <td>83900</td>\n",
       "    </tr>\n",
       "    <tr>\n",
       "      <th>4</th>\n",
       "      <td>Angola</td>\n",
       "      <td>2008</td>\n",
       "      <td>21700000</td>\n",
       "    </tr>\n",
       "    <tr>\n",
       "      <th>...</th>\n",
       "      <td>...</td>\n",
       "      <td>...</td>\n",
       "      <td>...</td>\n",
       "    </tr>\n",
       "    <tr>\n",
       "      <th>775</th>\n",
       "      <td>Venezuela</td>\n",
       "      <td>2011</td>\n",
       "      <td>28900000</td>\n",
       "    </tr>\n",
       "    <tr>\n",
       "      <th>776</th>\n",
       "      <td>Vietnam</td>\n",
       "      <td>2011</td>\n",
       "      <td>88900000</td>\n",
       "    </tr>\n",
       "    <tr>\n",
       "      <th>777</th>\n",
       "      <td>Yemen</td>\n",
       "      <td>2011</td>\n",
       "      <td>23800000</td>\n",
       "    </tr>\n",
       "    <tr>\n",
       "      <th>778</th>\n",
       "      <td>Zambia</td>\n",
       "      <td>2011</td>\n",
       "      <td>14000000</td>\n",
       "    </tr>\n",
       "    <tr>\n",
       "      <th>779</th>\n",
       "      <td>Zimbabwe</td>\n",
       "      <td>2011</td>\n",
       "      <td>12900000</td>\n",
       "    </tr>\n",
       "  </tbody>\n",
       "</table>\n",
       "<p>780 rows × 3 columns</p>\n",
       "</div>"
      ],
      "text/plain": [
       "         Country  Year  Population\n",
       "0    Afghanistan  2008    27700000\n",
       "1        Albania  2008     3000000\n",
       "2        Algeria  2008    34700000\n",
       "3        Andorra  2008       83900\n",
       "4         Angola  2008    21700000\n",
       "..           ...   ...         ...\n",
       "775    Venezuela  2011    28900000\n",
       "776      Vietnam  2011    88900000\n",
       "777        Yemen  2011    23800000\n",
       "778       Zambia  2011    14000000\n",
       "779     Zimbabwe  2011    12900000\n",
       "\n",
       "[780 rows x 3 columns]"
      ]
     },
     "execution_count": 42,
     "metadata": {},
     "output_type": "execute_result"
    }
   ],
   "source": [
    "gapminder_long = (gapminder.melt(id_vars=['Country'],\n",
    "                                value_vars=['2008', '2009', '2010', '2011'],\n",
    "                                var_name='Year',\n",
    "                                value_name='Population'\n",
    "                                ))\n",
    "gapminder_long"
   ]
  },
  {
   "cell_type": "code",
   "execution_count": 43,
   "metadata": {
    "deletable": false,
    "editable": false,
    "nbgrader": {
     "cell_type": "code",
     "checksum": "6acd60571ccd91a7dcd1cd3a3f13ca28",
     "grade": true,
     "grade_id": "cell-622251d0f0a0ee83",
     "locked": true,
     "points": 1,
     "schema_version": 3,
     "solution": false,
     "task": false
    }
   },
   "outputs": [
    {
     "data": {
      "text/plain": [
       "'Success'"
      ]
     },
     "execution_count": 43,
     "metadata": {},
     "output_type": "execute_result"
    }
   ],
   "source": [
    "t.test_4b(gapminder_long)"
   ]
  },
  {
   "cell_type": "markdown",
   "metadata": {},
   "source": [
    "**Question 4(c)** <br> {points: 1} \n",
    " \n",
    "Use `.merge()` to join the dataframes `emissions` and `gapminder_long`. Use identifying columns `Country` and `Year` and use the `outer` join type. Make sure to add the `_merge` column with the `indicator` argument.    \n",
    "Name the new object `emissions_pop`.\n"
   ]
  },
  {
   "cell_type": "code",
   "execution_count": 44,
   "metadata": {
    "deletable": false,
    "nbgrader": {
     "cell_type": "code",
     "checksum": "e0f3eff6f1e528a1ccde277db08c4380",
     "grade": false,
     "grade_id": "cell-72b0faab1c274347",
     "locked": false,
     "schema_version": 3,
     "solution": true,
     "task": false
    }
   },
   "outputs": [
    {
     "data": {
      "text/html": [
       "<div>\n",
       "<style scoped>\n",
       "    .dataframe tbody tr th:only-of-type {\n",
       "        vertical-align: middle;\n",
       "    }\n",
       "\n",
       "    .dataframe tbody tr th {\n",
       "        vertical-align: top;\n",
       "    }\n",
       "\n",
       "    .dataframe thead th {\n",
       "        text-align: right;\n",
       "    }\n",
       "</style>\n",
       "<table border=\"1\" class=\"dataframe\">\n",
       "  <thead>\n",
       "    <tr style=\"text-align: right;\">\n",
       "      <th></th>\n",
       "      <th>Country</th>\n",
       "      <th>Year</th>\n",
       "      <th>Population</th>\n",
       "      <th>Continent</th>\n",
       "      <th>Emission</th>\n",
       "      <th>_merge</th>\n",
       "    </tr>\n",
       "  </thead>\n",
       "  <tbody>\n",
       "    <tr>\n",
       "      <th>0</th>\n",
       "      <td>Afghanistan</td>\n",
       "      <td>2008</td>\n",
       "      <td>27700000.0</td>\n",
       "      <td>Asia</td>\n",
       "      <td>0.158962</td>\n",
       "      <td>both</td>\n",
       "    </tr>\n",
       "    <tr>\n",
       "      <th>1</th>\n",
       "      <td>Albania</td>\n",
       "      <td>2008</td>\n",
       "      <td>3000000.0</td>\n",
       "      <td>Europe</td>\n",
       "      <td>1.580113</td>\n",
       "      <td>both</td>\n",
       "    </tr>\n",
       "    <tr>\n",
       "      <th>2</th>\n",
       "      <td>Algeria</td>\n",
       "      <td>2008</td>\n",
       "      <td>34700000.0</td>\n",
       "      <td>Africa</td>\n",
       "      <td>3.205183</td>\n",
       "      <td>both</td>\n",
       "    </tr>\n",
       "    <tr>\n",
       "      <th>3</th>\n",
       "      <td>Andorra</td>\n",
       "      <td>2008</td>\n",
       "      <td>83900.0</td>\n",
       "      <td>Europe</td>\n",
       "      <td>6.296125</td>\n",
       "      <td>both</td>\n",
       "    </tr>\n",
       "    <tr>\n",
       "      <th>4</th>\n",
       "      <td>Angola</td>\n",
       "      <td>2008</td>\n",
       "      <td>21700000.0</td>\n",
       "      <td>Africa</td>\n",
       "      <td>1.369425</td>\n",
       "      <td>both</td>\n",
       "    </tr>\n",
       "    <tr>\n",
       "      <th>...</th>\n",
       "      <td>...</td>\n",
       "      <td>...</td>\n",
       "      <td>...</td>\n",
       "      <td>...</td>\n",
       "      <td>...</td>\n",
       "      <td>...</td>\n",
       "    </tr>\n",
       "    <tr>\n",
       "      <th>823</th>\n",
       "      <td>Turks And Caicos Islands</td>\n",
       "      <td>2011</td>\n",
       "      <td>NaN</td>\n",
       "      <td>North America</td>\n",
       "      <td>6.010149</td>\n",
       "      <td>right_only</td>\n",
       "    </tr>\n",
       "    <tr>\n",
       "      <th>824</th>\n",
       "      <td>West Bank And Gaza</td>\n",
       "      <td>2008</td>\n",
       "      <td>NaN</td>\n",
       "      <td>Asia</td>\n",
       "      <td>0.570947</td>\n",
       "      <td>right_only</td>\n",
       "    </tr>\n",
       "    <tr>\n",
       "      <th>825</th>\n",
       "      <td>West Bank And Gaza</td>\n",
       "      <td>2009</td>\n",
       "      <td>NaN</td>\n",
       "      <td>Asia</td>\n",
       "      <td>0.564578</td>\n",
       "      <td>right_only</td>\n",
       "    </tr>\n",
       "    <tr>\n",
       "      <th>826</th>\n",
       "      <td>West Bank And Gaza</td>\n",
       "      <td>2010</td>\n",
       "      <td>NaN</td>\n",
       "      <td>Asia</td>\n",
       "      <td>0.534015</td>\n",
       "      <td>right_only</td>\n",
       "    </tr>\n",
       "    <tr>\n",
       "      <th>827</th>\n",
       "      <td>West Bank And Gaza</td>\n",
       "      <td>2011</td>\n",
       "      <td>NaN</td>\n",
       "      <td>Asia</td>\n",
       "      <td>0.572407</td>\n",
       "      <td>right_only</td>\n",
       "    </tr>\n",
       "  </tbody>\n",
       "</table>\n",
       "<p>828 rows × 6 columns</p>\n",
       "</div>"
      ],
      "text/plain": [
       "                      Country  Year  Population      Continent  Emission  \\\n",
       "0                 Afghanistan  2008  27700000.0           Asia  0.158962   \n",
       "1                     Albania  2008   3000000.0         Europe  1.580113   \n",
       "2                     Algeria  2008  34700000.0         Africa  3.205183   \n",
       "3                     Andorra  2008     83900.0         Europe  6.296125   \n",
       "4                      Angola  2008  21700000.0         Africa  1.369425   \n",
       "..                        ...   ...         ...            ...       ...   \n",
       "823  Turks And Caicos Islands  2011         NaN  North America  6.010149   \n",
       "824        West Bank And Gaza  2008         NaN           Asia  0.570947   \n",
       "825        West Bank And Gaza  2009         NaN           Asia  0.564578   \n",
       "826        West Bank And Gaza  2010         NaN           Asia  0.534015   \n",
       "827        West Bank And Gaza  2011         NaN           Asia  0.572407   \n",
       "\n",
       "         _merge  \n",
       "0          both  \n",
       "1          both  \n",
       "2          both  \n",
       "3          both  \n",
       "4          both  \n",
       "..          ...  \n",
       "823  right_only  \n",
       "824  right_only  \n",
       "825  right_only  \n",
       "826  right_only  \n",
       "827  right_only  \n",
       "\n",
       "[828 rows x 6 columns]"
      ]
     },
     "execution_count": 44,
     "metadata": {},
     "output_type": "execute_result"
    }
   ],
   "source": [
    "emissions_pop = gapminder_long.merge(emissions, left_on=['Country', 'Year'], right_on=['Country', 'Year'], how='outer', indicator=True)\n",
    "emissions_pop"
   ]
  },
  {
   "cell_type": "code",
   "execution_count": 45,
   "metadata": {
    "deletable": false,
    "editable": false,
    "nbgrader": {
     "cell_type": "code",
     "checksum": "6c24546d373e170b48264ef4b281e3d7",
     "grade": true,
     "grade_id": "cell-af447271111330a6",
     "locked": true,
     "points": 1,
     "schema_version": 3,
     "solution": false,
     "task": false
    }
   },
   "outputs": [
    {
     "data": {
      "text/plain": [
       "'Success'"
      ]
     },
     "execution_count": 45,
     "metadata": {},
     "output_type": "execute_result"
    }
   ],
   "source": [
    "t.test_4c(emissions_pop)"
   ]
  },
  {
   "cell_type": "markdown",
   "metadata": {},
   "source": [
    "**Question 4(d)** <br> {points: 1} \n",
    "\n",
    "Let's put our concentration on just the year 2010. Filter so we only have the year 2010 and drop the column named `Year`.     \n",
    "Name this dataframe `emissions_2010`. "
   ]
  },
  {
   "cell_type": "code",
   "execution_count": 46,
   "metadata": {
    "deletable": false,
    "nbgrader": {
     "cell_type": "code",
     "checksum": "477043c07a754ed454a3f0702d7f48dc",
     "grade": false,
     "grade_id": "cell-02da998eb73e152c",
     "locked": false,
     "schema_version": 3,
     "solution": true,
     "task": false
    }
   },
   "outputs": [],
   "source": [
    "emissions_2010 = emissions_pop[emissions_pop['Year'] == '2010'].drop('Year', axis=1)"
   ]
  },
  {
   "cell_type": "code",
   "execution_count": 47,
   "metadata": {
    "deletable": false,
    "editable": false,
    "nbgrader": {
     "cell_type": "code",
     "checksum": "1c5b8902d324f2684c2c1f2767cf5a76",
     "grade": true,
     "grade_id": "cell-69601f11edd342c0",
     "locked": true,
     "points": 1,
     "schema_version": 3,
     "solution": false,
     "task": false
    }
   },
   "outputs": [
    {
     "data": {
      "text/plain": [
       "'Success'"
      ]
     },
     "execution_count": 47,
     "metadata": {},
     "output_type": "execute_result"
    }
   ],
   "source": [
    "t.test_4d(emissions_2010)"
   ]
  },
  {
   "cell_type": "markdown",
   "metadata": {},
   "source": [
    "**Question 4(e)** <br> {points: 3} \n",
    "\n",
    "How many countries are missing from the left and right dataframes? Save the filtered shape (and using `[0]` to get the row dimension only) as objects named `missing_left`, `missing_right`. \n",
    "\n",
    "Create a new dataframe that only contains the rows that were present in both `emissions` and `gapminder_long` . \n",
    "Name this dataframe `emissions_both`. \n",
    "\n",
    "* Hint: Looking at the `_merge` column may be helpful."
   ]
  },
  {
   "cell_type": "code",
   "execution_count": 48,
   "metadata": {
    "deletable": false,
    "nbgrader": {
     "cell_type": "code",
     "checksum": "57f8e7f87578187bc82557f83d9d1bbb",
     "grade": false,
     "grade_id": "cell-f766c516446ac6bd",
     "locked": false,
     "schema_version": 3,
     "solution": true,
     "task": false
    }
   },
   "outputs": [],
   "source": [
    "missing_left = emissions_2010[emissions_2010['_merge'] == 'right_only'].shape[0]\n",
    "missing_right = emissions_2010[emissions_2010['_merge'] == 'left_only'].shape[0]\n",
    "emissions_both = emissions_2010[emissions_2010['_merge'] == 'both']"
   ]
  },
  {
   "cell_type": "code",
   "execution_count": 49,
   "metadata": {
    "deletable": false,
    "editable": false,
    "nbgrader": {
     "cell_type": "code",
     "checksum": "5feb3239e032b808b3f005dba4d8e638",
     "grade": true,
     "grade_id": "cell-db9d5470fed86685",
     "locked": true,
     "points": 3,
     "schema_version": 3,
     "solution": false,
     "task": false
    }
   },
   "outputs": [
    {
     "data": {
      "text/plain": [
       "'Success'"
      ]
     },
     "execution_count": 49,
     "metadata": {},
     "output_type": "execute_result"
    }
   ],
   "source": [
    "t.test_4e(missing_left, missing_right, emissions_both)"
   ]
  },
  {
   "cell_type": "markdown",
   "metadata": {},
   "source": [
    "**Question 4(f)** <br> {points: 2} \n",
    "\n",
    "Make a new column for the total quantity of emissions for each country and name it `Quantity`. Currently we have the column `Emission` which is the greenhouse gas emissions in tonnes **per person** in the year 2010 and the number of people in the column `Population`. Use the `emissions_both` dataframe."
   ]
  },
  {
   "cell_type": "code",
   "execution_count": 50,
   "metadata": {
    "deletable": false,
    "nbgrader": {
     "cell_type": "code",
     "checksum": "0bc1181f76832af100e69c835f84d072",
     "grade": false,
     "grade_id": "cell-7fb38fc8cf061e42",
     "locked": false,
     "schema_version": 3,
     "solution": true,
     "task": false
    }
   },
   "outputs": [
    {
     "data": {
      "text/html": [
       "<div>\n",
       "<style scoped>\n",
       "    .dataframe tbody tr th:only-of-type {\n",
       "        vertical-align: middle;\n",
       "    }\n",
       "\n",
       "    .dataframe tbody tr th {\n",
       "        vertical-align: top;\n",
       "    }\n",
       "\n",
       "    .dataframe thead th {\n",
       "        text-align: right;\n",
       "    }\n",
       "</style>\n",
       "<table border=\"1\" class=\"dataframe\">\n",
       "  <thead>\n",
       "    <tr style=\"text-align: right;\">\n",
       "      <th></th>\n",
       "      <th>Country</th>\n",
       "      <th>Population</th>\n",
       "      <th>Continent</th>\n",
       "      <th>Emission</th>\n",
       "      <th>_merge</th>\n",
       "      <th>Quantity</th>\n",
       "    </tr>\n",
       "  </thead>\n",
       "  <tbody>\n",
       "    <tr>\n",
       "      <th>390</th>\n",
       "      <td>Afghanistan</td>\n",
       "      <td>29200000.0</td>\n",
       "      <td>Asia</td>\n",
       "      <td>0.302936</td>\n",
       "      <td>both</td>\n",
       "      <td>8.845743e+06</td>\n",
       "    </tr>\n",
       "    <tr>\n",
       "      <th>391</th>\n",
       "      <td>Albania</td>\n",
       "      <td>2950000.0</td>\n",
       "      <td>Europe</td>\n",
       "      <td>1.515632</td>\n",
       "      <td>both</td>\n",
       "      <td>4.471115e+06</td>\n",
       "    </tr>\n",
       "    <tr>\n",
       "      <th>392</th>\n",
       "      <td>Algeria</td>\n",
       "      <td>36000000.0</td>\n",
       "      <td>Africa</td>\n",
       "      <td>3.309912</td>\n",
       "      <td>both</td>\n",
       "      <td>1.191568e+08</td>\n",
       "    </tr>\n",
       "    <tr>\n",
       "      <th>393</th>\n",
       "      <td>Andorra</td>\n",
       "      <td>84500.0</td>\n",
       "      <td>Europe</td>\n",
       "      <td>6.124770</td>\n",
       "      <td>both</td>\n",
       "      <td>5.175431e+05</td>\n",
       "    </tr>\n",
       "    <tr>\n",
       "      <th>394</th>\n",
       "      <td>Angola</td>\n",
       "      <td>23400000.0</td>\n",
       "      <td>Africa</td>\n",
       "      <td>1.401654</td>\n",
       "      <td>both</td>\n",
       "      <td>3.279871e+07</td>\n",
       "    </tr>\n",
       "    <tr>\n",
       "      <th>...</th>\n",
       "      <td>...</td>\n",
       "      <td>...</td>\n",
       "      <td>...</td>\n",
       "      <td>...</td>\n",
       "      <td>...</td>\n",
       "      <td>...</td>\n",
       "    </tr>\n",
       "    <tr>\n",
       "      <th>580</th>\n",
       "      <td>Venezuela</td>\n",
       "      <td>28400000.0</td>\n",
       "      <td>South America</td>\n",
       "      <td>6.811756</td>\n",
       "      <td>both</td>\n",
       "      <td>1.934539e+08</td>\n",
       "    </tr>\n",
       "    <tr>\n",
       "      <th>581</th>\n",
       "      <td>Vietnam</td>\n",
       "      <td>88000000.0</td>\n",
       "      <td>Asia</td>\n",
       "      <td>1.761695</td>\n",
       "      <td>both</td>\n",
       "      <td>1.550292e+08</td>\n",
       "    </tr>\n",
       "    <tr>\n",
       "      <th>582</th>\n",
       "      <td>Yemen</td>\n",
       "      <td>23200000.0</td>\n",
       "      <td>Asia</td>\n",
       "      <td>1.090060</td>\n",
       "      <td>both</td>\n",
       "      <td>2.528940e+07</td>\n",
       "    </tr>\n",
       "    <tr>\n",
       "      <th>583</th>\n",
       "      <td>Zambia</td>\n",
       "      <td>13600000.0</td>\n",
       "      <td>Africa</td>\n",
       "      <td>0.192079</td>\n",
       "      <td>both</td>\n",
       "      <td>2.612270e+06</td>\n",
       "    </tr>\n",
       "    <tr>\n",
       "      <th>584</th>\n",
       "      <td>Zimbabwe</td>\n",
       "      <td>12700000.0</td>\n",
       "      <td>Africa</td>\n",
       "      <td>0.646073</td>\n",
       "      <td>both</td>\n",
       "      <td>8.205124e+06</td>\n",
       "    </tr>\n",
       "  </tbody>\n",
       "</table>\n",
       "<p>185 rows × 6 columns</p>\n",
       "</div>"
      ],
      "text/plain": [
       "         Country  Population      Continent  Emission _merge      Quantity\n",
       "390  Afghanistan  29200000.0           Asia  0.302936   both  8.845743e+06\n",
       "391      Albania   2950000.0         Europe  1.515632   both  4.471115e+06\n",
       "392      Algeria  36000000.0         Africa  3.309912   both  1.191568e+08\n",
       "393      Andorra     84500.0         Europe  6.124770   both  5.175431e+05\n",
       "394       Angola  23400000.0         Africa  1.401654   both  3.279871e+07\n",
       "..           ...         ...            ...       ...    ...           ...\n",
       "580    Venezuela  28400000.0  South America  6.811756   both  1.934539e+08\n",
       "581      Vietnam  88000000.0           Asia  1.761695   both  1.550292e+08\n",
       "582        Yemen  23200000.0           Asia  1.090060   both  2.528940e+07\n",
       "583       Zambia  13600000.0         Africa  0.192079   both  2.612270e+06\n",
       "584     Zimbabwe  12700000.0         Africa  0.646073   both  8.205124e+06\n",
       "\n",
       "[185 rows x 6 columns]"
      ]
     },
     "execution_count": 50,
     "metadata": {},
     "output_type": "execute_result"
    }
   ],
   "source": [
    "emissions_total = emissions_both.assign(Quantity=emissions_both['Emission'] * emissions_both['Population'])\n",
    "emissions_total"
   ]
  },
  {
   "cell_type": "code",
   "execution_count": 51,
   "metadata": {
    "deletable": false,
    "editable": false,
    "nbgrader": {
     "cell_type": "code",
     "checksum": "491d9f04734d30e6bbbbd2209b3a3df4",
     "grade": true,
     "grade_id": "cell-6d405a90c9b81efa",
     "locked": true,
     "points": 2,
     "schema_version": 3,
     "solution": false,
     "task": false
    }
   },
   "outputs": [],
   "source": [
    "assert 'emissions_total' in locals(), \"Your answer should be named 'emissions_total'\"\n",
    "\n",
    "# Note that this test has been hidden intentionally.\n",
    "# It will provide no feedback as to the correctness of your answers.\n",
    "# Thus, it is up to you to decide if your answer is sufficiently correct."
   ]
  },
  {
   "cell_type": "markdown",
   "metadata": {},
   "source": [
    "**Question 4(g)** <br> {points: 1} \n",
    "\n",
    "Group the `emissions_total` dataframe by continent and use `.agg()` to obtain the total sum of the `Population` and `Quantity` for each continent. Save this as `continent_emissions`. "
   ]
  },
  {
   "cell_type": "code",
   "execution_count": 52,
   "metadata": {
    "deletable": false,
    "nbgrader": {
     "cell_type": "code",
     "checksum": "eccfe0d6cb046250832f3c75c25e60bd",
     "grade": false,
     "grade_id": "cell-86efb0698414ae91",
     "locked": false,
     "schema_version": 3,
     "solution": true,
     "task": false
    }
   },
   "outputs": [
    {
     "data": {
      "text/html": [
       "<div>\n",
       "<style scoped>\n",
       "    .dataframe tbody tr th:only-of-type {\n",
       "        vertical-align: middle;\n",
       "    }\n",
       "\n",
       "    .dataframe tbody tr th {\n",
       "        vertical-align: top;\n",
       "    }\n",
       "\n",
       "    .dataframe thead th {\n",
       "        text-align: right;\n",
       "    }\n",
       "</style>\n",
       "<table border=\"1\" class=\"dataframe\">\n",
       "  <thead>\n",
       "    <tr style=\"text-align: right;\">\n",
       "      <th></th>\n",
       "      <th>Population</th>\n",
       "      <th>Quantity</th>\n",
       "    </tr>\n",
       "    <tr>\n",
       "      <th>Continent</th>\n",
       "      <th></th>\n",
       "      <th></th>\n",
       "    </tr>\n",
       "  </thead>\n",
       "  <tbody>\n",
       "    <tr>\n",
       "      <th>Africa</th>\n",
       "      <td>1.028338e+09</td>\n",
       "      <td>1.190918e+09</td>\n",
       "    </tr>\n",
       "    <tr>\n",
       "      <th>Asia</th>\n",
       "      <td>4.292061e+09</td>\n",
       "      <td>1.800648e+10</td>\n",
       "    </tr>\n",
       "    <tr>\n",
       "      <th>Europe</th>\n",
       "      <td>6.096065e+08</td>\n",
       "      <td>4.303124e+09</td>\n",
       "    </tr>\n",
       "    <tr>\n",
       "      <th>North America</th>\n",
       "      <td>5.367359e+08</td>\n",
       "      <td>6.501571e+09</td>\n",
       "    </tr>\n",
       "    <tr>\n",
       "      <th>Oceania</th>\n",
       "      <td>3.607440e+07</td>\n",
       "      <td>4.102680e+08</td>\n",
       "    </tr>\n",
       "    <tr>\n",
       "      <th>South America</th>\n",
       "      <td>3.924880e+08</td>\n",
       "      <td>1.057943e+09</td>\n",
       "    </tr>\n",
       "  </tbody>\n",
       "</table>\n",
       "</div>"
      ],
      "text/plain": [
       "                 Population      Quantity\n",
       "Continent                                \n",
       "Africa         1.028338e+09  1.190918e+09\n",
       "Asia           4.292061e+09  1.800648e+10\n",
       "Europe         6.096065e+08  4.303124e+09\n",
       "North America  5.367359e+08  6.501571e+09\n",
       "Oceania        3.607440e+07  4.102680e+08\n",
       "South America  3.924880e+08  1.057943e+09"
      ]
     },
     "execution_count": 52,
     "metadata": {},
     "output_type": "execute_result"
    }
   ],
   "source": [
    "continent_emissions = emissions_total.groupby('Continent').agg('sum').loc[:,['Population', 'Quantity']]\n",
    "continent_emissions"
   ]
  },
  {
   "cell_type": "code",
   "execution_count": 53,
   "metadata": {
    "deletable": false,
    "editable": false,
    "nbgrader": {
     "cell_type": "code",
     "checksum": "2051f5dc0adf681af05c8b58cb7296dd",
     "grade": true,
     "grade_id": "cell-cb25f5623b75069e",
     "locked": true,
     "points": 1,
     "schema_version": 3,
     "solution": false,
     "task": false
    }
   },
   "outputs": [
    {
     "data": {
      "text/plain": [
       "'Success'"
      ]
     },
     "execution_count": 53,
     "metadata": {},
     "output_type": "execute_result"
    }
   ],
   "source": [
    "t.test_4g(continent_emissions)"
   ]
  },
  {
   "cell_type": "markdown",
   "metadata": {},
   "source": [
    "**Question 4(h)** <br> {points: 1} \n",
    "\n",
    "Create a new column named `Emission_pp` from the `continent_emissions` dataframe which is the amount of emission **per person in each continent**. This can be made by dividing the `Quantity` column by the `Population` column.        \n",
    "Save the dataframe as object `continent_emissions_pp`. \n"
   ]
  },
  {
   "cell_type": "code",
   "execution_count": 54,
   "metadata": {
    "deletable": false,
    "nbgrader": {
     "cell_type": "code",
     "checksum": "396deec1b76a01e7a2595cb124ebd60b",
     "grade": false,
     "grade_id": "cell-c4a55a0ab6afbaef",
     "locked": false,
     "schema_version": 3,
     "solution": true,
     "task": false
    }
   },
   "outputs": [
    {
     "data": {
      "text/html": [
       "<div>\n",
       "<style scoped>\n",
       "    .dataframe tbody tr th:only-of-type {\n",
       "        vertical-align: middle;\n",
       "    }\n",
       "\n",
       "    .dataframe tbody tr th {\n",
       "        vertical-align: top;\n",
       "    }\n",
       "\n",
       "    .dataframe thead th {\n",
       "        text-align: right;\n",
       "    }\n",
       "</style>\n",
       "<table border=\"1\" class=\"dataframe\">\n",
       "  <thead>\n",
       "    <tr style=\"text-align: right;\">\n",
       "      <th></th>\n",
       "      <th>Population</th>\n",
       "      <th>Quantity</th>\n",
       "      <th>Emission_pp</th>\n",
       "    </tr>\n",
       "    <tr>\n",
       "      <th>Continent</th>\n",
       "      <th></th>\n",
       "      <th></th>\n",
       "      <th></th>\n",
       "    </tr>\n",
       "  </thead>\n",
       "  <tbody>\n",
       "    <tr>\n",
       "      <th>Africa</th>\n",
       "      <td>1.028338e+09</td>\n",
       "      <td>1.190918e+09</td>\n",
       "      <td>1.158099</td>\n",
       "    </tr>\n",
       "    <tr>\n",
       "      <th>Asia</th>\n",
       "      <td>4.292061e+09</td>\n",
       "      <td>1.800648e+10</td>\n",
       "      <td>4.195300</td>\n",
       "    </tr>\n",
       "    <tr>\n",
       "      <th>Europe</th>\n",
       "      <td>6.096065e+08</td>\n",
       "      <td>4.303124e+09</td>\n",
       "      <td>7.058854</td>\n",
       "    </tr>\n",
       "    <tr>\n",
       "      <th>North America</th>\n",
       "      <td>5.367359e+08</td>\n",
       "      <td>6.501571e+09</td>\n",
       "      <td>12.113166</td>\n",
       "    </tr>\n",
       "    <tr>\n",
       "      <th>Oceania</th>\n",
       "      <td>3.607440e+07</td>\n",
       "      <td>4.102680e+08</td>\n",
       "      <td>11.372828</td>\n",
       "    </tr>\n",
       "    <tr>\n",
       "      <th>South America</th>\n",
       "      <td>3.924880e+08</td>\n",
       "      <td>1.057943e+09</td>\n",
       "      <td>2.695478</td>\n",
       "    </tr>\n",
       "  </tbody>\n",
       "</table>\n",
       "</div>"
      ],
      "text/plain": [
       "                 Population      Quantity  Emission_pp\n",
       "Continent                                             \n",
       "Africa         1.028338e+09  1.190918e+09     1.158099\n",
       "Asia           4.292061e+09  1.800648e+10     4.195300\n",
       "Europe         6.096065e+08  4.303124e+09     7.058854\n",
       "North America  5.367359e+08  6.501571e+09    12.113166\n",
       "Oceania        3.607440e+07  4.102680e+08    11.372828\n",
       "South America  3.924880e+08  1.057943e+09     2.695478"
      ]
     },
     "execution_count": 54,
     "metadata": {},
     "output_type": "execute_result"
    }
   ],
   "source": [
    "continent_emissions_pp = (continent_emissions\n",
    "                          .assign(\n",
    "                            Emission_pp=continent_emissions['Quantity'] / continent_emissions['Population']))\n",
    "continent_emissions_pp"
   ]
  },
  {
   "cell_type": "code",
   "execution_count": 55,
   "metadata": {
    "deletable": false,
    "editable": false,
    "nbgrader": {
     "cell_type": "code",
     "checksum": "64236d77680bb0f7ec278b4f280adcb1",
     "grade": true,
     "grade_id": "cell-99ac21b147484cd9",
     "locked": true,
     "points": 1,
     "schema_version": 3,
     "solution": false,
     "task": false
    }
   },
   "outputs": [
    {
     "data": {
      "text/plain": [
       "'Success'"
      ]
     },
     "execution_count": 55,
     "metadata": {},
     "output_type": "execute_result"
    }
   ],
   "source": [
    "t.test_4h(continent_emissions_pp)"
   ]
  },
  {
   "cell_type": "markdown",
   "metadata": {},
   "source": [
    "**Question 4(i)** <br> {points: 1} \n",
    "\n",
    "Plot in a bar graph, the `Emission_pp` for each continent from highest to lowest and name the plot `continent_emissions_pp_plot`. Give it a title as well.\n",
    "\n",
    "Note that you will need to use the `reset_index` function."
   ]
  },
  {
   "cell_type": "code",
   "execution_count": 56,
   "metadata": {
    "deletable": false,
    "nbgrader": {
     "cell_type": "code",
     "checksum": "c04e32adc62249935f179c88e9eb0a9c",
     "grade": false,
     "grade_id": "cell-3746a96f6e7c0c40",
     "locked": false,
     "schema_version": 3,
     "solution": true,
     "task": false
    }
   },
   "outputs": [
    {
     "data": {
      "text/html": [
       "\n",
       "<div id=\"altair-viz-3b37f2ae22254c76bfefdc0b29b525b5\"></div>\n",
       "<script type=\"text/javascript\">\n",
       "  (function(spec, embedOpt){\n",
       "    let outputDiv = document.currentScript.previousElementSibling;\n",
       "    if (outputDiv.id !== \"altair-viz-3b37f2ae22254c76bfefdc0b29b525b5\") {\n",
       "      outputDiv = document.getElementById(\"altair-viz-3b37f2ae22254c76bfefdc0b29b525b5\");\n",
       "    }\n",
       "    const paths = {\n",
       "      \"vega\": \"https://cdn.jsdelivr.net/npm//vega@5?noext\",\n",
       "      \"vega-lib\": \"https://cdn.jsdelivr.net/npm//vega-lib?noext\",\n",
       "      \"vega-lite\": \"https://cdn.jsdelivr.net/npm//vega-lite@4.8.1?noext\",\n",
       "      \"vega-embed\": \"https://cdn.jsdelivr.net/npm//vega-embed@6?noext\",\n",
       "    };\n",
       "\n",
       "    function loadScript(lib) {\n",
       "      return new Promise(function(resolve, reject) {\n",
       "        var s = document.createElement('script');\n",
       "        s.src = paths[lib];\n",
       "        s.async = true;\n",
       "        s.onload = () => resolve(paths[lib]);\n",
       "        s.onerror = () => reject(`Error loading script: ${paths[lib]}`);\n",
       "        document.getElementsByTagName(\"head\")[0].appendChild(s);\n",
       "      });\n",
       "    }\n",
       "\n",
       "    function showError(err) {\n",
       "      outputDiv.innerHTML = `<div class=\"error\" style=\"color:red;\">${err}</div>`;\n",
       "      throw err;\n",
       "    }\n",
       "\n",
       "    function displayChart(vegaEmbed) {\n",
       "      vegaEmbed(outputDiv, spec, embedOpt)\n",
       "        .catch(err => showError(`Javascript Error: ${err.message}<br>This usually means there's a typo in your chart specification. See the javascript console for the full traceback.`));\n",
       "    }\n",
       "\n",
       "    if(typeof define === \"function\" && define.amd) {\n",
       "      requirejs.config({paths});\n",
       "      require([\"vega-embed\"], displayChart, err => showError(`Error loading script: ${err.message}`));\n",
       "    } else if (typeof vegaEmbed === \"function\") {\n",
       "      displayChart(vegaEmbed);\n",
       "    } else {\n",
       "      loadScript(\"vega\")\n",
       "        .then(() => loadScript(\"vega-lite\"))\n",
       "        .then(() => loadScript(\"vega-embed\"))\n",
       "        .catch(showError)\n",
       "        .then(() => displayChart(vegaEmbed));\n",
       "    }\n",
       "  })({\"config\": {\"view\": {\"continuousWidth\": 400, \"continuousHeight\": 300}}, \"data\": {\"name\": \"data-e3a870f4019653ca10578aeb31c65f40\"}, \"mark\": \"bar\", \"encoding\": {\"x\": {\"type\": \"nominal\", \"field\": \"Continent\"}, \"y\": {\"type\": \"quantitative\", \"field\": \"Emission_pp\"}}, \"title\": \"Emissions per person in each Continent\", \"$schema\": \"https://vega.github.io/schema/vega-lite/v4.8.1.json\", \"datasets\": {\"data-e3a870f4019653ca10578aeb31c65f40\": [{\"Continent\": \"Africa\", \"Population\": 1028338300.0, \"Quantity\": 1190917826.9043236, \"Emission_pp\": 1.1580992625717856}, {\"Continent\": \"Asia\", \"Population\": 4292061000.0, \"Quantity\": 18006483695.443687, \"Emission_pp\": 4.195300042437348}, {\"Continent\": \"Europe\", \"Population\": 609606500.0, \"Quantity\": 4303123529.741409, \"Emission_pp\": 7.058854408116399}, {\"Continent\": \"North America\", \"Population\": 536735900.0, \"Quantity\": 6501571313.847958, \"Emission_pp\": 12.113166482525125}, {\"Continent\": \"Oceania\", \"Population\": 36074400.0, \"Quantity\": 410267952.393881, \"Emission_pp\": 11.372828166064606}, {\"Continent\": \"South America\", \"Population\": 392488000.0, \"Quantity\": 1057942887.4379929, \"Emission_pp\": 2.695478301089442}]}}, {\"mode\": \"vega-lite\"});\n",
       "</script>"
      ],
      "text/plain": [
       "alt.Chart(...)"
      ]
     },
     "execution_count": 56,
     "metadata": {},
     "output_type": "execute_result"
    }
   ],
   "source": [
    "continent_emissions_pp = continent_emissions_pp.reset_index()\n",
    "continent_emissions_pp_plot = (alt.Chart(continent_emissions_pp)\n",
    "                               .mark_bar()\n",
    "                               .encode(x='Continent:N', y='Emission_pp:Q')\n",
    "                               .properties(title='Emissions per person in each Continent')\n",
    "                              )\n",
    "continent_emissions_pp_plot"
   ]
  },
  {
   "cell_type": "code",
   "execution_count": 57,
   "metadata": {
    "deletable": false,
    "editable": false,
    "nbgrader": {
     "cell_type": "code",
     "checksum": "77e8b99f630c14167e0841fd0a5cb34f",
     "grade": true,
     "grade_id": "cell-00c6e17519090236",
     "locked": true,
     "points": 1,
     "schema_version": 3,
     "solution": false,
     "task": false
    }
   },
   "outputs": [
    {
     "data": {
      "text/plain": [
       "'Success'"
      ]
     },
     "execution_count": 57,
     "metadata": {},
     "output_type": "execute_result"
    }
   ],
   "source": [
    "t.test_4i(continent_emissions_pp_plot)"
   ]
  },
  {
   "cell_type": "markdown",
   "metadata": {},
   "source": [
    "Before submitting your assignment please do the following:\n",
    "\n",
    "- Read through your solutions\n",
    "- **Restart your kernel and clear output and rerun your cells from top to bottom** \n",
    "- Makes sure that none of your code is broken \n",
    "- Verify that the tests from the questions you answered have obtained the output \"Success\"\n",
    "\n",
    "This is a simple way to make sure that you are submitting all the variables needed to mark the assignment. This method should help avoid losing marks due to changes in your environment.  "
   ]
  },
  {
   "cell_type": "markdown",
   "metadata": {},
   "source": [
    "## Attributions\n",
    "- Gapminder Dataset - [Gapminder](https://www.gapminder.org/data/)\n",
    "- Astronaut Dataset - [Kaggle](https://www.kaggle.com/nasa/astronaut-yearbook?select=astronauts.csv)\n",
    "- Netflix Dataset - [Kaggle](https://www.kaggle.com/shivamb/netflix-shows?select=netflix_titles.csv)\n",
    "- MDS DSCI 523 - Data Wrangling course - [MDS's GitHub website](hhttps://ubc-mds.github.io/) \n"
   ]
  },
  {
   "cell_type": "markdown",
   "metadata": {},
   "source": [
    "## Module Debriefing\n",
    "\n",
    "If this video is not showing up below, click on the cell and click the ▶ button in the toolbar above."
   ]
  },
  {
   "cell_type": "code",
   "execution_count": 58,
   "metadata": {},
   "outputs": [
    {
     "data": {
      "text/html": [
       "\n",
       "        <iframe\n",
       "            width=\"854\"\n",
       "            height=\"480\"\n",
       "            src=\"https://www.youtube.com/embed//X0eqYP2t3kA\"\n",
       "            frameborder=\"0\"\n",
       "            allowfullscreen\n",
       "        ></iframe>\n",
       "        "
      ],
      "text/plain": [
       "<IPython.lib.display.YouTubeVideo at 0x7f2a2bf6c280>"
      ]
     },
     "execution_count": 58,
     "metadata": {},
     "output_type": "execute_result"
    }
   ],
   "source": [
    "from IPython.display import YouTubeVideo\n",
    "YouTubeVideo('/X0eqYP2t3kA', width=854, height=480)"
   ]
  },
  {
   "cell_type": "code",
   "execution_count": null,
   "metadata": {},
   "outputs": [],
   "source": []
  }
 ],
 "metadata": {
  "kernelspec": {
   "display_name": "Python 3",
   "language": "python",
   "name": "python3"
  },
  "language_info": {
   "codemirror_mode": {
    "name": "ipython",
    "version": 3
   },
   "file_extension": ".py",
   "mimetype": "text/x-python",
   "name": "python",
   "nbconvert_exporter": "python",
   "pygments_lexer": "ipython3",
   "version": "3.8.5"
  },
  "toc": {
   "base_numbering": 1,
   "nav_menu": {},
   "number_sections": true,
   "sideBar": true,
   "skip_h1_title": false,
   "title_cell": "Table of Contents",
   "title_sidebar": "Contents",
   "toc_cell": false,
   "toc_position": {},
   "toc_section_display": true,
   "toc_window_display": false
  }
 },
 "nbformat": 4,
 "nbformat_minor": 4
}
