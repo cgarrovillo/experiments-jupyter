{
 "cells": [
  {
   "cell_type": "markdown",
   "metadata": {},
   "source": [
    "# Programming in Python for Data Science \n",
    "\n",
    "# Assignment 5: Making Choices and Repeating Iterations"
   ]
  },
  {
   "cell_type": "markdown",
   "metadata": {},
   "source": [
    "You can't learn technical subjects without hands-on practice. The assignments are an important part of the course. To submit this assignment you will need to make sure that you save your Jupyter notebook. \n",
    "\n",
    "Below are the links of 2 videos that explain:\n",
    "\n",
    "1. [How to save your Jupyter notebook](https://youtu.be/0aoLgBoAUSA) and,       \n",
    "2. [How to answer a question in a Jupyter notebook assignment](https://youtu.be/7j0WKhI3W4s).  "
   ]
  },
  {
   "cell_type": "markdown",
   "metadata": {},
   "source": [
    "### Assignment Learning Goals:\n",
    "\n",
    "By the end of the module, students are expected to:\n",
    "\n",
    "- Explain the DRY principle and how it can be useful.\n",
    "- Write conditional statements with `if`, `elif` and `else` to run different code, depending on the input.\n",
    "- Write `for` loops to repeatedly run code.\n",
    "- Describe the expected outcome of code with nested loops.\n",
    "- Define and use a function that accepts parameters and returns values.\n",
    "\n",
    "\n",
    "This assignment covers [Module 5](https://prog-learn.mds.ubc.ca/en/module5) of the online course. You should complete this module before attempting this assignment."
   ]
  },
  {
   "cell_type": "markdown",
   "metadata": {},
   "source": [
    "Any place you see `...`, you must fill in the function, variable, or data to complete the code. Substitute the `None` and the `raise NotImplementedError # No Answer - remove if you provide an answer` with your completed code and answers then proceed to run the cell!"
   ]
  },
  {
   "cell_type": "markdown",
   "metadata": {},
   "source": [
    "Note that some of the questions in this assignment will have hidden tests. This means that no feedback will be given as to the correctness of your solution. It will be left up to you to decide if your answer is sufficiently correct. These questions are worth 2 points."
   ]
  },
  {
   "cell_type": "code",
   "execution_count": 1,
   "metadata": {},
   "outputs": [],
   "source": [
    "# Import libraries needed for this lab\n",
    "import ast\n",
    "from hashlib import sha1\n",
    "import pandas as pd\n",
    "from random import random\n",
    "import test_assignment5 as t"
   ]
  },
  {
   "cell_type": "markdown",
   "metadata": {},
   "source": [
    "## 1.  Conditionals "
   ]
  },
  {
   "cell_type": "markdown",
   "metadata": {},
   "source": [
    "**Question 1(a)** <br> {points: 1} \n",
    "\n",
    "The following lines of code have been scrambled into the wrong order. Uncomment the code below into your answer cell and rearrange the lines below so that it no longer results in an error. To help you, here's the logic behind the correct code in written English:\n",
    "\n",
    "- if the temperature is less than 5, clothing should be a Heavier Coat\n",
    "- if the temperature is between 5 (including) and 10 (excluding), clothing should be a Light Jacket\n",
    "- if the temperature is 10 degrees or more, clothing should be a Light Sweater"
   ]
  },
  {
   "cell_type": "code",
   "execution_count": 2,
   "metadata": {
    "deletable": false,
    "nbgrader": {
     "cell_type": "code",
     "checksum": "840d3a46ab80eccd70a34446049da4e6",
     "grade": false,
     "grade_id": "cell-025b7dd0f3c0f587",
     "locked": false,
     "schema_version": 3,
     "solution": true,
     "task": false
    }
   },
   "outputs": [],
   "source": [
    "# clothing\n",
    "\n",
    "temperature = 8\n",
    "if temperature < 5:\n",
    "    clothing = 'Heavier Coat'\n",
    "elif temperature < 10:\n",
    "    clothing = 'Light Jacket'\n",
    "else: \n",
    "    clothing = \"Light Sweater\""
   ]
  },
  {
   "cell_type": "code",
   "execution_count": 3,
   "metadata": {
    "deletable": false,
    "editable": false,
    "nbgrader": {
     "cell_type": "code",
     "checksum": "cbdab761ae464d1f832d2ecfe7ef2b0d",
     "grade": true,
     "grade_id": "cell-dface204a341b0b2",
     "locked": true,
     "points": 1,
     "schema_version": 3,
     "solution": false,
     "task": false
    }
   },
   "outputs": [
    {
     "data": {
      "text/plain": [
       "'Success'"
      ]
     },
     "execution_count": 3,
     "metadata": {},
     "output_type": "execute_result"
    }
   ],
   "source": [
    "t.test_1a(clothing)"
   ]
  },
  {
   "cell_type": "markdown",
   "metadata": {},
   "source": [
    "**Question 1(b)** <br> {points: 1} \n",
    " \n",
    "\n",
    "Write conditional statements that categorizes a diamond's `size` by the following requirements: \n",
    "\n",
    "- Any size including 0.5 carats or less is a \"Small diamond\" \n",
    "\n",
    "- Anything between 0.5 (excluding) and 1.5 (including) carats is an \"Average-sized diamond\"\n",
    "\n",
    "- Anything between 1.5 (excluding) and 2.5 (including) carats is a \"Large diamond\" and,\n",
    "\n",
    "- Any size greater than 2.5 (excluding) carats is a \"Huge diamond\"\n",
    "\n",
    "\n",
    "Start with an object named `diamond` with a value of 1.5. "
   ]
  },
  {
   "cell_type": "code",
   "execution_count": 4,
   "metadata": {
    "deletable": false,
    "nbgrader": {
     "cell_type": "code",
     "checksum": "900a676030428fdbaa07d5d83ceb04ab",
     "grade": false,
     "grade_id": "cell-44485888f5604a95",
     "locked": false,
     "schema_version": 3,
     "solution": true,
     "task": false
    }
   },
   "outputs": [],
   "source": [
    "diamond = 1.5\n",
    "\n",
    "if diamond <= 0.5:\n",
    "    size = 'Small diamond'\n",
    "elif diamond <= 1.5:\n",
    "    size = 'Average-sized diamond'\n",
    "elif diamond <= 2.5:\n",
    "    size = 'Large diamond'\n",
    "else:\n",
    "    size = 'Huge diamond'"
   ]
  },
  {
   "cell_type": "code",
   "execution_count": 5,
   "metadata": {
    "deletable": false,
    "editable": false,
    "nbgrader": {
     "cell_type": "code",
     "checksum": "07cf298e90e4445b587da04a3a417357",
     "grade": true,
     "grade_id": "cell-a0183b67993f8245",
     "locked": true,
     "points": 1,
     "schema_version": 3,
     "solution": false,
     "task": false
    }
   },
   "outputs": [
    {
     "data": {
      "text/plain": [
       "'Success'"
      ]
     },
     "execution_count": 5,
     "metadata": {},
     "output_type": "execute_result"
    }
   ],
   "source": [
    "t.test_1b(size)"
   ]
  },
  {
   "cell_type": "markdown",
   "metadata": {},
   "source": [
    "**Question 1(c)** <br> {points: 1} \n",
    "\n",
    "Hussein categorizes his pantry type as either vegan, vegetarian or neither based on the conditional statements below:\n",
    "```\n",
    "if 'milk' not in pantry and 'meat' not in pantry:\n",
    "    pantry_type = \"vegan\"\n",
    "elif 'meat' not in pantry: \n",
    "    pantry_type = \"vegetarian\"\n",
    "else:\n",
    "    pantry_type = \"neither\"\n",
    "```\n",
    "\n",
    "       \n",
    "Given `pantry` below, what is Hussein's `pantry_type`? Save the correct answer in a variable named `answer1_c`.\n"
   ]
  },
  {
   "cell_type": "code",
   "execution_count": 6,
   "metadata": {},
   "outputs": [],
   "source": [
    "pantry = {'pasta': 3, 'garlic': 4,'sauce': 2,\n",
    "          'basil': 2, 'salt': 3, 'olive oil': 3,\n",
    "          'rice': 3, 'bread': 3, 'peanut butter': 1,\n",
    "          'flour': 1, 'eggs': 1, 'onions': 1, 'mushrooms': 3,\n",
    "          'broccoli': 2, 'butter': 2,'pickles': 6, 'milk': 2,\n",
    "          'chia seeds': 5}"
   ]
  },
  {
   "cell_type": "code",
   "execution_count": 7,
   "metadata": {
    "deletable": false,
    "lines_to_end_of_cell_marker": 2,
    "lines_to_next_cell": 2,
    "nbgrader": {
     "cell_type": "code",
     "checksum": "602e69de4bdf1c4c24fe6439dcd606c0",
     "grade": false,
     "grade_id": "cell-1446d930bb638d95",
     "locked": false,
     "schema_version": 3,
     "solution": true,
     "task": false
    }
   },
   "outputs": [],
   "source": [
    "answer1_c = \"vegetarian\""
   ]
  },
  {
   "cell_type": "code",
   "execution_count": 8,
   "metadata": {
    "deletable": false,
    "editable": false,
    "nbgrader": {
     "cell_type": "code",
     "checksum": "944d8d6e75081701239da9805b8dc984",
     "grade": true,
     "grade_id": "cell-946e99977890301b",
     "locked": true,
     "points": 1,
     "schema_version": 3,
     "solution": false,
     "task": false
    }
   },
   "outputs": [
    {
     "data": {
      "text/plain": [
       "'Success'"
      ]
     },
     "execution_count": 8,
     "metadata": {},
     "output_type": "execute_result"
    }
   ],
   "source": [
    "t.test_1c(answer1_c)"
   ]
  },
  {
   "cell_type": "markdown",
   "metadata": {},
   "source": [
    "**Question 1(d)** <br> {points: 1} \n",
    "\n",
    "Hussein's friends like his categorizing trick, so they try to replicate it but are not as successful. \n",
    "Frida's code looks like this: \n",
    "   "
   ]
  },
  {
   "cell_type": "code",
   "execution_count": 9,
   "metadata": {},
   "outputs": [],
   "source": [
    "if 'milk' not in pantry and 'meat' not in pantry:\n",
    "    pantry_type = \"vegan\"\n",
    "if 'meat' not in pantry:  \n",
    "    pantry_type = \"vegetarian\"\n",
    "else:\n",
    "    pantry_type = \"neither\""
   ]
  },
  {
   "cell_type": "markdown",
   "metadata": {},
   "source": [
    "\n",
    "Which of the following scenarios is likely to occur?\n",
    "\n",
    "\n",
    "A) If the pantry contains meat and milk, the pantry will be categorized as \"vegetarian\" because of the second if statement.\n",
    "\n",
    "B)  If the pantry contains milk and not meat, the pantry will be categorized as \"neither\" because the conditionals are  only and if-else statement.\n",
    "\n",
    "\n",
    "C)  If the pantry doesn't contain milk or meat, the pantry will be categorized as both \"vegetarian\" and \"neither\" because of the second if statement.\n",
    "\n",
    "\n",
    "D)  If the pantry doesn't contain milk and meat, the pantry will be categorized as both \"vegan\" and \"vegetarian\" because of the second if statement.\n",
    "\n",
    "\n",
    "*Answer in the cell below using the uppercase letter associated with your answer. Place your answer between \"\", assign the correct answer to an object called `answer1_d`.*"
   ]
  },
  {
   "cell_type": "code",
   "execution_count": 10,
   "metadata": {
    "deletable": false,
    "nbgrader": {
     "cell_type": "code",
     "checksum": "d619b58641952827bea03ffd032fb862",
     "grade": false,
     "grade_id": "cell-c7b2a3e2d5fdee4a",
     "locked": false,
     "schema_version": 3,
     "solution": true,
     "task": false
    }
   },
   "outputs": [],
   "source": [
    "answer1_d = \"D\""
   ]
  },
  {
   "cell_type": "code",
   "execution_count": 11,
   "metadata": {
    "deletable": false,
    "editable": false,
    "nbgrader": {
     "cell_type": "code",
     "checksum": "67eccdf0b5c09f196ad585d3901c346e",
     "grade": true,
     "grade_id": "cell-139ebfa7a4f09d4e",
     "locked": true,
     "points": 1,
     "schema_version": 3,
     "solution": false,
     "task": false
    }
   },
   "outputs": [
    {
     "data": {
      "text/plain": [
       "'Success'"
      ]
     },
     "execution_count": 11,
     "metadata": {},
     "output_type": "execute_result"
    }
   ],
   "source": [
    "t.test_1d(answer1_d)"
   ]
  },
  {
   "cell_type": "markdown",
   "metadata": {},
   "source": [
    "**Question 1(e)** <br> {points: 2} \n",
    "\n",
    "Another one of Hussein friends likes his categorizing trick too, so they also try to replicate it but again they don't do it correctly. \n",
    "Their code looks like this: \n",
    " "
   ]
  },
  {
   "cell_type": "code",
   "execution_count": 12,
   "metadata": {
    "lines_to_next_cell": 2
   },
   "outputs": [
    {
     "data": {
      "text/plain": [
       "'vegan'"
      ]
     },
     "execution_count": 12,
     "metadata": {},
     "output_type": "execute_result"
    }
   ],
   "source": [
    "if 'milk' and 'meat' not in pantry: \n",
    "    pantry_type = \"vegan\"\n",
    "elif 'meat' not in pantry: \n",
    "    pantry_type = \"vegetarian\"\n",
    "else:\n",
    "    pantry_type = \"neither\"\n",
    "pantry_type"
   ]
  },
  {
   "cell_type": "markdown",
   "metadata": {},
   "source": [
    "\n",
    "\n",
    "Which of the following scenarios is likely to occur?\n",
    "\n",
    "\n",
    "A) We learned in Module 4 that non-empty strings get cast to true. Since the first condition is just `if milk` and is missing `not in pantry`, this portion of the `if` condition casts always to true.  If the pantry contains milk and no meat, the pantry will be incorrectly typed as \"vegan\".\n",
    "\n",
    "B) Because it is missing the `not in pantry` part of the first condition, the code won't work and an error will occur. \n",
    "\n",
    "C) We learned in Module 4 that non-empty strings get cast to true. Since the first condition is just `if milk` and is missing the `not in pantry`, this portion of the `if` condition casts always to true.  If the pantry does **not** contain milk or meat, the pantry will be incorrectly typed as \"vegan\".\n",
    "\n",
    "D) The missing `not in pantry` causes this `if` statement to always equal true, so any combination of ingredients will result in a \"vegan\" pantry type. \n",
    "\n",
    "\n",
    "*Answer in the cell below using the uppercase letter associated with your answer. Place your answer between \"\", assign the correct answer to an object called `answer1_e`.*"
   ]
  },
  {
   "cell_type": "code",
   "execution_count": 13,
   "metadata": {
    "deletable": false,
    "nbgrader": {
     "cell_type": "code",
     "checksum": "823d8e94c1306f21045dba94f49eba24",
     "grade": false,
     "grade_id": "cell-ec4116fb89d0f246",
     "locked": false,
     "schema_version": 3,
     "solution": true,
     "task": false
    }
   },
   "outputs": [],
   "source": [
    "answer1_e = 'A'"
   ]
  },
  {
   "cell_type": "code",
   "execution_count": 14,
   "metadata": {
    "deletable": false,
    "editable": false,
    "lines_to_next_cell": 2,
    "nbgrader": {
     "cell_type": "code",
     "checksum": "6da4d5e1c01eecc6757ac106c94c8a69",
     "grade": true,
     "grade_id": "cell-b91b12d96008b503",
     "locked": true,
     "points": 2,
     "schema_version": 3,
     "solution": false,
     "task": false
    }
   },
   "outputs": [],
   "source": [
    "# check that the variable exists\n",
    "assert 'answer1_e' in globals(\n",
    "), \"Please make sure that your solution is named 'answer1_e'\"\n",
    "\n",
    "# This test has been intentionally hidden. It will be up to you to decide if your solution\n",
    "# is sufficiently good."
   ]
  },
  {
   "cell_type": "markdown",
   "metadata": {},
   "source": [
    "**Question 1(f)** <br> {points: 1} \n",
    "\n",
    "Frida tries to fix her code but this time she's changed it so the code looks like this: \n",
    "    \n",
    "  "
   ]
  },
  {
   "cell_type": "code",
   "execution_count": 15,
   "metadata": {},
   "outputs": [],
   "source": [
    "if 'meat' not in pantry:  \n",
    "    pantry_type = \"vegetarian\"\n",
    "elif 'milk' not in pantry and 'meat' not in pantry:\n",
    "    pantry_type = \"vegan\"\n",
    "else:\n",
    "    pantry_type = \"neither\""
   ]
  },
  {
   "cell_type": "markdown",
   "metadata": {},
   "source": [
    "Which of the following scenarios is likely to occur?\n",
    "\n",
    "A) If meat and milk are both present, the pantry will be incorrectly categorized as \"vegan\".\n",
    "\n",
    "B) If milk is present in the pantry but no meat, the pantry will be incorrectly categorized as \"vegetarian\".\n",
    "\n",
    "C) If neither milk or no meat are present, the pantry will be incorrectly categorized as \"vegetarian\".\n",
    "\n",
    "D) If no meat is present, the pantry will be categorized as \"neither\".\n",
    "\n",
    "\n",
    "*Answer in the cell below using the uppercase letter associated with your answer. Place your answer between \"\", assign the correct answer to an object called `answer1_f`.*"
   ]
  },
  {
   "cell_type": "code",
   "execution_count": 16,
   "metadata": {
    "deletable": false,
    "nbgrader": {
     "cell_type": "code",
     "checksum": "f6ad15ef8de99ce79a07c428f7694c2f",
     "grade": false,
     "grade_id": "cell-f9d7fbab0ddb4359",
     "locked": false,
     "schema_version": 3,
     "solution": true,
     "task": false
    }
   },
   "outputs": [],
   "source": [
    "answer1_f = 'C'"
   ]
  },
  {
   "cell_type": "code",
   "execution_count": 17,
   "metadata": {
    "deletable": false,
    "editable": false,
    "nbgrader": {
     "cell_type": "code",
     "checksum": "408ed4b6823b795a489ef0f290b578ac",
     "grade": true,
     "grade_id": "cell-3348cf47899adf79",
     "locked": true,
     "points": 1,
     "schema_version": 3,
     "solution": false,
     "task": false
    }
   },
   "outputs": [
    {
     "data": {
      "text/plain": [
       "'Success'"
      ]
     },
     "execution_count": 17,
     "metadata": {},
     "output_type": "execute_result"
    }
   ],
   "source": [
    "t.test_1f(answer1_f)"
   ]
  },
  {
   "cell_type": "markdown",
   "metadata": {},
   "source": [
    "**Question 1(g)** <br> {points: 1} \n",
    "\n",
    "Hussein wants to make a meal and have some friends over for a dinner party. He needs to know how complex his meal is going to be based on which ingredients he has in his pantry. \n",
    "\n",
    "\n",
    "In the cell below, you will see code that has been commented out (`#`). Correct the indentation for each if and else statement in the code below so that it run without errors ***AND*** returns the correct answer based on the ingredients needed.\n",
    "\n",
    "\n",
    "Given Hussein's pantry from **question 1 (c)**, What does `party` return? \n",
    "Answer by saving the result in an object named `dinner`.  \n",
    "\n",
    "**HINT:** You do not need to arrange the lines, you just need to change the indentation."
   ]
  },
  {
   "cell_type": "code",
   "execution_count": 18,
   "metadata": {
    "deletable": false,
    "nbgrader": {
     "cell_type": "code",
     "checksum": "9b347ba5bcd5473c10ab47533b847814",
     "grade": false,
     "grade_id": "cell-2355a6be939ed14a",
     "locked": false,
     "schema_version": 3,
     "solution": true,
     "task": false
    }
   },
   "outputs": [],
   "source": [
    "pantry = {'pasta': 3, 'garlic': 4,'sauce': 2,\n",
    "          'basil': 2, 'salt': 3, 'olive oil': 3,\n",
    "          'rice': 3, 'bread': 3, 'peanut butter': 1,\n",
    "          'flour': 1, 'eggs': 1, 'onions': 1, 'mushrooms': 3,\n",
    "          'broccoli': 2, 'butter': 2,'pickles': 6, 'milk': 2,\n",
    "          'chia seeds': 5}\n",
    "\n",
    "if 'pasta' in pantry and 'sauce' in pantry and 'basil' in pantry:\n",
    "    if pantry['pasta'] > 2:\n",
    "        if pantry['sauce'] > 2:\n",
    "            if pantry['basil'] > 3:\n",
    "                party = \"Basil and Tomato Pasta for 4 guests \"\n",
    "            else: \n",
    "                party = \"Marinara Pasta for 4 Guests\"\n",
    "        else: \n",
    "            party = \"Tomato Pasta with Basil Garnish for 2 guests\"\n",
    "    else: \n",
    "            party = \"Tomato Pasta for 1 guest\"\n",
    "else:\n",
    "    party = \"He can't make this recipe\" \n",
    "\n",
    "dinner = party"
   ]
  },
  {
   "cell_type": "code",
   "execution_count": 19,
   "metadata": {
    "deletable": false,
    "editable": false,
    "nbgrader": {
     "cell_type": "code",
     "checksum": "bf787a21dac9bfeb5cab08c8c7de9d84",
     "grade": true,
     "grade_id": "cell-b719b82a30b0cec3",
     "locked": true,
     "points": 1,
     "schema_version": 3,
     "solution": false,
     "task": false
    }
   },
   "outputs": [
    {
     "data": {
      "text/plain": [
       "'Success'"
      ]
     },
     "execution_count": 19,
     "metadata": {},
     "output_type": "execute_result"
    }
   ],
   "source": [
    "t.test_1g(dinner)"
   ]
  },
  {
   "cell_type": "markdown",
   "metadata": {},
   "source": [
    "## 2. Loops"
   ]
  },
  {
   "cell_type": "markdown",
   "metadata": {},
   "source": [
    "**Question 2(a)** <br> {points: 1} \n",
    "\n",
    "Write a `for` loop that produces the following output and saves each word as an element in a list named `new_list`.:\n",
    "\n",
    "    For\n",
    "    every\n",
    "    word\n",
    "    in\n",
    "    this\n",
    "    sentence,\n",
    "    print\n",
    "    the\n",
    "    word\n",
    "    on\n",
    "    its\n",
    "    own\n",
    "    line\n",
    "_Hint: .split() and print() may come in handy here._"
   ]
  },
  {
   "cell_type": "code",
   "execution_count": 20,
   "metadata": {
    "deletable": false,
    "nbgrader": {
     "cell_type": "code",
     "checksum": "e24cda21a8cf412868261153008145ae",
     "grade": false,
     "grade_id": "cell-c65f36e248846565",
     "locked": false,
     "schema_version": 3,
     "solution": true,
     "task": false
    }
   },
   "outputs": [
    {
     "data": {
      "text/plain": [
       "['For',\n",
       " 'every',\n",
       " 'word',\n",
       " 'in',\n",
       " 'this',\n",
       " 'sentence,',\n",
       " 'print',\n",
       " 'the',\n",
       " 'word',\n",
       " 'on',\n",
       " 'its',\n",
       " 'own',\n",
       " 'line']"
      ]
     },
     "execution_count": 20,
     "metadata": {},
     "output_type": "execute_result"
    }
   ],
   "source": [
    "sentence = \"For every word in this sentence, print the word on its own line\"\n",
    "new_list = []\n",
    "\n",
    "sentence_words = sentence.split(\" \")\n",
    "for word in sentence_words:\n",
    "    new_list.append(word)\n",
    "\n",
    "new_list"
   ]
  },
  {
   "cell_type": "code",
   "execution_count": 21,
   "metadata": {
    "deletable": false,
    "editable": false,
    "nbgrader": {
     "cell_type": "code",
     "checksum": "d8c0e50523a6e3ff120471b750449bdd",
     "grade": true,
     "grade_id": "cell-453e5a996c1cb79d",
     "locked": true,
     "points": 1,
     "schema_version": 3,
     "solution": false,
     "task": false
    }
   },
   "outputs": [
    {
     "data": {
      "text/plain": [
       "'Success'"
      ]
     },
     "execution_count": 21,
     "metadata": {},
     "output_type": "execute_result"
    }
   ],
   "source": [
    "t.test_2a(new_list)"
   ]
  },
  {
   "cell_type": "markdown",
   "metadata": {},
   "source": [
    "**Question 2(b)** <br> {points: 1} \n",
    "\n",
    "Hussein wants to go to the grocery store to pick up some supplies for his dinner party. He wants to know how much stock he has for each ingredient so he doesn't buy too many groceries.    \n",
    "\n",
    "Create a loop to obtain the values from the `pantry` dictionary and append them to the list name `ingredient_stock`\n",
    "\n",
    "_Hint: You only need one loop here._\n"
   ]
  },
  {
   "cell_type": "code",
   "execution_count": 22,
   "metadata": {
    "deletable": false,
    "nbgrader": {
     "cell_type": "code",
     "checksum": "4bbb9fe948935850beeeaf7efe8db092",
     "grade": false,
     "grade_id": "cell-ebb671992e967ddb",
     "locked": false,
     "schema_version": 3,
     "solution": true,
     "task": false
    }
   },
   "outputs": [
    {
     "data": {
      "text/plain": [
       "[3, 4, 2, 2, 3, 3, 3, 3, 1, 1, 1, 1, 3, 2, 2, 6, 2, 5]"
      ]
     },
     "execution_count": 22,
     "metadata": {},
     "output_type": "execute_result"
    }
   ],
   "source": [
    "pantry = {'pasta': 3, 'garlic': 4,'sauce': 2,\n",
    "          'basil': 2, 'salt': 3, 'olive oil': 3,\n",
    "          'rice': 3, 'bread': 3, 'peanut butter': 1,\n",
    "          'flour': 1, 'eggs': 1, 'onions': 1, 'mushrooms': 3,\n",
    "          'broccoli': 2, 'butter': 2,'pickles': 6, 'milk': 2,\n",
    "          'chia seeds': 5}\n",
    "\n",
    "ingredient_stock = list()\n",
    "\n",
    "for ingredient in pantry:\n",
    "    ing_amt = pantry[ingredient]\n",
    "    ingredient_stock.append(ing_amt)\n",
    "        \n",
    "ingredient_stock"
   ]
  },
  {
   "cell_type": "code",
   "execution_count": 23,
   "metadata": {
    "deletable": false,
    "editable": false,
    "nbgrader": {
     "cell_type": "code",
     "checksum": "4c7598552304eda4fcba1d9336f7f330",
     "grade": true,
     "grade_id": "cell-c552fbee27a15b2a",
     "locked": true,
     "points": 1,
     "schema_version": 3,
     "solution": false,
     "task": false
    }
   },
   "outputs": [
    {
     "data": {
      "text/plain": [
       "'Success'"
      ]
     },
     "execution_count": 23,
     "metadata": {},
     "output_type": "execute_result"
    }
   ],
   "source": [
    "t.test_2b(ingredient_stock)"
   ]
  },
  {
   "cell_type": "markdown",
   "metadata": {},
   "source": [
    "**Question 2(c)** <br> {points: 2} \n",
    "\n",
    "What is the total quantity of ingredients in his pantry? Save this in an object named `stock_total`.\n",
    "\n",
    "_Hint: No loop is necessary here._"
   ]
  },
  {
   "cell_type": "code",
   "execution_count": 24,
   "metadata": {
    "deletable": false,
    "nbgrader": {
     "cell_type": "code",
     "checksum": "a909a08c992cf425b9efc331a8627ab3",
     "grade": false,
     "grade_id": "cell-0b94c62481cc63bf",
     "locked": false,
     "schema_version": 3,
     "solution": true,
     "task": false
    }
   },
   "outputs": [
    {
     "data": {
      "text/plain": [
       "47"
      ]
     },
     "execution_count": 24,
     "metadata": {},
     "output_type": "execute_result"
    }
   ],
   "source": [
    "stock_total = sum(ingredient_stock)\n",
    "stock_total"
   ]
  },
  {
   "cell_type": "code",
   "execution_count": 25,
   "metadata": {
    "deletable": false,
    "editable": false,
    "nbgrader": {
     "cell_type": "code",
     "checksum": "780faae774b97d990af2fc3e4671ca96",
     "grade": true,
     "grade_id": "cell-5cc8eb93474daa65",
     "locked": true,
     "points": 2,
     "schema_version": 3,
     "solution": false,
     "task": false
    }
   },
   "outputs": [],
   "source": [
    "# check that the variable exists\n",
    "assert 'stock_total' in globals(\n",
    "), \"Please make sure that your solution is named 'stock_total'\"\n",
    "\n",
    "# This test has been intentionally hidden. It will be up to you to decide if your solution\n",
    "# is sufficiently good."
   ]
  },
  {
   "cell_type": "markdown",
   "metadata": {},
   "source": [
    "**Question 2(d)** <br> {points: 1} \n",
    "\n",
    "Hussein is planning ahead. In case he loses his list, he wants to know the mean ingredient quantity before he leaves.    \n",
    "Calculate is the mean storage space of Hussein's ingredients and save this value in an object named `stock_mean`.\n",
    "\n",
    "Hint: You can use the object `ingredient_stock` from the previous question."
   ]
  },
  {
   "cell_type": "code",
   "execution_count": 26,
   "metadata": {
    "deletable": false,
    "nbgrader": {
     "cell_type": "code",
     "checksum": "0999176c3bfe84a53220059afb262acb",
     "grade": false,
     "grade_id": "cell-f0e86af08a7df00c",
     "locked": false,
     "schema_version": 3,
     "solution": true,
     "task": false
    }
   },
   "outputs": [],
   "source": [
    "stock_mean = stock_total / len(ingredient_stock)"
   ]
  },
  {
   "cell_type": "code",
   "execution_count": 27,
   "metadata": {
    "deletable": false,
    "editable": false,
    "nbgrader": {
     "cell_type": "code",
     "checksum": "20ee29e45a595a4b4ce9df63bd08010a",
     "grade": true,
     "grade_id": "cell-6071a5eea5217a2b",
     "locked": true,
     "points": 1,
     "schema_version": 3,
     "solution": false,
     "task": false
    }
   },
   "outputs": [
    {
     "data": {
      "text/plain": [
       "'Success'"
      ]
     },
     "execution_count": 27,
     "metadata": {},
     "output_type": "execute_result"
    }
   ],
   "source": [
    "t.test_2d(stock_mean)"
   ]
  },
  {
   "cell_type": "markdown",
   "metadata": {},
   "source": [
    "**Question 2(e)** <br> {points: 2} \n",
    "\n",
    "Hussein doesn't want to stop at just the mean, he wants as much information as possible now. He decided he also wants to calculate the pantry's ingredient quantity variance.\n",
    "\n",
    "**sample variance** can be calculated from the sum of squared differences of each observation from the mean:    \n",
    "\n",
    "$variance = \\frac{\\Sigma{(x-mean)^2}}{n}$\n",
    "\n",
    "where **mean** is the mean of our observations, **x** is each individual observation, and **n** is the number of observations.\n",
    "\n",
    "For this question:\n",
    "   \n",
    "- Create a loop that iterates over the `ingredient_stock` where for each ingrediant, you subtract the mean and square the result. (The mean is the number you calculated in **Question 2(d)** and x is each element in the list `ingredient_stock`)\n",
    "\n",
    "- Add this value to `sum_diffsq` at each iteration.\n",
    "  \n",
    "Note:\n",
    "\n",
    "- *Not every calculation has to be within the loop.* Once you have summed up all the squared values, you can take the `sum_diffsq` and divide it by the number of observations in the list `ingredient_stock`. \n",
    "   \n",
    "- *To take a number to a power in Python, use `**`, e.g. `5 ** 2` for 5 squared.*\n"
   ]
  },
  {
   "cell_type": "code",
   "execution_count": 28,
   "metadata": {
    "deletable": false,
    "nbgrader": {
     "cell_type": "code",
     "checksum": "aa0ba6a12f1a826c7dc07c4440725163",
     "grade": false,
     "grade_id": "cell-8126c9dd3dcbf70a",
     "locked": false,
     "schema_version": 3,
     "solution": true,
     "task": false
    }
   },
   "outputs": [],
   "source": [
    "sum_diffsq = 0\n",
    "\n",
    "for quantity in ingredient_stock:\n",
    "    diffsq = (quantity - stock_mean) ** 2\n",
    "    sum_diffsq += diffsq\n",
    "\n",
    "stock_variance = sum_diffsq / len(ingredient_stock)"
   ]
  },
  {
   "cell_type": "code",
   "execution_count": 29,
   "metadata": {
    "deletable": false,
    "editable": false,
    "nbgrader": {
     "cell_type": "code",
     "checksum": "5b852b863bf4203cbfcc19a8d3e84c2c",
     "grade": true,
     "grade_id": "cell-afbd5bead54163bc",
     "locked": true,
     "points": 2,
     "schema_version": 3,
     "solution": false,
     "task": false
    }
   },
   "outputs": [
    {
     "data": {
      "text/plain": [
       "'Success'"
      ]
     },
     "execution_count": 29,
     "metadata": {},
     "output_type": "execute_result"
    }
   ],
   "source": [
    "t.test_2e(stock_variance)"
   ]
  },
  {
   "cell_type": "markdown",
   "metadata": {},
   "source": [
    "**Question 2(f)** <br> {points: 2} \n",
    "\n",
    "Hussein is making spaghetti tonight and he needs to make sure that if he doesn't have enough of the ingredients in his pantry, he adds them to his shopping list. \n",
    "\n",
    "- For each item in the recipe, check if the ingredient is in Hussein's pantry. \n",
    "- If the recipe ingredient is in the pantry, check if the recipe requires more of the ingredient than what Hussein has in his pantry. If so, add the name and the quantity Hussein needs to purchase as key-value pairs in the dictionary `shopping_list`. \n",
    "- If the recipe item is not in the pantry, add the ingredient and the quantity as key-value pairs in the dictionary `shopping_list`."
   ]
  },
  {
   "cell_type": "code",
   "execution_count": 30,
   "metadata": {
    "deletable": false,
    "nbgrader": {
     "cell_type": "code",
     "checksum": "b3c22ccc41c624a5f1dd1678f542277f",
     "grade": false,
     "grade_id": "cell-c677a207ed1b7aa2",
     "locked": false,
     "schema_version": 3,
     "solution": true,
     "task": false
    }
   },
   "outputs": [],
   "source": [
    "pantry = {'pasta': 3, 'garlic': 4,'sauce': 2,\n",
    "          'basil': 2, 'salt': 3, 'olive oil': 3,\n",
    "          'rice': 3, 'bread': 3, 'peanut butter': 1,\n",
    "          'flour': 1, 'eggs': 1, 'onions': 1, 'mushrooms': 3,\n",
    "          'broccoli': 2, 'butter': 2,'pickles': 6, 'milk': 2,\n",
    "          'chia seeds': 5}\n",
    "\n",
    "meal_recipe = {'pasta': 2, 'garlic': 2, 'sauce': 3,\n",
    "          'basil': 4, 'salt': 1, 'pepper': 2,\n",
    "          'olive oil': 2, 'onions': 2, 'mushrooms': 6}\n",
    "\n",
    "\n",
    "shopping_list = dict()\n",
    "\n",
    "for ingredient in meal_recipe:\n",
    "    if ingredient in pantry:\n",
    "        if meal_recipe[ingredient] > pantry[ingredient]:\n",
    "            shopping_list[ingredient] = meal_recipe[ingredient] - pantry[ingredient]\n",
    "    else:\n",
    "        shopping_list[ingredient] = meal_recipe[ingredient]"
   ]
  },
  {
   "cell_type": "code",
   "execution_count": 31,
   "metadata": {
    "deletable": false,
    "editable": false,
    "nbgrader": {
     "cell_type": "code",
     "checksum": "4ae46310f9635c73af9ee14d4763947e",
     "grade": true,
     "grade_id": "cell-f65167d39d3ce5c2",
     "locked": true,
     "points": 2,
     "schema_version": 3,
     "solution": false,
     "task": false
    }
   },
   "outputs": [
    {
     "data": {
      "text/plain": [
       "'Success'"
      ]
     },
     "execution_count": 31,
     "metadata": {},
     "output_type": "execute_result"
    }
   ],
   "source": [
    "t.test_2f(shopping_list)"
   ]
  },
  {
   "cell_type": "markdown",
   "metadata": {},
   "source": [
    "## 3. Implementing the DRY Principle"
   ]
  },
  {
   "cell_type": "markdown",
   "metadata": {},
   "source": [
    "**Question 3(a)** <br> {points: 1} \n",
    "\n",
    "In the last 4 days, Arzan's average pulse for his heart rate has been the following beats per minute: 72, 88, 94, 65. He wants Python to decide which category each day's heart rate belongs to. The possible categories are:\n",
    "- \"High heart rate\" if it's greater than 80\n",
    "- \"Average  heart rate\" for anything between 70-80, and\n",
    "- \"Low  heart rate\" for anything below 70.\n",
    "\n",
    "Similar to what we did in the first section of the Module's learning material, **without using a loop**, make conditional statements for each day's pulse so Python can add each pulse to a list named `heartrate_labels`. \n",
    "\n",
    "*Hint: You should have an `if`, `elif` and `else` statement for **each** day*"
   ]
  },
  {
   "cell_type": "code",
   "execution_count": 32,
   "metadata": {
    "deletable": false,
    "nbgrader": {
     "cell_type": "code",
     "checksum": "debbae4f3a38d228cb7da67b33619696",
     "grade": false,
     "grade_id": "cell-0d8da57d062c2642",
     "locked": false,
     "schema_version": 3,
     "solution": true,
     "task": false
    }
   },
   "outputs": [],
   "source": [
    "pulse_day1 = 72\n",
    "pulse_day2 = 88\n",
    "pulse_day3 = 94\n",
    "pulse_day4 = 65\n",
    "\n",
    "heartrate_labels = list()\n",
    "\n",
    "if pulse_day1 < 70:\n",
    "    heartrate_labels.append('Low heart rate')\n",
    "elif pulse_day1 <= 80:\n",
    "    heartrate_labels.append('Average heart rate')\n",
    "else:\n",
    "    heartrate_labels.append('High heart rate')\n",
    "\n",
    "if pulse_day2 < 70:\n",
    "    heartrate_labels.append('Low heart rate')\n",
    "elif pulse_day2 <= 80:\n",
    "    heartrate_labels.append('Average heart rate')\n",
    "else:\n",
    "    heartrate_labels.append('High heart rate')\n",
    "    \n",
    "if pulse_day3 < 70:\n",
    "    heartrate_labels.append('Low heart rate')\n",
    "elif pulse_day3 <= 80:\n",
    "    heartrate_labels.append('Average heart rate')\n",
    "else:\n",
    "    heartrate_labels.append('High heart rate')\n",
    "    \n",
    "if pulse_day4 < 70:\n",
    "    heartrate_labels.append('Low heart rate')\n",
    "elif pulse_day4 <= 80:\n",
    "    heartrate_labels.append('Average heart rate')\n",
    "else:\n",
    "    heartrate_labels.append('High heart rate')"
   ]
  },
  {
   "cell_type": "code",
   "execution_count": 33,
   "metadata": {
    "deletable": false,
    "editable": false,
    "nbgrader": {
     "cell_type": "code",
     "checksum": "9faa8c29511f9320c8f23b14aa476aeb",
     "grade": true,
     "grade_id": "cell-1e74868c09310ad1",
     "locked": true,
     "points": 1,
     "schema_version": 3,
     "solution": false,
     "task": false
    }
   },
   "outputs": [
    {
     "data": {
      "text/plain": [
       "'Success'"
      ]
     },
     "execution_count": 33,
     "metadata": {},
     "output_type": "execute_result"
    }
   ],
   "source": [
    "t.test_3a(heartrate_labels)"
   ]
  },
  {
   "cell_type": "code",
   "execution_count": 34,
   "metadata": {},
   "outputs": [
    {
     "data": {
      "text/plain": [
       "['Average heart rate', 'High heart rate', 'High heart rate', 'Low heart rate']"
      ]
     },
     "execution_count": 34,
     "metadata": {},
     "output_type": "execute_result"
    }
   ],
   "source": [
    "heartrate_labels"
   ]
  },
  {
   "cell_type": "markdown",
   "metadata": {},
   "source": [
    "**Question 3(b)** <br> {points: 1} \n",
    "\n",
    "Repeat the question above, but this time use a `for` loop."
   ]
  },
  {
   "cell_type": "code",
   "execution_count": 35,
   "metadata": {
    "deletable": false,
    "nbgrader": {
     "cell_type": "code",
     "checksum": "3bec7747b55ab3beea06e89c858bfbcc",
     "grade": false,
     "grade_id": "cell-4b834c41897dd8d9",
     "locked": false,
     "schema_version": 3,
     "solution": true,
     "task": false
    }
   },
   "outputs": [],
   "source": [
    "pulses = [pulse_day1, pulse_day2, pulse_day3, pulse_day4]\n",
    "\n",
    "heartrate_labels = list()\n",
    "\n",
    "for heartrate in pulses:\n",
    "    if heartrate < 70:\n",
    "        heartrate_labels.append('Low heart rate')\n",
    "    elif heartrate <= 80:\n",
    "        heartrate_labels.append('Average heart rate')\n",
    "    else:\n",
    "        heartrate_labels.append('High heart rate')"
   ]
  },
  {
   "cell_type": "code",
   "execution_count": 36,
   "metadata": {
    "deletable": false,
    "editable": false,
    "nbgrader": {
     "cell_type": "code",
     "checksum": "4740955273f87d911d42b843e5e255f2",
     "grade": true,
     "grade_id": "cell-844eb90934065472",
     "locked": true,
     "points": 1,
     "schema_version": 3,
     "solution": false,
     "task": false
    }
   },
   "outputs": [
    {
     "data": {
      "text/plain": [
       "'Success'"
      ]
     },
     "execution_count": 36,
     "metadata": {},
     "output_type": "execute_result"
    }
   ],
   "source": [
    "t.test_3b(heartrate_labels)"
   ]
  },
  {
   "cell_type": "markdown",
   "metadata": {},
   "source": [
    "**Question 3(c)** <br> {points: 2} \n",
    "\n",
    "Which of the following are advantages of the code implemented in Question 3(b) vs Question 3(a)?\n",
    "\n",
    "A) Changing the high pulse threshold from 80 to 90 would only require one change in the code instead of 4 changes.\n",
    "\n",
    "B) The code works for a list of any length.\n",
    "\n",
    "C) The results will be more correct.\n",
    "\n",
    "D) The code takes less time to read.\n",
    "\n",
    "E) The code adheres to the DRY principle.\n",
    "\n",
    "\n",
    "*Assign your answer to an object called `answer2_i` in the code chunk below. Make sure your answer contains uppercase letters and surround it with quotation marks and square brackets.  If there are more than one answer to this question, separate each letter with a comma within the square brackets. For example, if you believe the answer is A, B and C your answer would like this:   \n",
    "`answer2_i = ['A', 'B', 'C')`*"
   ]
  },
  {
   "cell_type": "code",
   "execution_count": 37,
   "metadata": {
    "deletable": false,
    "nbgrader": {
     "cell_type": "code",
     "checksum": "8f559d1dc9aa6462dc6e66b7565fa9df",
     "grade": false,
     "grade_id": "cell-dbc77eeaf1e0d005",
     "locked": false,
     "schema_version": 3,
     "solution": true,
     "task": false
    }
   },
   "outputs": [],
   "source": [
    "answer3_c = 'E'"
   ]
  },
  {
   "cell_type": "code",
   "execution_count": 38,
   "metadata": {
    "deletable": false,
    "editable": false,
    "nbgrader": {
     "cell_type": "code",
     "checksum": "e3c874696276149c4dbb956705b24392",
     "grade": true,
     "grade_id": "cell-bc861bd9ad97766d",
     "locked": true,
     "points": 2,
     "schema_version": 3,
     "solution": false,
     "task": false
    }
   },
   "outputs": [],
   "source": [
    "# check that the variable exists\n",
    "assert 'answer3_c' in globals(\n",
    "), \"Please make sure that your solution is named 'answer3_c'\"\n",
    "\n",
    "# This test has been intentionally hidden. It will be up to you to decide if your solution\n",
    "# is sufficiently good."
   ]
  },
  {
   "cell_type": "markdown",
   "metadata": {},
   "source": [
    "## 4. Nested Loops"
   ]
  },
  {
   "cell_type": "markdown",
   "metadata": {},
   "source": [
    "**Question 4(a)** <br> {points: 1} \n",
    "\n",
    "Given the following code below, what is the output?\n",
    "\n",
    "\n",
    "<img src='static/loop0.png' width=\"560\">\n",
    "\n",
    "Answer in the cell below and assign the correct answer to an object called count."
   ]
  },
  {
   "cell_type": "code",
   "execution_count": 39,
   "metadata": {
    "deletable": false,
    "nbgrader": {
     "cell_type": "code",
     "checksum": "899550b60fd82751fc3c1c28ca94889b",
     "grade": false,
     "grade_id": "cell-a6198f50e4ef53b3",
     "locked": false,
     "schema_version": 3,
     "solution": true,
     "task": false
    }
   },
   "outputs": [],
   "source": [
    "import math\n",
    "count = math.factorial(4) - math.factorial(3)"
   ]
  },
  {
   "cell_type": "code",
   "execution_count": 40,
   "metadata": {
    "deletable": false,
    "editable": false,
    "nbgrader": {
     "cell_type": "code",
     "checksum": "4869a35bbdb5f7e5beb3e1420586ecfa",
     "grade": true,
     "grade_id": "cell-76615b209463f859",
     "locked": true,
     "points": 1,
     "schema_version": 3,
     "solution": false,
     "task": false
    }
   },
   "outputs": [
    {
     "data": {
      "text/plain": [
       "'Success'"
      ]
     },
     "execution_count": 40,
     "metadata": {},
     "output_type": "execute_result"
    }
   ],
   "source": [
    "t.test_4a(count)"
   ]
  },
  {
   "cell_type": "markdown",
   "metadata": {},
   "source": [
    "**Question 4(b)** <br> {points: 3} \n",
    "\n",
    "Hussein is at the store and some of the ingredients on his shopping list are organized by department.    \n",
    "```\n",
    "ingredient_categories = {'dairy':['butter', 'milk', 'cheese'], 'produce':['potatoes', 'onion', 'broccoli', 'mushrooms'], 'spices': ['salt', 'pepper', 'paprika']}\n",
    "```\n",
    "Hussein wants to know how many items from his pantries he has in each of the ingredient_categories `dairy`, `produce` and `spices`. We have given you the outer part of the code to help start you off. \n",
    "\n",
    "This question is a little trickier so use `print()` to check what is being output in the loops and variables. \n",
    "\n",
    "\n",
    "_Hint:_\n",
    "\n",
    "- *Create an inner loop that iterates over all the items in the `ingredients`.*\n",
    "- *Make sure you include a conditional statement that only compares ingredients that are in Hussein's pantry.*\n",
    "- *If it passes the conditional statement, add the pantry's value to the `category`'s existing value in `category_counts` so it sums up the total quantity of ingredients for each of the categories.*"
   ]
  },
  {
   "cell_type": "code",
   "execution_count": 41,
   "metadata": {
    "deletable": false,
    "nbgrader": {
     "cell_type": "code",
     "checksum": "0b090fb31d6c0334cfd6d390c94fd9eb",
     "grade": false,
     "grade_id": "cell-827c4d9a4602c0d5",
     "locked": false,
     "schema_version": 3,
     "solution": true,
     "task": false
    }
   },
   "outputs": [
    {
     "data": {
      "text/plain": [
       "{'dairy': 4, 'produce': 6, 'spices': 3}"
      ]
     },
     "execution_count": 41,
     "metadata": {},
     "output_type": "execute_result"
    }
   ],
   "source": [
    "pantry = {'pasta': 3, 'garlic': 4,'sauce': 2,\n",
    "          'basil': 2, 'salt': 3, 'olive oil': 3,\n",
    "          'rice': 3, 'bread': 3, 'peanut butter': 1,\n",
    "          'flour': 1, 'eggs': 1, 'onions': 1, 'mushrooms': 3,\n",
    "          'broccoli': 2, 'butter': 2,'pickles': 6, 'milk': 2,\n",
    "          'chia seeds': 5}\n",
    "\n",
    "ingredient_categories = {'dairy':['butter', 'milk', 'cheese'], \n",
    "                         'produce':['potatoes', 'onions', 'broccoli', 'mushrooms'], \n",
    "                         'spices': ['salt', 'pepper', 'paprika']}\n",
    "\n",
    "category_counts = dict()\n",
    "for category, ingredients in ingredient_categories.items():\n",
    "    for ingredient in ingredients:\n",
    "        if ingredient in pantry:\n",
    "            category_counts[category] = category_counts.get(category, 0) + pantry[ingredient]\n",
    "    \n",
    "category_counts"
   ]
  },
  {
   "cell_type": "code",
   "execution_count": 42,
   "metadata": {
    "deletable": false,
    "editable": false,
    "nbgrader": {
     "cell_type": "code",
     "checksum": "8981e530964cccc30385022bef17a126",
     "grade": true,
     "grade_id": "cell-f4c4f1adf9a87b43",
     "locked": true,
     "points": 1,
     "schema_version": 3,
     "solution": false,
     "task": false
    }
   },
   "outputs": [
    {
     "data": {
      "text/plain": [
       "'Success'"
      ]
     },
     "execution_count": 42,
     "metadata": {},
     "output_type": "execute_result"
    }
   ],
   "source": [
    "t.test_4b(category_counts)"
   ]
  },
  {
   "cell_type": "markdown",
   "metadata": {},
   "source": [
    "## 5. Functions "
   ]
  },
  {
   "cell_type": "markdown",
   "metadata": {},
   "source": [
    "**Question 5(a)** <br> {points: 1} \n",
    "\n",
    "Remember Arzan from **Question 3(a)** who wanted categories of his heart rate? Well, he is back with another heart rate! \n",
    "\n",
    "There is a good chance he may come back again, so to avoid making a new loop every time he returns, a function would be a good way to avoid repetitively writing loops for him. \n",
    "\n",
    "\n",
    "Convert the code from **Question 3(b)** into a function, so we don't need to write a lot of code when he comes back. \n",
    "Name your function `pulse_categorizer()` and make sure it takes in a numeric value and returns a single heart rate category. \n",
    "\n",
    "Use your new function on Arzan's new heart rate stored in the variable `arzan_pulse` and save it in an object named `heartrate_label2`."
   ]
  },
  {
   "cell_type": "code",
   "execution_count": 43,
   "metadata": {
    "deletable": false,
    "nbgrader": {
     "cell_type": "code",
     "checksum": "87e8e3950d266929cf806b5c03264f64",
     "grade": false,
     "grade_id": "cell-ae1be904eb086b18",
     "locked": false,
     "schema_version": 3,
     "solution": true,
     "task": false
    }
   },
   "outputs": [],
   "source": [
    "arzan_pulse = 55 \n",
    "\n",
    "def pulse_categorizer(heart_rate):\n",
    "    if heart_rate < 70:\n",
    "        return 'Low heart rate'\n",
    "    elif heart_rate <= 80:\n",
    "        return 'Average heart rate'\n",
    "    else:\n",
    "        return 'High heart rate'\n",
    "\n",
    "heartrate_label2 = pulse_categorizer(arzan_pulse)"
   ]
  },
  {
   "cell_type": "code",
   "execution_count": 44,
   "metadata": {
    "deletable": false,
    "editable": false,
    "nbgrader": {
     "cell_type": "code",
     "checksum": "0828627c2e5aaa50ef71c5e271f1607d",
     "grade": true,
     "grade_id": "cell-220ec1ae476bf870",
     "locked": true,
     "points": 1,
     "schema_version": 3,
     "solution": false,
     "task": false
    }
   },
   "outputs": [
    {
     "data": {
      "text/plain": [
       "'Success'"
      ]
     },
     "execution_count": 44,
     "metadata": {},
     "output_type": "execute_result"
    }
   ],
   "source": [
    "t.test_5a(heartrate_label2)"
   ]
  },
  {
   "cell_type": "markdown",
   "metadata": {},
   "source": [
    "**Question 5(b)** <br> {points: 2} \n",
    "\n",
    "As we expected, Arzan is back with more even heart rates (we predicted well!). He has brought 5 pulses that he needs categorizing that are stored in a list named `arzan_pulse`.    \n",
    "Make a loop iterating over `arzan_pulse` that uses your function from **Question 5(a)** to categorize each heart rates and append each heart rate category to a list named `multi_labels`. "
   ]
  },
  {
   "cell_type": "code",
   "execution_count": 45,
   "metadata": {
    "deletable": false,
    "nbgrader": {
     "cell_type": "code",
     "checksum": "a1e4f159950c84f57424a339f7d4c082",
     "grade": false,
     "grade_id": "cell-31521646d423b449",
     "locked": false,
     "schema_version": 3,
     "solution": true,
     "task": false
    }
   },
   "outputs": [
    {
     "data": {
      "text/plain": [
       "['Low heart rate',\n",
       " 'Low heart rate',\n",
       " 'Average heart rate',\n",
       " 'High heart rate',\n",
       " 'Average heart rate']"
      ]
     },
     "execution_count": 45,
     "metadata": {},
     "output_type": "execute_result"
    }
   ],
   "source": [
    "arzan_pulse = [55, 69, 73, 91, 78]\n",
    "\n",
    "multi_labels = list()\n",
    "\n",
    "for heart_rate in arzan_pulse:\n",
    "    category = pulse_categorizer(heart_rate)\n",
    "    multi_labels.append(category)\n",
    "\n",
    "multi_labels"
   ]
  },
  {
   "cell_type": "code",
   "execution_count": 46,
   "metadata": {
    "deletable": false,
    "editable": false,
    "nbgrader": {
     "cell_type": "code",
     "checksum": "7fcd62b4759ece779f91976a8faf961d",
     "grade": true,
     "grade_id": "cell-e83eb16eca5a5d66",
     "locked": true,
     "points": 2,
     "schema_version": 3,
     "solution": false,
     "task": false
    }
   },
   "outputs": [],
   "source": [
    "# check that the variable exists\n",
    "assert 'multi_labels' in globals(\n",
    "), \"Please make sure that your solution is named 'multi_labels'\"\n",
    "\n",
    "# This test has been intentionally hidden. It will be up to you to decide if your solution\n",
    "# is sufficiently good."
   ]
  },
  {
   "cell_type": "markdown",
   "metadata": {},
   "source": [
    "**Question 5(c)** <br> {points: 1} \n",
    "\n",
    "Rupi has come to you asking for the same tool that you created for Hussein in **Question 2(f)**. This was a tool that for every item in a recipe, checked Hussein's pantry and added the ingredients and quantity that Hussein was short on to a shopping list (actually it was a dictionary named `shopping_list`) . \n",
    "\n",
    "Repeat **Question 2(f)** for the same `meal_recipe` but this time apply it to Rupi's `fridge` instead of Hussein's `pantry`.  Add the missing ingredients with their quantity to the dictionary `rupis_list`. "
   ]
  },
  {
   "cell_type": "code",
   "execution_count": 47,
   "metadata": {
    "deletable": false,
    "nbgrader": {
     "cell_type": "code",
     "checksum": "3c8787569b8a686e4c61856b898e11c6",
     "grade": false,
     "grade_id": "cell-77f4568449330436",
     "locked": false,
     "schema_version": 3,
     "solution": true,
     "task": false
    }
   },
   "outputs": [],
   "source": [
    "fridge = {'bread': 3, 'peanut butter': 1,\n",
    "          'flour': 1, 'eggs': 4, 'ketchup': 1, 'mushrooms': 3,\n",
    "          'vanilla': 1, 'butter': 6,'coconut': 6,\n",
    "          'cream': 2\n",
    "          }\n",
    "\n",
    "meal_recipe = {'pasta': 2, 'garlic': 2, 'sauce': 3,\n",
    "          'basil': 4, 'salt': 1, 'pepper': 2,\n",
    "          'olive oil': 2, 'onions': 2, 'mushrooms': 6}\n",
    "\n",
    "rupis_list = dict()\n",
    "\n",
    "for ingredient in meal_recipe:\n",
    "    if ingredient in fridge:\n",
    "        if meal_recipe[ingredient] > fridge[ingredient]:\n",
    "            rupis_list[ingredient] = meal_recipe[ingredient] - fridge[ingredient]\n",
    "    else:\n",
    "        rupis_list[ingredient] = meal_recipe[ingredient]"
   ]
  },
  {
   "cell_type": "code",
   "execution_count": 48,
   "metadata": {
    "deletable": false,
    "editable": false,
    "nbgrader": {
     "cell_type": "code",
     "checksum": "2075170ac3da14d885af976f894a75a8",
     "grade": true,
     "grade_id": "cell-95b259f84f9805a0",
     "locked": true,
     "points": 1,
     "schema_version": 3,
     "solution": false,
     "task": false
    }
   },
   "outputs": [
    {
     "data": {
      "text/plain": [
       "'Success'"
      ]
     },
     "execution_count": 48,
     "metadata": {},
     "output_type": "execute_result"
    }
   ],
   "source": [
    "t.test_5c(rupis_list)"
   ]
  },
  {
   "cell_type": "markdown",
   "metadata": {},
   "source": [
    "**Question 5(d)** <br> {points: 1} \n",
    "\n",
    "In the last question, did you notice that you copied/rewrote code, that you've written before? It likely felt a little repetitive. If you find yourself copying or rewriting code, there is a good chance you are in violation of the DRY principle. \n",
    "\n",
    "\n",
    "Convert the code from  **Question 5(c)** so that given any pantry or recipe, the function returns the ingredients and their quantities that need to be purchased in a dictionary. \n",
    "Here are the function specifications: \n",
    "\n",
    "- The function should be named `recipe_shopping_list`. \n",
    "- It should have 2 input arguments: \n",
    "    - A dictionary containing current items and quantity in their possession and, \n",
    "    - A dictionary of recipe ingredients and the amount needed for the recipe. \n",
    "- The function should return a dictionary of items and the quantity of which is needed to be purchased.  "
   ]
  },
  {
   "cell_type": "code",
   "execution_count": 49,
   "metadata": {
    "deletable": false,
    "nbgrader": {
     "cell_type": "code",
     "checksum": "d2287a0bdee0a761ed75ab7bef197970",
     "grade": false,
     "grade_id": "cell-c09c338c69145403",
     "locked": false,
     "schema_version": 3,
     "solution": true,
     "task": false
    }
   },
   "outputs": [],
   "source": [
    "# Use this as Pantry\n",
    "dict1 = {'bread': 5, 'peanut butter': 3,\n",
    "          'flour': 7}\n",
    "\n",
    "# Use this as Recipe\n",
    "dict2 = {'eggs': 2, 'vanilla': 2, 'sugar': 3,\n",
    "                'flour': 2}\n",
    "\n",
    "def recipe_shopping_list(inventory, recipe):\n",
    "    shopping_list = dict()\n",
    "    \n",
    "    for ingredient in recipe:\n",
    "        if ingredient in inventory:\n",
    "            if recipe[ingredient] > inventory[ingredient]:\n",
    "                shopping_list[ingredient] = recipe[ingredient] - inventory[ingredient]\n",
    "        else:\n",
    "            shopping_list[ingredient] = recipe[ingredient]\n",
    "    \n",
    "    return shopping_list"
   ]
  },
  {
   "cell_type": "code",
   "execution_count": 50,
   "metadata": {
    "deletable": false,
    "editable": false,
    "nbgrader": {
     "cell_type": "code",
     "checksum": "43cb6d35a3fdaf24c12c666e7908bd29",
     "grade": true,
     "grade_id": "cell-15c2554acf286c12",
     "locked": true,
     "points": 1,
     "schema_version": 3,
     "solution": false,
     "task": false
    }
   },
   "outputs": [
    {
     "data": {
      "text/plain": [
       "'Success'"
      ]
     },
     "execution_count": 50,
     "metadata": {},
     "output_type": "execute_result"
    }
   ],
   "source": [
    "t.test_5d(recipe_shopping_list)"
   ]
  },
  {
   "cell_type": "markdown",
   "metadata": {},
   "source": [
    "**Question 5(e)** <br> {points: 1} \n",
    "\n",
    "Use the function `recipe_shopping_list` from above to obtain the shopping list of items needed to make the following banana bread recipe given the ingredients in `bakery`.\n",
    "Save the result in an object named `banana_bread_list`."
   ]
  },
  {
   "cell_type": "code",
   "execution_count": 51,
   "metadata": {
    "deletable": false,
    "nbgrader": {
     "cell_type": "code",
     "checksum": "468c42427193ce7f105b7e1c0bb271e0",
     "grade": false,
     "grade_id": "cell-16ee00ceb9e97c17",
     "locked": false,
     "schema_version": 3,
     "solution": true,
     "task": false
    }
   },
   "outputs": [],
   "source": [
    "bakery = {'bread': 3, 'peanut butter': 1,\n",
    "          'flour': 1, 'eggs': 4, 'ketchup': 1, 'mushrooms': 3,\n",
    "          'vanilla': 1, 'butter': 6,'coconut': 6,\n",
    "          'cream': 2}\n",
    "\n",
    "banana_bread = {'eggs': 2, 'vanilla': 2, 'sugar': 3,\n",
    "                'flour': 2, 'butter': 2,\n",
    "                'cream': 3, 'banana': 2, 'baking soda': 2}\n",
    "\n",
    "banana_bread_list = recipe_shopping_list(bakery, banana_bread) "
   ]
  },
  {
   "cell_type": "code",
   "execution_count": 52,
   "metadata": {
    "deletable": false,
    "editable": false,
    "nbgrader": {
     "cell_type": "code",
     "checksum": "2a3d63eb6130d4d4f89abbb85e5249b6",
     "grade": true,
     "grade_id": "cell-3c303a06112884aa",
     "locked": true,
     "points": 1,
     "schema_version": 3,
     "solution": false,
     "task": false
    }
   },
   "outputs": [
    {
     "data": {
      "text/plain": [
       "'Success'"
      ]
     },
     "execution_count": 52,
     "metadata": {},
     "output_type": "execute_result"
    }
   ],
   "source": [
    "t.test_5e(banana_bread_list)"
   ]
  },
  {
   "cell_type": "markdown",
   "metadata": {},
   "source": [
    "Before submitting your assignment please do the following:\n",
    "\n",
    "- Read through your solutions\n",
    "- **Restart your kernel and clear output and rerun your cells from top to bottom** \n",
    "- Makes sure that none of your code is broken \n",
    "- Verify that the tests from the questions you answered have obtained the output \"Success\"\n",
    "\n",
    "This is a simple way to make sure that you are submitting all the variables needed to mark the assignment. This method should help avoid losing marks due to changes in your environment.  "
   ]
  },
  {
   "cell_type": "markdown",
   "metadata": {},
   "source": [
    "## Attributions\n",
    "- MDS DSCI 511 - Programming for Data Science - [MDS's GitHub website](https://ubc-mds.github.io/course-descriptions/DSCI_511_prog-dsci/) "
   ]
  },
  {
   "cell_type": "markdown",
   "metadata": {},
   "source": [
    "## Module Debriefing\n",
    "\n",
    "If this video is not showing up below, click on the cell and click the ▶ button in the toolbar above."
   ]
  },
  {
   "cell_type": "code",
   "execution_count": 53,
   "metadata": {},
   "outputs": [
    {
     "data": {
      "image/jpeg": "[encoded data removed]",
      "text/html": [
       "\n",
       "        <iframe\n",
       "            width=\"854\"\n",
       "            height=\"480\"\n",
       "            src=\"https://www.youtube.com/embed/RXHwJK90FCI\"\n",
       "            frameborder=\"0\"\n",
       "            allowfullscreen\n",
       "        ></iframe>\n",
       "        "
      ],
      "text/plain": [
       "<IPython.lib.display.YouTubeVideo at 0x7fa305012250>"
      ]
     },
     "execution_count": 53,
     "metadata": {},
     "output_type": "execute_result"
    }
   ],
   "source": [
    "from IPython.display import YouTubeVideo\n",
    "YouTubeVideo('RXHwJK90FCI', width=854, height=480)"
   ]
  }
 ],
 "metadata": {
  "kernelspec": {
   "display_name": "Python 3",
   "language": "python",
   "name": "python3"
  },
  "language_info": {
   "codemirror_mode": {
    "name": "ipython",
    "version": 3
   },
   "file_extension": ".py",
   "mimetype": "text/x-python",
   "name": "python",
   "nbconvert_exporter": "python",
   "pygments_lexer": "ipython3",
   "version": "3.8.5"
  },
  "toc": {
   "base_numbering": 1,
   "nav_menu": {},
   "number_sections": true,
   "sideBar": true,
   "skip_h1_title": false,
   "title_cell": "Table of Contents",
   "title_sidebar": "Contents",
   "toc_cell": false,
   "toc_position": {},
   "toc_section_display": true,
   "toc_window_display": false
  }
 },
 "nbformat": 4,
 "nbformat_minor": 4
}
