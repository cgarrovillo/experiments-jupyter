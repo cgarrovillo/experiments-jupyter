{
 "cells": [
  {
   "cell_type": "markdown",
   "metadata": {},
   "source": [
    "# Exploring the impact of theme songs in Disney movies\n",
    "\n",
    "\n",
    "#### by Christian Garrovillo "
   ]
  },
  {
   "cell_type": "markdown",
   "metadata": {},
   "source": [
    "## Foreword\n",
    "\n",
    "This notebook will be showing some data analysis regarding `Disney` datasets located [here](https://data.world/kgarrett/disney-character-success-00-16)"
   ]
  },
  {
   "cell_type": "markdown",
   "metadata": {},
   "source": [
    "# Introduction"
   ]
  },
  {
   "cell_type": "markdown",
   "metadata": {},
   "source": [
    "## Question(s) of interests"
   ]
  },
  {
   "cell_type": "markdown",
   "metadata": {},
   "source": [
    "In this document, I will be exploring the effects that having a theme song has in the performance of a movie. More specifically, I will be attempting to answer the question: \n",
    "\n",
    "**Do movies with a theme song perform better than those without a theme song?** \n",
    "\n",
    "I chose this as based on personal experience, the most memorable Disney classics that comes to my mind can be associated with a theme song.\n",
    "Also, given that Disney has a large hand in the entertainment industry, I would not be surprised if they too have the data associated with theme songs; and that they use this data as fuel in their behind-the-scenes processes that outputs family favourites.\n",
    "\n",
    "Thus, I predict that by the end of this analysis, we will find that titles with theme songs *do* in fact perform better than those without a theme song."
   ]
  },
  {
   "cell_type": "markdown",
   "metadata": {},
   "source": [
    "## Dataset description\n",
    "\n",
    "The Disney dataset is composed of 5 tables: `disney_movies_total_gross.csv`, `disney_revenue_1991-2016..csv`,\n",
    "    `disney-characters.csv`, `disney-director.csv`, and `disney-voice-actors.csv`.\n",
    "\n",
    "These datasets include various information regarding Disney's releases such as movie names, protagonist/antagonist characters, as well as information regarding the operations of each release such as box-office statistics, directors, and MPAA rating. \n",
    "\n",
    "For my analysis, I will be narrowing my focus towards the following datasets:\n",
    "\n",
    " - `disney_movies_total_gross.csv` - For gathering data about a movie's performance\n",
    " - `disney-characters.csv` - For gathering data about a movie's main character, villain, and theme song.\n",
    " \n"
   ]
  },
  {
   "cell_type": "markdown",
   "metadata": {},
   "source": [
    "# Methods and Results\n",
    "\n",
    "We'll begin by performing some basic setup, and taking a peek at the data structures we'll be working with.\n",
    "\n",
    "We create copies of the original dataframe to preserve the original state, and so that we can reference it again later."
   ]
  },
  {
   "cell_type": "code",
   "execution_count": 1,
   "metadata": {},
   "outputs": [],
   "source": [
    "# Required libraries needed for this analysis\n",
    "import altair as alt\n",
    "import pandas as pd\n",
    "import numpy as np\n",
    "\n",
    "# Importing Data\n",
    "gross_orig = pd.read_csv('./data/disney_movies_total_gross.csv')\n",
    "gross = gross_orig.copy()\n",
    "\n",
    "characters_orig = pd.read_csv('./data/disney-characters.csv')\n",
    "characters = characters_orig.copy()"
   ]
  },
  {
   "cell_type": "code",
   "execution_count": 2,
   "metadata": {},
   "outputs": [
    {
     "data": {
      "text/html": [
       "<div>\n",
       "<style scoped>\n",
       "    .dataframe tbody tr th:only-of-type {\n",
       "        vertical-align: middle;\n",
       "    }\n",
       "\n",
       "    .dataframe tbody tr th {\n",
       "        vertical-align: top;\n",
       "    }\n",
       "\n",
       "    .dataframe thead th {\n",
       "        text-align: right;\n",
       "    }\n",
       "</style>\n",
       "<table border=\"1\" class=\"dataframe\">\n",
       "  <thead>\n",
       "    <tr style=\"text-align: right;\">\n",
       "      <th></th>\n",
       "      <th>movie_title</th>\n",
       "      <th>release_date</th>\n",
       "      <th>genre</th>\n",
       "      <th>MPAA_rating</th>\n",
       "      <th>total_gross</th>\n",
       "      <th>inflation_adjusted_gross</th>\n",
       "    </tr>\n",
       "  </thead>\n",
       "  <tbody>\n",
       "    <tr>\n",
       "      <th>408</th>\n",
       "      <td>Mr. 3000</td>\n",
       "      <td>Sep 17, 2004</td>\n",
       "      <td>Comedy</td>\n",
       "      <td>PG-13</td>\n",
       "      <td>$21,800,302</td>\n",
       "      <td>$29,593,641</td>\n",
       "    </tr>\n",
       "    <tr>\n",
       "      <th>132</th>\n",
       "      <td>The Mighty Ducks</td>\n",
       "      <td>Oct 2, 1992</td>\n",
       "      <td>Comedy</td>\n",
       "      <td>PG</td>\n",
       "      <td>$50,752,337</td>\n",
       "      <td>$103,120,810</td>\n",
       "    </tr>\n",
       "    <tr>\n",
       "      <th>25</th>\n",
       "      <td>The Last Flight of Noah’s Ark</td>\n",
       "      <td>Jun 25, 1980</td>\n",
       "      <td>NaN</td>\n",
       "      <td>NaN</td>\n",
       "      <td>$11,000,000</td>\n",
       "      <td>$34,472,116</td>\n",
       "    </tr>\n",
       "    <tr>\n",
       "      <th>251</th>\n",
       "      <td>The War at Home</td>\n",
       "      <td>Nov 20, 1996</td>\n",
       "      <td>NaN</td>\n",
       "      <td>R</td>\n",
       "      <td>$34,368</td>\n",
       "      <td>$65,543</td>\n",
       "    </tr>\n",
       "    <tr>\n",
       "      <th>83</th>\n",
       "      <td>The Little Mermaid</td>\n",
       "      <td>Nov 15, 1989</td>\n",
       "      <td>Adventure</td>\n",
       "      <td>G</td>\n",
       "      <td>$111,543,479</td>\n",
       "      <td>$223,726,012</td>\n",
       "    </tr>\n",
       "  </tbody>\n",
       "</table>\n",
       "</div>"
      ],
      "text/plain": [
       "                       movie_title  release_date      genre MPAA_rating  \\\n",
       "408                       Mr. 3000  Sep 17, 2004     Comedy       PG-13   \n",
       "132               The Mighty Ducks   Oct 2, 1992     Comedy          PG   \n",
       "25   The Last Flight of Noah’s Ark  Jun 25, 1980        NaN         NaN   \n",
       "251                The War at Home  Nov 20, 1996        NaN           R   \n",
       "83              The Little Mermaid  Nov 15, 1989  Adventure           G   \n",
       "\n",
       "      total_gross inflation_adjusted_gross  \n",
       "408   $21,800,302              $29,593,641  \n",
       "132   $50,752,337             $103,120,810  \n",
       "25    $11,000,000              $34,472,116  \n",
       "251       $34,368                  $65,543  \n",
       "83   $111,543,479             $223,726,012  "
      ]
     },
     "execution_count": 2,
     "metadata": {},
     "output_type": "execute_result"
    }
   ],
   "source": [
    "gross.sample(5)"
   ]
  },
  {
   "cell_type": "code",
   "execution_count": 3,
   "metadata": {},
   "outputs": [
    {
     "data": {
      "text/html": [
       "<div>\n",
       "<style scoped>\n",
       "    .dataframe tbody tr th:only-of-type {\n",
       "        vertical-align: middle;\n",
       "    }\n",
       "\n",
       "    .dataframe tbody tr th {\n",
       "        vertical-align: top;\n",
       "    }\n",
       "\n",
       "    .dataframe thead th {\n",
       "        text-align: right;\n",
       "    }\n",
       "</style>\n",
       "<table border=\"1\" class=\"dataframe\">\n",
       "  <thead>\n",
       "    <tr style=\"text-align: right;\">\n",
       "      <th></th>\n",
       "      <th>movie_title</th>\n",
       "      <th>release_date</th>\n",
       "      <th>hero</th>\n",
       "      <th>villian</th>\n",
       "      <th>song</th>\n",
       "    </tr>\n",
       "  </thead>\n",
       "  <tbody>\n",
       "    <tr>\n",
       "      <th>10</th>\n",
       "      <td>\\nThe Adventures of Ichabod and Mr. Toad</td>\n",
       "      <td>October 5, 1949</td>\n",
       "      <td>Mr. Toad and Ichabod Crane</td>\n",
       "      <td>Mr. Winkie and The Headless Horseman</td>\n",
       "      <td>The Merrily Song</td>\n",
       "    </tr>\n",
       "    <tr>\n",
       "      <th>5</th>\n",
       "      <td>\\nSaludos Amigos</td>\n",
       "      <td>February 6, 1943</td>\n",
       "      <td>Donald Duck</td>\n",
       "      <td>NaN</td>\n",
       "      <td>Saludos Amigos\\n</td>\n",
       "    </tr>\n",
       "    <tr>\n",
       "      <th>36</th>\n",
       "      <td>Tarzan</td>\n",
       "      <td>June 18, 1999</td>\n",
       "      <td>Tarzan</td>\n",
       "      <td>Clayton</td>\n",
       "      <td>You'll Be in My Heart</td>\n",
       "    </tr>\n",
       "    <tr>\n",
       "      <th>43</th>\n",
       "      <td>Brother Bear</td>\n",
       "      <td>November 1, 2003</td>\n",
       "      <td>Kenai</td>\n",
       "      <td>Denahi</td>\n",
       "      <td>Look Through My Eyes</td>\n",
       "    </tr>\n",
       "    <tr>\n",
       "      <th>49</th>\n",
       "      <td>\\nTangled</td>\n",
       "      <td>November 24, 2010</td>\n",
       "      <td>Rapunzel</td>\n",
       "      <td>Mother Gothel</td>\n",
       "      <td>I See the Light</td>\n",
       "    </tr>\n",
       "  </tbody>\n",
       "</table>\n",
       "</div>"
      ],
      "text/plain": [
       "                                 movie_title       release_date  \\\n",
       "10  \\nThe Adventures of Ichabod and Mr. Toad    October 5, 1949   \n",
       "5                           \\nSaludos Amigos   February 6, 1943   \n",
       "36                                    Tarzan      June 18, 1999   \n",
       "43                              Brother Bear   November 1, 2003   \n",
       "49                                 \\nTangled  November 24, 2010   \n",
       "\n",
       "                          hero                               villian  \\\n",
       "10  Mr. Toad and Ichabod Crane  Mr. Winkie and The Headless Horseman   \n",
       "5                  Donald Duck                                   NaN   \n",
       "36                      Tarzan                               Clayton   \n",
       "43                       Kenai                                Denahi   \n",
       "49                    Rapunzel                         Mother Gothel   \n",
       "\n",
       "                     song  \n",
       "10       The Merrily Song  \n",
       "5        Saludos Amigos\\n  \n",
       "36  You'll Be in My Heart  \n",
       "43   Look Through My Eyes  \n",
       "49        I See the Light  "
      ]
     },
     "execution_count": 3,
     "metadata": {},
     "output_type": "execute_result"
    }
   ],
   "source": [
    "characters.sample(5)"
   ]
  },
  {
   "cell_type": "markdown",
   "metadata": {},
   "source": [
    "From these tables, we have a basic understanding of what the datasets look like. \n",
    "\n",
    "However, we should get as much relevant information as we can so we can approach the datasets with our best foot forward."
   ]
  },
  {
   "cell_type": "code",
   "execution_count": 4,
   "metadata": {},
   "outputs": [
    {
     "name": "stdout",
     "output_type": "stream",
     "text": [
      "<class 'pandas.core.frame.DataFrame'>\n",
      "RangeIndex: 579 entries, 0 to 578\n",
      "Data columns (total 6 columns):\n",
      " #   Column                    Non-Null Count  Dtype \n",
      "---  ------                    --------------  ----- \n",
      " 0   movie_title               579 non-null    object\n",
      " 1   release_date              579 non-null    object\n",
      " 2   genre                     562 non-null    object\n",
      " 3   MPAA_rating               523 non-null    object\n",
      " 4   total_gross               579 non-null    object\n",
      " 5   inflation_adjusted_gross  579 non-null    object\n",
      "dtypes: object(6)\n",
      "memory usage: 27.3+ KB\n"
     ]
    }
   ],
   "source": [
    "gross.info()"
   ]
  },
  {
   "cell_type": "markdown",
   "metadata": {},
   "source": [
    "We can see that the `gross` dataset has $579$ rows and $6$ columns. For every `movie_title`, there exists:\n",
    "- A `release_date`\n",
    "- A `genre`\n",
    "- A `MPAA_rating` which determines the title's target demographic\n",
    "- A `total_gross` for the dollar amount that the title earned\n",
    "- and an `inflation_adjusted_gross` for the dollar amount that the title earned adjusted for inflation for the year 2016 (which is when the datasets were originally compiled)"
   ]
  },
  {
   "cell_type": "code",
   "execution_count": 5,
   "metadata": {},
   "outputs": [
    {
     "name": "stdout",
     "output_type": "stream",
     "text": [
      "<class 'pandas.core.frame.DataFrame'>\n",
      "RangeIndex: 56 entries, 0 to 55\n",
      "Data columns (total 5 columns):\n",
      " #   Column        Non-Null Count  Dtype \n",
      "---  ------        --------------  ----- \n",
      " 0   movie_title   56 non-null     object\n",
      " 1   release_date  56 non-null     object\n",
      " 2   hero          52 non-null     object\n",
      " 3   villian       46 non-null     object\n",
      " 4   song          47 non-null     object\n",
      "dtypes: object(5)\n",
      "memory usage: 2.3+ KB\n"
     ]
    }
   ],
   "source": [
    "characters.info()"
   ]
  },
  {
   "cell_type": "markdown",
   "metadata": {},
   "source": [
    "We can see that the `characters` dataset has $56$ rows and $5$ columns. For every `movie_title`, there exists:\n",
    "- A `release_date`\n",
    "- A `hero`\n",
    "- A `villian`\n",
    "- and a `song` which is the theme song of the title.\n",
    "\n",
    "\n",
    "Before we move forward any further, we will take steps in tidying our data so that our primary focus as we progress is on answering the analysis question being asked.\n",
    "\n",
    "As we gathered more info about the `characters` dataset, we can easily see that the `villian` column is misspelled."
   ]
  },
  {
   "cell_type": "code",
   "execution_count": 6,
   "metadata": {},
   "outputs": [],
   "source": [
    "# fix the spelling of the villian column.\n",
    "characters = characters.rename(columns={'villian': 'villain'})"
   ]
  },
  {
   "cell_type": "markdown",
   "metadata": {},
   "source": [
    "<br/>\n",
    "We can also change the data type of some columns to a type more appropriate for the data the column represents.\n",
    "\n",
    "We'll change the `release_date` columns on both dataframes:"
   ]
  },
  {
   "cell_type": "code",
   "execution_count": 7,
   "metadata": {},
   "outputs": [],
   "source": [
    "# change release_date column type to datetime\n",
    "gross['release_date'] = pd.to_datetime(gross['release_date'])\n",
    "characters['release_date'] = pd.to_datetime(characters['release_date'])"
   ]
  },
  {
   "cell_type": "markdown",
   "metadata": {},
   "source": [
    "Both `total_gross` & `inflation_adjusted_gross` columns on the `gross` dataframe are presented as of type *string*s, which makes it hard to analyze.\n",
    "We need to convert these into a type more appropriate for representing money such as *float*s, but the logic for this can easily get complicated and repetitive for the two columns.  \n",
    "\n",
    "To approach this, we can import a custom function that I created to clean up columns representing dollar amounts into a float."
   ]
  },
  {
   "cell_type": "code",
   "execution_count": 8,
   "metadata": {},
   "outputs": [],
   "source": [
    "import parse_dollar_col as pdc\n",
    "\n",
    "# convert the columns containing dollar values into a float using a utility function.\n",
    "gross = pdc.parse_dollar_col(gross, 'total_gross')\n",
    "gross = pdc.parse_dollar_col(gross, 'inflation_adjusted_gross')"
   ]
  },
  {
   "cell_type": "markdown",
   "metadata": {},
   "source": [
    "Our table structures are now as follows:"
   ]
  },
  {
   "cell_type": "code",
   "execution_count": 9,
   "metadata": {},
   "outputs": [
    {
     "name": "stdout",
     "output_type": "stream",
     "text": [
      "<class 'pandas.core.frame.DataFrame'>\n",
      "RangeIndex: 579 entries, 0 to 578\n",
      "Data columns (total 6 columns):\n",
      " #   Column                    Non-Null Count  Dtype         \n",
      "---  ------                    --------------  -----         \n",
      " 0   movie_title               579 non-null    object        \n",
      " 1   release_date              579 non-null    datetime64[ns]\n",
      " 2   genre                     562 non-null    object        \n",
      " 3   MPAA_rating               523 non-null    object        \n",
      " 4   total_gross               579 non-null    float64       \n",
      " 5   inflation_adjusted_gross  579 non-null    float64       \n",
      "dtypes: datetime64[ns](1), float64(2), object(3)\n",
      "memory usage: 27.3+ KB\n"
     ]
    }
   ],
   "source": [
    "gross.info()"
   ]
  },
  {
   "cell_type": "code",
   "execution_count": 10,
   "metadata": {},
   "outputs": [
    {
     "name": "stdout",
     "output_type": "stream",
     "text": [
      "<class 'pandas.core.frame.DataFrame'>\n",
      "RangeIndex: 56 entries, 0 to 55\n",
      "Data columns (total 5 columns):\n",
      " #   Column        Non-Null Count  Dtype         \n",
      "---  ------        --------------  -----         \n",
      " 0   movie_title   56 non-null     object        \n",
      " 1   release_date  56 non-null     datetime64[ns]\n",
      " 2   hero          52 non-null     object        \n",
      " 3   villain       46 non-null     object        \n",
      " 4   song          47 non-null     object        \n",
      "dtypes: datetime64[ns](1), object(4)\n",
      "memory usage: 2.3+ KB\n"
     ]
    }
   ],
   "source": [
    "characters.info()"
   ]
  },
  {
   "cell_type": "markdown",
   "metadata": {},
   "source": [
    "The column names are fixed, and the data types that each column represents is now more accurate.  But we are not done -- some of the values of the characters dataset has extraneous values such as newline formatting characters, and there are also empty *strings* that we want to replace with *NaN* values for easier consumption later on. \n"
   ]
  },
  {
   "cell_type": "code",
   "execution_count": 11,
   "metadata": {},
   "outputs": [
    {
     "data": {
      "text/html": [
       "<div>\n",
       "<style scoped>\n",
       "    .dataframe tbody tr th:only-of-type {\n",
       "        vertical-align: middle;\n",
       "    }\n",
       "\n",
       "    .dataframe tbody tr th {\n",
       "        vertical-align: top;\n",
       "    }\n",
       "\n",
       "    .dataframe thead th {\n",
       "        text-align: right;\n",
       "    }\n",
       "</style>\n",
       "<table border=\"1\" class=\"dataframe\">\n",
       "  <thead>\n",
       "    <tr style=\"text-align: right;\">\n",
       "      <th></th>\n",
       "      <th>movie_title</th>\n",
       "      <th>release_date</th>\n",
       "      <th>hero</th>\n",
       "      <th>villain</th>\n",
       "      <th>song</th>\n",
       "    </tr>\n",
       "  </thead>\n",
       "  <tbody>\n",
       "    <tr>\n",
       "      <th>0</th>\n",
       "      <td>Snow White and the Seven Dwarfs</td>\n",
       "      <td>1937-12-21</td>\n",
       "      <td>Snow White</td>\n",
       "      <td>Evil Queen</td>\n",
       "      <td>Some Day My Prince Will Come</td>\n",
       "    </tr>\n",
       "    <tr>\n",
       "      <th>1</th>\n",
       "      <td>Pinocchio</td>\n",
       "      <td>1940-02-07</td>\n",
       "      <td>Pinocchio</td>\n",
       "      <td>Stromboli</td>\n",
       "      <td>When You Wish upon a Star</td>\n",
       "    </tr>\n",
       "    <tr>\n",
       "      <th>2</th>\n",
       "      <td>Fantasia</td>\n",
       "      <td>1940-11-13</td>\n",
       "      <td>NaN</td>\n",
       "      <td>Chernabog</td>\n",
       "      <td>NaN</td>\n",
       "    </tr>\n",
       "    <tr>\n",
       "      <th>3</th>\n",
       "      <td>Dumbo</td>\n",
       "      <td>1941-10-23</td>\n",
       "      <td>Dumbo</td>\n",
       "      <td>Ringmaster</td>\n",
       "      <td>Baby Mine</td>\n",
       "    </tr>\n",
       "    <tr>\n",
       "      <th>4</th>\n",
       "      <td>Bambi</td>\n",
       "      <td>1942-08-13</td>\n",
       "      <td>Bambi</td>\n",
       "      <td>Hunter</td>\n",
       "      <td>Love Is a Song</td>\n",
       "    </tr>\n",
       "  </tbody>\n",
       "</table>\n",
       "</div>"
      ],
      "text/plain": [
       "                       movie_title release_date        hero     villain  \\\n",
       "0  Snow White and the Seven Dwarfs   1937-12-21  Snow White  Evil Queen   \n",
       "1                        Pinocchio   1940-02-07   Pinocchio   Stromboli   \n",
       "2                         Fantasia   1940-11-13         NaN   Chernabog   \n",
       "3                            Dumbo   1941-10-23       Dumbo  Ringmaster   \n",
       "4                            Bambi   1942-08-13       Bambi      Hunter   \n",
       "\n",
       "                           song  \n",
       "0  Some Day My Prince Will Come  \n",
       "1     When You Wish upon a Star  \n",
       "2                           NaN  \n",
       "3                     Baby Mine  \n",
       "4                Love Is a Song  "
      ]
     },
     "execution_count": 11,
     "metadata": {},
     "output_type": "execute_result"
    }
   ],
   "source": [
    "# remove newline formatting characters and replace empty strings with NaNs on our characters dataframe.\n",
    "characters = characters.replace('\\n', '', regex=True).replace(r'^\\s*$', np.nan, regex=True)\n",
    "characters.head(5)"
   ]
  },
  {
   "cell_type": "markdown",
   "metadata": {},
   "source": [
    "Upon further analysis of the `gross` dataset, we can also notice how there are duplicate values of the same `movie_title`, representing remakes. For accuracy, we'd like to only retain the movie with the most recent `release_date`.  This will make sense later when we filter our columns to those most relevant to answering our question. "
   ]
  },
  {
   "cell_type": "code",
   "execution_count": 12,
   "metadata": {},
   "outputs": [],
   "source": [
    "# remove duplicates (remakes) of movies, preferring the most recent release\n",
    "gross = gross.sort_values('release_date', ascending=False).drop_duplicates('movie_title').sort_index()\n",
    "characters = characters.sort_values('release_date', ascending=False).drop_duplicates('movie_title').sort_index()"
   ]
  },
  {
   "cell_type": "markdown",
   "metadata": {},
   "source": [
    "Since we have a common column of `movie_title` between both dataframes, we can combine them into a single dataframe."
   ]
  },
  {
   "cell_type": "code",
   "execution_count": 13,
   "metadata": {},
   "outputs": [
    {
     "data": {
      "text/html": [
       "<div>\n",
       "<style scoped>\n",
       "    .dataframe tbody tr th:only-of-type {\n",
       "        vertical-align: middle;\n",
       "    }\n",
       "\n",
       "    .dataframe tbody tr th {\n",
       "        vertical-align: top;\n",
       "    }\n",
       "\n",
       "    .dataframe thead th {\n",
       "        text-align: right;\n",
       "    }\n",
       "</style>\n",
       "<table border=\"1\" class=\"dataframe\">\n",
       "  <thead>\n",
       "    <tr style=\"text-align: right;\">\n",
       "      <th></th>\n",
       "      <th>movie_title</th>\n",
       "      <th>release_date_x</th>\n",
       "      <th>hero</th>\n",
       "      <th>villain</th>\n",
       "      <th>song</th>\n",
       "      <th>release_date_y</th>\n",
       "      <th>genre</th>\n",
       "      <th>MPAA_rating</th>\n",
       "      <th>total_gross</th>\n",
       "      <th>inflation_adjusted_gross</th>\n",
       "    </tr>\n",
       "  </thead>\n",
       "  <tbody>\n",
       "    <tr>\n",
       "      <th>0</th>\n",
       "      <td>Snow White and the Seven Dwarfs</td>\n",
       "      <td>1937-12-21</td>\n",
       "      <td>Snow White</td>\n",
       "      <td>Evil Queen</td>\n",
       "      <td>Some Day My Prince Will Come</td>\n",
       "      <td>1937-12-21</td>\n",
       "      <td>Musical</td>\n",
       "      <td>G</td>\n",
       "      <td>184925485.0</td>\n",
       "      <td>5.228953e+09</td>\n",
       "    </tr>\n",
       "    <tr>\n",
       "      <th>1</th>\n",
       "      <td>Pinocchio</td>\n",
       "      <td>1940-02-07</td>\n",
       "      <td>Pinocchio</td>\n",
       "      <td>Stromboli</td>\n",
       "      <td>When You Wish upon a Star</td>\n",
       "      <td>1940-02-09</td>\n",
       "      <td>Adventure</td>\n",
       "      <td>G</td>\n",
       "      <td>84300000.0</td>\n",
       "      <td>2.188229e+09</td>\n",
       "    </tr>\n",
       "    <tr>\n",
       "      <th>2</th>\n",
       "      <td>Fantasia</td>\n",
       "      <td>1940-11-13</td>\n",
       "      <td>NaN</td>\n",
       "      <td>Chernabog</td>\n",
       "      <td>NaN</td>\n",
       "      <td>1940-11-13</td>\n",
       "      <td>Musical</td>\n",
       "      <td>G</td>\n",
       "      <td>83320000.0</td>\n",
       "      <td>2.187091e+09</td>\n",
       "    </tr>\n",
       "    <tr>\n",
       "      <th>3</th>\n",
       "      <td>Cinderella</td>\n",
       "      <td>1950-02-15</td>\n",
       "      <td>Cinderella</td>\n",
       "      <td>Lady Tremaine</td>\n",
       "      <td>Bibbidi-Bobbidi-Boo</td>\n",
       "      <td>2015-03-13</td>\n",
       "      <td>Drama</td>\n",
       "      <td>PG</td>\n",
       "      <td>201151353.0</td>\n",
       "      <td>2.011514e+08</td>\n",
       "    </tr>\n",
       "    <tr>\n",
       "      <th>4</th>\n",
       "      <td>Alice in Wonderland</td>\n",
       "      <td>1951-07-28</td>\n",
       "      <td>Alice</td>\n",
       "      <td>Queen of Hearts</td>\n",
       "      <td>The Unbirthday Song</td>\n",
       "      <td>2010-03-05</td>\n",
       "      <td>Adventure</td>\n",
       "      <td>PG</td>\n",
       "      <td>334191110.0</td>\n",
       "      <td>3.570635e+08</td>\n",
       "    </tr>\n",
       "  </tbody>\n",
       "</table>\n",
       "</div>"
      ],
      "text/plain": [
       "                       movie_title release_date_x        hero  \\\n",
       "0  Snow White and the Seven Dwarfs     1937-12-21  Snow White   \n",
       "1                        Pinocchio     1940-02-07   Pinocchio   \n",
       "2                         Fantasia     1940-11-13         NaN   \n",
       "3                       Cinderella     1950-02-15  Cinderella   \n",
       "4              Alice in Wonderland     1951-07-28       Alice   \n",
       "\n",
       "           villain                          song release_date_y      genre  \\\n",
       "0       Evil Queen  Some Day My Prince Will Come     1937-12-21    Musical   \n",
       "1        Stromboli     When You Wish upon a Star     1940-02-09  Adventure   \n",
       "2        Chernabog                           NaN     1940-11-13    Musical   \n",
       "3    Lady Tremaine           Bibbidi-Bobbidi-Boo     2015-03-13      Drama   \n",
       "4  Queen of Hearts           The Unbirthday Song     2010-03-05  Adventure   \n",
       "\n",
       "  MPAA_rating  total_gross  inflation_adjusted_gross  \n",
       "0           G  184925485.0              5.228953e+09  \n",
       "1           G   84300000.0              2.188229e+09  \n",
       "2           G   83320000.0              2.187091e+09  \n",
       "3          PG  201151353.0              2.011514e+08  \n",
       "4          PG  334191110.0              3.570635e+08  "
      ]
     },
     "execution_count": 13,
     "metadata": {},
     "output_type": "execute_result"
    }
   ],
   "source": [
    "# merge the characters & gross dataframes using movie_title as keys,  otherwise excluding the data if the key does not exist on both dataframes.\n",
    "characters_gross = characters.merge(gross, left_on='movie_title', right_on='movie_title', how='inner')\n",
    "characters_gross.head(5)"
   ]
  },
  {
   "cell_type": "markdown",
   "metadata": {},
   "source": [
    "Notice how the merge introduced duplicate columns `release_date_x` & `release_date_y`. \n",
    "\n",
    "To reduce cognitive load, we can remove unrelated data and filter our columns to only those most relevant to us in answering our question:\n",
    "\n",
    " - `movie_title`\n",
    " - `song`\n",
    " - `genre`\n",
    " - `MPAA_rating`\n",
    " - `inflation_adjusted_gross`"
   ]
  },
  {
   "cell_type": "code",
   "execution_count": 14,
   "metadata": {},
   "outputs": [
    {
     "data": {
      "text/html": [
       "<div>\n",
       "<style scoped>\n",
       "    .dataframe tbody tr th:only-of-type {\n",
       "        vertical-align: middle;\n",
       "    }\n",
       "\n",
       "    .dataframe tbody tr th {\n",
       "        vertical-align: top;\n",
       "    }\n",
       "\n",
       "    .dataframe thead th {\n",
       "        text-align: right;\n",
       "    }\n",
       "</style>\n",
       "<table border=\"1\" class=\"dataframe\">\n",
       "  <thead>\n",
       "    <tr style=\"text-align: right;\">\n",
       "      <th></th>\n",
       "      <th>movie_title</th>\n",
       "      <th>song</th>\n",
       "      <th>genre</th>\n",
       "      <th>MPAA_rating</th>\n",
       "      <th>inflation_adjusted_gross</th>\n",
       "    </tr>\n",
       "  </thead>\n",
       "  <tbody>\n",
       "    <tr>\n",
       "      <th>0</th>\n",
       "      <td>Snow White and the Seven Dwarfs</td>\n",
       "      <td>Some Day My Prince Will Come</td>\n",
       "      <td>Musical</td>\n",
       "      <td>G</td>\n",
       "      <td>5.228953e+09</td>\n",
       "    </tr>\n",
       "    <tr>\n",
       "      <th>13</th>\n",
       "      <td>The Black Cauldron</td>\n",
       "      <td>NaN</td>\n",
       "      <td>Adventure</td>\n",
       "      <td>NaN</td>\n",
       "      <td>5.055314e+07</td>\n",
       "    </tr>\n",
       "    <tr>\n",
       "      <th>33</th>\n",
       "      <td>Chicken Little</td>\n",
       "      <td>NaN</td>\n",
       "      <td>Adventure</td>\n",
       "      <td>G</td>\n",
       "      <td>1.779547e+08</td>\n",
       "    </tr>\n",
       "    <tr>\n",
       "      <th>2</th>\n",
       "      <td>Fantasia</td>\n",
       "      <td>NaN</td>\n",
       "      <td>Musical</td>\n",
       "      <td>G</td>\n",
       "      <td>2.187091e+09</td>\n",
       "    </tr>\n",
       "    <tr>\n",
       "      <th>29</th>\n",
       "      <td>Lilo &amp; Stitch</td>\n",
       "      <td>He Mele No Lilo</td>\n",
       "      <td>Adventure</td>\n",
       "      <td>PG</td>\n",
       "      <td>2.115067e+08</td>\n",
       "    </tr>\n",
       "  </tbody>\n",
       "</table>\n",
       "</div>"
      ],
      "text/plain": [
       "                        movie_title                          song      genre  \\\n",
       "0   Snow White and the Seven Dwarfs  Some Day My Prince Will Come    Musical   \n",
       "13               The Black Cauldron                           NaN  Adventure   \n",
       "33                   Chicken Little                           NaN  Adventure   \n",
       "2                          Fantasia                           NaN    Musical   \n",
       "29                    Lilo & Stitch               He Mele No Lilo  Adventure   \n",
       "\n",
       "   MPAA_rating  inflation_adjusted_gross  \n",
       "0            G              5.228953e+09  \n",
       "13         NaN              5.055314e+07  \n",
       "33           G              1.779547e+08  \n",
       "2            G              2.187091e+09  \n",
       "29          PG              2.115067e+08  "
      ]
     },
     "execution_count": 14,
     "metadata": {},
     "output_type": "execute_result"
    }
   ],
   "source": [
    "# drop columns that are irrelevant to us in answering our questions\n",
    "characters_gross = characters_gross.filter(items=['movie_title', 'song', 'genre', 'MPAA_rating', 'inflation_adjusted_gross'], axis=1)\n",
    "characters_gross.sample(5)"
   ]
  },
  {
   "cell_type": "markdown",
   "metadata": {},
   "source": [
    "**Note:** Here we also removed the `total_gross` column.  This is important in making sure our analysis is accurate since our dataset hosts a wide range of movies released from 1937 upto 2016,  therefore our conclusions must be drawn using data as if a title were released in 2016 -- hence the use of `inflation_adjusted_gross`."
   ]
  },
  {
   "cell_type": "markdown",
   "metadata": {},
   "source": [
    "<hr/>\n",
    "Now that we have taken precautions by tidying our data, we can begin connecting the dots.\n",
    "\n",
    "To start, we can first separate titles that have songs and those with no songs, and grouping them together. However, the column `song` as it stands right now is not ideal since the question we are asking requires a binary answer; it either has a song or does not.  For this reason, we can create a new column `has_song` that determines whether a movie has a song or does not. This makes it easier for us to group them together later."
   ]
  },
  {
   "cell_type": "code",
   "execution_count": 15,
   "metadata": {},
   "outputs": [
    {
     "data": {
      "text/html": [
       "<div>\n",
       "<style scoped>\n",
       "    .dataframe tbody tr th:only-of-type {\n",
       "        vertical-align: middle;\n",
       "    }\n",
       "\n",
       "    .dataframe tbody tr th {\n",
       "        vertical-align: top;\n",
       "    }\n",
       "\n",
       "    .dataframe thead th {\n",
       "        text-align: right;\n",
       "    }\n",
       "</style>\n",
       "<table border=\"1\" class=\"dataframe\">\n",
       "  <thead>\n",
       "    <tr style=\"text-align: right;\">\n",
       "      <th></th>\n",
       "      <th>movie_title</th>\n",
       "      <th>song</th>\n",
       "      <th>genre</th>\n",
       "      <th>MPAA_rating</th>\n",
       "      <th>inflation_adjusted_gross</th>\n",
       "      <th>has_song</th>\n",
       "    </tr>\n",
       "  </thead>\n",
       "  <tbody>\n",
       "    <tr>\n",
       "      <th>10</th>\n",
       "      <td>The Many Adventures of Winnie the Pooh</td>\n",
       "      <td>Winnie the Pooh</td>\n",
       "      <td>NaN</td>\n",
       "      <td>NaN</td>\n",
       "      <td>0.000000e+00</td>\n",
       "      <td>Yes</td>\n",
       "    </tr>\n",
       "    <tr>\n",
       "      <th>33</th>\n",
       "      <td>Chicken Little</td>\n",
       "      <td>NaN</td>\n",
       "      <td>Adventure</td>\n",
       "      <td>G</td>\n",
       "      <td>1.779547e+08</td>\n",
       "      <td>No</td>\n",
       "    </tr>\n",
       "    <tr>\n",
       "      <th>6</th>\n",
       "      <td>Sleeping Beauty</td>\n",
       "      <td>Once Upon a Dream</td>\n",
       "      <td>Drama</td>\n",
       "      <td>NaN</td>\n",
       "      <td>2.150583e+07</td>\n",
       "      <td>Yes</td>\n",
       "    </tr>\n",
       "    <tr>\n",
       "      <th>21</th>\n",
       "      <td>Pocahontas</td>\n",
       "      <td>Colors of the Wind</td>\n",
       "      <td>Adventure</td>\n",
       "      <td>G</td>\n",
       "      <td>2.743710e+08</td>\n",
       "      <td>Yes</td>\n",
       "    </tr>\n",
       "    <tr>\n",
       "      <th>0</th>\n",
       "      <td>Snow White and the Seven Dwarfs</td>\n",
       "      <td>Some Day My Prince Will Come</td>\n",
       "      <td>Musical</td>\n",
       "      <td>G</td>\n",
       "      <td>5.228953e+09</td>\n",
       "      <td>Yes</td>\n",
       "    </tr>\n",
       "  </tbody>\n",
       "</table>\n",
       "</div>"
      ],
      "text/plain": [
       "                               movie_title                          song  \\\n",
       "10  The Many Adventures of Winnie the Pooh               Winnie the Pooh   \n",
       "33                          Chicken Little                           NaN   \n",
       "6                          Sleeping Beauty             Once Upon a Dream   \n",
       "21                              Pocahontas            Colors of the Wind   \n",
       "0          Snow White and the Seven Dwarfs  Some Day My Prince Will Come   \n",
       "\n",
       "        genre MPAA_rating  inflation_adjusted_gross has_song  \n",
       "10        NaN         NaN              0.000000e+00      Yes  \n",
       "33  Adventure           G              1.779547e+08       No  \n",
       "6       Drama         NaN              2.150583e+07      Yes  \n",
       "21  Adventure           G              2.743710e+08      Yes  \n",
       "0     Musical           G              5.228953e+09      Yes  "
      ]
     },
     "execution_count": 15,
     "metadata": {},
     "output_type": "execute_result"
    }
   ],
   "source": [
    "# add a has_song column value for each row, dependent on their song value\n",
    "characters_gross.loc[~pd.isna(characters_gross['song']), 'has_song'] = 'Yes'\n",
    "characters_gross.loc[pd.isna(characters_gross['song']), 'has_song'] = 'No'\n",
    "characters_gross.sample(5)"
   ]
  },
  {
   "cell_type": "markdown",
   "metadata": {},
   "source": [
    "With that new *Nominal* column in the dataframe, let us put them into separate dataframes so we can visualize each bins individually."
   ]
  },
  {
   "cell_type": "code",
   "execution_count": 16,
   "metadata": {},
   "outputs": [],
   "source": [
    "# put the movies into separate dataframes depending on whether they have a theme song or not\n",
    "characters_gross_w_song = characters_gross[characters_gross['has_song'] == 'Yes']\n",
    "characters_gross_wo_song = characters_gross[characters_gross['has_song'] == 'No']"
   ]
  },
  {
   "cell_type": "code",
   "execution_count": 17,
   "metadata": {},
   "outputs": [
    {
     "data": {
      "text/html": [
       "\n",
       "<div id=\"altair-viz-7e29396f30e747f8871c10018cdb41fb\"></div>\n",
       "<script type=\"text/javascript\">\n",
       "  (function(spec, embedOpt){\n",
       "    let outputDiv = document.currentScript.previousElementSibling;\n",
       "    if (outputDiv.id !== \"altair-viz-7e29396f30e747f8871c10018cdb41fb\") {\n",
       "      outputDiv = document.getElementById(\"altair-viz-7e29396f30e747f8871c10018cdb41fb\");\n",
       "    }\n",
       "    const paths = {\n",
       "      \"vega\": \"https://cdn.jsdelivr.net/npm//vega@5?noext\",\n",
       "      \"vega-lib\": \"https://cdn.jsdelivr.net/npm//vega-lib?noext\",\n",
       "      \"vega-lite\": \"https://cdn.jsdelivr.net/npm//vega-lite@4.8.1?noext\",\n",
       "      \"vega-embed\": \"https://cdn.jsdelivr.net/npm//vega-embed@6?noext\",\n",
       "    };\n",
       "\n",
       "    function loadScript(lib) {\n",
       "      return new Promise(function(resolve, reject) {\n",
       "        var s = document.createElement('script');\n",
       "        s.src = paths[lib];\n",
       "        s.async = true;\n",
       "        s.onload = () => resolve(paths[lib]);\n",
       "        s.onerror = () => reject(`Error loading script: ${paths[lib]}`);\n",
       "        document.getElementsByTagName(\"head\")[0].appendChild(s);\n",
       "      });\n",
       "    }\n",
       "\n",
       "    function showError(err) {\n",
       "      outputDiv.innerHTML = `<div class=\"error\" style=\"color:red;\">${err}</div>`;\n",
       "      throw err;\n",
       "    }\n",
       "\n",
       "    function displayChart(vegaEmbed) {\n",
       "      vegaEmbed(outputDiv, spec, embedOpt)\n",
       "        .catch(err => showError(`Javascript Error: ${err.message}<br>This usually means there's a typo in your chart specification. See the javascript console for the full traceback.`));\n",
       "    }\n",
       "\n",
       "    if(typeof define === \"function\" && define.amd) {\n",
       "      requirejs.config({paths});\n",
       "      require([\"vega-embed\"], displayChart, err => showError(`Error loading script: ${err.message}`));\n",
       "    } else if (typeof vegaEmbed === \"function\") {\n",
       "      displayChart(vegaEmbed);\n",
       "    } else {\n",
       "      loadScript(\"vega\")\n",
       "        .then(() => loadScript(\"vega-lite\"))\n",
       "        .then(() => loadScript(\"vega-embed\"))\n",
       "        .catch(showError)\n",
       "        .then(() => displayChart(vegaEmbed));\n",
       "    }\n",
       "  })({\"config\": {\"view\": {\"continuousWidth\": 400, \"continuousHeight\": 300}}, \"data\": {\"name\": \"data-21954cdae9d075c3beab06c484eaf00b\"}, \"mark\": \"bar\", \"encoding\": {\"x\": {\"type\": \"nominal\", \"field\": \"movie_title\", \"sort\": \"y\", \"title\": \"Movie\"}, \"y\": {\"type\": \"quantitative\", \"field\": \"inflation_adjusted_gross\", \"title\": \"Performance ($)\"}}, \"height\": 200, \"title\": \"Performance of movies that have a theme song\", \"width\": 700, \"$schema\": \"https://vega.github.io/schema/vega-lite/v4.8.1.json\", \"datasets\": {\"data-21954cdae9d075c3beab06c484eaf00b\": [{\"movie_title\": \"Snow White and the Seven Dwarfs\", \"song\": \"Some Day My Prince Will Come\", \"genre\": \"Musical\", \"MPAA_rating\": \"G\", \"inflation_adjusted_gross\": 5228953251.0, \"has_song\": \"Yes\"}, {\"movie_title\": \"Pinocchio\", \"song\": \"When You Wish upon a Star\", \"genre\": \"Adventure\", \"MPAA_rating\": \"G\", \"inflation_adjusted_gross\": 2188229052.0, \"has_song\": \"Yes\"}, {\"movie_title\": \"Cinderella\", \"song\": \"Bibbidi-Bobbidi-Boo\", \"genre\": \"Drama\", \"MPAA_rating\": \"PG\", \"inflation_adjusted_gross\": 201151353.0, \"has_song\": \"Yes\"}, {\"movie_title\": \"Alice in Wonderland\", \"song\": \"The Unbirthday Song\", \"genre\": \"Adventure\", \"MPAA_rating\": \"PG\", \"inflation_adjusted_gross\": 357063499.0, \"has_song\": \"Yes\"}, {\"movie_title\": \"Lady and the Tramp\", \"song\": \"Bella Notte\", \"genre\": \"Drama\", \"MPAA_rating\": \"G\", \"inflation_adjusted_gross\": 1236035515.0, \"has_song\": \"Yes\"}, {\"movie_title\": \"Sleeping Beauty\", \"song\": \"Once Upon a Dream\", \"genre\": \"Drama\", \"MPAA_rating\": null, \"inflation_adjusted_gross\": 21505832.0, \"has_song\": \"Yes\"}, {\"movie_title\": \"The Sword in the Stone\", \"song\": \"Higitus Figitus\", \"genre\": \"Adventure\", \"MPAA_rating\": null, \"inflation_adjusted_gross\": 153870834.0, \"has_song\": \"Yes\"}, {\"movie_title\": \"The Jungle Book\", \"song\": \"The Bare Necessities\", \"genre\": \"Adventure\", \"MPAA_rating\": \"PG\", \"inflation_adjusted_gross\": 364001123.0, \"has_song\": \"Yes\"}, {\"movie_title\": \"The Aristocats\", \"song\": \"Ev'rybody Wants to Be a Cat\", \"genre\": \"Musical\", \"MPAA_rating\": \"G\", \"inflation_adjusted_gross\": 255161499.0, \"has_song\": \"Yes\"}, {\"movie_title\": \"The Many Adventures of Winnie the Pooh\", \"song\": \"Winnie the Pooh\", \"genre\": null, \"MPAA_rating\": null, \"inflation_adjusted_gross\": 0.0, \"has_song\": \"Yes\"}, {\"movie_title\": \"The Rescuers\", \"song\": \"The Journey\", \"genre\": \"Adventure\", \"MPAA_rating\": null, \"inflation_adjusted_gross\": 159743914.0, \"has_song\": \"Yes\"}, {\"movie_title\": \"The Fox and the Hound\", \"song\": \"Best of Friends\", \"genre\": \"Comedy\", \"MPAA_rating\": null, \"inflation_adjusted_gross\": 133118889.0, \"has_song\": \"Yes\"}, {\"movie_title\": \"The Great Mouse Detective\", \"song\": \"The World's Greatest Criminal Mind\", \"genre\": \"Adventure\", \"MPAA_rating\": null, \"inflation_adjusted_gross\": 53637367.0, \"has_song\": \"Yes\"}, {\"movie_title\": \"Oliver & Company\", \"song\": \"Once Upon a Time in New York City\", \"genre\": \"Adventure\", \"MPAA_rating\": \"G\", \"inflation_adjusted_gross\": 102254492.0, \"has_song\": \"Yes\"}, {\"movie_title\": \"The Little Mermaid\", \"song\": \"Under the Sea\", \"genre\": \"Adventure\", \"MPAA_rating\": \"G\", \"inflation_adjusted_gross\": 223726012.0, \"has_song\": \"Yes\"}, {\"movie_title\": \"Beauty and the Beast\", \"song\": \"Be Our Guest\", \"genre\": \"Musical\", \"MPAA_rating\": \"G\", \"inflation_adjusted_gross\": 363017667.0, \"has_song\": \"Yes\"}, {\"movie_title\": \"Aladdin\", \"song\": \"A Whole New World\", \"genre\": \"Comedy\", \"MPAA_rating\": \"G\", \"inflation_adjusted_gross\": 441969178.0, \"has_song\": \"Yes\"}, {\"movie_title\": \"The Lion King\", \"song\": \"Circle of Life\", \"genre\": \"Adventure\", \"MPAA_rating\": \"G\", \"inflation_adjusted_gross\": 761640898.0, \"has_song\": \"Yes\"}, {\"movie_title\": \"Pocahontas\", \"song\": \"Colors of the Wind\", \"genre\": \"Adventure\", \"MPAA_rating\": \"G\", \"inflation_adjusted_gross\": 274370957.0, \"has_song\": \"Yes\"}, {\"movie_title\": \"The Hunchback of Notre Dame\", \"song\": \"God Help the Outcasts\", \"genre\": \"Adventure\", \"MPAA_rating\": \"G\", \"inflation_adjusted_gross\": 190988799.0, \"has_song\": \"Yes\"}, {\"movie_title\": \"Hercules\", \"song\": \"Go the Distance\", \"genre\": \"Adventure\", \"MPAA_rating\": \"G\", \"inflation_adjusted_gross\": 182029412.0, \"has_song\": \"Yes\"}, {\"movie_title\": \"Mulan\", \"song\": \"I'll Make a Man Out of You\", \"genre\": \"Adventure\", \"MPAA_rating\": \"G\", \"inflation_adjusted_gross\": 216807832.0, \"has_song\": \"Yes\"}, {\"movie_title\": \"Tarzan\", \"song\": \"You'll Be in My Heart\", \"genre\": \"Adventure\", \"MPAA_rating\": \"G\", \"inflation_adjusted_gross\": 283900254.0, \"has_song\": \"Yes\"}, {\"movie_title\": \"The Emperor's New Groove\", \"song\": \"My Funny Friend and Me\", \"genre\": \"Adventure\", \"MPAA_rating\": \"G\", \"inflation_adjusted_gross\": 136789252.0, \"has_song\": \"Yes\"}, {\"movie_title\": \"Atlantis: The Lost Empire\", \"song\": \"Where the Dream Takes You\", \"genre\": \"Adventure\", \"MPAA_rating\": \"PG\", \"inflation_adjusted_gross\": 125188122.0, \"has_song\": \"Yes\"}, {\"movie_title\": \"Lilo & Stitch\", \"song\": \"He Mele No Lilo\", \"genre\": \"Adventure\", \"MPAA_rating\": \"PG\", \"inflation_adjusted_gross\": 211506702.0, \"has_song\": \"Yes\"}, {\"movie_title\": \"Treasure Planet\", \"song\": \"I'm Still Here\", \"genre\": \"Adventure\", \"MPAA_rating\": \"PG\", \"inflation_adjusted_gross\": 55189145.0, \"has_song\": \"Yes\"}, {\"movie_title\": \"Brother Bear\", \"song\": \"Look Through My Eyes\", \"genre\": \"Adventure\", \"MPAA_rating\": \"G\", \"inflation_adjusted_gross\": 119218333.0, \"has_song\": \"Yes\"}, {\"movie_title\": \"Meet the Robinsons\", \"song\": \"Little Wonders\", \"genre\": \"Adventure\", \"MPAA_rating\": \"G\", \"inflation_adjusted_gross\": 119860589.0, \"has_song\": \"Yes\"}, {\"movie_title\": \"Bolt\", \"song\": \"I Thought I Lost You\", \"genre\": \"Comedy\", \"MPAA_rating\": \"PG\", \"inflation_adjusted_gross\": 133702498.0, \"has_song\": \"Yes\"}, {\"movie_title\": \"The Princess and the Frog\", \"song\": \"Almost There\", \"genre\": \"Adventure\", \"MPAA_rating\": \"G\", \"inflation_adjusted_gross\": 116316457.0, \"has_song\": \"Yes\"}, {\"movie_title\": \"Tangled\", \"song\": \"I See the Light\", \"genre\": \"Adventure\", \"MPAA_rating\": \"PG\", \"inflation_adjusted_gross\": 214388548.0, \"has_song\": \"Yes\"}, {\"movie_title\": \"Winnie the Pooh\", \"song\": \"Winnie the Pooh\", \"genre\": \"Adventure\", \"MPAA_rating\": \"G\", \"inflation_adjusted_gross\": 28375869.0, \"has_song\": \"Yes\"}, {\"movie_title\": \"Wreck-It Ralph\", \"song\": \"Sugar Rush\", \"genre\": \"Adventure\", \"MPAA_rating\": \"PG\", \"inflation_adjusted_gross\": 200354959.0, \"has_song\": \"Yes\"}, {\"movie_title\": \"Frozen\", \"song\": \"Let It Go\", \"genre\": \"Adventure\", \"MPAA_rating\": \"PG\", \"inflation_adjusted_gross\": 414997174.0, \"has_song\": \"Yes\"}, {\"movie_title\": \"Big Hero 6\", \"song\": \"Immortals\", \"genre\": \"Adventure\", \"MPAA_rating\": \"PG\", \"inflation_adjusted_gross\": 229249222.0, \"has_song\": \"Yes\"}, {\"movie_title\": \"Zootopia\", \"song\": \"Try Everything\", \"genre\": \"Adventure\", \"MPAA_rating\": \"PG\", \"inflation_adjusted_gross\": 341268248.0, \"has_song\": \"Yes\"}, {\"movie_title\": \"Moana\", \"song\": \"How Far I'll Go\", \"genre\": \"Adventure\", \"MPAA_rating\": \"PG\", \"inflation_adjusted_gross\": 246082029.0, \"has_song\": \"Yes\"}]}}, {\"mode\": \"vega-lite\"});\n",
       "</script>"
      ],
      "text/plain": [
       "alt.Chart(...)"
      ]
     },
     "execution_count": 17,
     "metadata": {},
     "output_type": "execute_result"
    }
   ],
   "source": [
    "(alt.Chart(characters_gross_w_song, width=700, height=200)\n",
    "    .mark_bar()\n",
    "    .encode(\n",
    "        x=alt.X('movie_title:N', title='Movie', sort='y'),\n",
    "        y=alt.Y('inflation_adjusted_gross:Q', title='Performance ($)')\n",
    "    )\n",
    "    .properties(title=\"Performance of movies that have a theme song\"))"
   ]
  },
  {
   "cell_type": "code",
   "execution_count": 18,
   "metadata": {},
   "outputs": [
    {
     "data": {
      "text/html": [
       "\n",
       "<div id=\"altair-viz-a13d0a27d86c4a97b3526d828474fd97\"></div>\n",
       "<script type=\"text/javascript\">\n",
       "  (function(spec, embedOpt){\n",
       "    let outputDiv = document.currentScript.previousElementSibling;\n",
       "    if (outputDiv.id !== \"altair-viz-a13d0a27d86c4a97b3526d828474fd97\") {\n",
       "      outputDiv = document.getElementById(\"altair-viz-a13d0a27d86c4a97b3526d828474fd97\");\n",
       "    }\n",
       "    const paths = {\n",
       "      \"vega\": \"https://cdn.jsdelivr.net/npm//vega@5?noext\",\n",
       "      \"vega-lib\": \"https://cdn.jsdelivr.net/npm//vega-lib?noext\",\n",
       "      \"vega-lite\": \"https://cdn.jsdelivr.net/npm//vega-lite@4.8.1?noext\",\n",
       "      \"vega-embed\": \"https://cdn.jsdelivr.net/npm//vega-embed@6?noext\",\n",
       "    };\n",
       "\n",
       "    function loadScript(lib) {\n",
       "      return new Promise(function(resolve, reject) {\n",
       "        var s = document.createElement('script');\n",
       "        s.src = paths[lib];\n",
       "        s.async = true;\n",
       "        s.onload = () => resolve(paths[lib]);\n",
       "        s.onerror = () => reject(`Error loading script: ${paths[lib]}`);\n",
       "        document.getElementsByTagName(\"head\")[0].appendChild(s);\n",
       "      });\n",
       "    }\n",
       "\n",
       "    function showError(err) {\n",
       "      outputDiv.innerHTML = `<div class=\"error\" style=\"color:red;\">${err}</div>`;\n",
       "      throw err;\n",
       "    }\n",
       "\n",
       "    function displayChart(vegaEmbed) {\n",
       "      vegaEmbed(outputDiv, spec, embedOpt)\n",
       "        .catch(err => showError(`Javascript Error: ${err.message}<br>This usually means there's a typo in your chart specification. See the javascript console for the full traceback.`));\n",
       "    }\n",
       "\n",
       "    if(typeof define === \"function\" && define.amd) {\n",
       "      requirejs.config({paths});\n",
       "      require([\"vega-embed\"], displayChart, err => showError(`Error loading script: ${err.message}`));\n",
       "    } else if (typeof vegaEmbed === \"function\") {\n",
       "      displayChart(vegaEmbed);\n",
       "    } else {\n",
       "      loadScript(\"vega\")\n",
       "        .then(() => loadScript(\"vega-lite\"))\n",
       "        .then(() => loadScript(\"vega-embed\"))\n",
       "        .catch(showError)\n",
       "        .then(() => displayChart(vegaEmbed));\n",
       "    }\n",
       "  })({\"config\": {\"view\": {\"continuousWidth\": 400, \"continuousHeight\": 300}}, \"data\": {\"name\": \"data-315345729caeab09a88c42188afc2237\"}, \"mark\": {\"type\": \"bar\", \"color\": \"#FFE66D\"}, \"encoding\": {\"x\": {\"type\": \"nominal\", \"field\": \"movie_title\", \"sort\": \"y\", \"title\": \"Movie\"}, \"y\": {\"type\": \"quantitative\", \"field\": \"inflation_adjusted_gross\", \"title\": \"Performance ($)\"}}, \"height\": 200, \"title\": \"Performance of movies that do not have a theme song\", \"width\": 700, \"$schema\": \"https://vega.github.io/schema/vega-lite/v4.8.1.json\", \"datasets\": {\"data-315345729caeab09a88c42188afc2237\": [{\"movie_title\": \"Fantasia\", \"song\": null, \"genre\": \"Musical\", \"MPAA_rating\": \"G\", \"inflation_adjusted_gross\": 2187090808.0, \"has_song\": \"No\"}, {\"movie_title\": \"The Black Cauldron\", \"song\": null, \"genre\": \"Adventure\", \"MPAA_rating\": null, \"inflation_adjusted_gross\": 50553142.0, \"has_song\": \"No\"}, {\"movie_title\": \"The Rescuers Down Under\", \"song\": null, \"genre\": \"Adventure\", \"MPAA_rating\": \"G\", \"inflation_adjusted_gross\": 55796728.0, \"has_song\": \"No\"}, {\"movie_title\": \"Dinosaur\", \"song\": null, \"genre\": \"Adventure\", \"MPAA_rating\": \"PG\", \"inflation_adjusted_gross\": 215438985.0, \"has_song\": \"No\"}, {\"movie_title\": \"Home on the Range\", \"song\": null, \"genre\": \"Comedy\", \"MPAA_rating\": \"PG\", \"inflation_adjusted_gross\": 67910166.0, \"has_song\": \"No\"}, {\"movie_title\": \"Chicken Little\", \"song\": null, \"genre\": \"Adventure\", \"MPAA_rating\": \"G\", \"inflation_adjusted_gross\": 177954661.0, \"has_song\": \"No\"}]}}, {\"mode\": \"vega-lite\"});\n",
       "</script>"
      ],
      "text/plain": [
       "alt.Chart(...)"
      ]
     },
     "execution_count": 18,
     "metadata": {},
     "output_type": "execute_result"
    }
   ],
   "source": [
    "(alt.Chart(characters_gross_wo_song, width=700, height=200)\n",
    "    .mark_bar(color='#FFE66D')\n",
    "    .encode(\n",
    "        x=alt.X('movie_title:N', title='Movie', sort='y'),\n",
    "        y=alt.Y('inflation_adjusted_gross:Q', title='Performance ($)')\n",
    "    )\n",
    "    .properties(title=\"Performance of movies that do not have a theme song\"))"
   ]
  },
  {
   "cell_type": "markdown",
   "metadata": {},
   "source": [
    "There are two things we can infer from these graphs: \n",
    "\n",
    "- The variance of sample size between the two groups are way too far. \n",
    "- Within a group, there is always at least $1$ outlier of exceeding Performance."
   ]
  },
  {
   "cell_type": "code",
   "execution_count": 19,
   "metadata": {},
   "outputs": [
    {
     "data": {
      "text/plain": [
       "6.333333333333333"
      ]
     },
     "execution_count": 19,
     "metadata": {},
     "output_type": "execute_result"
    }
   ],
   "source": [
    "characters_gross_w_song.shape[0] / characters_gross_wo_song.shape[0]"
   ]
  },
  {
   "cell_type": "code",
   "execution_count": 20,
   "metadata": {},
   "outputs": [
    {
     "data": {
      "text/html": [
       "<div>\n",
       "<style scoped>\n",
       "    .dataframe tbody tr th:only-of-type {\n",
       "        vertical-align: middle;\n",
       "    }\n",
       "\n",
       "    .dataframe tbody tr th {\n",
       "        vertical-align: top;\n",
       "    }\n",
       "\n",
       "    .dataframe thead th {\n",
       "        text-align: right;\n",
       "    }\n",
       "</style>\n",
       "<table border=\"1\" class=\"dataframe\">\n",
       "  <thead>\n",
       "    <tr style=\"text-align: right;\">\n",
       "      <th></th>\n",
       "      <th>movie_title</th>\n",
       "      <th>song</th>\n",
       "      <th>genre</th>\n",
       "      <th>MPAA_rating</th>\n",
       "      <th>inflation_adjusted_gross</th>\n",
       "      <th>has_song</th>\n",
       "    </tr>\n",
       "  </thead>\n",
       "  <tbody>\n",
       "    <tr>\n",
       "      <th>0</th>\n",
       "      <td>Snow White and the Seven Dwarfs</td>\n",
       "      <td>Some Day My Prince Will Come</td>\n",
       "      <td>Musical</td>\n",
       "      <td>G</td>\n",
       "      <td>5.228953e+09</td>\n",
       "      <td>Yes</td>\n",
       "    </tr>\n",
       "  </tbody>\n",
       "</table>\n",
       "</div>"
      ],
      "text/plain": [
       "                       movie_title                          song    genre  \\\n",
       "0  Snow White and the Seven Dwarfs  Some Day My Prince Will Come  Musical   \n",
       "\n",
       "  MPAA_rating  inflation_adjusted_gross has_song  \n",
       "0           G              5.228953e+09      Yes  "
      ]
     },
     "execution_count": 20,
     "metadata": {},
     "output_type": "execute_result"
    }
   ],
   "source": [
    "characters_gross_w_song[:1] "
   ]
  },
  {
   "cell_type": "code",
   "execution_count": 21,
   "metadata": {},
   "outputs": [
    {
     "data": {
      "text/html": [
       "<div>\n",
       "<style scoped>\n",
       "    .dataframe tbody tr th:only-of-type {\n",
       "        vertical-align: middle;\n",
       "    }\n",
       "\n",
       "    .dataframe tbody tr th {\n",
       "        vertical-align: top;\n",
       "    }\n",
       "\n",
       "    .dataframe thead th {\n",
       "        text-align: right;\n",
       "    }\n",
       "</style>\n",
       "<table border=\"1\" class=\"dataframe\">\n",
       "  <thead>\n",
       "    <tr style=\"text-align: right;\">\n",
       "      <th></th>\n",
       "      <th>movie_title</th>\n",
       "      <th>song</th>\n",
       "      <th>genre</th>\n",
       "      <th>MPAA_rating</th>\n",
       "      <th>inflation_adjusted_gross</th>\n",
       "      <th>has_song</th>\n",
       "    </tr>\n",
       "  </thead>\n",
       "  <tbody>\n",
       "    <tr>\n",
       "      <th>2</th>\n",
       "      <td>Fantasia</td>\n",
       "      <td>NaN</td>\n",
       "      <td>Musical</td>\n",
       "      <td>G</td>\n",
       "      <td>2.187091e+09</td>\n",
       "      <td>No</td>\n",
       "    </tr>\n",
       "  </tbody>\n",
       "</table>\n",
       "</div>"
      ],
      "text/plain": [
       "  movie_title song    genre MPAA_rating  inflation_adjusted_gross has_song\n",
       "2    Fantasia  NaN  Musical           G              2.187091e+09       No"
      ]
     },
     "execution_count": 21,
     "metadata": {},
     "output_type": "execute_result"
    }
   ],
   "source": [
    "characters_gross_wo_song[:1] "
   ]
  },
  {
   "cell_type": "markdown",
   "metadata": {},
   "source": [
    "<br/>\n",
    "\n",
    "To attain an accurate conclusion that effectively answers our question, we must match the sample sizes to make sure that ensure a fair comparison.  We could use the function `.sample(6)` against the group of the larger size (`characters_gross_w_song`), which creates a random assortment of 6 movies to represent the group.\n",
    "\n",
    "Having said that though, in the random chance that a sample includes a movie that is an outlier, the data is now an inaccurate representation of the group as the outlier will weight heavier than others within the sample. \n",
    "\n",
    "Therefore, before we take a sample we must remove an equal amount of outliers between the two groups, so that we can create a sample size from the larger group that remains to be an accurate representation of the data.\n",
    "\n",
    "Since one group has a very small sample size (`characters_gross_wo_song`), we'll remove only $1$ outlier from both groups:"
   ]
  },
  {
   "cell_type": "code",
   "execution_count": 22,
   "metadata": {},
   "outputs": [],
   "source": [
    "# remove 1 outlier from both groups\n",
    "characters_gross_w_song = characters_gross_w_song.sort_values('inflation_adjusted_gross', ascending=False)[1:]\n",
    "characters_gross_wo_song = characters_gross_wo_song.sort_values('inflation_adjusted_gross', ascending=False)[1:]"
   ]
  },
  {
   "cell_type": "code",
   "execution_count": 23,
   "metadata": {},
   "outputs": [
    {
     "data": {
      "text/html": [
       "\n",
       "<div id=\"altair-viz-20c079accc8542f89f7389355f0a7183\"></div>\n",
       "<script type=\"text/javascript\">\n",
       "  (function(spec, embedOpt){\n",
       "    let outputDiv = document.currentScript.previousElementSibling;\n",
       "    if (outputDiv.id !== \"altair-viz-20c079accc8542f89f7389355f0a7183\") {\n",
       "      outputDiv = document.getElementById(\"altair-viz-20c079accc8542f89f7389355f0a7183\");\n",
       "    }\n",
       "    const paths = {\n",
       "      \"vega\": \"https://cdn.jsdelivr.net/npm//vega@5?noext\",\n",
       "      \"vega-lib\": \"https://cdn.jsdelivr.net/npm//vega-lib?noext\",\n",
       "      \"vega-lite\": \"https://cdn.jsdelivr.net/npm//vega-lite@4.8.1?noext\",\n",
       "      \"vega-embed\": \"https://cdn.jsdelivr.net/npm//vega-embed@6?noext\",\n",
       "    };\n",
       "\n",
       "    function loadScript(lib) {\n",
       "      return new Promise(function(resolve, reject) {\n",
       "        var s = document.createElement('script');\n",
       "        s.src = paths[lib];\n",
       "        s.async = true;\n",
       "        s.onload = () => resolve(paths[lib]);\n",
       "        s.onerror = () => reject(`Error loading script: ${paths[lib]}`);\n",
       "        document.getElementsByTagName(\"head\")[0].appendChild(s);\n",
       "      });\n",
       "    }\n",
       "\n",
       "    function showError(err) {\n",
       "      outputDiv.innerHTML = `<div class=\"error\" style=\"color:red;\">${err}</div>`;\n",
       "      throw err;\n",
       "    }\n",
       "\n",
       "    function displayChart(vegaEmbed) {\n",
       "      vegaEmbed(outputDiv, spec, embedOpt)\n",
       "        .catch(err => showError(`Javascript Error: ${err.message}<br>This usually means there's a typo in your chart specification. See the javascript console for the full traceback.`));\n",
       "    }\n",
       "\n",
       "    if(typeof define === \"function\" && define.amd) {\n",
       "      requirejs.config({paths});\n",
       "      require([\"vega-embed\"], displayChart, err => showError(`Error loading script: ${err.message}`));\n",
       "    } else if (typeof vegaEmbed === \"function\") {\n",
       "      displayChart(vegaEmbed);\n",
       "    } else {\n",
       "      loadScript(\"vega\")\n",
       "        .then(() => loadScript(\"vega-lite\"))\n",
       "        .then(() => loadScript(\"vega-embed\"))\n",
       "        .catch(showError)\n",
       "        .then(() => displayChart(vegaEmbed));\n",
       "    }\n",
       "  })({\"config\": {\"view\": {\"continuousWidth\": 400, \"continuousHeight\": 300}}, \"data\": {\"name\": \"data-19e355b95bef045e76475a254b04746e\"}, \"mark\": \"bar\", \"encoding\": {\"x\": {\"type\": \"nominal\", \"field\": \"movie_title\", \"sort\": \"y\", \"title\": \"Movie\"}, \"y\": {\"type\": \"quantitative\", \"field\": \"inflation_adjusted_gross\", \"title\": \"Performance\"}}, \"height\": 200, \"title\": \"Performance of movies that have a theme song\", \"width\": 700, \"$schema\": \"https://vega.github.io/schema/vega-lite/v4.8.1.json\", \"datasets\": {\"data-19e355b95bef045e76475a254b04746e\": [{\"movie_title\": \"Pinocchio\", \"song\": \"When You Wish upon a Star\", \"genre\": \"Adventure\", \"MPAA_rating\": \"G\", \"inflation_adjusted_gross\": 2188229052.0, \"has_song\": \"Yes\"}, {\"movie_title\": \"Lady and the Tramp\", \"song\": \"Bella Notte\", \"genre\": \"Drama\", \"MPAA_rating\": \"G\", \"inflation_adjusted_gross\": 1236035515.0, \"has_song\": \"Yes\"}, {\"movie_title\": \"The Lion King\", \"song\": \"Circle of Life\", \"genre\": \"Adventure\", \"MPAA_rating\": \"G\", \"inflation_adjusted_gross\": 761640898.0, \"has_song\": \"Yes\"}, {\"movie_title\": \"Aladdin\", \"song\": \"A Whole New World\", \"genre\": \"Comedy\", \"MPAA_rating\": \"G\", \"inflation_adjusted_gross\": 441969178.0, \"has_song\": \"Yes\"}, {\"movie_title\": \"Frozen\", \"song\": \"Let It Go\", \"genre\": \"Adventure\", \"MPAA_rating\": \"PG\", \"inflation_adjusted_gross\": 414997174.0, \"has_song\": \"Yes\"}, {\"movie_title\": \"The Jungle Book\", \"song\": \"The Bare Necessities\", \"genre\": \"Adventure\", \"MPAA_rating\": \"PG\", \"inflation_adjusted_gross\": 364001123.0, \"has_song\": \"Yes\"}, {\"movie_title\": \"Beauty and the Beast\", \"song\": \"Be Our Guest\", \"genre\": \"Musical\", \"MPAA_rating\": \"G\", \"inflation_adjusted_gross\": 363017667.0, \"has_song\": \"Yes\"}, {\"movie_title\": \"Alice in Wonderland\", \"song\": \"The Unbirthday Song\", \"genre\": \"Adventure\", \"MPAA_rating\": \"PG\", \"inflation_adjusted_gross\": 357063499.0, \"has_song\": \"Yes\"}, {\"movie_title\": \"Zootopia\", \"song\": \"Try Everything\", \"genre\": \"Adventure\", \"MPAA_rating\": \"PG\", \"inflation_adjusted_gross\": 341268248.0, \"has_song\": \"Yes\"}, {\"movie_title\": \"Tarzan\", \"song\": \"You'll Be in My Heart\", \"genre\": \"Adventure\", \"MPAA_rating\": \"G\", \"inflation_adjusted_gross\": 283900254.0, \"has_song\": \"Yes\"}, {\"movie_title\": \"Pocahontas\", \"song\": \"Colors of the Wind\", \"genre\": \"Adventure\", \"MPAA_rating\": \"G\", \"inflation_adjusted_gross\": 274370957.0, \"has_song\": \"Yes\"}, {\"movie_title\": \"The Aristocats\", \"song\": \"Ev'rybody Wants to Be a Cat\", \"genre\": \"Musical\", \"MPAA_rating\": \"G\", \"inflation_adjusted_gross\": 255161499.0, \"has_song\": \"Yes\"}, {\"movie_title\": \"Moana\", \"song\": \"How Far I'll Go\", \"genre\": \"Adventure\", \"MPAA_rating\": \"PG\", \"inflation_adjusted_gross\": 246082029.0, \"has_song\": \"Yes\"}, {\"movie_title\": \"Big Hero 6\", \"song\": \"Immortals\", \"genre\": \"Adventure\", \"MPAA_rating\": \"PG\", \"inflation_adjusted_gross\": 229249222.0, \"has_song\": \"Yes\"}, {\"movie_title\": \"The Little Mermaid\", \"song\": \"Under the Sea\", \"genre\": \"Adventure\", \"MPAA_rating\": \"G\", \"inflation_adjusted_gross\": 223726012.0, \"has_song\": \"Yes\"}, {\"movie_title\": \"Mulan\", \"song\": \"I'll Make a Man Out of You\", \"genre\": \"Adventure\", \"MPAA_rating\": \"G\", \"inflation_adjusted_gross\": 216807832.0, \"has_song\": \"Yes\"}, {\"movie_title\": \"Tangled\", \"song\": \"I See the Light\", \"genre\": \"Adventure\", \"MPAA_rating\": \"PG\", \"inflation_adjusted_gross\": 214388548.0, \"has_song\": \"Yes\"}, {\"movie_title\": \"Lilo & Stitch\", \"song\": \"He Mele No Lilo\", \"genre\": \"Adventure\", \"MPAA_rating\": \"PG\", \"inflation_adjusted_gross\": 211506702.0, \"has_song\": \"Yes\"}, {\"movie_title\": \"Cinderella\", \"song\": \"Bibbidi-Bobbidi-Boo\", \"genre\": \"Drama\", \"MPAA_rating\": \"PG\", \"inflation_adjusted_gross\": 201151353.0, \"has_song\": \"Yes\"}, {\"movie_title\": \"Wreck-It Ralph\", \"song\": \"Sugar Rush\", \"genre\": \"Adventure\", \"MPAA_rating\": \"PG\", \"inflation_adjusted_gross\": 200354959.0, \"has_song\": \"Yes\"}, {\"movie_title\": \"The Hunchback of Notre Dame\", \"song\": \"God Help the Outcasts\", \"genre\": \"Adventure\", \"MPAA_rating\": \"G\", \"inflation_adjusted_gross\": 190988799.0, \"has_song\": \"Yes\"}, {\"movie_title\": \"Hercules\", \"song\": \"Go the Distance\", \"genre\": \"Adventure\", \"MPAA_rating\": \"G\", \"inflation_adjusted_gross\": 182029412.0, \"has_song\": \"Yes\"}, {\"movie_title\": \"The Rescuers\", \"song\": \"The Journey\", \"genre\": \"Adventure\", \"MPAA_rating\": null, \"inflation_adjusted_gross\": 159743914.0, \"has_song\": \"Yes\"}, {\"movie_title\": \"The Sword in the Stone\", \"song\": \"Higitus Figitus\", \"genre\": \"Adventure\", \"MPAA_rating\": null, \"inflation_adjusted_gross\": 153870834.0, \"has_song\": \"Yes\"}, {\"movie_title\": \"The Emperor's New Groove\", \"song\": \"My Funny Friend and Me\", \"genre\": \"Adventure\", \"MPAA_rating\": \"G\", \"inflation_adjusted_gross\": 136789252.0, \"has_song\": \"Yes\"}, {\"movie_title\": \"Bolt\", \"song\": \"I Thought I Lost You\", \"genre\": \"Comedy\", \"MPAA_rating\": \"PG\", \"inflation_adjusted_gross\": 133702498.0, \"has_song\": \"Yes\"}, {\"movie_title\": \"The Fox and the Hound\", \"song\": \"Best of Friends\", \"genre\": \"Comedy\", \"MPAA_rating\": null, \"inflation_adjusted_gross\": 133118889.0, \"has_song\": \"Yes\"}, {\"movie_title\": \"Atlantis: The Lost Empire\", \"song\": \"Where the Dream Takes You\", \"genre\": \"Adventure\", \"MPAA_rating\": \"PG\", \"inflation_adjusted_gross\": 125188122.0, \"has_song\": \"Yes\"}, {\"movie_title\": \"Meet the Robinsons\", \"song\": \"Little Wonders\", \"genre\": \"Adventure\", \"MPAA_rating\": \"G\", \"inflation_adjusted_gross\": 119860589.0, \"has_song\": \"Yes\"}, {\"movie_title\": \"Brother Bear\", \"song\": \"Look Through My Eyes\", \"genre\": \"Adventure\", \"MPAA_rating\": \"G\", \"inflation_adjusted_gross\": 119218333.0, \"has_song\": \"Yes\"}, {\"movie_title\": \"The Princess and the Frog\", \"song\": \"Almost There\", \"genre\": \"Adventure\", \"MPAA_rating\": \"G\", \"inflation_adjusted_gross\": 116316457.0, \"has_song\": \"Yes\"}, {\"movie_title\": \"Oliver & Company\", \"song\": \"Once Upon a Time in New York City\", \"genre\": \"Adventure\", \"MPAA_rating\": \"G\", \"inflation_adjusted_gross\": 102254492.0, \"has_song\": \"Yes\"}, {\"movie_title\": \"Treasure Planet\", \"song\": \"I'm Still Here\", \"genre\": \"Adventure\", \"MPAA_rating\": \"PG\", \"inflation_adjusted_gross\": 55189145.0, \"has_song\": \"Yes\"}, {\"movie_title\": \"The Great Mouse Detective\", \"song\": \"The World's Greatest Criminal Mind\", \"genre\": \"Adventure\", \"MPAA_rating\": null, \"inflation_adjusted_gross\": 53637367.0, \"has_song\": \"Yes\"}, {\"movie_title\": \"Winnie the Pooh\", \"song\": \"Winnie the Pooh\", \"genre\": \"Adventure\", \"MPAA_rating\": \"G\", \"inflation_adjusted_gross\": 28375869.0, \"has_song\": \"Yes\"}, {\"movie_title\": \"Sleeping Beauty\", \"song\": \"Once Upon a Dream\", \"genre\": \"Drama\", \"MPAA_rating\": null, \"inflation_adjusted_gross\": 21505832.0, \"has_song\": \"Yes\"}, {\"movie_title\": \"The Many Adventures of Winnie the Pooh\", \"song\": \"Winnie the Pooh\", \"genre\": null, \"MPAA_rating\": null, \"inflation_adjusted_gross\": 0.0, \"has_song\": \"Yes\"}]}}, {\"mode\": \"vega-lite\"});\n",
       "</script>"
      ],
      "text/plain": [
       "alt.Chart(...)"
      ]
     },
     "execution_count": 23,
     "metadata": {},
     "output_type": "execute_result"
    }
   ],
   "source": [
    "(alt.Chart(characters_gross_w_song, width=700, height=200)\n",
    "    .mark_bar()\n",
    "    .encode(\n",
    "        x=alt.X('movie_title:N', title='Movie', sort='y'),\n",
    "        y=alt.Y('inflation_adjusted_gross:Q', title='Performance')\n",
    "    )\n",
    "    .properties(title=\"Performance of movies that have a theme song\"))"
   ]
  },
  {
   "cell_type": "code",
   "execution_count": 24,
   "metadata": {},
   "outputs": [
    {
     "data": {
      "text/html": [
       "\n",
       "<div id=\"altair-viz-64304dc2a6d8447cb99b9850b3dee260\"></div>\n",
       "<script type=\"text/javascript\">\n",
       "  (function(spec, embedOpt){\n",
       "    let outputDiv = document.currentScript.previousElementSibling;\n",
       "    if (outputDiv.id !== \"altair-viz-64304dc2a6d8447cb99b9850b3dee260\") {\n",
       "      outputDiv = document.getElementById(\"altair-viz-64304dc2a6d8447cb99b9850b3dee260\");\n",
       "    }\n",
       "    const paths = {\n",
       "      \"vega\": \"https://cdn.jsdelivr.net/npm//vega@5?noext\",\n",
       "      \"vega-lib\": \"https://cdn.jsdelivr.net/npm//vega-lib?noext\",\n",
       "      \"vega-lite\": \"https://cdn.jsdelivr.net/npm//vega-lite@4.8.1?noext\",\n",
       "      \"vega-embed\": \"https://cdn.jsdelivr.net/npm//vega-embed@6?noext\",\n",
       "    };\n",
       "\n",
       "    function loadScript(lib) {\n",
       "      return new Promise(function(resolve, reject) {\n",
       "        var s = document.createElement('script');\n",
       "        s.src = paths[lib];\n",
       "        s.async = true;\n",
       "        s.onload = () => resolve(paths[lib]);\n",
       "        s.onerror = () => reject(`Error loading script: ${paths[lib]}`);\n",
       "        document.getElementsByTagName(\"head\")[0].appendChild(s);\n",
       "      });\n",
       "    }\n",
       "\n",
       "    function showError(err) {\n",
       "      outputDiv.innerHTML = `<div class=\"error\" style=\"color:red;\">${err}</div>`;\n",
       "      throw err;\n",
       "    }\n",
       "\n",
       "    function displayChart(vegaEmbed) {\n",
       "      vegaEmbed(outputDiv, spec, embedOpt)\n",
       "        .catch(err => showError(`Javascript Error: ${err.message}<br>This usually means there's a typo in your chart specification. See the javascript console for the full traceback.`));\n",
       "    }\n",
       "\n",
       "    if(typeof define === \"function\" && define.amd) {\n",
       "      requirejs.config({paths});\n",
       "      require([\"vega-embed\"], displayChart, err => showError(`Error loading script: ${err.message}`));\n",
       "    } else if (typeof vegaEmbed === \"function\") {\n",
       "      displayChart(vegaEmbed);\n",
       "    } else {\n",
       "      loadScript(\"vega\")\n",
       "        .then(() => loadScript(\"vega-lite\"))\n",
       "        .then(() => loadScript(\"vega-embed\"))\n",
       "        .catch(showError)\n",
       "        .then(() => displayChart(vegaEmbed));\n",
       "    }\n",
       "  })({\"config\": {\"view\": {\"continuousWidth\": 400, \"continuousHeight\": 300}}, \"data\": {\"name\": \"data-a31adf7c8b55758d07d0d3b0c321dd1c\"}, \"mark\": {\"type\": \"bar\", \"color\": \"#FFE66D\"}, \"encoding\": {\"x\": {\"type\": \"nominal\", \"field\": \"movie_title\", \"sort\": \"y\", \"title\": \"Movie\"}, \"y\": {\"type\": \"quantitative\", \"field\": \"inflation_adjusted_gross\", \"title\": \"Performance\"}}, \"height\": 200, \"title\": \"Performance of movies that do not have a theme song\", \"width\": 700, \"$schema\": \"https://vega.github.io/schema/vega-lite/v4.8.1.json\", \"datasets\": {\"data-a31adf7c8b55758d07d0d3b0c321dd1c\": [{\"movie_title\": \"Dinosaur\", \"song\": null, \"genre\": \"Adventure\", \"MPAA_rating\": \"PG\", \"inflation_adjusted_gross\": 215438985.0, \"has_song\": \"No\"}, {\"movie_title\": \"Chicken Little\", \"song\": null, \"genre\": \"Adventure\", \"MPAA_rating\": \"G\", \"inflation_adjusted_gross\": 177954661.0, \"has_song\": \"No\"}, {\"movie_title\": \"Home on the Range\", \"song\": null, \"genre\": \"Comedy\", \"MPAA_rating\": \"PG\", \"inflation_adjusted_gross\": 67910166.0, \"has_song\": \"No\"}, {\"movie_title\": \"The Rescuers Down Under\", \"song\": null, \"genre\": \"Adventure\", \"MPAA_rating\": \"G\", \"inflation_adjusted_gross\": 55796728.0, \"has_song\": \"No\"}, {\"movie_title\": \"The Black Cauldron\", \"song\": null, \"genre\": \"Adventure\", \"MPAA_rating\": null, \"inflation_adjusted_gross\": 50553142.0, \"has_song\": \"No\"}]}}, {\"mode\": \"vega-lite\"});\n",
       "</script>"
      ],
      "text/plain": [
       "alt.Chart(...)"
      ]
     },
     "execution_count": 24,
     "metadata": {},
     "output_type": "execute_result"
    }
   ],
   "source": [
    "(alt.Chart(characters_gross_wo_song, width=700, height=200)\n",
    "    .mark_bar(color='#FFE66D')\n",
    "    .encode(\n",
    "        x=alt.X('movie_title:N', title='Movie', sort='y'),\n",
    "        y=alt.Y('inflation_adjusted_gross:Q', title='Performance')\n",
    "    )\n",
    "    .properties(title=\"Performance of movies that do not have a theme song\"))"
   ]
  },
  {
   "cell_type": "markdown",
   "metadata": {},
   "source": [
    "We can now take a sample size from the larger group more accurately."
   ]
  },
  {
   "cell_type": "code",
   "execution_count": 25,
   "metadata": {},
   "outputs": [
    {
     "data": {
      "text/html": [
       "<div>\n",
       "<style scoped>\n",
       "    .dataframe tbody tr th:only-of-type {\n",
       "        vertical-align: middle;\n",
       "    }\n",
       "\n",
       "    .dataframe tbody tr th {\n",
       "        vertical-align: top;\n",
       "    }\n",
       "\n",
       "    .dataframe thead th {\n",
       "        text-align: right;\n",
       "    }\n",
       "</style>\n",
       "<table border=\"1\" class=\"dataframe\">\n",
       "  <thead>\n",
       "    <tr style=\"text-align: right;\">\n",
       "      <th></th>\n",
       "      <th>movie_title</th>\n",
       "      <th>song</th>\n",
       "      <th>genre</th>\n",
       "      <th>MPAA_rating</th>\n",
       "      <th>inflation_adjusted_gross</th>\n",
       "      <th>has_song</th>\n",
       "    </tr>\n",
       "  </thead>\n",
       "  <tbody>\n",
       "    <tr>\n",
       "      <th>1</th>\n",
       "      <td>Pinocchio</td>\n",
       "      <td>When You Wish upon a Star</td>\n",
       "      <td>Adventure</td>\n",
       "      <td>G</td>\n",
       "      <td>2.188229e+09</td>\n",
       "      <td>Yes</td>\n",
       "    </tr>\n",
       "    <tr>\n",
       "      <th>11</th>\n",
       "      <td>The Rescuers</td>\n",
       "      <td>The Journey</td>\n",
       "      <td>Adventure</td>\n",
       "      <td>NaN</td>\n",
       "      <td>1.597439e+08</td>\n",
       "      <td>Yes</td>\n",
       "    </tr>\n",
       "    <tr>\n",
       "      <th>29</th>\n",
       "      <td>Lilo &amp; Stitch</td>\n",
       "      <td>He Mele No Lilo</td>\n",
       "      <td>Adventure</td>\n",
       "      <td>PG</td>\n",
       "      <td>2.115067e+08</td>\n",
       "      <td>Yes</td>\n",
       "    </tr>\n",
       "    <tr>\n",
       "      <th>30</th>\n",
       "      <td>Treasure Planet</td>\n",
       "      <td>I'm Still Here</td>\n",
       "      <td>Adventure</td>\n",
       "      <td>PG</td>\n",
       "      <td>5.518914e+07</td>\n",
       "      <td>Yes</td>\n",
       "    </tr>\n",
       "    <tr>\n",
       "      <th>24</th>\n",
       "      <td>Mulan</td>\n",
       "      <td>I'll Make a Man Out of You</td>\n",
       "      <td>Adventure</td>\n",
       "      <td>G</td>\n",
       "      <td>2.168078e+08</td>\n",
       "      <td>Yes</td>\n",
       "    </tr>\n",
       "  </tbody>\n",
       "</table>\n",
       "</div>"
      ],
      "text/plain": [
       "        movie_title                        song      genre MPAA_rating  \\\n",
       "1         Pinocchio   When You Wish upon a Star  Adventure           G   \n",
       "11     The Rescuers                 The Journey  Adventure         NaN   \n",
       "29    Lilo & Stitch             He Mele No Lilo  Adventure          PG   \n",
       "30  Treasure Planet              I'm Still Here  Adventure          PG   \n",
       "24            Mulan  I'll Make a Man Out of You  Adventure           G   \n",
       "\n",
       "    inflation_adjusted_gross has_song  \n",
       "1               2.188229e+09      Yes  \n",
       "11              1.597439e+08      Yes  \n",
       "29              2.115067e+08      Yes  \n",
       "30              5.518914e+07      Yes  \n",
       "24              2.168078e+08      Yes  "
      ]
     },
     "execution_count": 25,
     "metadata": {},
     "output_type": "execute_result"
    }
   ],
   "source": [
    "characters_gross_w_song_sampled = characters_gross_w_song.sample(5)\n",
    "characters_gross_w_song_sampled"
   ]
  },
  {
   "cell_type": "markdown",
   "metadata": {},
   "source": [
    "Now that we have these bins, we can group the data together based on whether they have a song or not, take the average `inflation_adjusted_gross` out of both groups and finally answer our first question:\n",
    "\n",
    "**Do movies with a theme song perform better than those without a theme song?**"
   ]
  },
  {
   "cell_type": "code",
   "execution_count": 26,
   "metadata": {},
   "outputs": [
    {
     "data": {
      "text/html": [
       "<div>\n",
       "<style scoped>\n",
       "    .dataframe tbody tr th:only-of-type {\n",
       "        vertical-align: middle;\n",
       "    }\n",
       "\n",
       "    .dataframe tbody tr th {\n",
       "        vertical-align: top;\n",
       "    }\n",
       "\n",
       "    .dataframe thead th {\n",
       "        text-align: right;\n",
       "    }\n",
       "</style>\n",
       "<table border=\"1\" class=\"dataframe\">\n",
       "  <thead>\n",
       "    <tr style=\"text-align: right;\">\n",
       "      <th></th>\n",
       "      <th>has_song</th>\n",
       "      <th>inflation_adjusted_gross</th>\n",
       "    </tr>\n",
       "  </thead>\n",
       "  <tbody>\n",
       "    <tr>\n",
       "      <th>0</th>\n",
       "      <td>No</td>\n",
       "      <td>113530736.4</td>\n",
       "    </tr>\n",
       "    <tr>\n",
       "      <th>1</th>\n",
       "      <td>Yes</td>\n",
       "      <td>566295329.0</td>\n",
       "    </tr>\n",
       "  </tbody>\n",
       "</table>\n",
       "</div>"
      ],
      "text/plain": [
       "  has_song  inflation_adjusted_gross\n",
       "0       No               113530736.4\n",
       "1      Yes               566295329.0"
      ]
     },
     "execution_count": 26,
     "metadata": {},
     "output_type": "execute_result"
    }
   ],
   "source": [
    "# combine the bins back together, now that the outliers in both are removed\n",
    "characters_gross = pd.concat([characters_gross_w_song_sampled, characters_gross_wo_song])\n",
    "\n",
    "# group by whether or not a movie has a song and get the mean inflation_adjusted_gross\n",
    "characters_gross_song_mean = characters_gross.groupby('has_song').mean('inflation_adjusted_gross').reset_index()\n",
    "characters_gross_song_mean"
   ]
  },
  {
   "cell_type": "markdown",
   "metadata": {},
   "source": [
    "It seems that our hypothesis is correct. Movies **with** a theme song outperform those **without** a theme song.\n",
    "\n",
    "Let's visualize this:"
   ]
  },
  {
   "cell_type": "code",
   "execution_count": 27,
   "metadata": {},
   "outputs": [
    {
     "data": {
      "text/html": [
       "\n",
       "<div id=\"altair-viz-7fc598ee908048bcb1ab41e51ef4c8c9\"></div>\n",
       "<script type=\"text/javascript\">\n",
       "  (function(spec, embedOpt){\n",
       "    let outputDiv = document.currentScript.previousElementSibling;\n",
       "    if (outputDiv.id !== \"altair-viz-7fc598ee908048bcb1ab41e51ef4c8c9\") {\n",
       "      outputDiv = document.getElementById(\"altair-viz-7fc598ee908048bcb1ab41e51ef4c8c9\");\n",
       "    }\n",
       "    const paths = {\n",
       "      \"vega\": \"https://cdn.jsdelivr.net/npm//vega@5?noext\",\n",
       "      \"vega-lib\": \"https://cdn.jsdelivr.net/npm//vega-lib?noext\",\n",
       "      \"vega-lite\": \"https://cdn.jsdelivr.net/npm//vega-lite@4.8.1?noext\",\n",
       "      \"vega-embed\": \"https://cdn.jsdelivr.net/npm//vega-embed@6?noext\",\n",
       "    };\n",
       "\n",
       "    function loadScript(lib) {\n",
       "      return new Promise(function(resolve, reject) {\n",
       "        var s = document.createElement('script');\n",
       "        s.src = paths[lib];\n",
       "        s.async = true;\n",
       "        s.onload = () => resolve(paths[lib]);\n",
       "        s.onerror = () => reject(`Error loading script: ${paths[lib]}`);\n",
       "        document.getElementsByTagName(\"head\")[0].appendChild(s);\n",
       "      });\n",
       "    }\n",
       "\n",
       "    function showError(err) {\n",
       "      outputDiv.innerHTML = `<div class=\"error\" style=\"color:red;\">${err}</div>`;\n",
       "      throw err;\n",
       "    }\n",
       "\n",
       "    function displayChart(vegaEmbed) {\n",
       "      vegaEmbed(outputDiv, spec, embedOpt)\n",
       "        .catch(err => showError(`Javascript Error: ${err.message}<br>This usually means there's a typo in your chart specification. See the javascript console for the full traceback.`));\n",
       "    }\n",
       "\n",
       "    if(typeof define === \"function\" && define.amd) {\n",
       "      requirejs.config({paths});\n",
       "      require([\"vega-embed\"], displayChart, err => showError(`Error loading script: ${err.message}`));\n",
       "    } else if (typeof vegaEmbed === \"function\") {\n",
       "      displayChart(vegaEmbed);\n",
       "    } else {\n",
       "      loadScript(\"vega\")\n",
       "        .then(() => loadScript(\"vega-lite\"))\n",
       "        .then(() => loadScript(\"vega-embed\"))\n",
       "        .catch(showError)\n",
       "        .then(() => displayChart(vegaEmbed));\n",
       "    }\n",
       "  })({\"config\": {\"view\": {\"continuousWidth\": 400, \"continuousHeight\": 300}}, \"data\": {\"name\": \"data-567b0fdf8e0e80d9aea89766dd8387b7\"}, \"mark\": \"bar\", \"encoding\": {\"x\": {\"type\": \"quantitative\", \"field\": \"inflation_adjusted_gross\", \"title\": \"Performance\"}, \"y\": {\"type\": \"ordinal\", \"field\": \"has_song\", \"title\": \"Movie has a theme song\"}}, \"height\": 200, \"title\": \"Performance of movies based on the existence of a theme song\", \"width\": 700, \"$schema\": \"https://vega.github.io/schema/vega-lite/v4.8.1.json\", \"datasets\": {\"data-567b0fdf8e0e80d9aea89766dd8387b7\": [{\"has_song\": \"No\", \"inflation_adjusted_gross\": 113530736.4}, {\"has_song\": \"Yes\", \"inflation_adjusted_gross\": 566295329.0}]}}, {\"mode\": \"vega-lite\"});\n",
       "</script>"
      ],
      "text/plain": [
       "alt.Chart(...)"
      ]
     },
     "execution_count": 27,
     "metadata": {},
     "output_type": "execute_result"
    }
   ],
   "source": [
    "(alt.Chart(characters_gross_song_mean, width=700, height=200)\n",
    "    .mark_bar()\n",
    "    .encode(\n",
    "        x=alt.X('inflation_adjusted_gross:Q', title='Performance'),\n",
    "        y=alt.Y('has_song:O', title='Movie has a theme song')\n",
    "    )\n",
    "    .properties(title=\"Performance of movies based on the existence of a theme song\"))"
   ]
  },
  {
   "cell_type": "markdown",
   "metadata": {},
   "source": [
    "# Discussions\n",
    "\n",
    "In this report,  I analyzed two datasets regarding Disney movies released from $1937$ to $2016$ in the interest of answering the question: \n",
    "\n",
    "**Do movies with a theme song perform better than those without a theme song?** \n",
    "\n",
    "To achieve an accurate answer, I separated the movies into 2 groups dependent on whether a movie has a theme song or not. Coincidentally, I also found that Disney produced $6$x more movies with theme songs than those without. To maintain a fair comparison between the two groups, I took a random sample from the group of movies with a theme song;  And to make sure the sample is accurate, I removed $1$ outlier from both groups.\n",
    "\n",
    "To no surprise, movies with a theme song performed better than those without. I expected this, as without involving mathematics or science for a second and instead thinking about the cultural impact that music has on children, emotions and society as a whole; it becomes clear that movies with theme songs would have the greater reach. This conclusion is powerful as it quantifies a rather vague variable that can be used in the decision making process when creating a Disney movie. By also looking at the large number of movies with theme songs, it could be assumed that Disney has known this fact and takes it into account behind-the-scenes.\n",
    "\n",
    "In addition to our question, there are other interesting insights that could be researched and cannot be found through the datasets used in this report alone. It would be interesting to see whether the target audience makes a difference at all -- *do the impact of theme songs saturate as an audience gets older*?  It would also be interesting to see if the production costs of a theme song has an impact if any -- *does spending more money on creating a theme song lead to family favorites*?\n"
   ]
  },
  {
   "cell_type": "markdown",
   "metadata": {},
   "source": [
    "# References\n",
    "\n",
    " - [Data Source](https://data.world/kgarrett/disney-character-success-00-16)"
   ]
  },
  {
   "cell_type": "markdown",
   "metadata": {},
   "source": [
    "Christian Garrovillo"
   ]
  }
 ],
 "metadata": {
  "kernelspec": {
   "display_name": "Python 3",
   "language": "python",
   "name": "python3"
  },
  "language_info": {
   "codemirror_mode": {
    "name": "ipython",
    "version": 3
   },
   "file_extension": ".py",
   "mimetype": "text/x-python",
   "name": "python",
   "nbconvert_exporter": "python",
   "pygments_lexer": "ipython3",
   "version": "3.8.5"
  }
 },
 "nbformat": 4,
 "nbformat_minor": 4
}
