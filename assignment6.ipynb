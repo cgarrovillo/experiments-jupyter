{
 "cells": [
  {
   "cell_type": "markdown",
   "metadata": {},
   "source": [
    "# Programming in Python for Data Science \n",
    "\n",
    "# Assignment 6: Functions Fundamentals and Best Practices"
   ]
  },
  {
   "cell_type": "markdown",
   "metadata": {},
   "source": [
    "You can't learn technical subjects without hands-on practice. The assignments are an important part of the course. To submit this assignment you will need to make sure that you save your Jupyter notebook. \n",
    "\n",
    "Below are the links of 2 videos that explain:\n",
    "\n",
    "1. [How to save your Jupyter notebook](https://youtu.be/0aoLgBoAUSA) and,       \n",
    "2. [How to answer a question in a Jupyter notebook assignment](https://youtu.be/7j0WKhI3W4s)."
   ]
  },
  {
   "cell_type": "markdown",
   "metadata": {},
   "source": [
    "### Assignment Learning Goals:\n",
    "\n",
    "By the end of the module, students are expected to:\n",
    "\n",
    "- Evaluate the readability, complexity and performance of a function.\n",
    "- Write docstrings for functions following the NumPy/SciPy format.\n",
    "- Write comments within a function to improve readability.\n",
    "- Write and design functions with default arguments.\n",
    "- Explain the importance of scoping and environments in Python as they relate to functions.\n",
    "- Formulate test cases to prove a function design specification.\n",
    "- Use `assert` statements to formulate a test case to prove a function design specification.\n",
    "- Use test-driven development principles to define a function that accepts parameters, returns values and passes all tests.\n",
    "- Handle errors gracefully via exception handling.\n",
    "\n",
    "This assignment covers [Module 6](https://prog-learn.mds.ubc.ca/en/module6) of the online course. You should complete this module before attempting this assignment."
   ]
  },
  {
   "cell_type": "markdown",
   "metadata": {},
   "source": [
    "Any place you see `...`, you must fill in the function, variable, or data to complete the code. Substitute the `None` and the `raise NotImplementedError # No Answer - remove if you provide an answer` with your completed code and answers then proceed to run the cell!"
   ]
  },
  {
   "cell_type": "markdown",
   "metadata": {},
   "source": [
    "Note that some of the questions in this assignment will have hidden tests. This means that no feedback will be given as to the correctness of your solution. It will be left up to you to decide if your answer is sufficiently correct. These questions are worth 2 points."
   ]
  },
  {
   "cell_type": "code",
   "execution_count": 1,
   "metadata": {},
   "outputs": [],
   "source": [
    "# Import libraries needed for this lab\n",
    "import pandas as pd\n",
    "import random\n",
    "import test_assignment6 as t\n",
    "import altair as alt\n",
    "import string\n",
    "import inspect\n",
    "from hashlib import sha1"
   ]
  },
  {
   "cell_type": "markdown",
   "metadata": {},
   "source": [
    "## 1.  Writing functions"
   ]
  },
  {
   "cell_type": "markdown",
   "metadata": {},
   "source": [
    "Here we have the `astronauts.csv` data we have used in previous assignments."
   ]
  },
  {
   "cell_type": "code",
   "execution_count": 2,
   "metadata": {},
   "outputs": [
    {
     "data": {
      "text/html": [
       "<div>\n",
       "<style scoped>\n",
       "    .dataframe tbody tr th:only-of-type {\n",
       "        vertical-align: middle;\n",
       "    }\n",
       "\n",
       "    .dataframe tbody tr th {\n",
       "        vertical-align: top;\n",
       "    }\n",
       "\n",
       "    .dataframe thead th {\n",
       "        text-align: right;\n",
       "    }\n",
       "</style>\n",
       "<table border=\"1\" class=\"dataframe\">\n",
       "  <thead>\n",
       "    <tr style=\"text-align: right;\">\n",
       "      <th></th>\n",
       "      <th>Name</th>\n",
       "      <th>Year</th>\n",
       "      <th>Group</th>\n",
       "      <th>Status</th>\n",
       "      <th>Birth Date</th>\n",
       "      <th>Birth Place</th>\n",
       "      <th>Gender</th>\n",
       "      <th>Alma Mater</th>\n",
       "      <th>Undergraduate Major</th>\n",
       "      <th>Graduate Major</th>\n",
       "      <th>Military Rank</th>\n",
       "      <th>Military Branch</th>\n",
       "      <th>Space Flights</th>\n",
       "      <th>Space Flight (hr)</th>\n",
       "      <th>Space Walks</th>\n",
       "      <th>Space Walks (hr)</th>\n",
       "      <th>Missions</th>\n",
       "      <th>Death Date</th>\n",
       "      <th>Death Mission</th>\n",
       "    </tr>\n",
       "  </thead>\n",
       "  <tbody>\n",
       "    <tr>\n",
       "      <th>0</th>\n",
       "      <td>Joseph M. Acaba</td>\n",
       "      <td>2004</td>\n",
       "      <td>19.0</td>\n",
       "      <td>Active</td>\n",
       "      <td>5/17/1967</td>\n",
       "      <td>Inglewood, CA</td>\n",
       "      <td>Male</td>\n",
       "      <td>University of California-Santa Barbara; Univer...</td>\n",
       "      <td>Geology</td>\n",
       "      <td>Geology</td>\n",
       "      <td>NaN</td>\n",
       "      <td>NaN</td>\n",
       "      <td>2</td>\n",
       "      <td>3307</td>\n",
       "      <td>2</td>\n",
       "      <td>13.0</td>\n",
       "      <td>STS-119 (Discovery), ISS-31/32 (Soyuz)</td>\n",
       "      <td>NaN</td>\n",
       "      <td>NaN</td>\n",
       "    </tr>\n",
       "    <tr>\n",
       "      <th>1</th>\n",
       "      <td>James C. Adamson</td>\n",
       "      <td>1984</td>\n",
       "      <td>10.0</td>\n",
       "      <td>Retired</td>\n",
       "      <td>3/3/1946</td>\n",
       "      <td>Warsaw, NY</td>\n",
       "      <td>Male</td>\n",
       "      <td>US Military Academy; Princeton University</td>\n",
       "      <td>Engineering</td>\n",
       "      <td>Aerospace Engineering</td>\n",
       "      <td>Colonel</td>\n",
       "      <td>US Army (Retired)</td>\n",
       "      <td>2</td>\n",
       "      <td>334</td>\n",
       "      <td>0</td>\n",
       "      <td>0.0</td>\n",
       "      <td>STS-28 (Columbia), STS-43 (Atlantis)</td>\n",
       "      <td>NaN</td>\n",
       "      <td>NaN</td>\n",
       "    </tr>\n",
       "    <tr>\n",
       "      <th>2</th>\n",
       "      <td>Thomas D. Akers</td>\n",
       "      <td>1987</td>\n",
       "      <td>12.0</td>\n",
       "      <td>Retired</td>\n",
       "      <td>5/20/1951</td>\n",
       "      <td>St. Louis, MO</td>\n",
       "      <td>Male</td>\n",
       "      <td>University of Missouri-Rolla</td>\n",
       "      <td>Applied Mathematics</td>\n",
       "      <td>Applied Mathematics</td>\n",
       "      <td>Colonel</td>\n",
       "      <td>US Air Force (Retired)</td>\n",
       "      <td>4</td>\n",
       "      <td>814</td>\n",
       "      <td>4</td>\n",
       "      <td>29.0</td>\n",
       "      <td>STS-41 (Discovery), STS-49 (Endeavor), STS-61 ...</td>\n",
       "      <td>NaN</td>\n",
       "      <td>NaN</td>\n",
       "    </tr>\n",
       "    <tr>\n",
       "      <th>3</th>\n",
       "      <td>Buzz Aldrin</td>\n",
       "      <td>1963</td>\n",
       "      <td>3.0</td>\n",
       "      <td>Retired</td>\n",
       "      <td>1/20/1930</td>\n",
       "      <td>Montclair, NJ</td>\n",
       "      <td>Male</td>\n",
       "      <td>US Military Academy; MIT</td>\n",
       "      <td>Mechanical Engineering</td>\n",
       "      <td>Astronautics</td>\n",
       "      <td>Colonel</td>\n",
       "      <td>US Air Force (Retired)</td>\n",
       "      <td>2</td>\n",
       "      <td>289</td>\n",
       "      <td>2</td>\n",
       "      <td>8.0</td>\n",
       "      <td>Gemini 12, Apollo 11</td>\n",
       "      <td>NaN</td>\n",
       "      <td>NaN</td>\n",
       "    </tr>\n",
       "    <tr>\n",
       "      <th>4</th>\n",
       "      <td>Andrew M. Allen</td>\n",
       "      <td>1987</td>\n",
       "      <td>12.0</td>\n",
       "      <td>Retired</td>\n",
       "      <td>8/4/1955</td>\n",
       "      <td>Philadelphia, PA</td>\n",
       "      <td>Male</td>\n",
       "      <td>Villanova University; University of Florida</td>\n",
       "      <td>Mechanical Engineering</td>\n",
       "      <td>Business Administration</td>\n",
       "      <td>Lieutenant Colonel</td>\n",
       "      <td>US Marine Corps (Retired)</td>\n",
       "      <td>3</td>\n",
       "      <td>906</td>\n",
       "      <td>0</td>\n",
       "      <td>0.0</td>\n",
       "      <td>STS-46 (Atlantis), STS-62 (Columbia), STS-75 (...</td>\n",
       "      <td>NaN</td>\n",
       "      <td>NaN</td>\n",
       "    </tr>\n",
       "  </tbody>\n",
       "</table>\n",
       "</div>"
      ],
      "text/plain": [
       "               Name  Year  Group   Status Birth Date       Birth Place Gender  \\\n",
       "0   Joseph M. Acaba  2004   19.0   Active  5/17/1967     Inglewood, CA   Male   \n",
       "1  James C. Adamson  1984   10.0  Retired   3/3/1946        Warsaw, NY   Male   \n",
       "2   Thomas D. Akers  1987   12.0  Retired  5/20/1951     St. Louis, MO   Male   \n",
       "3       Buzz Aldrin  1963    3.0  Retired  1/20/1930     Montclair, NJ   Male   \n",
       "4   Andrew M. Allen  1987   12.0  Retired   8/4/1955  Philadelphia, PA   Male   \n",
       "\n",
       "                                          Alma Mater     Undergraduate Major  \\\n",
       "0  University of California-Santa Barbara; Univer...                 Geology   \n",
       "1          US Military Academy; Princeton University             Engineering   \n",
       "2                       University of Missouri-Rolla     Applied Mathematics   \n",
       "3                           US Military Academy; MIT  Mechanical Engineering   \n",
       "4        Villanova University; University of Florida  Mechanical Engineering   \n",
       "\n",
       "            Graduate Major       Military Rank            Military Branch  \\\n",
       "0                  Geology                 NaN                        NaN   \n",
       "1    Aerospace Engineering             Colonel          US Army (Retired)   \n",
       "2      Applied Mathematics             Colonel     US Air Force (Retired)   \n",
       "3             Astronautics             Colonel     US Air Force (Retired)   \n",
       "4  Business Administration  Lieutenant Colonel  US Marine Corps (Retired)   \n",
       "\n",
       "   Space Flights  Space Flight (hr)  Space Walks  Space Walks (hr)  \\\n",
       "0              2               3307            2              13.0   \n",
       "1              2                334            0               0.0   \n",
       "2              4                814            4              29.0   \n",
       "3              2                289            2               8.0   \n",
       "4              3                906            0               0.0   \n",
       "\n",
       "                                            Missions Death Date Death Mission  \n",
       "0             STS-119 (Discovery), ISS-31/32 (Soyuz)        NaN           NaN  \n",
       "1               STS-28 (Columbia), STS-43 (Atlantis)        NaN           NaN  \n",
       "2  STS-41 (Discovery), STS-49 (Endeavor), STS-61 ...        NaN           NaN  \n",
       "3                               Gemini 12, Apollo 11        NaN           NaN  \n",
       "4  STS-46 (Atlantis), STS-62 (Columbia), STS-75 (...        NaN           NaN  "
      ]
     },
     "execution_count": 2,
     "metadata": {},
     "output_type": "execute_result"
    }
   ],
   "source": [
    "data = pd.read_csv('data/astronauts.csv')\n",
    "data.head()"
   ]
  },
  {
   "cell_type": "markdown",
   "metadata": {},
   "source": [
    "We have some code that randomly samples and selects a given number of rows from each of the specified column's groups. \n",
    "In this case it is randomly selecting 3 astronauts from each possible `Status` (`Active`, `Deceased`, `Management`, `Retired`)"
   ]
  },
  {
   "cell_type": "code",
   "execution_count": 3,
   "metadata": {},
   "outputs": [
    {
     "data": {
      "text/html": [
       "<div>\n",
       "<style scoped>\n",
       "    .dataframe tbody tr th:only-of-type {\n",
       "        vertical-align: middle;\n",
       "    }\n",
       "\n",
       "    .dataframe tbody tr th {\n",
       "        vertical-align: top;\n",
       "    }\n",
       "\n",
       "    .dataframe thead th {\n",
       "        text-align: right;\n",
       "    }\n",
       "</style>\n",
       "<table border=\"1\" class=\"dataframe\">\n",
       "  <thead>\n",
       "    <tr style=\"text-align: right;\">\n",
       "      <th></th>\n",
       "      <th>Name</th>\n",
       "      <th>Year</th>\n",
       "      <th>Group</th>\n",
       "      <th>Status</th>\n",
       "      <th>Birth Date</th>\n",
       "      <th>Birth Place</th>\n",
       "      <th>Gender</th>\n",
       "      <th>Alma Mater</th>\n",
       "      <th>Undergraduate Major</th>\n",
       "      <th>Graduate Major</th>\n",
       "      <th>Military Rank</th>\n",
       "      <th>Military Branch</th>\n",
       "      <th>Space Flights</th>\n",
       "      <th>Space Flight (hr)</th>\n",
       "      <th>Space Walks</th>\n",
       "      <th>Space Walks (hr)</th>\n",
       "      <th>Missions</th>\n",
       "      <th>Death Date</th>\n",
       "      <th>Death Mission</th>\n",
       "    </tr>\n",
       "  </thead>\n",
       "  <tbody>\n",
       "    <tr>\n",
       "      <th>315</th>\n",
       "      <td>Peggy A. Whitson</td>\n",
       "      <td>1996</td>\n",
       "      <td>16.0</td>\n",
       "      <td>Active</td>\n",
       "      <td>2/9/1960</td>\n",
       "      <td>Mt. Ayr, IA</td>\n",
       "      <td>Female</td>\n",
       "      <td>Iowa Wesleyan College; Rice University</td>\n",
       "      <td>Chemistry &amp; Biology</td>\n",
       "      <td>Biochemistry</td>\n",
       "      <td>NaN</td>\n",
       "      <td>NaN</td>\n",
       "      <td>3</td>\n",
       "      <td>11698</td>\n",
       "      <td>7</td>\n",
       "      <td>46.0</td>\n",
       "      <td>STS-111/113 (Endeavor), ISS-16 (Soyuz), ISS-50...</td>\n",
       "      <td>NaN</td>\n",
       "      <td>NaN</td>\n",
       "    </tr>\n",
       "    <tr>\n",
       "      <th>165</th>\n",
       "      <td>Gregory H. Johnson</td>\n",
       "      <td>1998</td>\n",
       "      <td>17.0</td>\n",
       "      <td>Active</td>\n",
       "      <td>5/12/1962</td>\n",
       "      <td>London, England</td>\n",
       "      <td>Male</td>\n",
       "      <td>US Air Force Academy; Columbia University; Uni...</td>\n",
       "      <td>Aeronautical Engineering</td>\n",
       "      <td>Flight Structures Engineering; Business Admini...</td>\n",
       "      <td>Colonel</td>\n",
       "      <td>US Air Force (Retired)</td>\n",
       "      <td>2</td>\n",
       "      <td>755</td>\n",
       "      <td>0</td>\n",
       "      <td>0.0</td>\n",
       "      <td>STS-123 (Endeavor), STS-134 (Endeavor)</td>\n",
       "      <td>NaN</td>\n",
       "      <td>NaN</td>\n",
       "    </tr>\n",
       "    <tr>\n",
       "      <th>294</th>\n",
       "      <td>Stephen D. Thorne</td>\n",
       "      <td>1985</td>\n",
       "      <td>11.0</td>\n",
       "      <td>Deceased</td>\n",
       "      <td>2/11/1953</td>\n",
       "      <td>Frankfurt, West Germany</td>\n",
       "      <td>Male</td>\n",
       "      <td>US Naval Academy</td>\n",
       "      <td>Engineering</td>\n",
       "      <td>NaN</td>\n",
       "      <td>Lieutenant Commander</td>\n",
       "      <td>US Navy</td>\n",
       "      <td>0</td>\n",
       "      <td>0</td>\n",
       "      <td>0</td>\n",
       "      <td>0.0</td>\n",
       "      <td>NaN</td>\n",
       "      <td>5/24/1986</td>\n",
       "      <td>NaN</td>\n",
       "    </tr>\n",
       "    <tr>\n",
       "      <th>242</th>\n",
       "      <td>Alan G. Poindexter</td>\n",
       "      <td>1998</td>\n",
       "      <td>17.0</td>\n",
       "      <td>Deceased</td>\n",
       "      <td>11/5/1961</td>\n",
       "      <td>Pasadena, CA</td>\n",
       "      <td>Male</td>\n",
       "      <td>Georgia Institute of Technology; US Naval Post...</td>\n",
       "      <td>Aerospace Engineering</td>\n",
       "      <td>Aeronautical Engineering</td>\n",
       "      <td>Captain</td>\n",
       "      <td>US Navy</td>\n",
       "      <td>2</td>\n",
       "      <td>669</td>\n",
       "      <td>0</td>\n",
       "      <td>0.0</td>\n",
       "      <td>STS-122 (Atlantis), STS-131 (Discovery)</td>\n",
       "      <td>7/1/2012</td>\n",
       "      <td>NaN</td>\n",
       "    </tr>\n",
       "    <tr>\n",
       "      <th>30</th>\n",
       "      <td>Charles F. Bolden Jr.</td>\n",
       "      <td>1980</td>\n",
       "      <td>9.0</td>\n",
       "      <td>Management</td>\n",
       "      <td>8/19/1946</td>\n",
       "      <td>Columbia, SC</td>\n",
       "      <td>Male</td>\n",
       "      <td>US Naval Academy; University of Southern Calif...</td>\n",
       "      <td>Electrical Science</td>\n",
       "      <td>Systems Management</td>\n",
       "      <td>Major General</td>\n",
       "      <td>US Marine Corps (Retired)</td>\n",
       "      <td>4</td>\n",
       "      <td>680</td>\n",
       "      <td>0</td>\n",
       "      <td>0.0</td>\n",
       "      <td>STS-61C (Columbia), STS-31 (Discovery), STS-45...</td>\n",
       "      <td>NaN</td>\n",
       "      <td>NaN</td>\n",
       "    </tr>\n",
       "    <tr>\n",
       "      <th>47</th>\n",
       "      <td>Yvonne D. Cagle</td>\n",
       "      <td>1996</td>\n",
       "      <td>16.0</td>\n",
       "      <td>Management</td>\n",
       "      <td>4/24/1959</td>\n",
       "      <td>West Point, NY</td>\n",
       "      <td>Female</td>\n",
       "      <td>San Francisco State University</td>\n",
       "      <td>Biochemistry</td>\n",
       "      <td>NaN</td>\n",
       "      <td>Colonel</td>\n",
       "      <td>US Air Force</td>\n",
       "      <td>0</td>\n",
       "      <td>0</td>\n",
       "      <td>0</td>\n",
       "      <td>0.0</td>\n",
       "      <td>NaN</td>\n",
       "      <td>NaN</td>\n",
       "      <td>NaN</td>\n",
       "    </tr>\n",
       "    <tr>\n",
       "      <th>12</th>\n",
       "      <td>Lee J. Archambault</td>\n",
       "      <td>1998</td>\n",
       "      <td>17.0</td>\n",
       "      <td>Retired</td>\n",
       "      <td>8/25/1960</td>\n",
       "      <td>Oak Park, IL</td>\n",
       "      <td>Male</td>\n",
       "      <td>University of Illinois-Urbana</td>\n",
       "      <td>Aeronautical &amp; Astronautical Engineering</td>\n",
       "      <td>Aeronautical &amp; Astronautical Engineering</td>\n",
       "      <td>Colonel</td>\n",
       "      <td>US Air Force</td>\n",
       "      <td>2</td>\n",
       "      <td>639</td>\n",
       "      <td>0</td>\n",
       "      <td>0.0</td>\n",
       "      <td>STS-117 (Atlantis), STS-119 (Discovery)</td>\n",
       "      <td>NaN</td>\n",
       "      <td>NaN</td>\n",
       "    </tr>\n",
       "    <tr>\n",
       "      <th>327</th>\n",
       "      <td>Alfred M. Worden</td>\n",
       "      <td>1966</td>\n",
       "      <td>5.0</td>\n",
       "      <td>Retired</td>\n",
       "      <td>2/7/1932</td>\n",
       "      <td>Jackson, MI</td>\n",
       "      <td>Male</td>\n",
       "      <td>US Military Academy; University of Michigan</td>\n",
       "      <td>Military Science</td>\n",
       "      <td>Aeronautical &amp; Astronautical Engineering</td>\n",
       "      <td>Colonel</td>\n",
       "      <td>US Air Force (Retired)</td>\n",
       "      <td>1</td>\n",
       "      <td>295</td>\n",
       "      <td>1</td>\n",
       "      <td>0.5</td>\n",
       "      <td>Apollo 15</td>\n",
       "      <td>NaN</td>\n",
       "      <td>NaN</td>\n",
       "    </tr>\n",
       "  </tbody>\n",
       "</table>\n",
       "</div>"
      ],
      "text/plain": [
       "                       Name  Year  Group      Status Birth Date  \\\n",
       "315        Peggy A. Whitson  1996   16.0      Active   2/9/1960   \n",
       "165      Gregory H. Johnson  1998   17.0      Active  5/12/1962   \n",
       "294       Stephen D. Thorne  1985   11.0    Deceased  2/11/1953   \n",
       "242      Alan G. Poindexter  1998   17.0    Deceased  11/5/1961   \n",
       "30   Charles F. Bolden Jr.   1980    9.0  Management  8/19/1946   \n",
       "47          Yvonne D. Cagle  1996   16.0  Management  4/24/1959   \n",
       "12       Lee J. Archambault  1998   17.0     Retired  8/25/1960   \n",
       "327        Alfred M. Worden  1966    5.0     Retired   2/7/1932   \n",
       "\n",
       "                 Birth Place  Gender  \\\n",
       "315              Mt. Ayr, IA  Female   \n",
       "165          London, England    Male   \n",
       "294  Frankfurt, West Germany    Male   \n",
       "242             Pasadena, CA    Male   \n",
       "30              Columbia, SC    Male   \n",
       "47            West Point, NY  Female   \n",
       "12              Oak Park, IL    Male   \n",
       "327              Jackson, MI    Male   \n",
       "\n",
       "                                            Alma Mater  \\\n",
       "315             Iowa Wesleyan College; Rice University   \n",
       "165  US Air Force Academy; Columbia University; Uni...   \n",
       "294                                   US Naval Academy   \n",
       "242  Georgia Institute of Technology; US Naval Post...   \n",
       "30   US Naval Academy; University of Southern Calif...   \n",
       "47                      San Francisco State University   \n",
       "12                       University of Illinois-Urbana   \n",
       "327        US Military Academy; University of Michigan   \n",
       "\n",
       "                          Undergraduate Major  \\\n",
       "315                       Chemistry & Biology   \n",
       "165                  Aeronautical Engineering   \n",
       "294                               Engineering   \n",
       "242                     Aerospace Engineering   \n",
       "30                         Electrical Science   \n",
       "47                               Biochemistry   \n",
       "12   Aeronautical & Astronautical Engineering   \n",
       "327                          Military Science   \n",
       "\n",
       "                                        Graduate Major         Military Rank  \\\n",
       "315                                       Biochemistry                   NaN   \n",
       "165  Flight Structures Engineering; Business Admini...               Colonel   \n",
       "294                                                NaN  Lieutenant Commander   \n",
       "242                           Aeronautical Engineering               Captain   \n",
       "30                                  Systems Management         Major General   \n",
       "47                                                 NaN               Colonel   \n",
       "12            Aeronautical & Astronautical Engineering               Colonel   \n",
       "327           Aeronautical & Astronautical Engineering               Colonel   \n",
       "\n",
       "               Military Branch  Space Flights  Space Flight (hr)  Space Walks  \\\n",
       "315                        NaN              3              11698            7   \n",
       "165     US Air Force (Retired)              2                755            0   \n",
       "294                    US Navy              0                  0            0   \n",
       "242                    US Navy              2                669            0   \n",
       "30   US Marine Corps (Retired)              4                680            0   \n",
       "47                US Air Force              0                  0            0   \n",
       "12                US Air Force              2                639            0   \n",
       "327     US Air Force (Retired)              1                295            1   \n",
       "\n",
       "     Space Walks (hr)                                           Missions  \\\n",
       "315              46.0  STS-111/113 (Endeavor), ISS-16 (Soyuz), ISS-50...   \n",
       "165               0.0             STS-123 (Endeavor), STS-134 (Endeavor)   \n",
       "294               0.0                                                NaN   \n",
       "242               0.0            STS-122 (Atlantis), STS-131 (Discovery)   \n",
       "30                0.0  STS-61C (Columbia), STS-31 (Discovery), STS-45...   \n",
       "47                0.0                                                NaN   \n",
       "12                0.0            STS-117 (Atlantis), STS-119 (Discovery)   \n",
       "327               0.5                                          Apollo 15   \n",
       "\n",
       "    Death Date Death Mission  \n",
       "315        NaN           NaN  \n",
       "165        NaN           NaN  \n",
       "294  5/24/1986           NaN  \n",
       "242   7/1/2012           NaN  \n",
       "30         NaN           NaN  \n",
       "47         NaN           NaN  \n",
       "12         NaN           NaN  \n",
       "327        NaN           NaN  "
      ]
     },
     "execution_count": 3,
     "metadata": {},
     "output_type": "execute_result"
    }
   ],
   "source": [
    "data = pd.read_csv('data/astronauts.csv')\n",
    "df_grouped = data.groupby('Status')\n",
    "\n",
    "sampled_df = None\n",
    "\n",
    "for group, rows in df_grouped: \n",
    "    group_sampling =  df_grouped.get_group(group).sample(2)\n",
    "    sampled_df = pd.concat([sampled_df, group_sampling])\n",
    "    \n",
    "sampled_df"
   ]
  },
  {
   "cell_type": "markdown",
   "metadata": {},
   "source": [
    "**Question 1(a)** <br> {points: 3} \n",
    "\n",
    "Use the code above to write a function named `sample_dataframe` that randomly samples from any dataframe, N observations from each specified group in a dataframe. \n",
    "The function should accept the following arguments:\n",
    "- The dataframe (`data`)\n",
    "- The name of the grouping column (`grouping_col`) \n",
    "\n",
    "This function should have a default argument of 1 for N.\n",
    "\n",
    "We have provided you code that executes your function using the `astronauts.csv` dataframe, the grouping column `Group` and a value of 1 for the number of observations to sample. \n",
    "The output of this is saved in an object named `astro_grp_samp`.\n",
    "\n",
    "_**DISCLAIMER:** We understand that one of the limitations of the following dataset is that it reflects binary sex categories._\n",
    "\n",
    "_Notes:_\n",
    "- *See this link on[`.sample()`](https://pandas.pydata.org/pandas-docs/stable/reference/api/pandas.DataFrame.sample.html) to learn more about how it samples a dataframe*"
   ]
  },
  {
   "cell_type": "code",
   "execution_count": 20,
   "metadata": {
    "deletable": false,
    "nbgrader": {
     "cell_type": "code",
     "checksum": "da6bc7eec4d8b4741089c9c9b8171627",
     "grade": false,
     "grade_id": "cell-37c7c24f97ad515f",
     "locked": false,
     "schema_version": 3,
     "solution": true,
     "task": false
    }
   },
   "outputs": [],
   "source": [
    "\n",
    "def sample_dataframe(data, grouping_col, N=1):\n",
    "    return data.groupby(grouping_col).sample(N)\n",
    "\n",
    "\n",
    "\n",
    "astro_grp_samp = sample_dataframe(data, 'Group')"
   ]
  },
  {
   "cell_type": "code",
   "execution_count": 21,
   "metadata": {
    "deletable": false,
    "editable": false,
    "nbgrader": {
     "cell_type": "code",
     "checksum": "95c1757b4e56b23843b0f232febaed3a",
     "grade": true,
     "grade_id": "cell-28976a70a7390c75",
     "locked": true,
     "points": 3,
     "schema_version": 3,
     "solution": false,
     "task": false
    }
   },
   "outputs": [
    {
     "data": {
      "text/plain": [
       "'Success'"
      ]
     },
     "execution_count": 21,
     "metadata": {},
     "output_type": "execute_result"
    }
   ],
   "source": [
    "t.test_1a(sample_dataframe)"
   ]
  },
  {
   "cell_type": "markdown",
   "metadata": {},
   "source": [
    "**Question 1(b)** <br> {points: 3} \n",
    "\n",
    "Write a function named `df_filterer` that filters rows matching an exact value in the column of interest, selects specific columns and returns a dataframe.  \n",
    "\n",
    "The function should accept the following arguments:\n",
    "- The dataframe (`data`)\n",
    "- The name of the column of interest (`interest_column`)\n",
    "- The value to filter for. (`value`)\n",
    "- The desired columns to select (input type should be a list) (`keep`) \n",
    "\n",
    "Make sure that your function is returning the transformed dataframe. \n"
   ]
  },
  {
   "cell_type": "code",
   "execution_count": 41,
   "metadata": {
    "deletable": false,
    "nbgrader": {
     "cell_type": "code",
     "checksum": "36f2336beaf6a4e54a37bd975ea2b5d5",
     "grade": false,
     "grade_id": "cell-9d0ad852cc7fcf6a",
     "locked": false,
     "schema_version": 3,
     "solution": true,
     "task": false
    }
   },
   "outputs": [
    {
     "data": {
      "text/html": [
       "<div>\n",
       "<style scoped>\n",
       "    .dataframe tbody tr th:only-of-type {\n",
       "        vertical-align: middle;\n",
       "    }\n",
       "\n",
       "    .dataframe tbody tr th {\n",
       "        vertical-align: top;\n",
       "    }\n",
       "\n",
       "    .dataframe thead th {\n",
       "        text-align: right;\n",
       "    }\n",
       "</style>\n",
       "<table border=\"1\" class=\"dataframe\">\n",
       "  <thead>\n",
       "    <tr style=\"text-align: right;\">\n",
       "      <th></th>\n",
       "      <th>Name</th>\n",
       "    </tr>\n",
       "  </thead>\n",
       "  <tbody>\n",
       "    <tr>\n",
       "      <th>93</th>\n",
       "      <td>Joe H. Engle</td>\n",
       "    </tr>\n",
       "  </tbody>\n",
       "</table>\n",
       "</div>"
      ],
      "text/plain": [
       "            Name\n",
       "93  Joe H. Engle"
      ]
     },
     "execution_count": 41,
     "metadata": {},
     "output_type": "execute_result"
    }
   ],
   "source": [
    "\n",
    "def df_filterer(data, interest_column, value, keep):\n",
    "    return data[data[interest_column] == value][keep]\n",
    "\n",
    "princeton_ast = df_filterer(data,'Alma Mater','University of Kansas', ['Name'])\n",
    "princeton_ast"
   ]
  },
  {
   "cell_type": "code",
   "execution_count": 42,
   "metadata": {
    "deletable": false,
    "editable": false,
    "nbgrader": {
     "cell_type": "code",
     "checksum": "82e870a115d4b2e620734d4778dc87b6",
     "grade": true,
     "grade_id": "cell-a18332d5d26418a7",
     "locked": true,
     "points": 3,
     "schema_version": 3,
     "solution": false,
     "task": false
    }
   },
   "outputs": [
    {
     "data": {
      "text/plain": [
       "'Success'"
      ]
     },
     "execution_count": 42,
     "metadata": {},
     "output_type": "execute_result"
    }
   ],
   "source": [
    "t.test_1b(df_filterer,data)"
   ]
  },
  {
   "cell_type": "markdown",
   "metadata": {},
   "source": [
    "## 2.  Writing Docstrings"
   ]
  },
  {
   "cell_type": "markdown",
   "metadata": {},
   "source": [
    "**Question 2(a)** <br> {points: 1} \n",
    "\n",
    "Copy/paste your function from **Question 1(a)**, and then improve it by adding a docstring. "
   ]
  },
  {
   "cell_type": "code",
   "execution_count": 37,
   "metadata": {
    "deletable": false,
    "nbgrader": {
     "cell_type": "code",
     "checksum": "58f2b56c2683204ed47941392f774d7c",
     "grade": false,
     "grade_id": "cell-2f196d85895b30db",
     "locked": false,
     "schema_version": 3,
     "solution": true,
     "task": false
    }
   },
   "outputs": [],
   "source": [
    "def sample_dataframe(data, grouping_col, N=1):\n",
    "    '''\n",
    "    Returns a random sample of a dataframe.\n",
    "    \n",
    "    Returns a random sample of a dataframe given a column to group by and\n",
    "    a number of items to return (default: 1).\n",
    "    \n",
    "    Parameters\n",
    "    ----------\n",
    "    data : pandas.DataFrame\n",
    "        The dataframe to sample\n",
    "    grouping_col : mapping, function, label, or list of labels\n",
    "        The column to group by\n",
    "    N : int, optional\n",
    "        Number of items to return\n",
    "    \n",
    "    Returns\n",
    "    -------\n",
    "    DataFrame\n",
    "        DataFrame representing a sample of the original dataframe (data)\n",
    "        \n",
    "    Examples\n",
    "    --------\n",
    "    >>> sample_dataframe(data, 'Group')\n",
    "    \n",
    "    '''\n",
    "    return data.groupby(grouping_col).sample(N)"
   ]
  },
  {
   "cell_type": "code",
   "execution_count": 38,
   "metadata": {
    "deletable": false,
    "editable": false,
    "nbgrader": {
     "cell_type": "code",
     "checksum": "faf027af36280c231f379ef10ca3d806",
     "grade": true,
     "grade_id": "cell-6d80b5a96356df64",
     "locked": true,
     "points": 1,
     "schema_version": 3,
     "solution": false,
     "task": false
    }
   },
   "outputs": [
    {
     "data": {
      "text/plain": [
       "'Success'"
      ]
     },
     "execution_count": 38,
     "metadata": {},
     "output_type": "execute_result"
    }
   ],
   "source": [
    "t.test_2a(sample_dataframe)"
   ]
  },
  {
   "cell_type": "markdown",
   "metadata": {},
   "source": [
    "**Question 2(b)** <br> {points: 2} \n",
    "\n",
    "Copy/paste your function from **Question 1(b)**, and then improve it by adding a docstring. "
   ]
  },
  {
   "cell_type": "code",
   "execution_count": 45,
   "metadata": {
    "deletable": false,
    "nbgrader": {
     "cell_type": "code",
     "checksum": "b46de74d51a170dac627082172e53654",
     "grade": false,
     "grade_id": "cell-64574cd08beda8ba",
     "locked": false,
     "schema_version": 3,
     "solution": true,
     "task": false
    }
   },
   "outputs": [],
   "source": [
    "def df_filterer(data, interest_column, value, keep):\n",
    "    '''\n",
    "    Filters rows matching an exact value in the column of interest.\n",
    "    \n",
    "    Filters rows matching an exact value in the column of interest, \n",
    "    selects specific columns and returns a dataframe.\n",
    "    \n",
    "    Parameters\n",
    "    ----------\n",
    "    data : pandas.DataFrame\n",
    "        The dataframe to sample\n",
    "    interest_column : str\n",
    "        The column to group by\n",
    "    value : str\n",
    "        The exact value to filter for\n",
    "    keep : label, list or array of labels, slice object with labels, boolean array of the same length as the axis being sliced, An alignable boolean Series, A callable function with one argument (the calling Series or DataFrame) and that returns valid output for indexing (one of the above)\n",
    "        \n",
    "    \n",
    "    Returns\n",
    "    -------\n",
    "    DataFrame\n",
    "        DataFrame representing a filtered version of the original dataframe (data)\n",
    "        \n",
    "    Examples\n",
    "    --------\n",
    "    >>> df_filterer(data,'Alma Mater','University of Kansas', ['Name'])\n",
    "    \n",
    "    '''\n",
    "    return data[data[interest_column] == value][keep]"
   ]
  },
  {
   "cell_type": "code",
   "execution_count": 46,
   "metadata": {
    "deletable": false,
    "editable": false,
    "nbgrader": {
     "cell_type": "code",
     "checksum": "a5b18d42d359ce6e7beb38ed29e76004",
     "grade": true,
     "grade_id": "cell-941dc3e0565022d2",
     "locked": true,
     "points": 2,
     "schema_version": 3,
     "solution": false,
     "task": false
    }
   },
   "outputs": [],
   "source": [
    "# check that the function exists\n",
    "assert 'df_filterer' in globals(\n",
    "), \"Please make sure that your solution is named 'df_filterer'\"\n",
    "\n",
    "# This test has been intentionally hidden. It will be up to you to decide if your solution\n",
    "# is sufficiently good."
   ]
  },
  {
   "cell_type": "markdown",
   "metadata": {},
   "source": [
    "## 3. Function with Exceptions "
   ]
  },
  {
   "cell_type": "markdown",
   "metadata": {},
   "source": [
    "**Question 3(a)** <br> {points: 1} \n",
    "\n",
    "Copy/paste your function from **Question 1(b)**, and add exceptions to check that:\n",
    "\n",
    "1. A dataframe is the type of object being passed into the `data` argument (*Hint: you may want to use [this function](https://python-reference.readthedocs.io/en/latest/docs/functions/isinstance.html)*)\n",
    "1. `value` exists in the dataframe (`.tolist()` may come in handy here) \n",
    "1. `interest_column` exists in the dataframe\n",
    "1. The elements in `keep` exist in the dataframe"
   ]
  },
  {
   "cell_type": "code",
   "execution_count": 79,
   "metadata": {
    "deletable": false,
    "nbgrader": {
     "cell_type": "code",
     "checksum": "04ca544f7ccd6873517e56cc8cd8ae03",
     "grade": false,
     "grade_id": "cell-300d0b8ef95fc62c",
     "locked": false,
     "schema_version": 3,
     "solution": true,
     "task": false
    }
   },
   "outputs": [],
   "source": [
    "def df_filterer(data, interest_column, value, keep):\n",
    "    if not isinstance(data, pd.DataFrame):\n",
    "        raise TypeError('data must be a dataframe')\n",
    "    if not value in data.values:\n",
    "        raise ValueError('value does not exist in data')\n",
    "    if not interest_column in data.columns:\n",
    "        raise Exception('interest_column does not exist in data')\n",
    "    if not data.squeeze().isin(keep):\n",
    "        raise Exception('keep does not exist in data')\n",
    "    \n",
    "    return data[data[interest_column] == value][keep]"
   ]
  },
  {
   "cell_type": "code",
   "execution_count": 80,
   "metadata": {
    "deletable": false,
    "editable": false,
    "nbgrader": {
     "cell_type": "code",
     "checksum": "c084bc563eb835ec538810efaced0319",
     "grade": true,
     "grade_id": "cell-9562a2d37d4770c5",
     "locked": true,
     "points": 1,
     "schema_version": 3,
     "solution": false,
     "task": false
    }
   },
   "outputs": [
    {
     "data": {
      "text/plain": [
       "'Success'"
      ]
     },
     "execution_count": 80,
     "metadata": {},
     "output_type": "execute_result"
    }
   ],
   "source": [
    "t.test_3a(df_filterer)"
   ]
  },
  {
   "cell_type": "markdown",
   "metadata": {},
   "source": [
    "**Question 3(b)** <br> {points: 1} \n",
    "\n",
    "Copy/paste your function from **Question 1(a)**, and add at least 3 useful exceptions of your choice."
   ]
  },
  {
   "cell_type": "code",
   "execution_count": 84,
   "metadata": {
    "deletable": false,
    "nbgrader": {
     "cell_type": "code",
     "checksum": "c14e1f1114b446d6cbe13f014855f0d0",
     "grade": false,
     "grade_id": "cell-6749c72a478e1942",
     "locked": false,
     "schema_version": 3,
     "solution": true,
     "task": false
    }
   },
   "outputs": [],
   "source": [
    "\n",
    "def sample_dataframe(data, grouping_col, N=1):\n",
    "    if not isinstance(data, pd.DataFrame):\n",
    "        raise TypeError('data must be a dataframe')\n",
    "    if not grouping_col in data.columns:\n",
    "        raise Exception('grouping_col does not exist in data')\n",
    "    if N > 1 and not isinstance(data, int):\n",
    "        raise TypeError('N must be of type int')\n",
    "    \n",
    "    return data.groupby(grouping_col).sample(N)\n",
    "\n",
    "astro_grp_samp = sample_dataframe(data, 'Group')"
   ]
  },
  {
   "cell_type": "code",
   "execution_count": 85,
   "metadata": {
    "deletable": false,
    "editable": false,
    "nbgrader": {
     "cell_type": "code",
     "checksum": "c9cda40bd8563e384cf6756418c1f6b5",
     "grade": true,
     "grade_id": "cell-c724712c884f844c",
     "locked": true,
     "points": 1,
     "schema_version": 3,
     "solution": false,
     "task": false
    }
   },
   "outputs": [
    {
     "data": {
      "text/plain": [
       "'Success'"
      ]
     },
     "execution_count": 85,
     "metadata": {},
     "output_type": "execute_result"
    }
   ],
   "source": [
    "t.test_3b(sample_dataframe)"
   ]
  },
  {
   "cell_type": "markdown",
   "metadata": {},
   "source": [
    "## 4. Helper Data and Unit Tests"
   ]
  },
  {
   "cell_type": "markdown",
   "metadata": {},
   "source": [
    "**Question 4(a)** <br> {points: 1} \n",
    "\n",
    "Write helper data for the function in **Question 1(a)** that will be useful to write unit tests. \n",
    "Name the dataframe `helper_data`.\n",
    "\n",
    "Make sure your data has 5-20 rows and 3-10 columns.   \n",
    "\n",
    "*(Remember you are expected to group and sample from this function.)* \n",
    "\n"
   ]
  },
  {
   "cell_type": "code",
   "execution_count": null,
   "metadata": {
    "deletable": false,
    "nbgrader": {
     "cell_type": "code",
     "checksum": "d42aeaf2a95036e9547d5b3afae2481d",
     "grade": false,
     "grade_id": "cell-f48823fc86eb907d",
     "locked": false,
     "schema_version": 3,
     "solution": true,
     "task": false
    }
   },
   "outputs": [],
   "source": [
    "# your code here\n",
    "raise NotImplementedError # No Answer - remove if you provide an answer\n",
    "\n",
    "set(list(helper_data.dtypes))"
   ]
  },
  {
   "cell_type": "code",
   "execution_count": null,
   "metadata": {
    "deletable": false,
    "editable": false,
    "nbgrader": {
     "cell_type": "code",
     "checksum": "5571498f240d8c364f8e66b2b3390b9c",
     "grade": true,
     "grade_id": "cell-380b5d7b8e0bfde6",
     "locked": true,
     "points": 1,
     "schema_version": 3,
     "solution": false,
     "task": false
    }
   },
   "outputs": [],
   "source": [
    "t.test_4a(helper_data)"
   ]
  },
  {
   "cell_type": "markdown",
   "metadata": {},
   "source": [
    "**Question 4(b)** <br> {points: 2} \n",
    "\n",
    "Create a function named `test_sample_dataframe` which takes zero arguments. The function should contain the code to make the helper data from **Question 4(a)**. Also in this function, write 5 `assert` tests that checks your function from **Question 1(a)** using the helper data that you made in **Question 4(a)**.\n",
    "\n",
    "After writing your function, make sure to call it and see if your function outputs any assert messages.\n",
    "\n",
    "Make sure to include a `return` statement in your function. Your function should not return any values."
   ]
  },
  {
   "cell_type": "code",
   "execution_count": null,
   "metadata": {
    "deletable": false,
    "nbgrader": {
     "cell_type": "code",
     "checksum": "257f8c9edc2e59daec437490cdad212b",
     "grade": false,
     "grade_id": "cell-978105d5b3cc703c",
     "locked": false,
     "schema_version": 3,
     "solution": true,
     "task": false
    }
   },
   "outputs": [],
   "source": [
    "# your code here\n",
    "raise NotImplementedError # No Answer - remove if you provide an answer\n",
    "\n",
    "test_sample_dataframe()"
   ]
  },
  {
   "cell_type": "code",
   "execution_count": null,
   "metadata": {
    "deletable": false,
    "editable": false,
    "nbgrader": {
     "cell_type": "code",
     "checksum": "ec563cd5b0f88c75c0e7484ce880b886",
     "grade": true,
     "grade_id": "cell-195edb5dbafe3471",
     "locked": true,
     "points": 2,
     "schema_version": 3,
     "solution": false,
     "task": false
    }
   },
   "outputs": [],
   "source": [
    "# check that the function exists\n",
    "assert 'test_sample_dataframe' in globals(\n",
    "), \"Please make sure that your solution is named 'test_sample_dataframe'\"\n",
    "\n",
    "# This test has been intentionally hidden. It will be up to you to decide if your solution\n",
    "# is sufficiently good."
   ]
  },
  {
   "cell_type": "markdown",
   "metadata": {},
   "source": [
    "## 5. Function Design"
   ]
  },
  {
   "cell_type": "markdown",
   "metadata": {},
   "source": [
    "**Question  5(a)** <br> {points: 1} \n",
    "\n",
    "Below we have a function that takes zero arguments and returns the astronaut dataframe filtered to only include astronauts who have had over 6000 hours of space flight.\n",
    "\n",
    "_**DISCLAIMER:** We understand that one of the limitations of the following dataset is that it reflects binary sex categories._"
   ]
  },
  {
   "cell_type": "code",
   "execution_count": null,
   "metadata": {},
   "outputs": [],
   "source": [
    "def load_astronauts(): \n",
    "    \"\"\"\n",
    "    Reads in the astronaut data and filters it for space flight time\n",
    "    greater than 6000\n",
    "    \n",
    "    Returns\n",
    "    -------\n",
    "    pandas.core.frame.DataFrame\n",
    "        The filtered astronaut dataframe \n",
    "    \n",
    "    Examples\n",
    "    --------\n",
    "    >>> load_astronauts()\n",
    "    \"\"\"\n",
    "    \n",
    "    df = pd.read_csv('data/astronauts.csv')\n",
    "    df = df[df['Space Flight (hr)'] >= 6000]\n",
    "    return df"
   ]
  },
  {
   "cell_type": "code",
   "execution_count": null,
   "metadata": {},
   "outputs": [],
   "source": [
    "space = load_astronauts()\n",
    "space"
   ]
  },
  {
   "cell_type": "markdown",
   "metadata": {},
   "source": [
    "What is wrong with the function `load_astronauts()`?\n",
    "\n",
    "\n",
    "A) It doesn't take any arguments which is not good function design. \n",
    "\n",
    "B) It's attempting to do too many things by reading in the data AND filtering on `Space Flight (hr)`\n",
    "\n",
    "C) It contains side effects that could easily be removed. \n",
    "\n",
    "D) It limits the user to only use the function to obtain astronauts with a hard-coded amount of `'Space Flight (hr)'` time. \n",
    "\n",
    "\n",
    "\n",
    "\n",
    "*Answer in the cell below using the uppercase letter associated with your answer. Place your answer between \"\", assign the correct answer to an object called `answer5_a`.*"
   ]
  },
  {
   "cell_type": "code",
   "execution_count": null,
   "metadata": {
    "deletable": false,
    "nbgrader": {
     "cell_type": "code",
     "checksum": "33ad5b363f76fda375c3f1214402cd32",
     "grade": false,
     "grade_id": "cell-d1f3fdc4dadabf42",
     "locked": false,
     "schema_version": 3,
     "solution": true,
     "task": false
    }
   },
   "outputs": [],
   "source": [
    "answer5_a = None\n",
    "\n",
    "# your code here\n",
    "raise NotImplementedError # No Answer - remove if you provide an answer\n"
   ]
  },
  {
   "cell_type": "code",
   "execution_count": null,
   "metadata": {
    "deletable": false,
    "editable": false,
    "nbgrader": {
     "cell_type": "code",
     "checksum": "38bbf901f000d45adc50bbe91d06fbbe",
     "grade": true,
     "grade_id": "cell-db35516640346b31",
     "locked": true,
     "points": 1,
     "schema_version": 3,
     "solution": false,
     "task": false
    }
   },
   "outputs": [],
   "source": [
    "t.test_5a(answer5_a)"
   ]
  },
  {
   "cell_type": "markdown",
   "metadata": {},
   "source": [
    "**Question  5(b)** <br> {points: 2} \n",
    "\n",
    "Given the function above, write a new similar function named `astronauts_space_time` that takes in an argument and corrects for the issue you identified above. \n",
    "\n",
    "Remember to add a `docstring` in your function."
   ]
  },
  {
   "cell_type": "code",
   "execution_count": null,
   "metadata": {
    "deletable": false,
    "nbgrader": {
     "cell_type": "code",
     "checksum": "0d9b1c45a250f73c49b439addbd2aa57",
     "grade": false,
     "grade_id": "cell-872e6df300e27ff6",
     "locked": false,
     "schema_version": 3,
     "solution": true,
     "task": false
    }
   },
   "outputs": [],
   "source": [
    "# your code here\n",
    "raise NotImplementedError # No Answer - remove if you provide an answer"
   ]
  },
  {
   "cell_type": "code",
   "execution_count": null,
   "metadata": {
    "deletable": false,
    "editable": false,
    "nbgrader": {
     "cell_type": "code",
     "checksum": "f2ec928c3a8f0ba861d85101a6db38ed",
     "grade": true,
     "grade_id": "cell-9abadc14a9c5bae6",
     "locked": true,
     "points": 2,
     "schema_version": 3,
     "solution": false,
     "task": false
    }
   },
   "outputs": [],
   "source": [
    "# check that the function exists\n",
    "assert 'astronauts_space_time' in globals(\n",
    "), \"Please make sure that your solution is named 'astronauts_space_time'\"\n",
    "\n",
    "# This test has been intentionally hidden. It will be up to you to decide if your solution\n",
    "# is sufficiently good."
   ]
  },
  {
   "cell_type": "markdown",
   "metadata": {},
   "source": [
    "**Question  5(c)** <br> {points: 1} \n",
    "\n",
    "The function `astronaut_full_service` reads in the astronaut dataframe and prints multiple calculations and returns a plot. "
   ]
  },
  {
   "cell_type": "code",
   "execution_count": null,
   "metadata": {},
   "outputs": [],
   "source": [
    "def astronaut_full_service(status=None): \n",
    "    \"\"\"\n",
    "    Reads in the astronaut data, and potentially filters the data based on status.\n",
    "    It prints out the mean space flight time and then plots it as a histogram with \n",
    "    both genders and plots both genders seperately. \n",
    "\n",
    "    \n",
    "    Parameters\n",
    "    ----------\n",
    "    status : str, optional\n",
    "        The status of an astronaut; Active, Deceased, Retired, etc (the default is None which implies \n",
    "        that no filtering is occuring) \n",
    "    \n",
    "    Returns\n",
    "    -------\n",
    "    altair.vegalite.v4.api.FacetChart\n",
    "        A histogram faceted for gender of the Space flight time. \n",
    "    \n",
    "    Examples\n",
    "    --------\n",
    "    >>> astronaut_full_service('Retired')\n",
    "    Alt.Chart(...)\n",
    "    \"\"\"\n",
    "    \n",
    "    df = pd.read_csv('data/astronauts.csv')\n",
    "    \n",
    "    if status is not None: \n",
    "        df = df[df['Status'] == status]\n",
    "\n",
    "    mean_flight =  df['Space Flight (hr)'].mean()\n",
    "    \n",
    "    print('Mean Space Walk Time:', mean_flight) \n",
    "    \n",
    "    \n",
    "    plot1 = alt.Chart(df).mark_bar(size=40, color = 'tomato').encode(\n",
    "            alt.X('Space Flights:Q'),\n",
    "            alt.Y('count()'))\n",
    "    \n",
    "    plot1.display()\n",
    "    \n",
    "    plot2 = alt.Chart(df).mark_bar(size=40).encode(\n",
    "            alt.X('Space Flights:Q'),\n",
    "            alt.Y('count()'),\n",
    "            color=alt.Color('Gender',\n",
    "                   scale=alt.Scale(\n",
    "            domain=['Male', 'Female'],\n",
    "            range=['Navy', 'tomato']))\n",
    "    ).facet(alt.Column('Gender:N'))\n",
    " \n",
    "    return plot2"
   ]
  },
  {
   "cell_type": "code",
   "execution_count": null,
   "metadata": {
    "lines_to_next_cell": 2
   },
   "outputs": [],
   "source": [
    "astronaut_full_service('Deceased')"
   ]
  },
  {
   "cell_type": "markdown",
   "metadata": {},
   "source": [
    "What is the primary issue with function `astronaut_full_service()`?\n",
    "\n",
    "\n",
    "A) The arguments it accepts are too limited. Having more options for arguments will give the ability to produce plots with more versatility and better insights \n",
    "\n",
    "B) There is no way of obtaining the results of `mean_flight`  from this function. The user would need to write additional code to obtain it. \n",
    "\n",
    "C) It contains side effects that could easily be removed. \n",
    "\n",
    "D) The plots are calling in variables from the global environment. \n",
    "\n",
    "\n",
    "\n",
    "*Answer in the cell below using the uppercase letter associated with your answer. Place your answer between \"\", assign the correct answer to an object called `answer5_c`.*"
   ]
  },
  {
   "cell_type": "code",
   "execution_count": null,
   "metadata": {
    "deletable": false,
    "nbgrader": {
     "cell_type": "code",
     "checksum": "5b555e0a52c47a2dc5277616d7c4dadc",
     "grade": false,
     "grade_id": "cell-647a778e527c5029",
     "locked": false,
     "schema_version": 3,
     "solution": true,
     "task": false
    }
   },
   "outputs": [],
   "source": [
    "answer5_c = None\n",
    "\n",
    "# your code here\n",
    "raise NotImplementedError # No Answer - remove if you provide an answer\n"
   ]
  },
  {
   "cell_type": "code",
   "execution_count": null,
   "metadata": {
    "deletable": false,
    "editable": false,
    "nbgrader": {
     "cell_type": "code",
     "checksum": "8c9eb4e9cac5687d11055266218b2e81",
     "grade": true,
     "grade_id": "cell-0e37a89811d61606",
     "locked": true,
     "points": 1,
     "schema_version": 3,
     "solution": false,
     "task": false
    }
   },
   "outputs": [],
   "source": [
    "t.test_5c(answer5_c)"
   ]
  },
  {
   "cell_type": "markdown",
   "metadata": {},
   "source": [
    "**Question  5(d)** <br> {points: 1} \n",
    "\n",
    "Given the function `astronaut_full_service`  write a new function similar function named `astronauts_stats` that  corrects for the issue you identified above. \n",
    "\n",
    "Your function should return a single value. \n",
    "\n",
    "Make sure to include a `docstring` for you function.\n",
    "\n",
    "Test it out with `status='Deceased'`. "
   ]
  },
  {
   "cell_type": "code",
   "execution_count": null,
   "metadata": {
    "deletable": false,
    "nbgrader": {
     "cell_type": "code",
     "checksum": "a42c3263d63d3af8770d3d822d6c99d1",
     "grade": false,
     "grade_id": "cell-6ea498bc044b25bf",
     "locked": false,
     "schema_version": 3,
     "solution": true,
     "task": false
    }
   },
   "outputs": [],
   "source": [
    "# your code here\n",
    "raise NotImplementedError # No Answer - remove if you provide an answer"
   ]
  },
  {
   "cell_type": "code",
   "execution_count": null,
   "metadata": {
    "deletable": false,
    "editable": false,
    "nbgrader": {
     "cell_type": "code",
     "checksum": "e568e2f44723029b7da0a698ac90912c",
     "grade": true,
     "grade_id": "cell-e2e00e6bf3bb2fb7",
     "locked": true,
     "points": 1,
     "schema_version": 3,
     "solution": false,
     "task": false
    }
   },
   "outputs": [],
   "source": [
    "t.test_5d(astronauts_stats)"
   ]
  },
  {
   "cell_type": "markdown",
   "metadata": {},
   "source": [
    "**Question  5(e)** <br> {points: 1} \n",
    "\n",
    "We have a final function named `filter_astronauts` that uses the astronaut dataset as an argument. It takes multiple arguments and returns a dictionary with 2 dataframes as values\n"
   ]
  },
  {
   "cell_type": "code",
   "execution_count": null,
   "metadata": {},
   "outputs": [],
   "source": [
    "astronauts = pd.read_csv('data/astronauts.csv')\n",
    "\n",
    "def filter_astronauts(df, military_rank, year_min, year_max): \n",
    "    \"\"\"\n",
    "    Filters the input argument data based on military rank and the astronauts entry year.\n",
    "\n",
    "    \n",
    "    Parameters\n",
    "    ----------\n",
    "    df : pandas.core.frame.DataFrame\n",
    "        The dataframe to filter\n",
    "    military_rank : str\n",
    "        The astronaut's military rank if any. If \"No Rank\", filters for no military ranking. \n",
    "    year_min : int\n",
    "        Astronaut entry year minimum \n",
    "    year_max : int\n",
    "        Astronaut entry year minimum \n",
    "    \n",
    "    Returns\n",
    "    -------\n",
    "    dict\n",
    "        A dictionary containing the 2 dataframes  \n",
    "    \n",
    "    Examples\n",
    "    --------\n",
    "    >>> filter_astronauts(df, \"No Rank\", 1996, 2010)\n",
    "\n",
    "    \"\"\"\n",
    "   \n",
    "    if military_rank == \"No Rank\": \n",
    "        df_military = df[df['Military Rank'].isnull()]\n",
    "    elif military_rank is None: \n",
    "        df_military = df\n",
    "    else:\n",
    "        df_military = df[df['Military Rank'] == military_rank]\n",
    "    \n",
    "    df_year = df[(df['Year'] >= year_min) & (df['Year'] <= year_max)]\n",
    "    \n",
    "    dataframe_dict = {'military_filtered': df_military, 'year_filtered': df_military}\n",
    "   \n",
    "    return dataframe_dict"
   ]
  },
  {
   "cell_type": "code",
   "execution_count": null,
   "metadata": {},
   "outputs": [],
   "source": [
    "filter_astronauts(astronauts, \"No Rank\", 1996, 2010 )"
   ]
  },
  {
   "cell_type": "markdown",
   "metadata": {},
   "source": [
    "Why is the function `filter_astronauts()` not considered the best possible design ?\n",
    "\n",
    "A) It returns a dictionary which is not good function design. \n",
    "\n",
    "B) It's attempting to do too many things and it would be better to have 2 separate functions, one that returns each dataframe. \n",
    "\n",
    "C) It contains side effects that could easily be removed. \n",
    "\n",
    "D) It limits the user's ability to filter on specific columns. \n",
    "\n",
    "\n",
    "*Answer in the cell below using the uppercase letter associated with your answer. Place your answer between \"\", assign the correct answer to an object called `answer5_e`.*"
   ]
  },
  {
   "cell_type": "code",
   "execution_count": null,
   "metadata": {
    "deletable": false,
    "nbgrader": {
     "cell_type": "code",
     "checksum": "2042b70c7fd28abd36ea8dab2e1aff3b",
     "grade": false,
     "grade_id": "cell-24c846478500c470",
     "locked": false,
     "schema_version": 3,
     "solution": true,
     "task": false
    }
   },
   "outputs": [],
   "source": [
    "answer5_e = None\n",
    "\n",
    "# your code here\n",
    "raise NotImplementedError # No Answer - remove if you provide an answer\n"
   ]
  },
  {
   "cell_type": "code",
   "execution_count": null,
   "metadata": {
    "deletable": false,
    "editable": false,
    "nbgrader": {
     "cell_type": "code",
     "checksum": "663873b03e018f70fe4db77453a9fce7",
     "grade": true,
     "grade_id": "cell-ed62e9fa8c8405a4",
     "locked": true,
     "points": 1,
     "schema_version": 3,
     "solution": false,
     "task": false
    }
   },
   "outputs": [],
   "source": [
    "t.test_5e(answer5_e)"
   ]
  },
  {
   "cell_type": "markdown",
   "metadata": {},
   "source": [
    "**Question  5(f)** <br> {points: 1} \n",
    "\n",
    "Given the function above, solve the issue that you specified above by making 2 new functions named `filters_military_rank` and `filters_active_years`. \n",
    "Your new functions should have applicable arguments from the function in question `5e`.\n",
    "\n",
    "Make sure to include a `docstring` for your function.\n",
    "\n",
    "Run your new functions using the same parameters as: \n",
    "\n",
    "`filter_astronauts(astronauts, \"No Rank\", 1996, 2010)`\n",
    "\n",
    "Save your answers in objects named `astro_no_rank` and `astro_96_10`.\n",
    "\n",
    "The returned items should be `dataframes`."
   ]
  },
  {
   "cell_type": "code",
   "execution_count": null,
   "metadata": {
    "deletable": false,
    "nbgrader": {
     "cell_type": "code",
     "checksum": "0dc5f74ad58142e1690b854f43cae430",
     "grade": false,
     "grade_id": "cell-919a370931bd870f",
     "locked": false,
     "schema_version": 3,
     "solution": true,
     "task": false
    }
   },
   "outputs": [],
   "source": [
    "astronauts = pd.read_csv('data/astronauts.csv')\n",
    "\n",
    "# your code here\n",
    "raise NotImplementedError # No Answer - remove if you provide an answer"
   ]
  },
  {
   "cell_type": "code",
   "execution_count": null,
   "metadata": {
    "deletable": false,
    "editable": false,
    "nbgrader": {
     "cell_type": "code",
     "checksum": "0ffa96a782a03f1541e60d927a8c69e7",
     "grade": true,
     "grade_id": "cell-efa69495ceec32ee",
     "locked": true,
     "points": 1,
     "schema_version": 3,
     "solution": false,
     "task": false
    }
   },
   "outputs": [],
   "source": [
    "t.test_5f(filters_military_rank,filters_active_years,astronauts)"
   ]
  },
  {
   "cell_type": "markdown",
   "metadata": {},
   "source": [
    "Before submitting your assignment please do the following:\n",
    "\n",
    "- Read through your solutions\n",
    "- **Restart your kernel and clear output and rerun your cells from top to bottom** \n",
    "- Makes sure that none of your code is broken \n",
    "- Verify that the tests from the questions you answered have obtained the output \"Success\"\n",
    "\n",
    "This is a simple way to make sure that you are submitting all the variables needed to mark the assignment. This method should help avoid losing marks due to changes in your environment.  "
   ]
  },
  {
   "cell_type": "markdown",
   "metadata": {},
   "source": [
    "## Attributions\n",
    "- MDS DSCI 511 - Programming for Data Science - [MDS's GitHub website](https://ubc-mds.github.io/course-descriptions/DSCI_511_prog-dsci/) \n",
    "- Astronaut Dataset - [Kaggle](https://www.kaggle.com/nasa/astronaut-yearbook?select=astronauts.csv)"
   ]
  },
  {
   "cell_type": "markdown",
   "metadata": {},
   "source": [
    "## Module Debriefing\n",
    "\n",
    "If this video is not showing up below, click on the cell and click the ▶ button in the toolbar above."
   ]
  },
  {
   "cell_type": "code",
   "execution_count": null,
   "metadata": {},
   "outputs": [],
   "source": [
    "from IPython.display import YouTubeVideo\n",
    "YouTubeVideo('3d5rOf1SEUY', width=854, height=480)"
   ]
  },
  {
   "cell_type": "code",
   "execution_count": null,
   "metadata": {},
   "outputs": [],
   "source": []
  }
 ],
 "metadata": {
  "kernelspec": {
   "display_name": "Python 3",
   "language": "python",
   "name": "python3"
  },
  "language_info": {
   "codemirror_mode": {
    "name": "ipython",
    "version": 3
   },
   "file_extension": ".py",
   "mimetype": "text/x-python",
   "name": "python",
   "nbconvert_exporter": "python",
   "pygments_lexer": "ipython3",
   "version": "3.8.5"
  }
 },
 "nbformat": 4,
 "nbformat_minor": 4
}
