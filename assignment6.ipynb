{
 "cells": [
  {
   "cell_type": "markdown",
   "metadata": {},
   "source": [
    "# Programming in Python for Data Science \n",
    "\n",
    "# Assignment 6: Functions Fundamentals and Best Practices"
   ]
  },
  {
   "cell_type": "markdown",
   "metadata": {},
   "source": [
    "You can't learn technical subjects without hands-on practice. The assignments are an important part of the course. To submit this assignment you will need to make sure that you save your Jupyter notebook. \n",
    "\n",
    "Below are the links of 2 videos that explain:\n",
    "\n",
    "1. [How to save your Jupyter notebook](https://youtu.be/0aoLgBoAUSA) and,       \n",
    "2. [How to answer a question in a Jupyter notebook assignment](https://youtu.be/7j0WKhI3W4s)."
   ]
  },
  {
   "cell_type": "markdown",
   "metadata": {},
   "source": [
    "### Assignment Learning Goals:\n",
    "\n",
    "By the end of the module, students are expected to:\n",
    "\n",
    "- Evaluate the readability, complexity and performance of a function.\n",
    "- Write docstrings for functions following the NumPy/SciPy format.\n",
    "- Write comments within a function to improve readability.\n",
    "- Write and design functions with default arguments.\n",
    "- Explain the importance of scoping and environments in Python as they relate to functions.\n",
    "- Formulate test cases to prove a function design specification.\n",
    "- Use `assert` statements to formulate a test case to prove a function design specification.\n",
    "- Use test-driven development principles to define a function that accepts parameters, returns values and passes all tests.\n",
    "- Handle errors gracefully via exception handling.\n",
    "\n",
    "This assignment covers [Module 6](https://prog-learn.mds.ubc.ca/en/module6) of the online course. You should complete this module before attempting this assignment."
   ]
  },
  {
   "cell_type": "markdown",
   "metadata": {},
   "source": [
    "Any place you see `...`, you must fill in the function, variable, or data to complete the code. Substitute the `None` and the `raise NotImplementedError # No Answer - remove if you provide an answer` with your completed code and answers then proceed to run the cell!"
   ]
  },
  {
   "cell_type": "markdown",
   "metadata": {},
   "source": [
    "Note that some of the questions in this assignment will have hidden tests. This means that no feedback will be given as to the correctness of your solution. It will be left up to you to decide if your answer is sufficiently correct. These questions are worth 2 points."
   ]
  },
  {
   "cell_type": "code",
   "execution_count": 1,
   "metadata": {},
   "outputs": [],
   "source": [
    "# Import libraries needed for this lab\n",
    "import pandas as pd\n",
    "import random\n",
    "import test_assignment6 as t\n",
    "import altair as alt\n",
    "import string\n",
    "import inspect\n",
    "from hashlib import sha1"
   ]
  },
  {
   "cell_type": "markdown",
   "metadata": {},
   "source": [
    "## 1.  Writing functions"
   ]
  },
  {
   "cell_type": "markdown",
   "metadata": {},
   "source": [
    "Here we have the `astronauts.csv` data we have used in previous assignments."
   ]
  },
  {
   "cell_type": "code",
   "execution_count": 2,
   "metadata": {},
   "outputs": [
    {
     "data": {
      "text/html": [
       "<div>\n",
       "<style scoped>\n",
       "    .dataframe tbody tr th:only-of-type {\n",
       "        vertical-align: middle;\n",
       "    }\n",
       "\n",
       "    .dataframe tbody tr th {\n",
       "        vertical-align: top;\n",
       "    }\n",
       "\n",
       "    .dataframe thead th {\n",
       "        text-align: right;\n",
       "    }\n",
       "</style>\n",
       "<table border=\"1\" class=\"dataframe\">\n",
       "  <thead>\n",
       "    <tr style=\"text-align: right;\">\n",
       "      <th></th>\n",
       "      <th>Name</th>\n",
       "      <th>Year</th>\n",
       "      <th>Group</th>\n",
       "      <th>Status</th>\n",
       "      <th>Birth Date</th>\n",
       "      <th>Birth Place</th>\n",
       "      <th>Gender</th>\n",
       "      <th>Alma Mater</th>\n",
       "      <th>Undergraduate Major</th>\n",
       "      <th>Graduate Major</th>\n",
       "      <th>Military Rank</th>\n",
       "      <th>Military Branch</th>\n",
       "      <th>Space Flights</th>\n",
       "      <th>Space Flight (hr)</th>\n",
       "      <th>Space Walks</th>\n",
       "      <th>Space Walks (hr)</th>\n",
       "      <th>Missions</th>\n",
       "      <th>Death Date</th>\n",
       "      <th>Death Mission</th>\n",
       "    </tr>\n",
       "  </thead>\n",
       "  <tbody>\n",
       "    <tr>\n",
       "      <th>0</th>\n",
       "      <td>Joseph M. Acaba</td>\n",
       "      <td>2004</td>\n",
       "      <td>19.0</td>\n",
       "      <td>Active</td>\n",
       "      <td>5/17/1967</td>\n",
       "      <td>Inglewood, CA</td>\n",
       "      <td>Male</td>\n",
       "      <td>University of California-Santa Barbara; Univer...</td>\n",
       "      <td>Geology</td>\n",
       "      <td>Geology</td>\n",
       "      <td>NaN</td>\n",
       "      <td>NaN</td>\n",
       "      <td>2</td>\n",
       "      <td>3307</td>\n",
       "      <td>2</td>\n",
       "      <td>13.0</td>\n",
       "      <td>STS-119 (Discovery), ISS-31/32 (Soyuz)</td>\n",
       "      <td>NaN</td>\n",
       "      <td>NaN</td>\n",
       "    </tr>\n",
       "    <tr>\n",
       "      <th>1</th>\n",
       "      <td>James C. Adamson</td>\n",
       "      <td>1984</td>\n",
       "      <td>10.0</td>\n",
       "      <td>Retired</td>\n",
       "      <td>3/3/1946</td>\n",
       "      <td>Warsaw, NY</td>\n",
       "      <td>Male</td>\n",
       "      <td>US Military Academy; Princeton University</td>\n",
       "      <td>Engineering</td>\n",
       "      <td>Aerospace Engineering</td>\n",
       "      <td>Colonel</td>\n",
       "      <td>US Army (Retired)</td>\n",
       "      <td>2</td>\n",
       "      <td>334</td>\n",
       "      <td>0</td>\n",
       "      <td>0.0</td>\n",
       "      <td>STS-28 (Columbia), STS-43 (Atlantis)</td>\n",
       "      <td>NaN</td>\n",
       "      <td>NaN</td>\n",
       "    </tr>\n",
       "    <tr>\n",
       "      <th>2</th>\n",
       "      <td>Thomas D. Akers</td>\n",
       "      <td>1987</td>\n",
       "      <td>12.0</td>\n",
       "      <td>Retired</td>\n",
       "      <td>5/20/1951</td>\n",
       "      <td>St. Louis, MO</td>\n",
       "      <td>Male</td>\n",
       "      <td>University of Missouri-Rolla</td>\n",
       "      <td>Applied Mathematics</td>\n",
       "      <td>Applied Mathematics</td>\n",
       "      <td>Colonel</td>\n",
       "      <td>US Air Force (Retired)</td>\n",
       "      <td>4</td>\n",
       "      <td>814</td>\n",
       "      <td>4</td>\n",
       "      <td>29.0</td>\n",
       "      <td>STS-41 (Discovery), STS-49 (Endeavor), STS-61 ...</td>\n",
       "      <td>NaN</td>\n",
       "      <td>NaN</td>\n",
       "    </tr>\n",
       "    <tr>\n",
       "      <th>3</th>\n",
       "      <td>Buzz Aldrin</td>\n",
       "      <td>1963</td>\n",
       "      <td>3.0</td>\n",
       "      <td>Retired</td>\n",
       "      <td>1/20/1930</td>\n",
       "      <td>Montclair, NJ</td>\n",
       "      <td>Male</td>\n",
       "      <td>US Military Academy; MIT</td>\n",
       "      <td>Mechanical Engineering</td>\n",
       "      <td>Astronautics</td>\n",
       "      <td>Colonel</td>\n",
       "      <td>US Air Force (Retired)</td>\n",
       "      <td>2</td>\n",
       "      <td>289</td>\n",
       "      <td>2</td>\n",
       "      <td>8.0</td>\n",
       "      <td>Gemini 12, Apollo 11</td>\n",
       "      <td>NaN</td>\n",
       "      <td>NaN</td>\n",
       "    </tr>\n",
       "    <tr>\n",
       "      <th>4</th>\n",
       "      <td>Andrew M. Allen</td>\n",
       "      <td>1987</td>\n",
       "      <td>12.0</td>\n",
       "      <td>Retired</td>\n",
       "      <td>8/4/1955</td>\n",
       "      <td>Philadelphia, PA</td>\n",
       "      <td>Male</td>\n",
       "      <td>Villanova University; University of Florida</td>\n",
       "      <td>Mechanical Engineering</td>\n",
       "      <td>Business Administration</td>\n",
       "      <td>Lieutenant Colonel</td>\n",
       "      <td>US Marine Corps (Retired)</td>\n",
       "      <td>3</td>\n",
       "      <td>906</td>\n",
       "      <td>0</td>\n",
       "      <td>0.0</td>\n",
       "      <td>STS-46 (Atlantis), STS-62 (Columbia), STS-75 (...</td>\n",
       "      <td>NaN</td>\n",
       "      <td>NaN</td>\n",
       "    </tr>\n",
       "  </tbody>\n",
       "</table>\n",
       "</div>"
      ],
      "text/plain": [
       "               Name  Year  Group   Status Birth Date       Birth Place Gender  \\\n",
       "0   Joseph M. Acaba  2004   19.0   Active  5/17/1967     Inglewood, CA   Male   \n",
       "1  James C. Adamson  1984   10.0  Retired   3/3/1946        Warsaw, NY   Male   \n",
       "2   Thomas D. Akers  1987   12.0  Retired  5/20/1951     St. Louis, MO   Male   \n",
       "3       Buzz Aldrin  1963    3.0  Retired  1/20/1930     Montclair, NJ   Male   \n",
       "4   Andrew M. Allen  1987   12.0  Retired   8/4/1955  Philadelphia, PA   Male   \n",
       "\n",
       "                                          Alma Mater     Undergraduate Major  \\\n",
       "0  University of California-Santa Barbara; Univer...                 Geology   \n",
       "1          US Military Academy; Princeton University             Engineering   \n",
       "2                       University of Missouri-Rolla     Applied Mathematics   \n",
       "3                           US Military Academy; MIT  Mechanical Engineering   \n",
       "4        Villanova University; University of Florida  Mechanical Engineering   \n",
       "\n",
       "            Graduate Major       Military Rank            Military Branch  \\\n",
       "0                  Geology                 NaN                        NaN   \n",
       "1    Aerospace Engineering             Colonel          US Army (Retired)   \n",
       "2      Applied Mathematics             Colonel     US Air Force (Retired)   \n",
       "3             Astronautics             Colonel     US Air Force (Retired)   \n",
       "4  Business Administration  Lieutenant Colonel  US Marine Corps (Retired)   \n",
       "\n",
       "   Space Flights  Space Flight (hr)  Space Walks  Space Walks (hr)  \\\n",
       "0              2               3307            2              13.0   \n",
       "1              2                334            0               0.0   \n",
       "2              4                814            4              29.0   \n",
       "3              2                289            2               8.0   \n",
       "4              3                906            0               0.0   \n",
       "\n",
       "                                            Missions Death Date Death Mission  \n",
       "0             STS-119 (Discovery), ISS-31/32 (Soyuz)        NaN           NaN  \n",
       "1               STS-28 (Columbia), STS-43 (Atlantis)        NaN           NaN  \n",
       "2  STS-41 (Discovery), STS-49 (Endeavor), STS-61 ...        NaN           NaN  \n",
       "3                               Gemini 12, Apollo 11        NaN           NaN  \n",
       "4  STS-46 (Atlantis), STS-62 (Columbia), STS-75 (...        NaN           NaN  "
      ]
     },
     "execution_count": 2,
     "metadata": {},
     "output_type": "execute_result"
    }
   ],
   "source": [
    "data = pd.read_csv('data/astronauts.csv')\n",
    "data.head()"
   ]
  },
  {
   "cell_type": "markdown",
   "metadata": {},
   "source": [
    "We have some code that randomly samples and selects a given number of rows from each of the specified column's groups. \n",
    "In this case it is randomly selecting 3 astronauts from each possible `Status` (`Active`, `Deceased`, `Management`, `Retired`)"
   ]
  },
  {
   "cell_type": "code",
   "execution_count": 3,
   "metadata": {},
   "outputs": [
    {
     "data": {
      "text/html": [
       "<div>\n",
       "<style scoped>\n",
       "    .dataframe tbody tr th:only-of-type {\n",
       "        vertical-align: middle;\n",
       "    }\n",
       "\n",
       "    .dataframe tbody tr th {\n",
       "        vertical-align: top;\n",
       "    }\n",
       "\n",
       "    .dataframe thead th {\n",
       "        text-align: right;\n",
       "    }\n",
       "</style>\n",
       "<table border=\"1\" class=\"dataframe\">\n",
       "  <thead>\n",
       "    <tr style=\"text-align: right;\">\n",
       "      <th></th>\n",
       "      <th>Name</th>\n",
       "      <th>Year</th>\n",
       "      <th>Group</th>\n",
       "      <th>Status</th>\n",
       "      <th>Birth Date</th>\n",
       "      <th>Birth Place</th>\n",
       "      <th>Gender</th>\n",
       "      <th>Alma Mater</th>\n",
       "      <th>Undergraduate Major</th>\n",
       "      <th>Graduate Major</th>\n",
       "      <th>Military Rank</th>\n",
       "      <th>Military Branch</th>\n",
       "      <th>Space Flights</th>\n",
       "      <th>Space Flight (hr)</th>\n",
       "      <th>Space Walks</th>\n",
       "      <th>Space Walks (hr)</th>\n",
       "      <th>Missions</th>\n",
       "      <th>Death Date</th>\n",
       "      <th>Death Mission</th>\n",
       "    </tr>\n",
       "  </thead>\n",
       "  <tbody>\n",
       "    <tr>\n",
       "      <th>16</th>\n",
       "      <td>Serena M. Aunon</td>\n",
       "      <td>2009</td>\n",
       "      <td>20.0</td>\n",
       "      <td>Active</td>\n",
       "      <td>4/9/1976</td>\n",
       "      <td>Indianapolis, IN</td>\n",
       "      <td>Female</td>\n",
       "      <td>George Washington University; University of Texas</td>\n",
       "      <td>Electrical Engineering</td>\n",
       "      <td>Medicine</td>\n",
       "      <td>NaN</td>\n",
       "      <td>NaN</td>\n",
       "      <td>0</td>\n",
       "      <td>0</td>\n",
       "      <td>0</td>\n",
       "      <td>0.0</td>\n",
       "      <td>NaN</td>\n",
       "      <td>NaN</td>\n",
       "      <td>NaN</td>\n",
       "    </tr>\n",
       "    <tr>\n",
       "      <th>323</th>\n",
       "      <td>G. Reid Wiseman</td>\n",
       "      <td>2009</td>\n",
       "      <td>20.0</td>\n",
       "      <td>Active</td>\n",
       "      <td>11/11/1975</td>\n",
       "      <td>Baltimore, MD</td>\n",
       "      <td>Male</td>\n",
       "      <td>Rensselaer Polytechnic Institute; Johns Hopkin...</td>\n",
       "      <td>Computer &amp; Systems Engineering</td>\n",
       "      <td>Systems Engineering</td>\n",
       "      <td>Commander</td>\n",
       "      <td>US Navy</td>\n",
       "      <td>1</td>\n",
       "      <td>3968</td>\n",
       "      <td>2</td>\n",
       "      <td>13.0</td>\n",
       "      <td>ISS-40/41 (Soyuz)</td>\n",
       "      <td>NaN</td>\n",
       "      <td>NaN</td>\n",
       "    </tr>\n",
       "    <tr>\n",
       "      <th>288</th>\n",
       "      <td>John L. Swigert Jr.</td>\n",
       "      <td>1966</td>\n",
       "      <td>5.0</td>\n",
       "      <td>Deceased</td>\n",
       "      <td>8/30/1931</td>\n",
       "      <td>Denver, CO</td>\n",
       "      <td>Male</td>\n",
       "      <td>University of Colorado; Rensselaer Polytechnic...</td>\n",
       "      <td>Mechanical Engineering</td>\n",
       "      <td>Aerospace Science; Business Administration</td>\n",
       "      <td>NaN</td>\n",
       "      <td>NaN</td>\n",
       "      <td>1</td>\n",
       "      <td>142</td>\n",
       "      <td>0</td>\n",
       "      <td>0.0</td>\n",
       "      <td>Apollo 13</td>\n",
       "      <td>12/27/1982</td>\n",
       "      <td>NaN</td>\n",
       "    </tr>\n",
       "    <tr>\n",
       "      <th>74</th>\n",
       "      <td>Charles Conrad Jr.</td>\n",
       "      <td>1962</td>\n",
       "      <td>2.0</td>\n",
       "      <td>Deceased</td>\n",
       "      <td>5/2/1930</td>\n",
       "      <td>Philadelphia, PA</td>\n",
       "      <td>Male</td>\n",
       "      <td>Princeton University</td>\n",
       "      <td>Aeronautical Engineering</td>\n",
       "      <td>NaN</td>\n",
       "      <td>Captain</td>\n",
       "      <td>US Navy (Retired)</td>\n",
       "      <td>4</td>\n",
       "      <td>1179</td>\n",
       "      <td>4</td>\n",
       "      <td>12.0</td>\n",
       "      <td>Gemini 5, Gemini 11, Apollo 12, Skylab 2</td>\n",
       "      <td>7/8/1999</td>\n",
       "      <td>NaN</td>\n",
       "    </tr>\n",
       "    <tr>\n",
       "      <th>271</th>\n",
       "      <td>Piers J. Sellers</td>\n",
       "      <td>1996</td>\n",
       "      <td>16.0</td>\n",
       "      <td>Management</td>\n",
       "      <td>4/11/1955</td>\n",
       "      <td>Crowborough, England</td>\n",
       "      <td>Male</td>\n",
       "      <td>University of Edinburgh; Leeds University</td>\n",
       "      <td>Ecological Science</td>\n",
       "      <td>Biometeorology</td>\n",
       "      <td>NaN</td>\n",
       "      <td>NaN</td>\n",
       "      <td>3</td>\n",
       "      <td>839</td>\n",
       "      <td>6</td>\n",
       "      <td>41.0</td>\n",
       "      <td>STS-112 (Atlantis), STS-121 (Discovery), STS-1...</td>\n",
       "      <td>NaN</td>\n",
       "      <td>NaN</td>\n",
       "    </tr>\n",
       "    <tr>\n",
       "      <th>259</th>\n",
       "      <td>Mario Runco Jr.</td>\n",
       "      <td>1987</td>\n",
       "      <td>12.0</td>\n",
       "      <td>Management</td>\n",
       "      <td>1/26/1952</td>\n",
       "      <td>Bronx, NY</td>\n",
       "      <td>Male</td>\n",
       "      <td>City College of New York; Rutgers University</td>\n",
       "      <td>Earth &amp; Planetary Science</td>\n",
       "      <td>Atmospheric Physics</td>\n",
       "      <td>Lieutenant Commander</td>\n",
       "      <td>US Navy (Retired)</td>\n",
       "      <td>3</td>\n",
       "      <td>551</td>\n",
       "      <td>0</td>\n",
       "      <td>0.0</td>\n",
       "      <td>STS-44 (Atlantis), STS-54 (Endeavor), STS-77 (...</td>\n",
       "      <td>04/23/01</td>\n",
       "      <td>NaN</td>\n",
       "    </tr>\n",
       "    <tr>\n",
       "      <th>190</th>\n",
       "      <td>Jack R. Lousma</td>\n",
       "      <td>1966</td>\n",
       "      <td>5.0</td>\n",
       "      <td>Retired</td>\n",
       "      <td>2/29/1936</td>\n",
       "      <td>Grand Rapids, MI</td>\n",
       "      <td>Male</td>\n",
       "      <td>University of Michigan; US Naval Postgraduate ...</td>\n",
       "      <td>Aeronautical Engineering</td>\n",
       "      <td>Aeronautical Engineering</td>\n",
       "      <td>Colonel</td>\n",
       "      <td>US Marine Corps (Retired)</td>\n",
       "      <td>2</td>\n",
       "      <td>1619</td>\n",
       "      <td>2</td>\n",
       "      <td>11.0</td>\n",
       "      <td>Skylab 3, STS-3 (Columbia)</td>\n",
       "      <td>NaN</td>\n",
       "      <td>NaN</td>\n",
       "    </tr>\n",
       "    <tr>\n",
       "      <th>311</th>\n",
       "      <td>Paul J. Weitz</td>\n",
       "      <td>1966</td>\n",
       "      <td>5.0</td>\n",
       "      <td>Retired</td>\n",
       "      <td>6/25/1932</td>\n",
       "      <td>Erie, PA</td>\n",
       "      <td>Male</td>\n",
       "      <td>Pennsylvania State University; US Naval Postgr...</td>\n",
       "      <td>Aeronautical Engineering</td>\n",
       "      <td>Aeronautical Engineering</td>\n",
       "      <td>Captain</td>\n",
       "      <td>US Navy (Retired)</td>\n",
       "      <td>2</td>\n",
       "      <td>793</td>\n",
       "      <td>1</td>\n",
       "      <td>2.0</td>\n",
       "      <td>Skylab 2, STS-6 (Challenger)</td>\n",
       "      <td>NaN</td>\n",
       "      <td>NaN</td>\n",
       "    </tr>\n",
       "  </tbody>\n",
       "</table>\n",
       "</div>"
      ],
      "text/plain": [
       "                     Name  Year  Group      Status  Birth Date  \\\n",
       "16        Serena M. Aunon  2009   20.0      Active    4/9/1976   \n",
       "323       G. Reid Wiseman  2009   20.0      Active  11/11/1975   \n",
       "288  John L. Swigert Jr.   1966    5.0    Deceased   8/30/1931   \n",
       "74    Charles Conrad Jr.   1962    2.0    Deceased    5/2/1930   \n",
       "271      Piers J. Sellers  1996   16.0  Management   4/11/1955   \n",
       "259      Mario Runco Jr.   1987   12.0  Management   1/26/1952   \n",
       "190        Jack R. Lousma  1966    5.0     Retired   2/29/1936   \n",
       "311         Paul J. Weitz  1966    5.0     Retired   6/25/1932   \n",
       "\n",
       "              Birth Place  Gender  \\\n",
       "16       Indianapolis, IN  Female   \n",
       "323         Baltimore, MD    Male   \n",
       "288            Denver, CO    Male   \n",
       "74       Philadelphia, PA    Male   \n",
       "271  Crowborough, England    Male   \n",
       "259             Bronx, NY    Male   \n",
       "190      Grand Rapids, MI    Male   \n",
       "311              Erie, PA    Male   \n",
       "\n",
       "                                            Alma Mater  \\\n",
       "16   George Washington University; University of Texas   \n",
       "323  Rensselaer Polytechnic Institute; Johns Hopkin...   \n",
       "288  University of Colorado; Rensselaer Polytechnic...   \n",
       "74                                Princeton University   \n",
       "271          University of Edinburgh; Leeds University   \n",
       "259       City College of New York; Rutgers University   \n",
       "190  University of Michigan; US Naval Postgraduate ...   \n",
       "311  Pennsylvania State University; US Naval Postgr...   \n",
       "\n",
       "                Undergraduate Major  \\\n",
       "16           Electrical Engineering   \n",
       "323  Computer & Systems Engineering   \n",
       "288          Mechanical Engineering   \n",
       "74         Aeronautical Engineering   \n",
       "271              Ecological Science   \n",
       "259       Earth & Planetary Science   \n",
       "190        Aeronautical Engineering   \n",
       "311        Aeronautical Engineering   \n",
       "\n",
       "                                 Graduate Major         Military Rank  \\\n",
       "16                                     Medicine                   NaN   \n",
       "323                         Systems Engineering             Commander   \n",
       "288  Aerospace Science; Business Administration                   NaN   \n",
       "74                                          NaN               Captain   \n",
       "271                              Biometeorology                   NaN   \n",
       "259                         Atmospheric Physics  Lieutenant Commander   \n",
       "190                    Aeronautical Engineering               Colonel   \n",
       "311                    Aeronautical Engineering               Captain   \n",
       "\n",
       "               Military Branch  Space Flights  Space Flight (hr)  Space Walks  \\\n",
       "16                         NaN              0                  0            0   \n",
       "323                    US Navy              1               3968            2   \n",
       "288                        NaN              1                142            0   \n",
       "74           US Navy (Retired)              4               1179            4   \n",
       "271                        NaN              3                839            6   \n",
       "259          US Navy (Retired)              3                551            0   \n",
       "190  US Marine Corps (Retired)              2               1619            2   \n",
       "311          US Navy (Retired)              2                793            1   \n",
       "\n",
       "     Space Walks (hr)                                           Missions  \\\n",
       "16                0.0                                                NaN   \n",
       "323              13.0                                  ISS-40/41 (Soyuz)   \n",
       "288               0.0                                          Apollo 13   \n",
       "74               12.0           Gemini 5, Gemini 11, Apollo 12, Skylab 2   \n",
       "271              41.0  STS-112 (Atlantis), STS-121 (Discovery), STS-1...   \n",
       "259               0.0  STS-44 (Atlantis), STS-54 (Endeavor), STS-77 (...   \n",
       "190              11.0                         Skylab 3, STS-3 (Columbia)   \n",
       "311               2.0                       Skylab 2, STS-6 (Challenger)   \n",
       "\n",
       "     Death Date Death Mission  \n",
       "16          NaN           NaN  \n",
       "323         NaN           NaN  \n",
       "288  12/27/1982           NaN  \n",
       "74     7/8/1999           NaN  \n",
       "271         NaN           NaN  \n",
       "259    04/23/01           NaN  \n",
       "190         NaN           NaN  \n",
       "311         NaN           NaN  "
      ]
     },
     "execution_count": 3,
     "metadata": {},
     "output_type": "execute_result"
    }
   ],
   "source": [
    "data = pd.read_csv('data/astronauts.csv')\n",
    "df_grouped = data.groupby('Status')\n",
    "\n",
    "sampled_df = None\n",
    "\n",
    "for group, rows in df_grouped: \n",
    "    group_sampling =  df_grouped.get_group(group).sample(2)\n",
    "    sampled_df = pd.concat([sampled_df, group_sampling])\n",
    "    \n",
    "sampled_df"
   ]
  },
  {
   "cell_type": "markdown",
   "metadata": {},
   "source": [
    "**Question 1(a)** <br> {points: 3} \n",
    "\n",
    "Use the code above to write a function named `sample_dataframe` that randomly samples from any dataframe, N observations from each specified group in a dataframe. \n",
    "The function should accept the following arguments:\n",
    "- The dataframe (`data`)\n",
    "- The name of the grouping column (`grouping_col`) \n",
    "\n",
    "This function should have a default argument of 1 for N.\n",
    "\n",
    "We have provided you code that executes your function using the `astronauts.csv` dataframe, the grouping column `Group` and a value of 1 for the number of observations to sample. \n",
    "The output of this is saved in an object named `astro_grp_samp`.\n",
    "\n",
    "_**DISCLAIMER:** We understand that one of the limitations of the following dataset is that it reflects binary sex categories._\n",
    "\n",
    "_Notes:_\n",
    "- *See this link on[`.sample()`](https://pandas.pydata.org/pandas-docs/stable/reference/api/pandas.DataFrame.sample.html) to learn more about how it samples a dataframe*"
   ]
  },
  {
   "cell_type": "code",
   "execution_count": 4,
   "metadata": {
    "deletable": false,
    "nbgrader": {
     "cell_type": "code",
     "checksum": "da6bc7eec4d8b4741089c9c9b8171627",
     "grade": false,
     "grade_id": "cell-37c7c24f97ad515f",
     "locked": false,
     "schema_version": 3,
     "solution": true,
     "task": false
    }
   },
   "outputs": [],
   "source": [
    "\n",
    "def sample_dataframe(data, grouping_col, N=1):\n",
    "    return data.groupby(grouping_col).sample(N)\n",
    "\n",
    "\n",
    "\n",
    "astro_grp_samp = sample_dataframe(data, 'Group')"
   ]
  },
  {
   "cell_type": "code",
   "execution_count": 5,
   "metadata": {
    "deletable": false,
    "editable": false,
    "nbgrader": {
     "cell_type": "code",
     "checksum": "95c1757b4e56b23843b0f232febaed3a",
     "grade": true,
     "grade_id": "cell-28976a70a7390c75",
     "locked": true,
     "points": 3,
     "schema_version": 3,
     "solution": false,
     "task": false
    }
   },
   "outputs": [
    {
     "data": {
      "text/plain": [
       "'Success'"
      ]
     },
     "execution_count": 5,
     "metadata": {},
     "output_type": "execute_result"
    }
   ],
   "source": [
    "t.test_1a(sample_dataframe)"
   ]
  },
  {
   "cell_type": "markdown",
   "metadata": {},
   "source": [
    "**Question 1(b)** <br> {points: 3} \n",
    "\n",
    "Write a function named `df_filterer` that filters rows matching an exact value in the column of interest, selects specific columns and returns a dataframe.  \n",
    "\n",
    "The function should accept the following arguments:\n",
    "- The dataframe (`data`)\n",
    "- The name of the column of interest (`interest_column`)\n",
    "- The value to filter for. (`value`)\n",
    "- The desired columns to select (input type should be a list) (`keep`) \n",
    "\n",
    "Make sure that your function is returning the transformed dataframe. \n"
   ]
  },
  {
   "cell_type": "code",
   "execution_count": 6,
   "metadata": {
    "deletable": false,
    "nbgrader": {
     "cell_type": "code",
     "checksum": "36f2336beaf6a4e54a37bd975ea2b5d5",
     "grade": false,
     "grade_id": "cell-9d0ad852cc7fcf6a",
     "locked": false,
     "schema_version": 3,
     "solution": true,
     "task": false
    }
   },
   "outputs": [
    {
     "data": {
      "text/html": [
       "<div>\n",
       "<style scoped>\n",
       "    .dataframe tbody tr th:only-of-type {\n",
       "        vertical-align: middle;\n",
       "    }\n",
       "\n",
       "    .dataframe tbody tr th {\n",
       "        vertical-align: top;\n",
       "    }\n",
       "\n",
       "    .dataframe thead th {\n",
       "        text-align: right;\n",
       "    }\n",
       "</style>\n",
       "<table border=\"1\" class=\"dataframe\">\n",
       "  <thead>\n",
       "    <tr style=\"text-align: right;\">\n",
       "      <th></th>\n",
       "      <th>Name</th>\n",
       "    </tr>\n",
       "  </thead>\n",
       "  <tbody>\n",
       "    <tr>\n",
       "      <th>93</th>\n",
       "      <td>Joe H. Engle</td>\n",
       "    </tr>\n",
       "  </tbody>\n",
       "</table>\n",
       "</div>"
      ],
      "text/plain": [
       "            Name\n",
       "93  Joe H. Engle"
      ]
     },
     "execution_count": 6,
     "metadata": {},
     "output_type": "execute_result"
    }
   ],
   "source": [
    "\n",
    "def df_filterer(data, interest_column, value, keep):\n",
    "    return data[data[interest_column] == value][keep]\n",
    "\n",
    "princeton_ast = df_filterer(data,'Alma Mater','University of Kansas', ['Name'])\n",
    "princeton_ast"
   ]
  },
  {
   "cell_type": "code",
   "execution_count": 7,
   "metadata": {
    "deletable": false,
    "editable": false,
    "nbgrader": {
     "cell_type": "code",
     "checksum": "82e870a115d4b2e620734d4778dc87b6",
     "grade": true,
     "grade_id": "cell-a18332d5d26418a7",
     "locked": true,
     "points": 3,
     "schema_version": 3,
     "solution": false,
     "task": false
    }
   },
   "outputs": [
    {
     "data": {
      "text/plain": [
       "'Success'"
      ]
     },
     "execution_count": 7,
     "metadata": {},
     "output_type": "execute_result"
    }
   ],
   "source": [
    "t.test_1b(df_filterer,data)"
   ]
  },
  {
   "cell_type": "markdown",
   "metadata": {},
   "source": [
    "## 2.  Writing Docstrings"
   ]
  },
  {
   "cell_type": "markdown",
   "metadata": {},
   "source": [
    "**Question 2(a)** <br> {points: 1} \n",
    "\n",
    "Copy/paste your function from **Question 1(a)**, and then improve it by adding a docstring. "
   ]
  },
  {
   "cell_type": "code",
   "execution_count": 8,
   "metadata": {
    "deletable": false,
    "nbgrader": {
     "cell_type": "code",
     "checksum": "58f2b56c2683204ed47941392f774d7c",
     "grade": false,
     "grade_id": "cell-2f196d85895b30db",
     "locked": false,
     "schema_version": 3,
     "solution": true,
     "task": false
    }
   },
   "outputs": [],
   "source": [
    "def sample_dataframe(data, grouping_col, N=1):\n",
    "    '''\n",
    "    Returns a random sample of a dataframe.\n",
    "    \n",
    "    Returns a random sample of a dataframe given a column to group by and\n",
    "    a number of items to return (default: 1).\n",
    "    \n",
    "    Parameters\n",
    "    ----------\n",
    "    data : pandas.DataFrame\n",
    "        The dataframe to sample\n",
    "    grouping_col : mapping, function, label, or list of labels\n",
    "        The column to group by\n",
    "    N : int, optional\n",
    "        Number of items to return\n",
    "    \n",
    "    Returns\n",
    "    -------\n",
    "    DataFrame\n",
    "        DataFrame representing a sample of the original dataframe (data)\n",
    "        \n",
    "    Examples\n",
    "    --------\n",
    "    >>> sample_dataframe(data, 'Group')\n",
    "    \n",
    "    '''\n",
    "    return data.groupby(grouping_col).sample(N)"
   ]
  },
  {
   "cell_type": "code",
   "execution_count": 9,
   "metadata": {
    "deletable": false,
    "editable": false,
    "nbgrader": {
     "cell_type": "code",
     "checksum": "faf027af36280c231f379ef10ca3d806",
     "grade": true,
     "grade_id": "cell-6d80b5a96356df64",
     "locked": true,
     "points": 1,
     "schema_version": 3,
     "solution": false,
     "task": false
    }
   },
   "outputs": [
    {
     "data": {
      "text/plain": [
       "'Success'"
      ]
     },
     "execution_count": 9,
     "metadata": {},
     "output_type": "execute_result"
    }
   ],
   "source": [
    "t.test_2a(sample_dataframe)"
   ]
  },
  {
   "cell_type": "markdown",
   "metadata": {},
   "source": [
    "**Question 2(b)** <br> {points: 2} \n",
    "\n",
    "Copy/paste your function from **Question 1(b)**, and then improve it by adding a docstring. "
   ]
  },
  {
   "cell_type": "code",
   "execution_count": 10,
   "metadata": {
    "deletable": false,
    "nbgrader": {
     "cell_type": "code",
     "checksum": "b46de74d51a170dac627082172e53654",
     "grade": false,
     "grade_id": "cell-64574cd08beda8ba",
     "locked": false,
     "schema_version": 3,
     "solution": true,
     "task": false
    }
   },
   "outputs": [],
   "source": [
    "def df_filterer(data, interest_column, value, keep):\n",
    "    '''\n",
    "    Filters rows matching an exact value in the column of interest.\n",
    "    \n",
    "    Filters rows matching an exact value in the column of interest, \n",
    "    selects specific columns and returns a dataframe.\n",
    "    \n",
    "    Parameters\n",
    "    ----------\n",
    "    data : pandas.DataFrame\n",
    "        The dataframe to sample\n",
    "    interest_column : str\n",
    "        The column to group by\n",
    "    value : str\n",
    "        The exact value to filter for\n",
    "    keep : label, list or array of labels, slice object with labels, boolean array of the same length as the axis being sliced, An alignable boolean Series, A callable function with one argument (the calling Series or DataFrame) and that returns valid output for indexing (one of the above)\n",
    "        \n",
    "    \n",
    "    Returns\n",
    "    -------\n",
    "    DataFrame\n",
    "        DataFrame representing a filtered version of the original dataframe (data)\n",
    "        \n",
    "    Examples\n",
    "    --------\n",
    "    >>> df_filterer(data,'Alma Mater','University of Kansas', ['Name'])\n",
    "    \n",
    "    '''\n",
    "    return data[data[interest_column] == value][keep]"
   ]
  },
  {
   "cell_type": "code",
   "execution_count": 11,
   "metadata": {
    "deletable": false,
    "editable": false,
    "nbgrader": {
     "cell_type": "code",
     "checksum": "a5b18d42d359ce6e7beb38ed29e76004",
     "grade": true,
     "grade_id": "cell-941dc3e0565022d2",
     "locked": true,
     "points": 2,
     "schema_version": 3,
     "solution": false,
     "task": false
    }
   },
   "outputs": [],
   "source": [
    "# check that the function exists\n",
    "assert 'df_filterer' in globals(\n",
    "), \"Please make sure that your solution is named 'df_filterer'\"\n",
    "\n",
    "# This test has been intentionally hidden. It will be up to you to decide if your solution\n",
    "# is sufficiently good."
   ]
  },
  {
   "cell_type": "markdown",
   "metadata": {},
   "source": [
    "## 3. Function with Exceptions "
   ]
  },
  {
   "cell_type": "markdown",
   "metadata": {},
   "source": [
    "**Question 3(a)** <br> {points: 1} \n",
    "\n",
    "Copy/paste your function from **Question 1(b)**, and add exceptions to check that:\n",
    "\n",
    "1. A dataframe is the type of object being passed into the `data` argument (*Hint: you may want to use [this function](https://python-reference.readthedocs.io/en/latest/docs/functions/isinstance.html)*)\n",
    "1. `value` exists in the dataframe (`.tolist()` may come in handy here) \n",
    "1. `interest_column` exists in the dataframe\n",
    "1. The elements in `keep` exist in the dataframe"
   ]
  },
  {
   "cell_type": "code",
   "execution_count": 12,
   "metadata": {
    "deletable": false,
    "nbgrader": {
     "cell_type": "code",
     "checksum": "04ca544f7ccd6873517e56cc8cd8ae03",
     "grade": false,
     "grade_id": "cell-300d0b8ef95fc62c",
     "locked": false,
     "schema_version": 3,
     "solution": true,
     "task": false
    }
   },
   "outputs": [],
   "source": [
    "def df_filterer(data, interest_column, value, keep):\n",
    "    if not isinstance(data, pd.DataFrame):\n",
    "        raise TypeError('data must be a dataframe')\n",
    "    if not value in data.values:\n",
    "        raise ValueError('value does not exist in data')\n",
    "    if not interest_column in data.columns:\n",
    "        raise Exception('interest_column does not exist in data')\n",
    "    if not data.squeeze().isin(keep):\n",
    "        raise Exception('keep does not exist in data')\n",
    "    \n",
    "    return data[data[interest_column] == value][keep]"
   ]
  },
  {
   "cell_type": "code",
   "execution_count": 13,
   "metadata": {
    "deletable": false,
    "editable": false,
    "nbgrader": {
     "cell_type": "code",
     "checksum": "c084bc563eb835ec538810efaced0319",
     "grade": true,
     "grade_id": "cell-9562a2d37d4770c5",
     "locked": true,
     "points": 1,
     "schema_version": 3,
     "solution": false,
     "task": false
    }
   },
   "outputs": [
    {
     "data": {
      "text/plain": [
       "'Success'"
      ]
     },
     "execution_count": 13,
     "metadata": {},
     "output_type": "execute_result"
    }
   ],
   "source": [
    "t.test_3a(df_filterer)"
   ]
  },
  {
   "cell_type": "markdown",
   "metadata": {},
   "source": [
    "**Question 3(b)** <br> {points: 1} \n",
    "\n",
    "Copy/paste your function from **Question 1(a)**, and add at least 3 useful exceptions of your choice."
   ]
  },
  {
   "cell_type": "code",
   "execution_count": 14,
   "metadata": {
    "deletable": false,
    "nbgrader": {
     "cell_type": "code",
     "checksum": "c14e1f1114b446d6cbe13f014855f0d0",
     "grade": false,
     "grade_id": "cell-6749c72a478e1942",
     "locked": false,
     "schema_version": 3,
     "solution": true,
     "task": false
    }
   },
   "outputs": [],
   "source": [
    "\n",
    "def sample_dataframe(data, grouping_col, N=1):\n",
    "    if not isinstance(data, pd.DataFrame):\n",
    "        raise TypeError('data must be a dataframe')\n",
    "    if not grouping_col in data.columns:\n",
    "        raise Exception('grouping_col does not exist in data')\n",
    "    if N > 1 and not isinstance(data, int):\n",
    "        raise TypeError('N must be of type int')\n",
    "    \n",
    "    return data.groupby(grouping_col).sample(N)\n",
    "\n",
    "astro_grp_samp = sample_dataframe(data, 'Group')"
   ]
  },
  {
   "cell_type": "code",
   "execution_count": 15,
   "metadata": {
    "deletable": false,
    "editable": false,
    "nbgrader": {
     "cell_type": "code",
     "checksum": "c9cda40bd8563e384cf6756418c1f6b5",
     "grade": true,
     "grade_id": "cell-c724712c884f844c",
     "locked": true,
     "points": 1,
     "schema_version": 3,
     "solution": false,
     "task": false
    }
   },
   "outputs": [
    {
     "data": {
      "text/plain": [
       "'Success'"
      ]
     },
     "execution_count": 15,
     "metadata": {},
     "output_type": "execute_result"
    }
   ],
   "source": [
    "t.test_3b(sample_dataframe)"
   ]
  },
  {
   "cell_type": "markdown",
   "metadata": {},
   "source": [
    "## 4. Helper Data and Unit Tests"
   ]
  },
  {
   "cell_type": "markdown",
   "metadata": {},
   "source": [
    "**Question 4(a)** <br> {points: 1} \n",
    "\n",
    "Write helper data for the function in **Question 1(a)** that will be useful to write unit tests. \n",
    "Name the dataframe `helper_data`.\n",
    "\n",
    "Make sure your data has 5-20 rows and 3-10 columns.   \n",
    "\n",
    "*(Remember you are expected to group and sample from this function.)* \n",
    "\n"
   ]
  },
  {
   "cell_type": "code",
   "execution_count": 16,
   "metadata": {
    "deletable": false,
    "nbgrader": {
     "cell_type": "code",
     "checksum": "d42aeaf2a95036e9547d5b3afae2481d",
     "grade": false,
     "grade_id": "cell-f48823fc86eb907d",
     "locked": false,
     "schema_version": 3,
     "solution": true,
     "task": false
    }
   },
   "outputs": [
    {
     "data": {
      "text/plain": [
       "{dtype('int64'), dtype('O')}"
      ]
     },
     "execution_count": 16,
     "metadata": {},
     "output_type": "execute_result"
    }
   ],
   "source": [
    "helper_data = (pd.DataFrame(data=[['Billy Bob', 'male', 18, 'Homehow'], \n",
    "                                  ['Jane Doe', 'female', 19, 'Homehow'], \n",
    "                                  ['Hugh Janus', 'male', 40, 'Connectus'], \n",
    "                                  ['Latish Laqueefa', 'female', 40, 'Connectus'], \n",
    "                                  ['Christian Garrovillo', 'male', 23, 'Airbnb']],\n",
    "                           columns=['Name', 'Gender', 'Age', 'Company']\n",
    "                           ))\n",
    "\n",
    "set(list(helper_data.dtypes))"
   ]
  },
  {
   "cell_type": "code",
   "execution_count": 17,
   "metadata": {
    "deletable": false,
    "editable": false,
    "nbgrader": {
     "cell_type": "code",
     "checksum": "5571498f240d8c364f8e66b2b3390b9c",
     "grade": true,
     "grade_id": "cell-380b5d7b8e0bfde6",
     "locked": true,
     "points": 1,
     "schema_version": 3,
     "solution": false,
     "task": false
    }
   },
   "outputs": [
    {
     "data": {
      "text/plain": [
       "'Success'"
      ]
     },
     "execution_count": 17,
     "metadata": {},
     "output_type": "execute_result"
    }
   ],
   "source": [
    "t.test_4a(helper_data)"
   ]
  },
  {
   "cell_type": "markdown",
   "metadata": {},
   "source": [
    "**Question 4(b)** <br> {points: 2} \n",
    "\n",
    "Create a function named `test_sample_dataframe` which takes zero arguments. The function should contain the code to make the helper data from **Question 4(a)**. Also in this function, write 5 `assert` tests that checks your function from **Question 1(a)** using the helper data that you made in **Question 4(a)**.\n",
    "\n",
    "After writing your function, make sure to call it and see if your function outputs any assert messages.\n",
    "\n",
    "Make sure to include a `return` statement in your function. Your function should not return any values."
   ]
  },
  {
   "cell_type": "code",
   "execution_count": 18,
   "metadata": {
    "deletable": false,
    "nbgrader": {
     "cell_type": "code",
     "checksum": "257f8c9edc2e59daec437490cdad212b",
     "grade": false,
     "grade_id": "cell-978105d5b3cc703c",
     "locked": false,
     "schema_version": 3,
     "solution": true,
     "task": false
    }
   },
   "outputs": [],
   "source": [
    "def test_sample_dataframe():\n",
    "    helper_data = (pd.DataFrame(data=[['Billy Bob', 'male', 18, 'Homehow'], \n",
    "                                  ['Jane Doe', 'female', 19, 'Homehow'], \n",
    "                                  ['Hugh Janus', 'male', 40, 'Connectus'], \n",
    "                                  ['Latish Laqueefa', 'female', 40, 'Connectus'], \n",
    "                                  ['Christian Garrovillo', 'male', 23, 'Airbnb']],\n",
    "                           columns=['Name', 'Gender', 'Age', 'Company']\n",
    "                           ))\n",
    "    assert sample_dataframe(helper_data, 'Company').shape == (3, 4)\n",
    "    assert sample_dataframe(helper_data, 'Company').groupby('Company').ngroups == 3\n",
    "    assert sample_dataframe(helper_data, 'Gender').shape == (2, 4)\n",
    "    assert sample_dataframe(helper_data, 'Gender').groupby('Gender').ngroups == 2\n",
    "    assert sample_dataframe(helper_data, 'Name').shape == (5, 4)\n",
    "    \n",
    "\n",
    "test_sample_dataframe()"
   ]
  },
  {
   "cell_type": "code",
   "execution_count": 19,
   "metadata": {
    "deletable": false,
    "editable": false,
    "nbgrader": {
     "cell_type": "code",
     "checksum": "ec563cd5b0f88c75c0e7484ce880b886",
     "grade": true,
     "grade_id": "cell-195edb5dbafe3471",
     "locked": true,
     "points": 2,
     "schema_version": 3,
     "solution": false,
     "task": false
    }
   },
   "outputs": [],
   "source": [
    "# check that the function exists\n",
    "assert 'test_sample_dataframe' in globals(\n",
    "), \"Please make sure that your solution is named 'test_sample_dataframe'\"\n",
    "\n",
    "# This test has been intentionally hidden. It will be up to you to decide if your solution\n",
    "# is sufficiently good."
   ]
  },
  {
   "cell_type": "markdown",
   "metadata": {},
   "source": [
    "## 5. Function Design"
   ]
  },
  {
   "cell_type": "markdown",
   "metadata": {},
   "source": [
    "**Question  5(a)** <br> {points: 1} \n",
    "\n",
    "Below we have a function that takes zero arguments and returns the astronaut dataframe filtered to only include astronauts who have had over 6000 hours of space flight.\n",
    "\n",
    "_**DISCLAIMER:** We understand that one of the limitations of the following dataset is that it reflects binary sex categories._"
   ]
  },
  {
   "cell_type": "code",
   "execution_count": 20,
   "metadata": {},
   "outputs": [],
   "source": [
    "def load_astronauts(): \n",
    "    \"\"\"\n",
    "    Reads in the astronaut data and filters it for space flight time\n",
    "    greater than 6000\n",
    "    \n",
    "    Returns\n",
    "    -------\n",
    "    pandas.core.frame.DataFrame\n",
    "        The filtered astronaut dataframe \n",
    "    \n",
    "    Examples\n",
    "    --------\n",
    "    >>> load_astronauts()\n",
    "    \"\"\"\n",
    "    \n",
    "    df = pd.read_csv('data/astronauts.csv')\n",
    "    df = df[df['Space Flight (hr)'] >= 6000]\n",
    "    return df"
   ]
  },
  {
   "cell_type": "code",
   "execution_count": 21,
   "metadata": {},
   "outputs": [
    {
     "data": {
      "text/html": [
       "<div>\n",
       "<style scoped>\n",
       "    .dataframe tbody tr th:only-of-type {\n",
       "        vertical-align: middle;\n",
       "    }\n",
       "\n",
       "    .dataframe tbody tr th {\n",
       "        vertical-align: top;\n",
       "    }\n",
       "\n",
       "    .dataframe thead th {\n",
       "        text-align: right;\n",
       "    }\n",
       "</style>\n",
       "<table border=\"1\" class=\"dataframe\">\n",
       "  <thead>\n",
       "    <tr style=\"text-align: right;\">\n",
       "      <th></th>\n",
       "      <th>Name</th>\n",
       "      <th>Year</th>\n",
       "      <th>Group</th>\n",
       "      <th>Status</th>\n",
       "      <th>Birth Date</th>\n",
       "      <th>Birth Place</th>\n",
       "      <th>Gender</th>\n",
       "      <th>Alma Mater</th>\n",
       "      <th>Undergraduate Major</th>\n",
       "      <th>Graduate Major</th>\n",
       "      <th>Military Rank</th>\n",
       "      <th>Military Branch</th>\n",
       "      <th>Space Flights</th>\n",
       "      <th>Space Flight (hr)</th>\n",
       "      <th>Space Walks</th>\n",
       "      <th>Space Walks (hr)</th>\n",
       "      <th>Missions</th>\n",
       "      <th>Death Date</th>\n",
       "      <th>Death Mission</th>\n",
       "    </tr>\n",
       "  </thead>\n",
       "  <tbody>\n",
       "    <tr>\n",
       "      <th>99</th>\n",
       "      <td>E. Michael Fincke</td>\n",
       "      <td>1996</td>\n",
       "      <td>16.0</td>\n",
       "      <td>Active</td>\n",
       "      <td>3/14/1967</td>\n",
       "      <td>Pittsburgh, PA</td>\n",
       "      <td>Male</td>\n",
       "      <td>MIT; Stanford University; University of Housto...</td>\n",
       "      <td>Aeronautics &amp; Astronautics; Earth, Atmospheric...</td>\n",
       "      <td>Aeronautics &amp; Astronautics; Physical Sciences</td>\n",
       "      <td>Colonel</td>\n",
       "      <td>US Air Force</td>\n",
       "      <td>3</td>\n",
       "      <td>9159</td>\n",
       "      <td>9</td>\n",
       "      <td>48.0</td>\n",
       "      <td>ISS-09 (Soyuz), ISS-18 (Soyuz), STS-134 (Endea...</td>\n",
       "      <td>NaN</td>\n",
       "      <td>NaN</td>\n",
       "    </tr>\n",
       "    <tr>\n",
       "      <th>103</th>\n",
       "      <td>C. Michael Foale</td>\n",
       "      <td>1987</td>\n",
       "      <td>12.0</td>\n",
       "      <td>Active</td>\n",
       "      <td>1/6/1957</td>\n",
       "      <td>Louth, England</td>\n",
       "      <td>Male</td>\n",
       "      <td>Cambridge University</td>\n",
       "      <td>Physics</td>\n",
       "      <td>Laboratory Astrophysics</td>\n",
       "      <td>NaN</td>\n",
       "      <td>NaN</td>\n",
       "      <td>6</td>\n",
       "      <td>8970</td>\n",
       "      <td>4</td>\n",
       "      <td>22.0</td>\n",
       "      <td>STS-45 (Atlantis), STS-56 (Discovery), STS-63 ...</td>\n",
       "      <td>NaN</td>\n",
       "      <td>NaN</td>\n",
       "    </tr>\n",
       "    <tr>\n",
       "      <th>170</th>\n",
       "      <td>Scott J. Kelly</td>\n",
       "      <td>1996</td>\n",
       "      <td>16.0</td>\n",
       "      <td>Active</td>\n",
       "      <td>2/21/1964</td>\n",
       "      <td>Orange, NJ</td>\n",
       "      <td>Male</td>\n",
       "      <td>State University of New York Maritime College;...</td>\n",
       "      <td>Electrical Engineering</td>\n",
       "      <td>Aviation Systems</td>\n",
       "      <td>Captain</td>\n",
       "      <td>US Navy (Retired)</td>\n",
       "      <td>4</td>\n",
       "      <td>12490</td>\n",
       "      <td>3</td>\n",
       "      <td>18.0</td>\n",
       "      <td>STS-103 (Discovery), STS-118 (Endeavor), ISS-2...</td>\n",
       "      <td>NaN</td>\n",
       "      <td>NaN</td>\n",
       "    </tr>\n",
       "    <tr>\n",
       "      <th>187</th>\n",
       "      <td>Michael E. Lopez-Alegria</td>\n",
       "      <td>1992</td>\n",
       "      <td>14.0</td>\n",
       "      <td>Retired</td>\n",
       "      <td>5/30/1958</td>\n",
       "      <td>Madrid, Spain</td>\n",
       "      <td>Male</td>\n",
       "      <td>US Naval Academy; US Naval Postgraduate School</td>\n",
       "      <td>Systems Engineering</td>\n",
       "      <td>Aeronautical Engineering</td>\n",
       "      <td>Captain</td>\n",
       "      <td>US Navy (Retired)</td>\n",
       "      <td>3</td>\n",
       "      <td>6190</td>\n",
       "      <td>10</td>\n",
       "      <td>67.0</td>\n",
       "      <td>STS-73 (Columbia), STS-92 (Discovery), STS-113...</td>\n",
       "      <td>NaN</td>\n",
       "      <td>NaN</td>\n",
       "    </tr>\n",
       "    <tr>\n",
       "      <th>239</th>\n",
       "      <td>Donald R. Pettit</td>\n",
       "      <td>1996</td>\n",
       "      <td>16.0</td>\n",
       "      <td>Active</td>\n",
       "      <td>4/20/1955</td>\n",
       "      <td>Silverton, OR</td>\n",
       "      <td>Male</td>\n",
       "      <td>Oregon State University; University of Arizona</td>\n",
       "      <td>Chemical Engineering</td>\n",
       "      <td>Chemical Engineering</td>\n",
       "      <td>NaN</td>\n",
       "      <td>NaN</td>\n",
       "      <td>3</td>\n",
       "      <td>8872</td>\n",
       "      <td>2</td>\n",
       "      <td>13.0</td>\n",
       "      <td>ISS-6 (Soyuz), STS-126 (Endeavor), ISS-30/31 (...</td>\n",
       "      <td>NaN</td>\n",
       "      <td>NaN</td>\n",
       "    </tr>\n",
       "    <tr>\n",
       "      <th>315</th>\n",
       "      <td>Peggy A. Whitson</td>\n",
       "      <td>1996</td>\n",
       "      <td>16.0</td>\n",
       "      <td>Active</td>\n",
       "      <td>2/9/1960</td>\n",
       "      <td>Mt. Ayr, IA</td>\n",
       "      <td>Female</td>\n",
       "      <td>Iowa Wesleyan College; Rice University</td>\n",
       "      <td>Chemistry &amp; Biology</td>\n",
       "      <td>Biochemistry</td>\n",
       "      <td>NaN</td>\n",
       "      <td>NaN</td>\n",
       "      <td>3</td>\n",
       "      <td>11698</td>\n",
       "      <td>7</td>\n",
       "      <td>46.0</td>\n",
       "      <td>STS-111/113 (Endeavor), ISS-16 (Soyuz), ISS-50...</td>\n",
       "      <td>NaN</td>\n",
       "      <td>NaN</td>\n",
       "    </tr>\n",
       "    <tr>\n",
       "      <th>319</th>\n",
       "      <td>Jeffrey N. Williams</td>\n",
       "      <td>1996</td>\n",
       "      <td>16.0</td>\n",
       "      <td>Active</td>\n",
       "      <td>1/18/1958</td>\n",
       "      <td>Superior, WI</td>\n",
       "      <td>Male</td>\n",
       "      <td>US Military Academy; US Naval Postgraduate Sch...</td>\n",
       "      <td>Applied Science &amp; Engineering</td>\n",
       "      <td>Aeronautical Engineering; National Security &amp; ...</td>\n",
       "      <td>Colonel</td>\n",
       "      <td>US Army (Retired)</td>\n",
       "      <td>4</td>\n",
       "      <td>12818</td>\n",
       "      <td>5</td>\n",
       "      <td>32.0</td>\n",
       "      <td>STS-101 (Atlantis), ISS-13 (Soyuz), ISS-21/22 ...</td>\n",
       "      <td>NaN</td>\n",
       "      <td>NaN</td>\n",
       "    </tr>\n",
       "    <tr>\n",
       "      <th>320</th>\n",
       "      <td>Sunita L. Williams</td>\n",
       "      <td>1998</td>\n",
       "      <td>17.0</td>\n",
       "      <td>Active</td>\n",
       "      <td>9/19/1965</td>\n",
       "      <td>Euclid, OH</td>\n",
       "      <td>Female</td>\n",
       "      <td>US Naval Academy; Florida Institute of Technology</td>\n",
       "      <td>Physical Science</td>\n",
       "      <td>Engineering Management</td>\n",
       "      <td>Captain</td>\n",
       "      <td>US Navy</td>\n",
       "      <td>2</td>\n",
       "      <td>7721</td>\n",
       "      <td>7</td>\n",
       "      <td>50.0</td>\n",
       "      <td>STS-116/117 (Discovery/Atlantis), ISS-32/33 (S...</td>\n",
       "      <td>NaN</td>\n",
       "      <td>NaN</td>\n",
       "    </tr>\n",
       "  </tbody>\n",
       "</table>\n",
       "</div>"
      ],
      "text/plain": [
       "                         Name  Year  Group   Status Birth Date  \\\n",
       "99          E. Michael Fincke  1996   16.0   Active  3/14/1967   \n",
       "103          C. Michael Foale  1987   12.0   Active   1/6/1957   \n",
       "170            Scott J. Kelly  1996   16.0   Active  2/21/1964   \n",
       "187  Michael E. Lopez-Alegria  1992   14.0  Retired  5/30/1958   \n",
       "239          Donald R. Pettit  1996   16.0   Active  4/20/1955   \n",
       "315          Peggy A. Whitson  1996   16.0   Active   2/9/1960   \n",
       "319       Jeffrey N. Williams  1996   16.0   Active  1/18/1958   \n",
       "320        Sunita L. Williams  1998   17.0   Active  9/19/1965   \n",
       "\n",
       "        Birth Place  Gender  \\\n",
       "99   Pittsburgh, PA    Male   \n",
       "103  Louth, England    Male   \n",
       "170      Orange, NJ    Male   \n",
       "187   Madrid, Spain    Male   \n",
       "239   Silverton, OR    Male   \n",
       "315     Mt. Ayr, IA  Female   \n",
       "319    Superior, WI    Male   \n",
       "320      Euclid, OH  Female   \n",
       "\n",
       "                                            Alma Mater  \\\n",
       "99   MIT; Stanford University; University of Housto...   \n",
       "103                               Cambridge University   \n",
       "170  State University of New York Maritime College;...   \n",
       "187     US Naval Academy; US Naval Postgraduate School   \n",
       "239     Oregon State University; University of Arizona   \n",
       "315             Iowa Wesleyan College; Rice University   \n",
       "319  US Military Academy; US Naval Postgraduate Sch...   \n",
       "320  US Naval Academy; Florida Institute of Technology   \n",
       "\n",
       "                                   Undergraduate Major  \\\n",
       "99   Aeronautics & Astronautics; Earth, Atmospheric...   \n",
       "103                                            Physics   \n",
       "170                             Electrical Engineering   \n",
       "187                                Systems Engineering   \n",
       "239                               Chemical Engineering   \n",
       "315                                Chemistry & Biology   \n",
       "319                      Applied Science & Engineering   \n",
       "320                                   Physical Science   \n",
       "\n",
       "                                        Graduate Major Military Rank  \\\n",
       "99       Aeronautics & Astronautics; Physical Sciences       Colonel   \n",
       "103                            Laboratory Astrophysics           NaN   \n",
       "170                                   Aviation Systems       Captain   \n",
       "187                           Aeronautical Engineering       Captain   \n",
       "239                               Chemical Engineering           NaN   \n",
       "315                                       Biochemistry           NaN   \n",
       "319  Aeronautical Engineering; National Security & ...       Colonel   \n",
       "320                             Engineering Management       Captain   \n",
       "\n",
       "       Military Branch  Space Flights  Space Flight (hr)  Space Walks  \\\n",
       "99        US Air Force              3               9159            9   \n",
       "103                NaN              6               8970            4   \n",
       "170  US Navy (Retired)              4              12490            3   \n",
       "187  US Navy (Retired)              3               6190           10   \n",
       "239                NaN              3               8872            2   \n",
       "315                NaN              3              11698            7   \n",
       "319  US Army (Retired)              4              12818            5   \n",
       "320            US Navy              2               7721            7   \n",
       "\n",
       "     Space Walks (hr)                                           Missions  \\\n",
       "99               48.0  ISS-09 (Soyuz), ISS-18 (Soyuz), STS-134 (Endea...   \n",
       "103              22.0  STS-45 (Atlantis), STS-56 (Discovery), STS-63 ...   \n",
       "170              18.0  STS-103 (Discovery), STS-118 (Endeavor), ISS-2...   \n",
       "187              67.0  STS-73 (Columbia), STS-92 (Discovery), STS-113...   \n",
       "239              13.0  ISS-6 (Soyuz), STS-126 (Endeavor), ISS-30/31 (...   \n",
       "315              46.0  STS-111/113 (Endeavor), ISS-16 (Soyuz), ISS-50...   \n",
       "319              32.0  STS-101 (Atlantis), ISS-13 (Soyuz), ISS-21/22 ...   \n",
       "320              50.0  STS-116/117 (Discovery/Atlantis), ISS-32/33 (S...   \n",
       "\n",
       "    Death Date Death Mission  \n",
       "99         NaN           NaN  \n",
       "103        NaN           NaN  \n",
       "170        NaN           NaN  \n",
       "187        NaN           NaN  \n",
       "239        NaN           NaN  \n",
       "315        NaN           NaN  \n",
       "319        NaN           NaN  \n",
       "320        NaN           NaN  "
      ]
     },
     "execution_count": 21,
     "metadata": {},
     "output_type": "execute_result"
    }
   ],
   "source": [
    "space = load_astronauts()\n",
    "space"
   ]
  },
  {
   "cell_type": "markdown",
   "metadata": {},
   "source": [
    "What is wrong with the function `load_astronauts()`?\n",
    "\n",
    "\n",
    "A) It doesn't take any arguments which is not good function design. \n",
    "\n",
    "B) It's attempting to do too many things by reading in the data AND filtering on `Space Flight (hr)`\n",
    "\n",
    "C) It contains side effects that could easily be removed. \n",
    "\n",
    "D) It limits the user to only use the function to obtain astronauts with a hard-coded amount of `'Space Flight (hr)'` time. \n",
    "\n",
    "\n",
    "\n",
    "\n",
    "*Answer in the cell below using the uppercase letter associated with your answer. Place your answer between \"\", assign the correct answer to an object called `answer5_a`.*"
   ]
  },
  {
   "cell_type": "code",
   "execution_count": 22,
   "metadata": {
    "deletable": false,
    "nbgrader": {
     "cell_type": "code",
     "checksum": "33ad5b363f76fda375c3f1214402cd32",
     "grade": false,
     "grade_id": "cell-d1f3fdc4dadabf42",
     "locked": false,
     "schema_version": 3,
     "solution": true,
     "task": false
    }
   },
   "outputs": [],
   "source": [
    "answer5_a = \"D\""
   ]
  },
  {
   "cell_type": "code",
   "execution_count": 23,
   "metadata": {
    "deletable": false,
    "editable": false,
    "nbgrader": {
     "cell_type": "code",
     "checksum": "38bbf901f000d45adc50bbe91d06fbbe",
     "grade": true,
     "grade_id": "cell-db35516640346b31",
     "locked": true,
     "points": 1,
     "schema_version": 3,
     "solution": false,
     "task": false
    }
   },
   "outputs": [
    {
     "data": {
      "text/plain": [
       "'Success'"
      ]
     },
     "execution_count": 23,
     "metadata": {},
     "output_type": "execute_result"
    }
   ],
   "source": [
    "t.test_5a(answer5_a)"
   ]
  },
  {
   "cell_type": "markdown",
   "metadata": {},
   "source": [
    "**Question  5(b)** <br> {points: 2} \n",
    "\n",
    "Given the function above, write a new similar function named `astronauts_space_time` that takes in an argument and corrects for the issue you identified above. \n",
    "\n",
    "Remember to add a `docstring` in your function."
   ]
  },
  {
   "cell_type": "code",
   "execution_count": 24,
   "metadata": {
    "deletable": false,
    "nbgrader": {
     "cell_type": "code",
     "checksum": "0d9b1c45a250f73c49b439addbd2aa57",
     "grade": false,
     "grade_id": "cell-872e6df300e27ff6",
     "locked": false,
     "schema_version": 3,
     "solution": true,
     "task": false
    }
   },
   "outputs": [],
   "source": [
    "def astronauts_space_time(flight_hours): \n",
    "    \"\"\"\n",
    "    Reads in the astronaut data and filters it for a specified space flight time\n",
    "    \n",
    "    Parameters\n",
    "    ----------\n",
    "    flight_hours : int\n",
    "        The minimum flight hours to filter astronauts by\n",
    "    \n",
    "    \n",
    "    Returns\n",
    "    -------\n",
    "    pandas.core.frame.DataFrame\n",
    "        The filtered astronaut dataframe \n",
    "    \n",
    "    Examples\n",
    "    --------\n",
    "    >>> astronauts_space_time()\n",
    "    \"\"\"\n",
    "    \n",
    "    df = pd.read_csv('data/astronauts.csv')\n",
    "    df = df[df['Space Flight (hr)'] >= flight_hours]\n",
    "    return df"
   ]
  },
  {
   "cell_type": "code",
   "execution_count": 25,
   "metadata": {
    "deletable": false,
    "editable": false,
    "nbgrader": {
     "cell_type": "code",
     "checksum": "f2ec928c3a8f0ba861d85101a6db38ed",
     "grade": true,
     "grade_id": "cell-9abadc14a9c5bae6",
     "locked": true,
     "points": 2,
     "schema_version": 3,
     "solution": false,
     "task": false
    }
   },
   "outputs": [],
   "source": [
    "# check that the function exists\n",
    "assert 'astronauts_space_time' in globals(\n",
    "), \"Please make sure that your solution is named 'astronauts_space_time'\"\n",
    "\n",
    "# This test has been intentionally hidden. It will be up to you to decide if your solution\n",
    "# is sufficiently good."
   ]
  },
  {
   "cell_type": "markdown",
   "metadata": {},
   "source": [
    "**Question  5(c)** <br> {points: 1} \n",
    "\n",
    "The function `astronaut_full_service` reads in the astronaut dataframe and prints multiple calculations and returns a plot. "
   ]
  },
  {
   "cell_type": "code",
   "execution_count": 26,
   "metadata": {},
   "outputs": [],
   "source": [
    "def astronaut_full_service(status=None): \n",
    "    \"\"\"\n",
    "    Reads in the astronaut data, and potentially filters the data based on status.\n",
    "    It prints out the mean space flight time and then plots it as a histogram with \n",
    "    both genders and plots both genders seperately. \n",
    "\n",
    "    \n",
    "    Parameters\n",
    "    ----------\n",
    "    status : str, optional\n",
    "        The status of an astronaut; Active, Deceased, Retired, etc (the default is None which implies \n",
    "        that no filtering is occuring) \n",
    "    \n",
    "    Returns\n",
    "    -------\n",
    "    altair.vegalite.v4.api.FacetChart\n",
    "        A histogram faceted for gender of the Space flight time. \n",
    "    \n",
    "    Examples\n",
    "    --------\n",
    "    >>> astronaut_full_service('Retired')\n",
    "    Alt.Chart(...)\n",
    "    \"\"\"\n",
    "    \n",
    "    df = pd.read_csv('data/astronauts.csv')\n",
    "    \n",
    "    if status is not None: \n",
    "        df = df[df['Status'] == status]\n",
    "\n",
    "    mean_flight =  df['Space Flight (hr)'].mean()\n",
    "    \n",
    "    print('Mean Space Walk Time:', mean_flight) \n",
    "    \n",
    "    \n",
    "    plot1 = alt.Chart(df).mark_bar(size=40, color = 'tomato').encode(\n",
    "            alt.X('Space Flights:Q'),\n",
    "            alt.Y('count()'))\n",
    "    \n",
    "    plot1.display()\n",
    "    \n",
    "    plot2 = alt.Chart(df).mark_bar(size=40).encode(\n",
    "            alt.X('Space Flights:Q'),\n",
    "            alt.Y('count()'),\n",
    "            color=alt.Color('Gender',\n",
    "                   scale=alt.Scale(\n",
    "            domain=['Male', 'Female'],\n",
    "            range=['Navy', 'tomato']))\n",
    "    ).facet(alt.Column('Gender:N'))\n",
    " \n",
    "    return plot2"
   ]
  },
  {
   "cell_type": "code",
   "execution_count": 27,
   "metadata": {
    "lines_to_next_cell": 2
   },
   "outputs": [
    {
     "name": "stdout",
     "output_type": "stream",
     "text": [
      "Mean Space Walk Time: 274.1875\n"
     ]
    },
    {
     "data": {
      "text/html": [
       "\n",
       "<div id=\"altair-viz-4651ed5192ea4ad2a3aeb9320958752a\"></div>\n",
       "<script type=\"text/javascript\">\n",
       "  (function(spec, embedOpt){\n",
       "    let outputDiv = document.currentScript.previousElementSibling;\n",
       "    if (outputDiv.id !== \"altair-viz-4651ed5192ea4ad2a3aeb9320958752a\") {\n",
       "      outputDiv = document.getElementById(\"altair-viz-4651ed5192ea4ad2a3aeb9320958752a\");\n",
       "    }\n",
       "    const paths = {\n",
       "      \"vega\": \"https://cdn.jsdelivr.net/npm//vega@5?noext\",\n",
       "      \"vega-lib\": \"https://cdn.jsdelivr.net/npm//vega-lib?noext\",\n",
       "      \"vega-lite\": \"https://cdn.jsdelivr.net/npm//vega-lite@4.8.1?noext\",\n",
       "      \"vega-embed\": \"https://cdn.jsdelivr.net/npm//vega-embed@6?noext\",\n",
       "    };\n",
       "\n",
       "    function loadScript(lib) {\n",
       "      return new Promise(function(resolve, reject) {\n",
       "        var s = document.createElement('script');\n",
       "        s.src = paths[lib];\n",
       "        s.async = true;\n",
       "        s.onload = () => resolve(paths[lib]);\n",
       "        s.onerror = () => reject(`Error loading script: ${paths[lib]}`);\n",
       "        document.getElementsByTagName(\"head\")[0].appendChild(s);\n",
       "      });\n",
       "    }\n",
       "\n",
       "    function showError(err) {\n",
       "      outputDiv.innerHTML = `<div class=\"error\" style=\"color:red;\">${err}</div>`;\n",
       "      throw err;\n",
       "    }\n",
       "\n",
       "    function displayChart(vegaEmbed) {\n",
       "      vegaEmbed(outputDiv, spec, embedOpt)\n",
       "        .catch(err => showError(`Javascript Error: ${err.message}<br>This usually means there's a typo in your chart specification. See the javascript console for the full traceback.`));\n",
       "    }\n",
       "\n",
       "    if(typeof define === \"function\" && define.amd) {\n",
       "      requirejs.config({paths});\n",
       "      require([\"vega-embed\"], displayChart, err => showError(`Error loading script: ${err.message}`));\n",
       "    } else if (typeof vegaEmbed === \"function\") {\n",
       "      displayChart(vegaEmbed);\n",
       "    } else {\n",
       "      loadScript(\"vega\")\n",
       "        .then(() => loadScript(\"vega-lite\"))\n",
       "        .then(() => loadScript(\"vega-embed\"))\n",
       "        .catch(showError)\n",
       "        .then(() => displayChart(vegaEmbed));\n",
       "    }\n",
       "  })({\"config\": {\"view\": {\"continuousWidth\": 400, \"continuousHeight\": 300}}, \"data\": {\"name\": \"data-67e0a46a3ce8a6ec6dea522d3738dd03\"}, \"mark\": {\"type\": \"bar\", \"color\": \"tomato\", \"size\": 40}, \"encoding\": {\"x\": {\"type\": \"quantitative\", \"field\": \"Space Flights\"}, \"y\": {\"type\": \"quantitative\", \"aggregate\": \"count\"}}, \"$schema\": \"https://vega.github.io/schema/vega-lite/v4.8.1.json\", \"datasets\": {\"data-67e0a46a3ce8a6ec6dea522d3738dd03\": [{\"Name\": \"Michael P. Anderson\", \"Year\": 1995, \"Group\": 15.0, \"Status\": \"Deceased\", \"Birth Date\": \"12/25/1959\", \"Birth Place\": \"Plattsburgh, NY\", \"Gender\": \"Male\", \"Alma Mater\": \"University of Washington; Creighton University\", \"Undergraduate Major\": \"Physics & Astronomy\", \"Graduate Major\": \"Physics\", \"Military Rank\": \"Lieutenant Colonel\", \"Military Branch\": \"US Air Force\", \"Space Flights\": 2, \"Space Flight (hr)\": 594, \"Space Walks\": 0, \"Space Walks (hr)\": 0.0, \"Missions\": \"STS-89 (Endeavor), STS-107 (Columbia)\", \"Death Date\": \"2/1/2003\", \"Death Mission\": \"STS-107 (Columbia)\"}, {\"Name\": \"Neil A. Armstrong\", \"Year\": 1962, \"Group\": 2.0, \"Status\": \"Deceased\", \"Birth Date\": \"8/5/1930\", \"Birth Place\": \"Wapakoneta, OH\", \"Gender\": \"Male\", \"Alma Mater\": \"Purdue University; University of Southern California\", \"Undergraduate Major\": \"Aeronautical Engineering\", \"Graduate Major\": \"Aerospace Engineering\", \"Military Rank\": null, \"Military Branch\": null, \"Space Flights\": 2, \"Space Flight (hr)\": 205, \"Space Walks\": 1, \"Space Walks (hr)\": 2.0, \"Missions\": \"Gemini 8, Apollo 11\", \"Death Date\": \"8/25/2012\", \"Death Mission\": null}, {\"Name\": \"Charles A. Bassett II \", \"Year\": 1963, \"Group\": 3.0, \"Status\": \"Deceased\", \"Birth Date\": \"12/30/1931\", \"Birth Place\": \"Dayton, OH\", \"Gender\": \"Male\", \"Alma Mater\": \"Texas Technological College\", \"Undergraduate Major\": \"Electrical Engineering\", \"Graduate Major\": null, \"Military Rank\": \"Captain\", \"Military Branch\": \"US Air Force\", \"Space Flights\": 0, \"Space Flight (hr)\": 0, \"Space Walks\": 0, \"Space Walks (hr)\": 0.0, \"Missions\": null, \"Death Date\": \"2/28/1966\", \"Death Mission\": null}, {\"Name\": \"Charles E. Brady Jr. \", \"Year\": 1992, \"Group\": 14.0, \"Status\": \"Deceased\", \"Birth Date\": \"8/12/1951\", \"Birth Place\": \"Pinehurst, NC\", \"Gender\": \"Male\", \"Alma Mater\": \"University of North Carolina at Chapel Hill; Duke University\", \"Undergraduate Major\": null, \"Graduate Major\": \"Medicine\", \"Military Rank\": \"Captain\", \"Military Branch\": \"US Navy\", \"Space Flights\": 1, \"Space Flight (hr)\": 405, \"Space Walks\": 0, \"Space Walks (hr)\": 0.0, \"Missions\": \"STS-78 (Columbia)\", \"Death Date\": \"7/23/2006\", \"Death Mission\": null}, {\"Name\": \"David M. Brown\", \"Year\": 1996, \"Group\": 16.0, \"Status\": \"Deceased\", \"Birth Date\": \"4/16/1956\", \"Birth Place\": \"Arlington, VA\", \"Gender\": \"Male\", \"Alma Mater\": \"College of William & Mary; Eastern Virginia Medical School\", \"Undergraduate Major\": \"Biology\", \"Graduate Major\": \"Medicine\", \"Military Rank\": \"Captain\", \"Military Branch\": \"US Navy\", \"Space Flights\": 1, \"Space Flight (hr)\": 382, \"Space Walks\": 0, \"Space Walks (hr)\": 0.0, \"Missions\": \"STS-107 (Columbia)\", \"Death Date\": \"2/1/2003\", \"Death Mission\": \"STS-107 (Columbia)\"}, {\"Name\": \"John S. Bull\", \"Year\": 1966, \"Group\": 5.0, \"Status\": \"Deceased\", \"Birth Date\": \"9/25/1934\", \"Birth Place\": \"Memphis, TN\", \"Gender\": \"Male\", \"Alma Mater\": \"Rice University; Stanford University\", \"Undergraduate Major\": \"Mechanical Engineering\", \"Graduate Major\": \"Aeronautical Engineering\", \"Military Rank\": null, \"Military Branch\": null, \"Space Flights\": 0, \"Space Flight (hr)\": 0, \"Space Walks\": 0, \"Space Walks (hr)\": 0.0, \"Missions\": null, \"Death Date\": \"8/11/2008\", \"Death Mission\": null}, {\"Name\": \"Fernando Caldeiro\", \"Year\": 1996, \"Group\": 16.0, \"Status\": \"Deceased\", \"Birth Date\": \"6/12/1958\", \"Birth Place\": \"Buenos Aires, Argentina\", \"Gender\": \"Male\", \"Alma Mater\": \"University of Arizona; University of Central Florida\", \"Undergraduate Major\": \"Mechanical Engineering\", \"Graduate Major\": \"Engineering Management\", \"Military Rank\": null, \"Military Branch\": null, \"Space Flights\": 0, \"Space Flight (hr)\": 0, \"Space Walks\": 0, \"Space Walks (hr)\": 0.0, \"Missions\": null, \"Death Date\": \"10/3/2009\", \"Death Mission\": null}, {\"Name\": \"Manley Lanier Carter Jr. \", \"Year\": 1984, \"Group\": 10.0, \"Status\": \"Deceased\", \"Birth Date\": \"8/15/1947\", \"Birth Place\": \"Macon, GA\", \"Gender\": \"Male\", \"Alma Mater\": \"Emory University\", \"Undergraduate Major\": \"Chemistry\", \"Graduate Major\": \"Medicine\", \"Military Rank\": \"Captain\", \"Military Branch\": \"US Navy\", \"Space Flights\": 1, \"Space Flight (hr)\": 120, \"Space Walks\": 0, \"Space Walks (hr)\": 0.0, \"Missions\": \"STS-33 (Discovery)\", \"Death Date\": \"4/5/1991\", \"Death Mission\": null}, {\"Name\": \"Roger B. Chaffee\", \"Year\": 1963, \"Group\": 3.0, \"Status\": \"Deceased\", \"Birth Date\": \"2/15/1935\", \"Birth Place\": \"Grand Rapids, MI\", \"Gender\": \"Male\", \"Alma Mater\": \"Purdue University\", \"Undergraduate Major\": \"Aeronautical Engineering\", \"Graduate Major\": null, \"Military Rank\": \"Lieutenant Commander\", \"Military Branch\": \"US Navy\", \"Space Flights\": 1, \"Space Flight (hr)\": 0, \"Space Walks\": 0, \"Space Walks (hr)\": 0.0, \"Missions\": \"Apollo 1\", \"Death Date\": \"1/27/1967\", \"Death Mission\": \"Apollo 1\"}, {\"Name\": \"Kalpana Chawla\", \"Year\": 1995, \"Group\": 15.0, \"Status\": \"Deceased\", \"Birth Date\": \"6/1/1961\", \"Birth Place\": \"Karnal, India\", \"Gender\": \"Female\", \"Alma Mater\": \"Punjab Engineering College; University of Texas-Arlington; University of Colorado\", \"Undergraduate Major\": \"Aeronautical Engineering\", \"Graduate Major\": \"Aerospace Engineering\", \"Military Rank\": null, \"Military Branch\": null, \"Space Flights\": 2, \"Space Flight (hr)\": 734, \"Space Walks\": 0, \"Space Walks (hr)\": 0.0, \"Missions\": \"STS-87 (Columbia), STS-107 (Columbia)\", \"Death Date\": \"2/1/2003\", \"Death Mission\": \"STS-107 (Columbia)\"}, {\"Name\": \"Laurel B. Clark\", \"Year\": 1996, \"Group\": 16.0, \"Status\": \"Deceased\", \"Birth Date\": \"3/10/1961\", \"Birth Place\": \"Ames, IA\", \"Gender\": \"Female\", \"Alma Mater\": \"University of Wisconsin-Madison\", \"Undergraduate Major\": \"Zoology\", \"Graduate Major\": \"Medicine\", \"Military Rank\": \"Captain\", \"Military Branch\": \"US Navy\", \"Space Flights\": 1, \"Space Flight (hr)\": 382, \"Space Walks\": 0, \"Space Walks (hr)\": 0.0, \"Missions\": \"STS-107 (Columbia)\", \"Death Date\": \"2/1/2003\", \"Death Mission\": \"STS-107 (Columbia)\"}, {\"Name\": \"Charles Conrad Jr. \", \"Year\": 1962, \"Group\": 2.0, \"Status\": \"Deceased\", \"Birth Date\": \"5/2/1930\", \"Birth Place\": \"Philadelphia, PA\", \"Gender\": \"Male\", \"Alma Mater\": \"Princeton University\", \"Undergraduate Major\": \"Aeronautical Engineering\", \"Graduate Major\": null, \"Military Rank\": \"Captain\", \"Military Branch\": \"US Navy (Retired)\", \"Space Flights\": 4, \"Space Flight (hr)\": 1179, \"Space Walks\": 4, \"Space Walks (hr)\": 12.0, \"Missions\": \"Gemini 5, Gemini 11, Apollo 12, Skylab 2\", \"Death Date\": \"7/8/1999\", \"Death Mission\": null}, {\"Name\": \"L. Gordon Cooper Jr. \", \"Year\": 1959, \"Group\": 1.0, \"Status\": \"Deceased\", \"Birth Date\": \"3/6/1927\", \"Birth Place\": \"Shawnee, OK\", \"Gender\": \"Male\", \"Alma Mater\": \"Air Force Institute of Technology\", \"Undergraduate Major\": \"Aeronautical Engineering\", \"Graduate Major\": null, \"Military Rank\": \"Colonel\", \"Military Branch\": \"US Air Force (Retired)\", \"Space Flights\": 2, \"Space Flight (hr)\": 225, \"Space Walks\": 0, \"Space Walks (hr)\": 0.0, \"Missions\": \"Mercury 9, Gemini 5\", \"Death Date\": \"10/4/2004\", \"Death Mission\": null}, {\"Name\": \"Donn F. Eisele\", \"Year\": 1963, \"Group\": 3.0, \"Status\": \"Deceased\", \"Birth Date\": \"5/23/1930\", \"Birth Place\": \"Columbus, OH\", \"Gender\": \"Male\", \"Alma Mater\": \"US Naval Academy; US Air Force Institute of Technology\", \"Undergraduate Major\": \"Astronautics\", \"Graduate Major\": \"Astronautics\", \"Military Rank\": \"Colonel\", \"Military Branch\": \"US Air Force (Retired)\", \"Space Flights\": 1, \"Space Flight (hr)\": 260, \"Space Walks\": 0, \"Space Walks (hr)\": 0.0, \"Missions\": \"Apollo 7\", \"Death Date\": \"12/2/1987\", \"Death Mission\": null}, {\"Name\": \"Ronald E. Evans Jr. \", \"Year\": 1966, \"Group\": 5.0, \"Status\": \"Deceased\", \"Birth Date\": \"11/10/1933\", \"Birth Place\": \"St. Francis, KS\", \"Gender\": \"Male\", \"Alma Mater\": \"University of Kansas; US Naval Postgraduate School\", \"Undergraduate Major\": \"Electrical Engineering\", \"Graduate Major\": \"Aeronautical Engineering\", \"Military Rank\": \"Captain\", \"Military Branch\": \"US Navy (Retired)\", \"Space Flights\": 1, \"Space Flight (hr)\": 301, \"Space Walks\": 1, \"Space Walks (hr)\": 1.0, \"Missions\": \"Apollo 17\", \"Death Date\": \"4/6/1990\", \"Death Mission\": null}, {\"Name\": \"Theodore C. Freeman\", \"Year\": 1963, \"Group\": 3.0, \"Status\": \"Deceased\", \"Birth Date\": \"2/18/1930\", \"Birth Place\": \"Haversford, PA\", \"Gender\": \"Male\", \"Alma Mater\": \"US Naval Academy; University of Michigan\", \"Undergraduate Major\": null, \"Graduate Major\": \"Aeronautical Engineering\", \"Military Rank\": \"Captain\", \"Military Branch\": \"US Air Force\", \"Space Flights\": 0, \"Space Flight (hr)\": 0, \"Space Walks\": 0, \"Space Walks (hr)\": 0.0, \"Missions\": null, \"Death Date\": \"10/31/1964\", \"Death Mission\": null}, {\"Name\": \"Edward G. Givens Jr. \", \"Year\": 1966, \"Group\": 5.0, \"Status\": \"Deceased\", \"Birth Date\": \"1/5/1930\", \"Birth Place\": \"Quanah, TX\", \"Gender\": \"Male\", \"Alma Mater\": \"US Naval Academy\", \"Undergraduate Major\": \"Naval Sciences\", \"Graduate Major\": null, \"Military Rank\": \"Major\", \"Military Branch\": \"US Air Force\", \"Space Flights\": 0, \"Space Flight (hr)\": 0, \"Space Walks\": 0, \"Space Walks (hr)\": 0.0, \"Missions\": null, \"Death Date\": \"6/6/1967\", \"Death Mission\": null}, {\"Name\": \"S. David Griggs\", \"Year\": 1978, \"Group\": 8.0, \"Status\": \"Deceased\", \"Birth Date\": \"9/7/1939\", \"Birth Place\": \"Portland, OR\", \"Gender\": \"Male\", \"Alma Mater\": \"US Naval Academy; George Washington University\", \"Undergraduate Major\": null, \"Graduate Major\": \"Business Administration\", \"Military Rank\": null, \"Military Branch\": null, \"Space Flights\": 1, \"Space Flight (hr)\": 167, \"Space Walks\": 1, \"Space Walks (hr)\": 3.0, \"Missions\": \"STS 51-D (Discovery)\", \"Death Date\": \"6/17/1989\", \"Death Mission\": null}, {\"Name\": \"Virgil I. Grissom\", \"Year\": 1959, \"Group\": 1.0, \"Status\": \"Deceased\", \"Birth Date\": \"4/3/1926\", \"Birth Place\": \"Mitchell, IN\", \"Gender\": \"Male\", \"Alma Mater\": \"Purdue University\", \"Undergraduate Major\": \"Mechanical Engineering\", \"Graduate Major\": null, \"Military Rank\": \"Lieutenant Colonel\", \"Military Branch\": \"US Air Force\", \"Space Flights\": 2, \"Space Flight (hr)\": 5, \"Space Walks\": 0, \"Space Walks (hr)\": 0.0, \"Missions\": \"Mercury 4, Gemini 3, Apollo 1\", \"Death Date\": \"1/27/1967\", \"Death Mission\": \"Apollo 1\"}, {\"Name\": \"Karl G. Henize\", \"Year\": 1967, \"Group\": 6.0, \"Status\": \"Deceased\", \"Birth Date\": \"10/17/1926\", \"Birth Place\": \"Cincinnati, OH\", \"Gender\": \"Male\", \"Alma Mater\": \"University of Virginia; University of Michigan\", \"Undergraduate Major\": \"Mathematics\", \"Graduate Major\": \"Astronomy\", \"Military Rank\": null, \"Military Branch\": null, \"Space Flights\": 1, \"Space Flight (hr)\": 190, \"Space Walks\": 0, \"Space Walks (hr)\": 0.0, \"Missions\": \"STS 51-F (Challenger)\", \"Death Date\": \"10/5/1993\", \"Death Mission\": null}, {\"Name\": \"Rick D. Husband\", \"Year\": 1995, \"Group\": 15.0, \"Status\": \"Deceased\", \"Birth Date\": \"7/12/1957\", \"Birth Place\": \"Amarillo, TX\", \"Gender\": \"Male\", \"Alma Mater\": \"Texas Tech University; California State University\", \"Undergraduate Major\": \"Mechanical Engineering\", \"Graduate Major\": \"Mechanical Engineering\", \"Military Rank\": \"Colonel\", \"Military Branch\": \"US Air Force\", \"Space Flights\": 2, \"Space Flight (hr)\": 617, \"Space Walks\": 0, \"Space Walks (hr)\": 0.0, \"Missions\": \"STS-96 (Discovery), STS-107 (Columbia)\", \"Death Date\": \"2/1/2003\", \"Death Mission\": \"STS-107 (Columbia)\"}, {\"Name\": \"James B. Irwin\", \"Year\": 1966, \"Group\": 5.0, \"Status\": \"Deceased\", \"Birth Date\": \"3/17/1930\", \"Birth Place\": \"Pittsburgh, PA\", \"Gender\": \"Male\", \"Alma Mater\": \"US Naval Academy; University of Michigan\", \"Undergraduate Major\": \"Naval Sciences\", \"Graduate Major\": \"Aeronautical Engineering\", \"Military Rank\": \"Colonel\", \"Military Branch\": \"US Air Force (Retired)\", \"Space Flights\": 1, \"Space Flight (hr)\": 295, \"Space Walks\": 3, \"Space Walks (hr)\": 20.0, \"Missions\": \"Apollo 15\", \"Death Date\": \"8/8/1991\", \"Death Mission\": null}, {\"Name\": \"William B. Lenoir\", \"Year\": 1967, \"Group\": 6.0, \"Status\": \"Deceased\", \"Birth Date\": \"3/14/1939\", \"Birth Place\": \"Miami, FL\", \"Gender\": \"Male\", \"Alma Mater\": \"MIT\", \"Undergraduate Major\": \"Electrical Engineering\", \"Graduate Major\": \"Electrical Engineering\", \"Military Rank\": null, \"Military Branch\": null, \"Space Flights\": 1, \"Space Flight (hr)\": 122, \"Space Walks\": 0, \"Space Walks (hr)\": 0.0, \"Missions\": \"STS-5 (Columbia)\", \"Death Date\": \"8/26/2012\", \"Death Mission\": null}, {\"Name\": \"J. Mike Lounge\", \"Year\": 1980, \"Group\": 9.0, \"Status\": \"Deceased\", \"Birth Date\": \"6/28/1946\", \"Birth Place\": \"Denver, CO\", \"Gender\": \"Male\", \"Alma Mater\": \"US Naval Academy; University of Colorado\", \"Undergraduate Major\": \"Mathematics & Physics\", \"Graduate Major\": \"Astrogeophysics\", \"Military Rank\": null, \"Military Branch\": null, \"Space Flights\": 3, \"Space Flight (hr)\": 483, \"Space Walks\": 0, \"Space Walks (hr)\": 0.0, \"Missions\": \"STS 51-I (Discovery), STS-26 (Discovery), STS-35 (Columbia)\", \"Death Date\": \"3/1/2011\", \"Death Mission\": null}, {\"Name\": \"G. David Low\", \"Year\": 1984, \"Group\": 10.0, \"Status\": \"Deceased\", \"Birth Date\": \"2/19/1956\", \"Birth Place\": \"Cleveland, OH\", \"Gender\": \"Male\", \"Alma Mater\": \"Washington & Lee University; Cornell University; Stanford University\", \"Undergraduate Major\": \"Physics & Engineering\", \"Graduate Major\": \"Mechanical Engineering; Aeronautics & Astronautics\", \"Military Rank\": null, \"Military Branch\": null, \"Space Flights\": 3, \"Space Flight (hr)\": 714, \"Space Walks\": 1, \"Space Walks (hr)\": 6.0, \"Missions\": \"STS-32 (Columbia), STS-43 (Atlantis), STS-57 (Endeavor)\", \"Death Date\": \"3/15/2008\", \"Death Mission\": null}, {\"Name\": \"William C. McCool\", \"Year\": 1996, \"Group\": 16.0, \"Status\": \"Deceased\", \"Birth Date\": \"9/23/1961\", \"Birth Place\": \"San Diego, CA\", \"Gender\": \"Male\", \"Alma Mater\": \"US Naval Academy; University of Maryland; US Naval Postgraduate School\", \"Undergraduate Major\": \"Naval Sciences\", \"Graduate Major\": \"Computer Science; Aeronautical Engineering\", \"Military Rank\": \"Commander\", \"Military Branch\": \"US Navy\", \"Space Flights\": 1, \"Space Flight (hr)\": 382, \"Space Walks\": 0, \"Space Walks (hr)\": 0.0, \"Missions\": \"STS-107 (Columbia)\", \"Death Date\": \"2/1/2003\", \"Death Mission\": \"STS-107 (Columbia)\"}, {\"Name\": \"Ronald E. McNair\", \"Year\": 1978, \"Group\": 8.0, \"Status\": \"Deceased\", \"Birth Date\": \"10/21/1950\", \"Birth Place\": \"Lake City, SC\", \"Gender\": \"Male\", \"Alma Mater\": \"North Carolina A&T State College; MIT\", \"Undergraduate Major\": \"Physics\", \"Graduate Major\": \"Physics\", \"Military Rank\": null, \"Military Branch\": null, \"Space Flights\": 2, \"Space Flight (hr)\": 191, \"Space Walks\": 0, \"Space Walks (hr)\": 0.0, \"Missions\": \"STS 41-B (Challenger), STS 51-L (Challenger)\", \"Death Date\": \"1/28/1986\", \"Death Mission\": \"STS 51-L (Challenger)\"}, {\"Name\": \"Brian T. O'Leary\", \"Year\": 1967, \"Group\": 6.0, \"Status\": \"Deceased\", \"Birth Date\": \"1/27/1940\", \"Birth Place\": \"Boston, MA\", \"Gender\": \"Male\", \"Alma Mater\": \"Williams College; Georgetown University; University of California-Berkeley\", \"Undergraduate Major\": \"Physics\", \"Graduate Major\": \"Astronomy\", \"Military Rank\": null, \"Military Branch\": null, \"Space Flights\": 0, \"Space Flight (hr)\": 0, \"Space Walks\": 0, \"Space Walks (hr)\": 0.0, \"Missions\": null, \"Death Date\": \"7/28/2011\", \"Death Mission\": null}, {\"Name\": \"Ellison S. Onizuka\", \"Year\": 1978, \"Group\": 8.0, \"Status\": \"Deceased\", \"Birth Date\": \"6/24/1946\", \"Birth Place\": \"Kealakekua, HI\", \"Gender\": \"Male\", \"Alma Mater\": \"University of Colorado\", \"Undergraduate Major\": \"Aerospace Engineering\", \"Graduate Major\": \"Aerospace Engineering\", \"Military Rank\": \"Lieutenant Colonel\", \"Military Branch\": \"US Air Force\", \"Space Flights\": 2, \"Space Flight (hr)\": 73, \"Space Walks\": 0, \"Space Walks (hr)\": 0.0, \"Missions\": \"STS 51-C (Discovery), STS 51-L (Challenger)\", \"Death Date\": \"1/28/1986\", \"Death Mission\": \"STS 51-L (Challenger)\"}, {\"Name\": \"Robert F. Overmyer\", \"Year\": 1969, \"Group\": 7.0, \"Status\": \"Deceased\", \"Birth Date\": \"7/14/1936\", \"Birth Place\": \"Lorain, OH\", \"Gender\": \"Male\", \"Alma Mater\": \"Baldwin Wallace College; US Naval Postgraduate School\", \"Undergraduate Major\": \"Physics\", \"Graduate Major\": \"Aeronautics\", \"Military Rank\": \"Colonel\", \"Military Branch\": \"US Marine Corps (Retired)\", \"Space Flights\": 2, \"Space Flight (hr)\": 290, \"Space Walks\": 0, \"Space Walks (hr)\": 0.0, \"Missions\": \"STS-5 (Columbia), STS 51-B (Challenger)\", \"Death Date\": \"3/22/1996\", \"Death Mission\": null}, {\"Name\": \"Alan G. Poindexter\", \"Year\": 1998, \"Group\": 17.0, \"Status\": \"Deceased\", \"Birth Date\": \"11/5/1961\", \"Birth Place\": \"Pasadena, CA\", \"Gender\": \"Male\", \"Alma Mater\": \"Georgia Institute of Technology; US Naval Postgraduate School\", \"Undergraduate Major\": \"Aerospace Engineering\", \"Graduate Major\": \"Aeronautical Engineering\", \"Military Rank\": \"Captain\", \"Military Branch\": \"US Navy\", \"Space Flights\": 2, \"Space Flight (hr)\": 669, \"Space Walks\": 0, \"Space Walks (hr)\": 0.0, \"Missions\": \"STS-122 (Atlantis), STS-131 (Discovery)\", \"Death Date\": \"7/1/2012\", \"Death Mission\": null}, {\"Name\": \"Judith A. Resnik\", \"Year\": 1978, \"Group\": 8.0, \"Status\": \"Deceased\", \"Birth Date\": \"4/5/1949\", \"Birth Place\": \"Akron, OH\", \"Gender\": \"Female\", \"Alma Mater\": \"Carnegie-Mellon University; University of Maryland\", \"Undergraduate Major\": \"Electrical Engineering\", \"Graduate Major\": \"Electrical Engineering\", \"Military Rank\": null, \"Military Branch\": null, \"Space Flights\": 2, \"Space Flight (hr)\": 144, \"Space Walks\": 0, \"Space Walks (hr)\": 0.0, \"Missions\": \"STS 41-D (Discovery), STS 51-L (Challenger)\", \"Death Date\": \"1/28/1986\", \"Death Mission\": \"STS 51-L (Challenger)\"}, {\"Name\": \"Sally K. Ride\", \"Year\": 1978, \"Group\": 8.0, \"Status\": \"Deceased\", \"Birth Date\": \"5/26/1951\", \"Birth Place\": \"Los Angeles, CA\", \"Gender\": \"Female\", \"Alma Mater\": \"Stanford University\", \"Undergraduate Major\": \"Physics; English\", \"Graduate Major\": \"Physics\", \"Military Rank\": null, \"Military Branch\": null, \"Space Flights\": 2, \"Space Flight (hr)\": 343, \"Space Walks\": 0, \"Space Walks (hr)\": 0.0, \"Missions\": \"STS-7 (Challenger), STS 41-G (Challenger)\", \"Death Date\": \"7/23/2012\", \"Death Mission\": null}, {\"Name\": \"Patricia Hilliard Robertson\", \"Year\": 1998, \"Group\": 17.0, \"Status\": \"Deceased\", \"Birth Date\": \"3/12/1963\", \"Birth Place\": \"Indiana, PA\", \"Gender\": \"Female\", \"Alma Mater\": \"Indiana University of Pennsylvania; Medical College of Pennsylvania\", \"Undergraduate Major\": \"Biology\", \"Graduate Major\": \"Medicine\", \"Military Rank\": null, \"Military Branch\": null, \"Space Flights\": 0, \"Space Flight (hr)\": 0, \"Space Walks\": 0, \"Space Walks (hr)\": 0.0, \"Missions\": null, \"Death Date\": \"5/24/2001\", \"Death Mission\": null}, {\"Name\": \"Stuart A. Roosa\", \"Year\": 1966, \"Group\": 5.0, \"Status\": \"Deceased\", \"Birth Date\": \"8/16/1933\", \"Birth Place\": \"Durango, CO\", \"Gender\": \"Male\", \"Alma Mater\": \"University of Colorado\", \"Undergraduate Major\": \"Aeronautical Engineering\", \"Graduate Major\": null, \"Military Rank\": \"Colonel\", \"Military Branch\": \"US Air Force (Retired)\", \"Space Flights\": 1, \"Space Flight (hr)\": 216, \"Space Walks\": 0, \"Space Walks (hr)\": 0.0, \"Missions\": \"Apollo 14\", \"Death Date\": \"12/12/1994\", \"Death Mission\": null}, {\"Name\": \"Walter M. Schirra Jr. \", \"Year\": 1959, \"Group\": 1.0, \"Status\": \"Deceased\", \"Birth Date\": \"3/12/1923\", \"Birth Place\": \"Hackensack, NJ\", \"Gender\": \"Male\", \"Alma Mater\": \"US Naval Academy\", \"Undergraduate Major\": \"Naval Sciences\", \"Graduate Major\": null, \"Military Rank\": \"Captain\", \"Military Branch\": \"US Navy (Retired)\", \"Space Flights\": 3, \"Space Flight (hr)\": 295, \"Space Walks\": 0, \"Space Walks (hr)\": 0.0, \"Missions\": \"Mercury 8, Gemini 6, Apollo 7\", \"Death Date\": \"5/2/2007\", \"Death Mission\": null}, {\"Name\": \"Francis R. Scobee\", \"Year\": 1978, \"Group\": 8.0, \"Status\": \"Deceased\", \"Birth Date\": \"5/19/1939\", \"Birth Place\": \"Cle Elum, WA\", \"Gender\": \"Male\", \"Alma Mater\": \"University of Arizona\", \"Undergraduate Major\": \"Aerospace Engineering\", \"Graduate Major\": null, \"Military Rank\": \"Major\", \"Military Branch\": \"US Air Force (Retired)\", \"Space Flights\": 2, \"Space Flight (hr)\": 167, \"Space Walks\": 0, \"Space Walks (hr)\": 0.0, \"Missions\": \"STS 41-C (Challenger), STS 51-L (Challenger)\", \"Death Date\": \"1/28/1986\", \"Death Mission\": \"STS 51-L (Challenger)\"}, {\"Name\": \"Elliot M. See Jr. \", \"Year\": 1962, \"Group\": 2.0, \"Status\": \"Deceased\", \"Birth Date\": \"7/23/1927\", \"Birth Place\": \"Dallas, TX\", \"Gender\": \"Male\", \"Alma Mater\": \"US Merchant Marine Academy; University of California-Los Angeles\", \"Undergraduate Major\": null, \"Graduate Major\": \"Engineering\", \"Military Rank\": null, \"Military Branch\": null, \"Space Flights\": 0, \"Space Flight (hr)\": 0, \"Space Walks\": 0, \"Space Walks (hr)\": 0.0, \"Missions\": null, \"Death Date\": \"2/28/1966\", \"Death Mission\": null}, {\"Name\": \"Alan B. Shepard Jr. \", \"Year\": 1959, \"Group\": 1.0, \"Status\": \"Deceased\", \"Birth Date\": \"11/18/1923\", \"Birth Place\": \"East Derry, NH\", \"Gender\": \"Male\", \"Alma Mater\": \"US Naval Academy\", \"Undergraduate Major\": \"Naval Sciences\", \"Graduate Major\": null, \"Military Rank\": \"Rear Admiral\", \"Military Branch\": \"US Navy (Retired)\", \"Space Flights\": 2, \"Space Flight (hr)\": 216, \"Space Walks\": 2, \"Space Walks (hr)\": 9.0, \"Missions\": \"Mercury 3, Apollo 14\", \"Death Date\": \"7/21/1998\", \"Death Mission\": null}, {\"Name\": \"Donald K. Slayton\", \"Year\": 1959, \"Group\": 1.0, \"Status\": \"Deceased\", \"Birth Date\": \"3/1/1924\", \"Birth Place\": \"Sparta, WI\", \"Gender\": \"Male\", \"Alma Mater\": \"University of Minnesota\", \"Undergraduate Major\": \"Aeronautical Engineering\", \"Graduate Major\": null, \"Military Rank\": \"Major\", \"Military Branch\": \"US Air Force Reserves\", \"Space Flights\": 1, \"Space Flight (hr)\": 217, \"Space Walks\": 0, \"Space Walks (hr)\": 0.0, \"Missions\": \"Apollo-Soyuz Test Project\", \"Death Date\": \"6/13/1993\", \"Death Mission\": null}, {\"Name\": \"Michael J. Smith\", \"Year\": 1980, \"Group\": 9.0, \"Status\": \"Deceased\", \"Birth Date\": \"4/30/1945\", \"Birth Place\": \"Beaufort, NC\", \"Gender\": \"Male\", \"Alma Mater\": \"US Naval Academy; US Naval Postgraduate School\", \"Undergraduate Major\": \"Naval Sciences\", \"Graduate Major\": \"Aeronautical Engineering\", \"Military Rank\": \"Captain\", \"Military Branch\": \"US Navy\", \"Space Flights\": 1, \"Space Flight (hr)\": 0, \"Space Walks\": 0, \"Space Walks (hr)\": 0.0, \"Missions\": \"STS 51-L (Challenger)\", \"Death Date\": \"1/28/1986\", \"Death Mission\": \"STS 51-L (Challenger)\"}, {\"Name\": \"John L. Swigert Jr. \", \"Year\": 1966, \"Group\": 5.0, \"Status\": \"Deceased\", \"Birth Date\": \"8/30/1931\", \"Birth Place\": \"Denver, CO\", \"Gender\": \"Male\", \"Alma Mater\": \"University of Colorado; Rensselaer Polytechnic Institute; University of Hartford\", \"Undergraduate Major\": \"Mechanical Engineering\", \"Graduate Major\": \"Aerospace Science; Business Administration\", \"Military Rank\": null, \"Military Branch\": null, \"Space Flights\": 1, \"Space Flight (hr)\": 142, \"Space Walks\": 0, \"Space Walks (hr)\": 0.0, \"Missions\": \"Apollo 13\", \"Death Date\": \"12/27/1982\", \"Death Mission\": null}, {\"Name\": \"Stephen D. Thorne\", \"Year\": 1985, \"Group\": 11.0, \"Status\": \"Deceased\", \"Birth Date\": \"2/11/1953\", \"Birth Place\": \"Frankfurt, West Germany\", \"Gender\": \"Male\", \"Alma Mater\": \"US Naval Academy\", \"Undergraduate Major\": \"Engineering\", \"Graduate Major\": null, \"Military Rank\": \"Lieutenant Commander\", \"Military Branch\": \"US Navy\", \"Space Flights\": 0, \"Space Flight (hr)\": 0, \"Space Walks\": 0, \"Space Walks (hr)\": 0.0, \"Missions\": null, \"Death Date\": \"5/24/1986\", \"Death Mission\": null}, {\"Name\": \"Charles Lacy Veach\", \"Year\": 1984, \"Group\": 10.0, \"Status\": \"Deceased\", \"Birth Date\": \"9/18/1944\", \"Birth Place\": \"Chicago, IL\", \"Gender\": \"Male\", \"Alma Mater\": \"US Air Force Academy\", \"Undergraduate Major\": \"Engineering Management\", \"Graduate Major\": null, \"Military Rank\": null, \"Military Branch\": null, \"Space Flights\": 2, \"Space Flight (hr)\": 436, \"Space Walks\": 0, \"Space Walks (hr)\": 0.0, \"Missions\": \"STS-39 (Discovery), STS-52 (Columbia)\", \"Death Date\": \"10/3/1995\", \"Death Mission\": null}, {\"Name\": \"Janice E. Voss\", \"Year\": 1990, \"Group\": 13.0, \"Status\": \"Deceased\", \"Birth Date\": \"10/8/1956\", \"Birth Place\": \"South Bend, IN\", \"Gender\": \"Female\", \"Alma Mater\": \"Purdue University; MIT\", \"Undergraduate Major\": \"Engineering Science\", \"Graduate Major\": \"Electrical Engineering; Aeronautics & Astronautics\", \"Military Rank\": null, \"Military Branch\": null, \"Space Flights\": 5, \"Space Flight (hr)\": 1179, \"Space Walks\": 0, \"Space Walks (hr)\": 0.0, \"Missions\": \"STS-57 (Endeavor), STS-63 (Discovery), STS-83 (Columbia), STS-94 (Columbia), STS-99 (Endeavor)\", \"Death Date\": \"2/6/2012\", \"Death Mission\": null}, {\"Name\": \"David M. Walker\", \"Year\": 1978, \"Group\": 8.0, \"Status\": \"Deceased\", \"Birth Date\": \"5/20/1944\", \"Birth Place\": \"Columbus, GA\", \"Gender\": \"Male\", \"Alma Mater\": \"US Naval Academy\", \"Undergraduate Major\": \"Naval Sciences\", \"Graduate Major\": null, \"Military Rank\": \"Captain\", \"Military Branch\": \"US Navy (Retired)\", \"Space Flights\": 4, \"Space Flight (hr)\": 724, \"Space Walks\": 0, \"Space Walks (hr)\": 0.0, \"Missions\": \"STS 51-A (Discovery), STS-30 (Atlantis), STS-53 (Discovery), STS-69 (Endeavor)\", \"Death Date\": \"4/23/2001\", \"Death Mission\": null}, {\"Name\": \"Edward H. White II \", \"Year\": 1962, \"Group\": 2.0, \"Status\": \"Deceased\", \"Birth Date\": \"11/14/1930\", \"Birth Place\": \"San Antonio, TX\", \"Gender\": \"Male\", \"Alma Mater\": \"US Military Academy; University of Michigan\", \"Undergraduate Major\": null, \"Graduate Major\": \"Aeronautical Engineering\", \"Military Rank\": \"Lieutenant Colonel\", \"Military Branch\": \"US Air Force\", \"Space Flights\": 2, \"Space Flight (hr)\": 97, \"Space Walks\": 1, \"Space Walks (hr)\": 0.5, \"Missions\": \"Gemini 4, Apollo 1\", \"Death Date\": \"1/27/1967\", \"Death Mission\": \"Apollo 1\"}, {\"Name\": \"Clifton C. Williams Jr. \", \"Year\": 1963, \"Group\": 3.0, \"Status\": \"Deceased\", \"Birth Date\": \"9/26/1932\", \"Birth Place\": \"Mobile, AL\", \"Gender\": \"Male\", \"Alma Mater\": \"Auburn University\", \"Undergraduate Major\": \"Mechanical Engineering\", \"Graduate Major\": null, \"Military Rank\": \"Major\", \"Military Branch\": \"US Marine Corps\", \"Space Flights\": 0, \"Space Flight (hr)\": 0, \"Space Walks\": 0, \"Space Walks (hr)\": 0.0, \"Missions\": null, \"Death Date\": \"10/5/1967\", \"Death Mission\": null}]}}, {\"mode\": \"vega-lite\"});\n",
       "</script>"
      ],
      "text/plain": [
       "alt.Chart(...)"
      ]
     },
     "metadata": {},
     "output_type": "display_data"
    },
    {
     "data": {
      "text/html": [
       "\n",
       "<div id=\"altair-viz-a6c4040ef1594a628a11a36e59b4b59a\"></div>\n",
       "<script type=\"text/javascript\">\n",
       "  (function(spec, embedOpt){\n",
       "    let outputDiv = document.currentScript.previousElementSibling;\n",
       "    if (outputDiv.id !== \"altair-viz-a6c4040ef1594a628a11a36e59b4b59a\") {\n",
       "      outputDiv = document.getElementById(\"altair-viz-a6c4040ef1594a628a11a36e59b4b59a\");\n",
       "    }\n",
       "    const paths = {\n",
       "      \"vega\": \"https://cdn.jsdelivr.net/npm//vega@5?noext\",\n",
       "      \"vega-lib\": \"https://cdn.jsdelivr.net/npm//vega-lib?noext\",\n",
       "      \"vega-lite\": \"https://cdn.jsdelivr.net/npm//vega-lite@4.8.1?noext\",\n",
       "      \"vega-embed\": \"https://cdn.jsdelivr.net/npm//vega-embed@6?noext\",\n",
       "    };\n",
       "\n",
       "    function loadScript(lib) {\n",
       "      return new Promise(function(resolve, reject) {\n",
       "        var s = document.createElement('script');\n",
       "        s.src = paths[lib];\n",
       "        s.async = true;\n",
       "        s.onload = () => resolve(paths[lib]);\n",
       "        s.onerror = () => reject(`Error loading script: ${paths[lib]}`);\n",
       "        document.getElementsByTagName(\"head\")[0].appendChild(s);\n",
       "      });\n",
       "    }\n",
       "\n",
       "    function showError(err) {\n",
       "      outputDiv.innerHTML = `<div class=\"error\" style=\"color:red;\">${err}</div>`;\n",
       "      throw err;\n",
       "    }\n",
       "\n",
       "    function displayChart(vegaEmbed) {\n",
       "      vegaEmbed(outputDiv, spec, embedOpt)\n",
       "        .catch(err => showError(`Javascript Error: ${err.message}<br>This usually means there's a typo in your chart specification. See the javascript console for the full traceback.`));\n",
       "    }\n",
       "\n",
       "    if(typeof define === \"function\" && define.amd) {\n",
       "      requirejs.config({paths});\n",
       "      require([\"vega-embed\"], displayChart, err => showError(`Error loading script: ${err.message}`));\n",
       "    } else if (typeof vegaEmbed === \"function\") {\n",
       "      displayChart(vegaEmbed);\n",
       "    } else {\n",
       "      loadScript(\"vega\")\n",
       "        .then(() => loadScript(\"vega-lite\"))\n",
       "        .then(() => loadScript(\"vega-embed\"))\n",
       "        .catch(showError)\n",
       "        .then(() => displayChart(vegaEmbed));\n",
       "    }\n",
       "  })({\"config\": {\"view\": {\"continuousWidth\": 400, \"continuousHeight\": 300}}, \"data\": {\"name\": \"data-67e0a46a3ce8a6ec6dea522d3738dd03\"}, \"facet\": {\"type\": \"nominal\", \"field\": \"Gender\"}, \"spec\": {\"mark\": {\"type\": \"bar\", \"size\": 40}, \"encoding\": {\"color\": {\"type\": \"nominal\", \"field\": \"Gender\", \"scale\": {\"domain\": [\"Male\", \"Female\"], \"range\": [\"Navy\", \"tomato\"]}}, \"x\": {\"type\": \"quantitative\", \"field\": \"Space Flights\"}, \"y\": {\"type\": \"quantitative\", \"aggregate\": \"count\"}}}, \"$schema\": \"https://vega.github.io/schema/vega-lite/v4.8.1.json\", \"datasets\": {\"data-67e0a46a3ce8a6ec6dea522d3738dd03\": [{\"Name\": \"Michael P. Anderson\", \"Year\": 1995, \"Group\": 15.0, \"Status\": \"Deceased\", \"Birth Date\": \"12/25/1959\", \"Birth Place\": \"Plattsburgh, NY\", \"Gender\": \"Male\", \"Alma Mater\": \"University of Washington; Creighton University\", \"Undergraduate Major\": \"Physics & Astronomy\", \"Graduate Major\": \"Physics\", \"Military Rank\": \"Lieutenant Colonel\", \"Military Branch\": \"US Air Force\", \"Space Flights\": 2, \"Space Flight (hr)\": 594, \"Space Walks\": 0, \"Space Walks (hr)\": 0.0, \"Missions\": \"STS-89 (Endeavor), STS-107 (Columbia)\", \"Death Date\": \"2/1/2003\", \"Death Mission\": \"STS-107 (Columbia)\"}, {\"Name\": \"Neil A. Armstrong\", \"Year\": 1962, \"Group\": 2.0, \"Status\": \"Deceased\", \"Birth Date\": \"8/5/1930\", \"Birth Place\": \"Wapakoneta, OH\", \"Gender\": \"Male\", \"Alma Mater\": \"Purdue University; University of Southern California\", \"Undergraduate Major\": \"Aeronautical Engineering\", \"Graduate Major\": \"Aerospace Engineering\", \"Military Rank\": null, \"Military Branch\": null, \"Space Flights\": 2, \"Space Flight (hr)\": 205, \"Space Walks\": 1, \"Space Walks (hr)\": 2.0, \"Missions\": \"Gemini 8, Apollo 11\", \"Death Date\": \"8/25/2012\", \"Death Mission\": null}, {\"Name\": \"Charles A. Bassett II \", \"Year\": 1963, \"Group\": 3.0, \"Status\": \"Deceased\", \"Birth Date\": \"12/30/1931\", \"Birth Place\": \"Dayton, OH\", \"Gender\": \"Male\", \"Alma Mater\": \"Texas Technological College\", \"Undergraduate Major\": \"Electrical Engineering\", \"Graduate Major\": null, \"Military Rank\": \"Captain\", \"Military Branch\": \"US Air Force\", \"Space Flights\": 0, \"Space Flight (hr)\": 0, \"Space Walks\": 0, \"Space Walks (hr)\": 0.0, \"Missions\": null, \"Death Date\": \"2/28/1966\", \"Death Mission\": null}, {\"Name\": \"Charles E. Brady Jr. \", \"Year\": 1992, \"Group\": 14.0, \"Status\": \"Deceased\", \"Birth Date\": \"8/12/1951\", \"Birth Place\": \"Pinehurst, NC\", \"Gender\": \"Male\", \"Alma Mater\": \"University of North Carolina at Chapel Hill; Duke University\", \"Undergraduate Major\": null, \"Graduate Major\": \"Medicine\", \"Military Rank\": \"Captain\", \"Military Branch\": \"US Navy\", \"Space Flights\": 1, \"Space Flight (hr)\": 405, \"Space Walks\": 0, \"Space Walks (hr)\": 0.0, \"Missions\": \"STS-78 (Columbia)\", \"Death Date\": \"7/23/2006\", \"Death Mission\": null}, {\"Name\": \"David M. Brown\", \"Year\": 1996, \"Group\": 16.0, \"Status\": \"Deceased\", \"Birth Date\": \"4/16/1956\", \"Birth Place\": \"Arlington, VA\", \"Gender\": \"Male\", \"Alma Mater\": \"College of William & Mary; Eastern Virginia Medical School\", \"Undergraduate Major\": \"Biology\", \"Graduate Major\": \"Medicine\", \"Military Rank\": \"Captain\", \"Military Branch\": \"US Navy\", \"Space Flights\": 1, \"Space Flight (hr)\": 382, \"Space Walks\": 0, \"Space Walks (hr)\": 0.0, \"Missions\": \"STS-107 (Columbia)\", \"Death Date\": \"2/1/2003\", \"Death Mission\": \"STS-107 (Columbia)\"}, {\"Name\": \"John S. Bull\", \"Year\": 1966, \"Group\": 5.0, \"Status\": \"Deceased\", \"Birth Date\": \"9/25/1934\", \"Birth Place\": \"Memphis, TN\", \"Gender\": \"Male\", \"Alma Mater\": \"Rice University; Stanford University\", \"Undergraduate Major\": \"Mechanical Engineering\", \"Graduate Major\": \"Aeronautical Engineering\", \"Military Rank\": null, \"Military Branch\": null, \"Space Flights\": 0, \"Space Flight (hr)\": 0, \"Space Walks\": 0, \"Space Walks (hr)\": 0.0, \"Missions\": null, \"Death Date\": \"8/11/2008\", \"Death Mission\": null}, {\"Name\": \"Fernando Caldeiro\", \"Year\": 1996, \"Group\": 16.0, \"Status\": \"Deceased\", \"Birth Date\": \"6/12/1958\", \"Birth Place\": \"Buenos Aires, Argentina\", \"Gender\": \"Male\", \"Alma Mater\": \"University of Arizona; University of Central Florida\", \"Undergraduate Major\": \"Mechanical Engineering\", \"Graduate Major\": \"Engineering Management\", \"Military Rank\": null, \"Military Branch\": null, \"Space Flights\": 0, \"Space Flight (hr)\": 0, \"Space Walks\": 0, \"Space Walks (hr)\": 0.0, \"Missions\": null, \"Death Date\": \"10/3/2009\", \"Death Mission\": null}, {\"Name\": \"Manley Lanier Carter Jr. \", \"Year\": 1984, \"Group\": 10.0, \"Status\": \"Deceased\", \"Birth Date\": \"8/15/1947\", \"Birth Place\": \"Macon, GA\", \"Gender\": \"Male\", \"Alma Mater\": \"Emory University\", \"Undergraduate Major\": \"Chemistry\", \"Graduate Major\": \"Medicine\", \"Military Rank\": \"Captain\", \"Military Branch\": \"US Navy\", \"Space Flights\": 1, \"Space Flight (hr)\": 120, \"Space Walks\": 0, \"Space Walks (hr)\": 0.0, \"Missions\": \"STS-33 (Discovery)\", \"Death Date\": \"4/5/1991\", \"Death Mission\": null}, {\"Name\": \"Roger B. Chaffee\", \"Year\": 1963, \"Group\": 3.0, \"Status\": \"Deceased\", \"Birth Date\": \"2/15/1935\", \"Birth Place\": \"Grand Rapids, MI\", \"Gender\": \"Male\", \"Alma Mater\": \"Purdue University\", \"Undergraduate Major\": \"Aeronautical Engineering\", \"Graduate Major\": null, \"Military Rank\": \"Lieutenant Commander\", \"Military Branch\": \"US Navy\", \"Space Flights\": 1, \"Space Flight (hr)\": 0, \"Space Walks\": 0, \"Space Walks (hr)\": 0.0, \"Missions\": \"Apollo 1\", \"Death Date\": \"1/27/1967\", \"Death Mission\": \"Apollo 1\"}, {\"Name\": \"Kalpana Chawla\", \"Year\": 1995, \"Group\": 15.0, \"Status\": \"Deceased\", \"Birth Date\": \"6/1/1961\", \"Birth Place\": \"Karnal, India\", \"Gender\": \"Female\", \"Alma Mater\": \"Punjab Engineering College; University of Texas-Arlington; University of Colorado\", \"Undergraduate Major\": \"Aeronautical Engineering\", \"Graduate Major\": \"Aerospace Engineering\", \"Military Rank\": null, \"Military Branch\": null, \"Space Flights\": 2, \"Space Flight (hr)\": 734, \"Space Walks\": 0, \"Space Walks (hr)\": 0.0, \"Missions\": \"STS-87 (Columbia), STS-107 (Columbia)\", \"Death Date\": \"2/1/2003\", \"Death Mission\": \"STS-107 (Columbia)\"}, {\"Name\": \"Laurel B. Clark\", \"Year\": 1996, \"Group\": 16.0, \"Status\": \"Deceased\", \"Birth Date\": \"3/10/1961\", \"Birth Place\": \"Ames, IA\", \"Gender\": \"Female\", \"Alma Mater\": \"University of Wisconsin-Madison\", \"Undergraduate Major\": \"Zoology\", \"Graduate Major\": \"Medicine\", \"Military Rank\": \"Captain\", \"Military Branch\": \"US Navy\", \"Space Flights\": 1, \"Space Flight (hr)\": 382, \"Space Walks\": 0, \"Space Walks (hr)\": 0.0, \"Missions\": \"STS-107 (Columbia)\", \"Death Date\": \"2/1/2003\", \"Death Mission\": \"STS-107 (Columbia)\"}, {\"Name\": \"Charles Conrad Jr. \", \"Year\": 1962, \"Group\": 2.0, \"Status\": \"Deceased\", \"Birth Date\": \"5/2/1930\", \"Birth Place\": \"Philadelphia, PA\", \"Gender\": \"Male\", \"Alma Mater\": \"Princeton University\", \"Undergraduate Major\": \"Aeronautical Engineering\", \"Graduate Major\": null, \"Military Rank\": \"Captain\", \"Military Branch\": \"US Navy (Retired)\", \"Space Flights\": 4, \"Space Flight (hr)\": 1179, \"Space Walks\": 4, \"Space Walks (hr)\": 12.0, \"Missions\": \"Gemini 5, Gemini 11, Apollo 12, Skylab 2\", \"Death Date\": \"7/8/1999\", \"Death Mission\": null}, {\"Name\": \"L. Gordon Cooper Jr. \", \"Year\": 1959, \"Group\": 1.0, \"Status\": \"Deceased\", \"Birth Date\": \"3/6/1927\", \"Birth Place\": \"Shawnee, OK\", \"Gender\": \"Male\", \"Alma Mater\": \"Air Force Institute of Technology\", \"Undergraduate Major\": \"Aeronautical Engineering\", \"Graduate Major\": null, \"Military Rank\": \"Colonel\", \"Military Branch\": \"US Air Force (Retired)\", \"Space Flights\": 2, \"Space Flight (hr)\": 225, \"Space Walks\": 0, \"Space Walks (hr)\": 0.0, \"Missions\": \"Mercury 9, Gemini 5\", \"Death Date\": \"10/4/2004\", \"Death Mission\": null}, {\"Name\": \"Donn F. Eisele\", \"Year\": 1963, \"Group\": 3.0, \"Status\": \"Deceased\", \"Birth Date\": \"5/23/1930\", \"Birth Place\": \"Columbus, OH\", \"Gender\": \"Male\", \"Alma Mater\": \"US Naval Academy; US Air Force Institute of Technology\", \"Undergraduate Major\": \"Astronautics\", \"Graduate Major\": \"Astronautics\", \"Military Rank\": \"Colonel\", \"Military Branch\": \"US Air Force (Retired)\", \"Space Flights\": 1, \"Space Flight (hr)\": 260, \"Space Walks\": 0, \"Space Walks (hr)\": 0.0, \"Missions\": \"Apollo 7\", \"Death Date\": \"12/2/1987\", \"Death Mission\": null}, {\"Name\": \"Ronald E. Evans Jr. \", \"Year\": 1966, \"Group\": 5.0, \"Status\": \"Deceased\", \"Birth Date\": \"11/10/1933\", \"Birth Place\": \"St. Francis, KS\", \"Gender\": \"Male\", \"Alma Mater\": \"University of Kansas; US Naval Postgraduate School\", \"Undergraduate Major\": \"Electrical Engineering\", \"Graduate Major\": \"Aeronautical Engineering\", \"Military Rank\": \"Captain\", \"Military Branch\": \"US Navy (Retired)\", \"Space Flights\": 1, \"Space Flight (hr)\": 301, \"Space Walks\": 1, \"Space Walks (hr)\": 1.0, \"Missions\": \"Apollo 17\", \"Death Date\": \"4/6/1990\", \"Death Mission\": null}, {\"Name\": \"Theodore C. Freeman\", \"Year\": 1963, \"Group\": 3.0, \"Status\": \"Deceased\", \"Birth Date\": \"2/18/1930\", \"Birth Place\": \"Haversford, PA\", \"Gender\": \"Male\", \"Alma Mater\": \"US Naval Academy; University of Michigan\", \"Undergraduate Major\": null, \"Graduate Major\": \"Aeronautical Engineering\", \"Military Rank\": \"Captain\", \"Military Branch\": \"US Air Force\", \"Space Flights\": 0, \"Space Flight (hr)\": 0, \"Space Walks\": 0, \"Space Walks (hr)\": 0.0, \"Missions\": null, \"Death Date\": \"10/31/1964\", \"Death Mission\": null}, {\"Name\": \"Edward G. Givens Jr. \", \"Year\": 1966, \"Group\": 5.0, \"Status\": \"Deceased\", \"Birth Date\": \"1/5/1930\", \"Birth Place\": \"Quanah, TX\", \"Gender\": \"Male\", \"Alma Mater\": \"US Naval Academy\", \"Undergraduate Major\": \"Naval Sciences\", \"Graduate Major\": null, \"Military Rank\": \"Major\", \"Military Branch\": \"US Air Force\", \"Space Flights\": 0, \"Space Flight (hr)\": 0, \"Space Walks\": 0, \"Space Walks (hr)\": 0.0, \"Missions\": null, \"Death Date\": \"6/6/1967\", \"Death Mission\": null}, {\"Name\": \"S. David Griggs\", \"Year\": 1978, \"Group\": 8.0, \"Status\": \"Deceased\", \"Birth Date\": \"9/7/1939\", \"Birth Place\": \"Portland, OR\", \"Gender\": \"Male\", \"Alma Mater\": \"US Naval Academy; George Washington University\", \"Undergraduate Major\": null, \"Graduate Major\": \"Business Administration\", \"Military Rank\": null, \"Military Branch\": null, \"Space Flights\": 1, \"Space Flight (hr)\": 167, \"Space Walks\": 1, \"Space Walks (hr)\": 3.0, \"Missions\": \"STS 51-D (Discovery)\", \"Death Date\": \"6/17/1989\", \"Death Mission\": null}, {\"Name\": \"Virgil I. Grissom\", \"Year\": 1959, \"Group\": 1.0, \"Status\": \"Deceased\", \"Birth Date\": \"4/3/1926\", \"Birth Place\": \"Mitchell, IN\", \"Gender\": \"Male\", \"Alma Mater\": \"Purdue University\", \"Undergraduate Major\": \"Mechanical Engineering\", \"Graduate Major\": null, \"Military Rank\": \"Lieutenant Colonel\", \"Military Branch\": \"US Air Force\", \"Space Flights\": 2, \"Space Flight (hr)\": 5, \"Space Walks\": 0, \"Space Walks (hr)\": 0.0, \"Missions\": \"Mercury 4, Gemini 3, Apollo 1\", \"Death Date\": \"1/27/1967\", \"Death Mission\": \"Apollo 1\"}, {\"Name\": \"Karl G. Henize\", \"Year\": 1967, \"Group\": 6.0, \"Status\": \"Deceased\", \"Birth Date\": \"10/17/1926\", \"Birth Place\": \"Cincinnati, OH\", \"Gender\": \"Male\", \"Alma Mater\": \"University of Virginia; University of Michigan\", \"Undergraduate Major\": \"Mathematics\", \"Graduate Major\": \"Astronomy\", \"Military Rank\": null, \"Military Branch\": null, \"Space Flights\": 1, \"Space Flight (hr)\": 190, \"Space Walks\": 0, \"Space Walks (hr)\": 0.0, \"Missions\": \"STS 51-F (Challenger)\", \"Death Date\": \"10/5/1993\", \"Death Mission\": null}, {\"Name\": \"Rick D. Husband\", \"Year\": 1995, \"Group\": 15.0, \"Status\": \"Deceased\", \"Birth Date\": \"7/12/1957\", \"Birth Place\": \"Amarillo, TX\", \"Gender\": \"Male\", \"Alma Mater\": \"Texas Tech University; California State University\", \"Undergraduate Major\": \"Mechanical Engineering\", \"Graduate Major\": \"Mechanical Engineering\", \"Military Rank\": \"Colonel\", \"Military Branch\": \"US Air Force\", \"Space Flights\": 2, \"Space Flight (hr)\": 617, \"Space Walks\": 0, \"Space Walks (hr)\": 0.0, \"Missions\": \"STS-96 (Discovery), STS-107 (Columbia)\", \"Death Date\": \"2/1/2003\", \"Death Mission\": \"STS-107 (Columbia)\"}, {\"Name\": \"James B. Irwin\", \"Year\": 1966, \"Group\": 5.0, \"Status\": \"Deceased\", \"Birth Date\": \"3/17/1930\", \"Birth Place\": \"Pittsburgh, PA\", \"Gender\": \"Male\", \"Alma Mater\": \"US Naval Academy; University of Michigan\", \"Undergraduate Major\": \"Naval Sciences\", \"Graduate Major\": \"Aeronautical Engineering\", \"Military Rank\": \"Colonel\", \"Military Branch\": \"US Air Force (Retired)\", \"Space Flights\": 1, \"Space Flight (hr)\": 295, \"Space Walks\": 3, \"Space Walks (hr)\": 20.0, \"Missions\": \"Apollo 15\", \"Death Date\": \"8/8/1991\", \"Death Mission\": null}, {\"Name\": \"William B. Lenoir\", \"Year\": 1967, \"Group\": 6.0, \"Status\": \"Deceased\", \"Birth Date\": \"3/14/1939\", \"Birth Place\": \"Miami, FL\", \"Gender\": \"Male\", \"Alma Mater\": \"MIT\", \"Undergraduate Major\": \"Electrical Engineering\", \"Graduate Major\": \"Electrical Engineering\", \"Military Rank\": null, \"Military Branch\": null, \"Space Flights\": 1, \"Space Flight (hr)\": 122, \"Space Walks\": 0, \"Space Walks (hr)\": 0.0, \"Missions\": \"STS-5 (Columbia)\", \"Death Date\": \"8/26/2012\", \"Death Mission\": null}, {\"Name\": \"J. Mike Lounge\", \"Year\": 1980, \"Group\": 9.0, \"Status\": \"Deceased\", \"Birth Date\": \"6/28/1946\", \"Birth Place\": \"Denver, CO\", \"Gender\": \"Male\", \"Alma Mater\": \"US Naval Academy; University of Colorado\", \"Undergraduate Major\": \"Mathematics & Physics\", \"Graduate Major\": \"Astrogeophysics\", \"Military Rank\": null, \"Military Branch\": null, \"Space Flights\": 3, \"Space Flight (hr)\": 483, \"Space Walks\": 0, \"Space Walks (hr)\": 0.0, \"Missions\": \"STS 51-I (Discovery), STS-26 (Discovery), STS-35 (Columbia)\", \"Death Date\": \"3/1/2011\", \"Death Mission\": null}, {\"Name\": \"G. David Low\", \"Year\": 1984, \"Group\": 10.0, \"Status\": \"Deceased\", \"Birth Date\": \"2/19/1956\", \"Birth Place\": \"Cleveland, OH\", \"Gender\": \"Male\", \"Alma Mater\": \"Washington & Lee University; Cornell University; Stanford University\", \"Undergraduate Major\": \"Physics & Engineering\", \"Graduate Major\": \"Mechanical Engineering; Aeronautics & Astronautics\", \"Military Rank\": null, \"Military Branch\": null, \"Space Flights\": 3, \"Space Flight (hr)\": 714, \"Space Walks\": 1, \"Space Walks (hr)\": 6.0, \"Missions\": \"STS-32 (Columbia), STS-43 (Atlantis), STS-57 (Endeavor)\", \"Death Date\": \"3/15/2008\", \"Death Mission\": null}, {\"Name\": \"William C. McCool\", \"Year\": 1996, \"Group\": 16.0, \"Status\": \"Deceased\", \"Birth Date\": \"9/23/1961\", \"Birth Place\": \"San Diego, CA\", \"Gender\": \"Male\", \"Alma Mater\": \"US Naval Academy; University of Maryland; US Naval Postgraduate School\", \"Undergraduate Major\": \"Naval Sciences\", \"Graduate Major\": \"Computer Science; Aeronautical Engineering\", \"Military Rank\": \"Commander\", \"Military Branch\": \"US Navy\", \"Space Flights\": 1, \"Space Flight (hr)\": 382, \"Space Walks\": 0, \"Space Walks (hr)\": 0.0, \"Missions\": \"STS-107 (Columbia)\", \"Death Date\": \"2/1/2003\", \"Death Mission\": \"STS-107 (Columbia)\"}, {\"Name\": \"Ronald E. McNair\", \"Year\": 1978, \"Group\": 8.0, \"Status\": \"Deceased\", \"Birth Date\": \"10/21/1950\", \"Birth Place\": \"Lake City, SC\", \"Gender\": \"Male\", \"Alma Mater\": \"North Carolina A&T State College; MIT\", \"Undergraduate Major\": \"Physics\", \"Graduate Major\": \"Physics\", \"Military Rank\": null, \"Military Branch\": null, \"Space Flights\": 2, \"Space Flight (hr)\": 191, \"Space Walks\": 0, \"Space Walks (hr)\": 0.0, \"Missions\": \"STS 41-B (Challenger), STS 51-L (Challenger)\", \"Death Date\": \"1/28/1986\", \"Death Mission\": \"STS 51-L (Challenger)\"}, {\"Name\": \"Brian T. O'Leary\", \"Year\": 1967, \"Group\": 6.0, \"Status\": \"Deceased\", \"Birth Date\": \"1/27/1940\", \"Birth Place\": \"Boston, MA\", \"Gender\": \"Male\", \"Alma Mater\": \"Williams College; Georgetown University; University of California-Berkeley\", \"Undergraduate Major\": \"Physics\", \"Graduate Major\": \"Astronomy\", \"Military Rank\": null, \"Military Branch\": null, \"Space Flights\": 0, \"Space Flight (hr)\": 0, \"Space Walks\": 0, \"Space Walks (hr)\": 0.0, \"Missions\": null, \"Death Date\": \"7/28/2011\", \"Death Mission\": null}, {\"Name\": \"Ellison S. Onizuka\", \"Year\": 1978, \"Group\": 8.0, \"Status\": \"Deceased\", \"Birth Date\": \"6/24/1946\", \"Birth Place\": \"Kealakekua, HI\", \"Gender\": \"Male\", \"Alma Mater\": \"University of Colorado\", \"Undergraduate Major\": \"Aerospace Engineering\", \"Graduate Major\": \"Aerospace Engineering\", \"Military Rank\": \"Lieutenant Colonel\", \"Military Branch\": \"US Air Force\", \"Space Flights\": 2, \"Space Flight (hr)\": 73, \"Space Walks\": 0, \"Space Walks (hr)\": 0.0, \"Missions\": \"STS 51-C (Discovery), STS 51-L (Challenger)\", \"Death Date\": \"1/28/1986\", \"Death Mission\": \"STS 51-L (Challenger)\"}, {\"Name\": \"Robert F. Overmyer\", \"Year\": 1969, \"Group\": 7.0, \"Status\": \"Deceased\", \"Birth Date\": \"7/14/1936\", \"Birth Place\": \"Lorain, OH\", \"Gender\": \"Male\", \"Alma Mater\": \"Baldwin Wallace College; US Naval Postgraduate School\", \"Undergraduate Major\": \"Physics\", \"Graduate Major\": \"Aeronautics\", \"Military Rank\": \"Colonel\", \"Military Branch\": \"US Marine Corps (Retired)\", \"Space Flights\": 2, \"Space Flight (hr)\": 290, \"Space Walks\": 0, \"Space Walks (hr)\": 0.0, \"Missions\": \"STS-5 (Columbia), STS 51-B (Challenger)\", \"Death Date\": \"3/22/1996\", \"Death Mission\": null}, {\"Name\": \"Alan G. Poindexter\", \"Year\": 1998, \"Group\": 17.0, \"Status\": \"Deceased\", \"Birth Date\": \"11/5/1961\", \"Birth Place\": \"Pasadena, CA\", \"Gender\": \"Male\", \"Alma Mater\": \"Georgia Institute of Technology; US Naval Postgraduate School\", \"Undergraduate Major\": \"Aerospace Engineering\", \"Graduate Major\": \"Aeronautical Engineering\", \"Military Rank\": \"Captain\", \"Military Branch\": \"US Navy\", \"Space Flights\": 2, \"Space Flight (hr)\": 669, \"Space Walks\": 0, \"Space Walks (hr)\": 0.0, \"Missions\": \"STS-122 (Atlantis), STS-131 (Discovery)\", \"Death Date\": \"7/1/2012\", \"Death Mission\": null}, {\"Name\": \"Judith A. Resnik\", \"Year\": 1978, \"Group\": 8.0, \"Status\": \"Deceased\", \"Birth Date\": \"4/5/1949\", \"Birth Place\": \"Akron, OH\", \"Gender\": \"Female\", \"Alma Mater\": \"Carnegie-Mellon University; University of Maryland\", \"Undergraduate Major\": \"Electrical Engineering\", \"Graduate Major\": \"Electrical Engineering\", \"Military Rank\": null, \"Military Branch\": null, \"Space Flights\": 2, \"Space Flight (hr)\": 144, \"Space Walks\": 0, \"Space Walks (hr)\": 0.0, \"Missions\": \"STS 41-D (Discovery), STS 51-L (Challenger)\", \"Death Date\": \"1/28/1986\", \"Death Mission\": \"STS 51-L (Challenger)\"}, {\"Name\": \"Sally K. Ride\", \"Year\": 1978, \"Group\": 8.0, \"Status\": \"Deceased\", \"Birth Date\": \"5/26/1951\", \"Birth Place\": \"Los Angeles, CA\", \"Gender\": \"Female\", \"Alma Mater\": \"Stanford University\", \"Undergraduate Major\": \"Physics; English\", \"Graduate Major\": \"Physics\", \"Military Rank\": null, \"Military Branch\": null, \"Space Flights\": 2, \"Space Flight (hr)\": 343, \"Space Walks\": 0, \"Space Walks (hr)\": 0.0, \"Missions\": \"STS-7 (Challenger), STS 41-G (Challenger)\", \"Death Date\": \"7/23/2012\", \"Death Mission\": null}, {\"Name\": \"Patricia Hilliard Robertson\", \"Year\": 1998, \"Group\": 17.0, \"Status\": \"Deceased\", \"Birth Date\": \"3/12/1963\", \"Birth Place\": \"Indiana, PA\", \"Gender\": \"Female\", \"Alma Mater\": \"Indiana University of Pennsylvania; Medical College of Pennsylvania\", \"Undergraduate Major\": \"Biology\", \"Graduate Major\": \"Medicine\", \"Military Rank\": null, \"Military Branch\": null, \"Space Flights\": 0, \"Space Flight (hr)\": 0, \"Space Walks\": 0, \"Space Walks (hr)\": 0.0, \"Missions\": null, \"Death Date\": \"5/24/2001\", \"Death Mission\": null}, {\"Name\": \"Stuart A. Roosa\", \"Year\": 1966, \"Group\": 5.0, \"Status\": \"Deceased\", \"Birth Date\": \"8/16/1933\", \"Birth Place\": \"Durango, CO\", \"Gender\": \"Male\", \"Alma Mater\": \"University of Colorado\", \"Undergraduate Major\": \"Aeronautical Engineering\", \"Graduate Major\": null, \"Military Rank\": \"Colonel\", \"Military Branch\": \"US Air Force (Retired)\", \"Space Flights\": 1, \"Space Flight (hr)\": 216, \"Space Walks\": 0, \"Space Walks (hr)\": 0.0, \"Missions\": \"Apollo 14\", \"Death Date\": \"12/12/1994\", \"Death Mission\": null}, {\"Name\": \"Walter M. Schirra Jr. \", \"Year\": 1959, \"Group\": 1.0, \"Status\": \"Deceased\", \"Birth Date\": \"3/12/1923\", \"Birth Place\": \"Hackensack, NJ\", \"Gender\": \"Male\", \"Alma Mater\": \"US Naval Academy\", \"Undergraduate Major\": \"Naval Sciences\", \"Graduate Major\": null, \"Military Rank\": \"Captain\", \"Military Branch\": \"US Navy (Retired)\", \"Space Flights\": 3, \"Space Flight (hr)\": 295, \"Space Walks\": 0, \"Space Walks (hr)\": 0.0, \"Missions\": \"Mercury 8, Gemini 6, Apollo 7\", \"Death Date\": \"5/2/2007\", \"Death Mission\": null}, {\"Name\": \"Francis R. Scobee\", \"Year\": 1978, \"Group\": 8.0, \"Status\": \"Deceased\", \"Birth Date\": \"5/19/1939\", \"Birth Place\": \"Cle Elum, WA\", \"Gender\": \"Male\", \"Alma Mater\": \"University of Arizona\", \"Undergraduate Major\": \"Aerospace Engineering\", \"Graduate Major\": null, \"Military Rank\": \"Major\", \"Military Branch\": \"US Air Force (Retired)\", \"Space Flights\": 2, \"Space Flight (hr)\": 167, \"Space Walks\": 0, \"Space Walks (hr)\": 0.0, \"Missions\": \"STS 41-C (Challenger), STS 51-L (Challenger)\", \"Death Date\": \"1/28/1986\", \"Death Mission\": \"STS 51-L (Challenger)\"}, {\"Name\": \"Elliot M. See Jr. \", \"Year\": 1962, \"Group\": 2.0, \"Status\": \"Deceased\", \"Birth Date\": \"7/23/1927\", \"Birth Place\": \"Dallas, TX\", \"Gender\": \"Male\", \"Alma Mater\": \"US Merchant Marine Academy; University of California-Los Angeles\", \"Undergraduate Major\": null, \"Graduate Major\": \"Engineering\", \"Military Rank\": null, \"Military Branch\": null, \"Space Flights\": 0, \"Space Flight (hr)\": 0, \"Space Walks\": 0, \"Space Walks (hr)\": 0.0, \"Missions\": null, \"Death Date\": \"2/28/1966\", \"Death Mission\": null}, {\"Name\": \"Alan B. Shepard Jr. \", \"Year\": 1959, \"Group\": 1.0, \"Status\": \"Deceased\", \"Birth Date\": \"11/18/1923\", \"Birth Place\": \"East Derry, NH\", \"Gender\": \"Male\", \"Alma Mater\": \"US Naval Academy\", \"Undergraduate Major\": \"Naval Sciences\", \"Graduate Major\": null, \"Military Rank\": \"Rear Admiral\", \"Military Branch\": \"US Navy (Retired)\", \"Space Flights\": 2, \"Space Flight (hr)\": 216, \"Space Walks\": 2, \"Space Walks (hr)\": 9.0, \"Missions\": \"Mercury 3, Apollo 14\", \"Death Date\": \"7/21/1998\", \"Death Mission\": null}, {\"Name\": \"Donald K. Slayton\", \"Year\": 1959, \"Group\": 1.0, \"Status\": \"Deceased\", \"Birth Date\": \"3/1/1924\", \"Birth Place\": \"Sparta, WI\", \"Gender\": \"Male\", \"Alma Mater\": \"University of Minnesota\", \"Undergraduate Major\": \"Aeronautical Engineering\", \"Graduate Major\": null, \"Military Rank\": \"Major\", \"Military Branch\": \"US Air Force Reserves\", \"Space Flights\": 1, \"Space Flight (hr)\": 217, \"Space Walks\": 0, \"Space Walks (hr)\": 0.0, \"Missions\": \"Apollo-Soyuz Test Project\", \"Death Date\": \"6/13/1993\", \"Death Mission\": null}, {\"Name\": \"Michael J. Smith\", \"Year\": 1980, \"Group\": 9.0, \"Status\": \"Deceased\", \"Birth Date\": \"4/30/1945\", \"Birth Place\": \"Beaufort, NC\", \"Gender\": \"Male\", \"Alma Mater\": \"US Naval Academy; US Naval Postgraduate School\", \"Undergraduate Major\": \"Naval Sciences\", \"Graduate Major\": \"Aeronautical Engineering\", \"Military Rank\": \"Captain\", \"Military Branch\": \"US Navy\", \"Space Flights\": 1, \"Space Flight (hr)\": 0, \"Space Walks\": 0, \"Space Walks (hr)\": 0.0, \"Missions\": \"STS 51-L (Challenger)\", \"Death Date\": \"1/28/1986\", \"Death Mission\": \"STS 51-L (Challenger)\"}, {\"Name\": \"John L. Swigert Jr. \", \"Year\": 1966, \"Group\": 5.0, \"Status\": \"Deceased\", \"Birth Date\": \"8/30/1931\", \"Birth Place\": \"Denver, CO\", \"Gender\": \"Male\", \"Alma Mater\": \"University of Colorado; Rensselaer Polytechnic Institute; University of Hartford\", \"Undergraduate Major\": \"Mechanical Engineering\", \"Graduate Major\": \"Aerospace Science; Business Administration\", \"Military Rank\": null, \"Military Branch\": null, \"Space Flights\": 1, \"Space Flight (hr)\": 142, \"Space Walks\": 0, \"Space Walks (hr)\": 0.0, \"Missions\": \"Apollo 13\", \"Death Date\": \"12/27/1982\", \"Death Mission\": null}, {\"Name\": \"Stephen D. Thorne\", \"Year\": 1985, \"Group\": 11.0, \"Status\": \"Deceased\", \"Birth Date\": \"2/11/1953\", \"Birth Place\": \"Frankfurt, West Germany\", \"Gender\": \"Male\", \"Alma Mater\": \"US Naval Academy\", \"Undergraduate Major\": \"Engineering\", \"Graduate Major\": null, \"Military Rank\": \"Lieutenant Commander\", \"Military Branch\": \"US Navy\", \"Space Flights\": 0, \"Space Flight (hr)\": 0, \"Space Walks\": 0, \"Space Walks (hr)\": 0.0, \"Missions\": null, \"Death Date\": \"5/24/1986\", \"Death Mission\": null}, {\"Name\": \"Charles Lacy Veach\", \"Year\": 1984, \"Group\": 10.0, \"Status\": \"Deceased\", \"Birth Date\": \"9/18/1944\", \"Birth Place\": \"Chicago, IL\", \"Gender\": \"Male\", \"Alma Mater\": \"US Air Force Academy\", \"Undergraduate Major\": \"Engineering Management\", \"Graduate Major\": null, \"Military Rank\": null, \"Military Branch\": null, \"Space Flights\": 2, \"Space Flight (hr)\": 436, \"Space Walks\": 0, \"Space Walks (hr)\": 0.0, \"Missions\": \"STS-39 (Discovery), STS-52 (Columbia)\", \"Death Date\": \"10/3/1995\", \"Death Mission\": null}, {\"Name\": \"Janice E. Voss\", \"Year\": 1990, \"Group\": 13.0, \"Status\": \"Deceased\", \"Birth Date\": \"10/8/1956\", \"Birth Place\": \"South Bend, IN\", \"Gender\": \"Female\", \"Alma Mater\": \"Purdue University; MIT\", \"Undergraduate Major\": \"Engineering Science\", \"Graduate Major\": \"Electrical Engineering; Aeronautics & Astronautics\", \"Military Rank\": null, \"Military Branch\": null, \"Space Flights\": 5, \"Space Flight (hr)\": 1179, \"Space Walks\": 0, \"Space Walks (hr)\": 0.0, \"Missions\": \"STS-57 (Endeavor), STS-63 (Discovery), STS-83 (Columbia), STS-94 (Columbia), STS-99 (Endeavor)\", \"Death Date\": \"2/6/2012\", \"Death Mission\": null}, {\"Name\": \"David M. Walker\", \"Year\": 1978, \"Group\": 8.0, \"Status\": \"Deceased\", \"Birth Date\": \"5/20/1944\", \"Birth Place\": \"Columbus, GA\", \"Gender\": \"Male\", \"Alma Mater\": \"US Naval Academy\", \"Undergraduate Major\": \"Naval Sciences\", \"Graduate Major\": null, \"Military Rank\": \"Captain\", \"Military Branch\": \"US Navy (Retired)\", \"Space Flights\": 4, \"Space Flight (hr)\": 724, \"Space Walks\": 0, \"Space Walks (hr)\": 0.0, \"Missions\": \"STS 51-A (Discovery), STS-30 (Atlantis), STS-53 (Discovery), STS-69 (Endeavor)\", \"Death Date\": \"4/23/2001\", \"Death Mission\": null}, {\"Name\": \"Edward H. White II \", \"Year\": 1962, \"Group\": 2.0, \"Status\": \"Deceased\", \"Birth Date\": \"11/14/1930\", \"Birth Place\": \"San Antonio, TX\", \"Gender\": \"Male\", \"Alma Mater\": \"US Military Academy; University of Michigan\", \"Undergraduate Major\": null, \"Graduate Major\": \"Aeronautical Engineering\", \"Military Rank\": \"Lieutenant Colonel\", \"Military Branch\": \"US Air Force\", \"Space Flights\": 2, \"Space Flight (hr)\": 97, \"Space Walks\": 1, \"Space Walks (hr)\": 0.5, \"Missions\": \"Gemini 4, Apollo 1\", \"Death Date\": \"1/27/1967\", \"Death Mission\": \"Apollo 1\"}, {\"Name\": \"Clifton C. Williams Jr. \", \"Year\": 1963, \"Group\": 3.0, \"Status\": \"Deceased\", \"Birth Date\": \"9/26/1932\", \"Birth Place\": \"Mobile, AL\", \"Gender\": \"Male\", \"Alma Mater\": \"Auburn University\", \"Undergraduate Major\": \"Mechanical Engineering\", \"Graduate Major\": null, \"Military Rank\": \"Major\", \"Military Branch\": \"US Marine Corps\", \"Space Flights\": 0, \"Space Flight (hr)\": 0, \"Space Walks\": 0, \"Space Walks (hr)\": 0.0, \"Missions\": null, \"Death Date\": \"10/5/1967\", \"Death Mission\": null}]}}, {\"mode\": \"vega-lite\"});\n",
       "</script>"
      ],
      "text/plain": [
       "alt.FacetChart(...)"
      ]
     },
     "execution_count": 27,
     "metadata": {},
     "output_type": "execute_result"
    }
   ],
   "source": [
    "astronaut_full_service('Deceased')"
   ]
  },
  {
   "cell_type": "markdown",
   "metadata": {},
   "source": [
    "What is the primary issue with function `astronaut_full_service()`?\n",
    "\n",
    "\n",
    "A) The arguments it accepts are too limited. Having more options for arguments will give the ability to produce plots with more versatility and better insights \n",
    "\n",
    "B) There is no way of obtaining the results of `mean_flight`  from this function. The user would need to write additional code to obtain it. \n",
    "\n",
    "C) It contains side effects that could easily be removed. \n",
    "\n",
    "D) The plots are calling in variables from the global environment. \n",
    "\n",
    "\n",
    "\n",
    "*Answer in the cell below using the uppercase letter associated with your answer. Place your answer between \"\", assign the correct answer to an object called `answer5_c`.*"
   ]
  },
  {
   "cell_type": "code",
   "execution_count": 28,
   "metadata": {
    "deletable": false,
    "nbgrader": {
     "cell_type": "code",
     "checksum": "5b555e0a52c47a2dc5277616d7c4dadc",
     "grade": false,
     "grade_id": "cell-647a778e527c5029",
     "locked": false,
     "schema_version": 3,
     "solution": true,
     "task": false
    }
   },
   "outputs": [],
   "source": [
    "answer5_c = \"B\"\n"
   ]
  },
  {
   "cell_type": "code",
   "execution_count": 29,
   "metadata": {
    "deletable": false,
    "editable": false,
    "nbgrader": {
     "cell_type": "code",
     "checksum": "8c9eb4e9cac5687d11055266218b2e81",
     "grade": true,
     "grade_id": "cell-0e37a89811d61606",
     "locked": true,
     "points": 1,
     "schema_version": 3,
     "solution": false,
     "task": false
    }
   },
   "outputs": [
    {
     "data": {
      "text/plain": [
       "'Success'"
      ]
     },
     "execution_count": 29,
     "metadata": {},
     "output_type": "execute_result"
    }
   ],
   "source": [
    "t.test_5c(answer5_c)"
   ]
  },
  {
   "cell_type": "markdown",
   "metadata": {},
   "source": [
    "**Question  5(d)** <br> {points: 1} \n",
    "\n",
    "Given the function `astronaut_full_service`  write a new function similar function named `astronauts_stats` that  corrects for the issue you identified above. \n",
    "\n",
    "Your function should return a single value. \n",
    "\n",
    "Make sure to include a `docstring` for you function.\n",
    "\n",
    "Test it out with `status='Deceased'`. "
   ]
  },
  {
   "cell_type": "code",
   "execution_count": 30,
   "metadata": {
    "deletable": false,
    "nbgrader": {
     "cell_type": "code",
     "checksum": "a42c3263d63d3af8770d3d822d6c99d1",
     "grade": false,
     "grade_id": "cell-6ea498bc044b25bf",
     "locked": false,
     "schema_version": 3,
     "solution": true,
     "task": false
    }
   },
   "outputs": [
    {
     "name": "stdout",
     "output_type": "stream",
     "text": [
      "Mean Space Walk Time: 274.1875\n"
     ]
    },
    {
     "data": {
      "text/html": [
       "\n",
       "<div id=\"altair-viz-1cb0101f1b6c48b58888a876ab650ad1\"></div>\n",
       "<script type=\"text/javascript\">\n",
       "  (function(spec, embedOpt){\n",
       "    let outputDiv = document.currentScript.previousElementSibling;\n",
       "    if (outputDiv.id !== \"altair-viz-1cb0101f1b6c48b58888a876ab650ad1\") {\n",
       "      outputDiv = document.getElementById(\"altair-viz-1cb0101f1b6c48b58888a876ab650ad1\");\n",
       "    }\n",
       "    const paths = {\n",
       "      \"vega\": \"https://cdn.jsdelivr.net/npm//vega@5?noext\",\n",
       "      \"vega-lib\": \"https://cdn.jsdelivr.net/npm//vega-lib?noext\",\n",
       "      \"vega-lite\": \"https://cdn.jsdelivr.net/npm//vega-lite@4.8.1?noext\",\n",
       "      \"vega-embed\": \"https://cdn.jsdelivr.net/npm//vega-embed@6?noext\",\n",
       "    };\n",
       "\n",
       "    function loadScript(lib) {\n",
       "      return new Promise(function(resolve, reject) {\n",
       "        var s = document.createElement('script');\n",
       "        s.src = paths[lib];\n",
       "        s.async = true;\n",
       "        s.onload = () => resolve(paths[lib]);\n",
       "        s.onerror = () => reject(`Error loading script: ${paths[lib]}`);\n",
       "        document.getElementsByTagName(\"head\")[0].appendChild(s);\n",
       "      });\n",
       "    }\n",
       "\n",
       "    function showError(err) {\n",
       "      outputDiv.innerHTML = `<div class=\"error\" style=\"color:red;\">${err}</div>`;\n",
       "      throw err;\n",
       "    }\n",
       "\n",
       "    function displayChart(vegaEmbed) {\n",
       "      vegaEmbed(outputDiv, spec, embedOpt)\n",
       "        .catch(err => showError(`Javascript Error: ${err.message}<br>This usually means there's a typo in your chart specification. See the javascript console for the full traceback.`));\n",
       "    }\n",
       "\n",
       "    if(typeof define === \"function\" && define.amd) {\n",
       "      requirejs.config({paths});\n",
       "      require([\"vega-embed\"], displayChart, err => showError(`Error loading script: ${err.message}`));\n",
       "    } else if (typeof vegaEmbed === \"function\") {\n",
       "      displayChart(vegaEmbed);\n",
       "    } else {\n",
       "      loadScript(\"vega\")\n",
       "        .then(() => loadScript(\"vega-lite\"))\n",
       "        .then(() => loadScript(\"vega-embed\"))\n",
       "        .catch(showError)\n",
       "        .then(() => displayChart(vegaEmbed));\n",
       "    }\n",
       "  })({\"config\": {\"view\": {\"continuousWidth\": 400, \"continuousHeight\": 300}}, \"data\": {\"name\": \"data-67e0a46a3ce8a6ec6dea522d3738dd03\"}, \"mark\": {\"type\": \"bar\", \"color\": \"tomato\", \"size\": 40}, \"encoding\": {\"x\": {\"type\": \"quantitative\", \"field\": \"Space Flights\"}, \"y\": {\"type\": \"quantitative\", \"aggregate\": \"count\"}}, \"$schema\": \"https://vega.github.io/schema/vega-lite/v4.8.1.json\", \"datasets\": {\"data-67e0a46a3ce8a6ec6dea522d3738dd03\": [{\"Name\": \"Michael P. Anderson\", \"Year\": 1995, \"Group\": 15.0, \"Status\": \"Deceased\", \"Birth Date\": \"12/25/1959\", \"Birth Place\": \"Plattsburgh, NY\", \"Gender\": \"Male\", \"Alma Mater\": \"University of Washington; Creighton University\", \"Undergraduate Major\": \"Physics & Astronomy\", \"Graduate Major\": \"Physics\", \"Military Rank\": \"Lieutenant Colonel\", \"Military Branch\": \"US Air Force\", \"Space Flights\": 2, \"Space Flight (hr)\": 594, \"Space Walks\": 0, \"Space Walks (hr)\": 0.0, \"Missions\": \"STS-89 (Endeavor), STS-107 (Columbia)\", \"Death Date\": \"2/1/2003\", \"Death Mission\": \"STS-107 (Columbia)\"}, {\"Name\": \"Neil A. Armstrong\", \"Year\": 1962, \"Group\": 2.0, \"Status\": \"Deceased\", \"Birth Date\": \"8/5/1930\", \"Birth Place\": \"Wapakoneta, OH\", \"Gender\": \"Male\", \"Alma Mater\": \"Purdue University; University of Southern California\", \"Undergraduate Major\": \"Aeronautical Engineering\", \"Graduate Major\": \"Aerospace Engineering\", \"Military Rank\": null, \"Military Branch\": null, \"Space Flights\": 2, \"Space Flight (hr)\": 205, \"Space Walks\": 1, \"Space Walks (hr)\": 2.0, \"Missions\": \"Gemini 8, Apollo 11\", \"Death Date\": \"8/25/2012\", \"Death Mission\": null}, {\"Name\": \"Charles A. Bassett II \", \"Year\": 1963, \"Group\": 3.0, \"Status\": \"Deceased\", \"Birth Date\": \"12/30/1931\", \"Birth Place\": \"Dayton, OH\", \"Gender\": \"Male\", \"Alma Mater\": \"Texas Technological College\", \"Undergraduate Major\": \"Electrical Engineering\", \"Graduate Major\": null, \"Military Rank\": \"Captain\", \"Military Branch\": \"US Air Force\", \"Space Flights\": 0, \"Space Flight (hr)\": 0, \"Space Walks\": 0, \"Space Walks (hr)\": 0.0, \"Missions\": null, \"Death Date\": \"2/28/1966\", \"Death Mission\": null}, {\"Name\": \"Charles E. Brady Jr. \", \"Year\": 1992, \"Group\": 14.0, \"Status\": \"Deceased\", \"Birth Date\": \"8/12/1951\", \"Birth Place\": \"Pinehurst, NC\", \"Gender\": \"Male\", \"Alma Mater\": \"University of North Carolina at Chapel Hill; Duke University\", \"Undergraduate Major\": null, \"Graduate Major\": \"Medicine\", \"Military Rank\": \"Captain\", \"Military Branch\": \"US Navy\", \"Space Flights\": 1, \"Space Flight (hr)\": 405, \"Space Walks\": 0, \"Space Walks (hr)\": 0.0, \"Missions\": \"STS-78 (Columbia)\", \"Death Date\": \"7/23/2006\", \"Death Mission\": null}, {\"Name\": \"David M. Brown\", \"Year\": 1996, \"Group\": 16.0, \"Status\": \"Deceased\", \"Birth Date\": \"4/16/1956\", \"Birth Place\": \"Arlington, VA\", \"Gender\": \"Male\", \"Alma Mater\": \"College of William & Mary; Eastern Virginia Medical School\", \"Undergraduate Major\": \"Biology\", \"Graduate Major\": \"Medicine\", \"Military Rank\": \"Captain\", \"Military Branch\": \"US Navy\", \"Space Flights\": 1, \"Space Flight (hr)\": 382, \"Space Walks\": 0, \"Space Walks (hr)\": 0.0, \"Missions\": \"STS-107 (Columbia)\", \"Death Date\": \"2/1/2003\", \"Death Mission\": \"STS-107 (Columbia)\"}, {\"Name\": \"John S. Bull\", \"Year\": 1966, \"Group\": 5.0, \"Status\": \"Deceased\", \"Birth Date\": \"9/25/1934\", \"Birth Place\": \"Memphis, TN\", \"Gender\": \"Male\", \"Alma Mater\": \"Rice University; Stanford University\", \"Undergraduate Major\": \"Mechanical Engineering\", \"Graduate Major\": \"Aeronautical Engineering\", \"Military Rank\": null, \"Military Branch\": null, \"Space Flights\": 0, \"Space Flight (hr)\": 0, \"Space Walks\": 0, \"Space Walks (hr)\": 0.0, \"Missions\": null, \"Death Date\": \"8/11/2008\", \"Death Mission\": null}, {\"Name\": \"Fernando Caldeiro\", \"Year\": 1996, \"Group\": 16.0, \"Status\": \"Deceased\", \"Birth Date\": \"6/12/1958\", \"Birth Place\": \"Buenos Aires, Argentina\", \"Gender\": \"Male\", \"Alma Mater\": \"University of Arizona; University of Central Florida\", \"Undergraduate Major\": \"Mechanical Engineering\", \"Graduate Major\": \"Engineering Management\", \"Military Rank\": null, \"Military Branch\": null, \"Space Flights\": 0, \"Space Flight (hr)\": 0, \"Space Walks\": 0, \"Space Walks (hr)\": 0.0, \"Missions\": null, \"Death Date\": \"10/3/2009\", \"Death Mission\": null}, {\"Name\": \"Manley Lanier Carter Jr. \", \"Year\": 1984, \"Group\": 10.0, \"Status\": \"Deceased\", \"Birth Date\": \"8/15/1947\", \"Birth Place\": \"Macon, GA\", \"Gender\": \"Male\", \"Alma Mater\": \"Emory University\", \"Undergraduate Major\": \"Chemistry\", \"Graduate Major\": \"Medicine\", \"Military Rank\": \"Captain\", \"Military Branch\": \"US Navy\", \"Space Flights\": 1, \"Space Flight (hr)\": 120, \"Space Walks\": 0, \"Space Walks (hr)\": 0.0, \"Missions\": \"STS-33 (Discovery)\", \"Death Date\": \"4/5/1991\", \"Death Mission\": null}, {\"Name\": \"Roger B. Chaffee\", \"Year\": 1963, \"Group\": 3.0, \"Status\": \"Deceased\", \"Birth Date\": \"2/15/1935\", \"Birth Place\": \"Grand Rapids, MI\", \"Gender\": \"Male\", \"Alma Mater\": \"Purdue University\", \"Undergraduate Major\": \"Aeronautical Engineering\", \"Graduate Major\": null, \"Military Rank\": \"Lieutenant Commander\", \"Military Branch\": \"US Navy\", \"Space Flights\": 1, \"Space Flight (hr)\": 0, \"Space Walks\": 0, \"Space Walks (hr)\": 0.0, \"Missions\": \"Apollo 1\", \"Death Date\": \"1/27/1967\", \"Death Mission\": \"Apollo 1\"}, {\"Name\": \"Kalpana Chawla\", \"Year\": 1995, \"Group\": 15.0, \"Status\": \"Deceased\", \"Birth Date\": \"6/1/1961\", \"Birth Place\": \"Karnal, India\", \"Gender\": \"Female\", \"Alma Mater\": \"Punjab Engineering College; University of Texas-Arlington; University of Colorado\", \"Undergraduate Major\": \"Aeronautical Engineering\", \"Graduate Major\": \"Aerospace Engineering\", \"Military Rank\": null, \"Military Branch\": null, \"Space Flights\": 2, \"Space Flight (hr)\": 734, \"Space Walks\": 0, \"Space Walks (hr)\": 0.0, \"Missions\": \"STS-87 (Columbia), STS-107 (Columbia)\", \"Death Date\": \"2/1/2003\", \"Death Mission\": \"STS-107 (Columbia)\"}, {\"Name\": \"Laurel B. Clark\", \"Year\": 1996, \"Group\": 16.0, \"Status\": \"Deceased\", \"Birth Date\": \"3/10/1961\", \"Birth Place\": \"Ames, IA\", \"Gender\": \"Female\", \"Alma Mater\": \"University of Wisconsin-Madison\", \"Undergraduate Major\": \"Zoology\", \"Graduate Major\": \"Medicine\", \"Military Rank\": \"Captain\", \"Military Branch\": \"US Navy\", \"Space Flights\": 1, \"Space Flight (hr)\": 382, \"Space Walks\": 0, \"Space Walks (hr)\": 0.0, \"Missions\": \"STS-107 (Columbia)\", \"Death Date\": \"2/1/2003\", \"Death Mission\": \"STS-107 (Columbia)\"}, {\"Name\": \"Charles Conrad Jr. \", \"Year\": 1962, \"Group\": 2.0, \"Status\": \"Deceased\", \"Birth Date\": \"5/2/1930\", \"Birth Place\": \"Philadelphia, PA\", \"Gender\": \"Male\", \"Alma Mater\": \"Princeton University\", \"Undergraduate Major\": \"Aeronautical Engineering\", \"Graduate Major\": null, \"Military Rank\": \"Captain\", \"Military Branch\": \"US Navy (Retired)\", \"Space Flights\": 4, \"Space Flight (hr)\": 1179, \"Space Walks\": 4, \"Space Walks (hr)\": 12.0, \"Missions\": \"Gemini 5, Gemini 11, Apollo 12, Skylab 2\", \"Death Date\": \"7/8/1999\", \"Death Mission\": null}, {\"Name\": \"L. Gordon Cooper Jr. \", \"Year\": 1959, \"Group\": 1.0, \"Status\": \"Deceased\", \"Birth Date\": \"3/6/1927\", \"Birth Place\": \"Shawnee, OK\", \"Gender\": \"Male\", \"Alma Mater\": \"Air Force Institute of Technology\", \"Undergraduate Major\": \"Aeronautical Engineering\", \"Graduate Major\": null, \"Military Rank\": \"Colonel\", \"Military Branch\": \"US Air Force (Retired)\", \"Space Flights\": 2, \"Space Flight (hr)\": 225, \"Space Walks\": 0, \"Space Walks (hr)\": 0.0, \"Missions\": \"Mercury 9, Gemini 5\", \"Death Date\": \"10/4/2004\", \"Death Mission\": null}, {\"Name\": \"Donn F. Eisele\", \"Year\": 1963, \"Group\": 3.0, \"Status\": \"Deceased\", \"Birth Date\": \"5/23/1930\", \"Birth Place\": \"Columbus, OH\", \"Gender\": \"Male\", \"Alma Mater\": \"US Naval Academy; US Air Force Institute of Technology\", \"Undergraduate Major\": \"Astronautics\", \"Graduate Major\": \"Astronautics\", \"Military Rank\": \"Colonel\", \"Military Branch\": \"US Air Force (Retired)\", \"Space Flights\": 1, \"Space Flight (hr)\": 260, \"Space Walks\": 0, \"Space Walks (hr)\": 0.0, \"Missions\": \"Apollo 7\", \"Death Date\": \"12/2/1987\", \"Death Mission\": null}, {\"Name\": \"Ronald E. Evans Jr. \", \"Year\": 1966, \"Group\": 5.0, \"Status\": \"Deceased\", \"Birth Date\": \"11/10/1933\", \"Birth Place\": \"St. Francis, KS\", \"Gender\": \"Male\", \"Alma Mater\": \"University of Kansas; US Naval Postgraduate School\", \"Undergraduate Major\": \"Electrical Engineering\", \"Graduate Major\": \"Aeronautical Engineering\", \"Military Rank\": \"Captain\", \"Military Branch\": \"US Navy (Retired)\", \"Space Flights\": 1, \"Space Flight (hr)\": 301, \"Space Walks\": 1, \"Space Walks (hr)\": 1.0, \"Missions\": \"Apollo 17\", \"Death Date\": \"4/6/1990\", \"Death Mission\": null}, {\"Name\": \"Theodore C. Freeman\", \"Year\": 1963, \"Group\": 3.0, \"Status\": \"Deceased\", \"Birth Date\": \"2/18/1930\", \"Birth Place\": \"Haversford, PA\", \"Gender\": \"Male\", \"Alma Mater\": \"US Naval Academy; University of Michigan\", \"Undergraduate Major\": null, \"Graduate Major\": \"Aeronautical Engineering\", \"Military Rank\": \"Captain\", \"Military Branch\": \"US Air Force\", \"Space Flights\": 0, \"Space Flight (hr)\": 0, \"Space Walks\": 0, \"Space Walks (hr)\": 0.0, \"Missions\": null, \"Death Date\": \"10/31/1964\", \"Death Mission\": null}, {\"Name\": \"Edward G. Givens Jr. \", \"Year\": 1966, \"Group\": 5.0, \"Status\": \"Deceased\", \"Birth Date\": \"1/5/1930\", \"Birth Place\": \"Quanah, TX\", \"Gender\": \"Male\", \"Alma Mater\": \"US Naval Academy\", \"Undergraduate Major\": \"Naval Sciences\", \"Graduate Major\": null, \"Military Rank\": \"Major\", \"Military Branch\": \"US Air Force\", \"Space Flights\": 0, \"Space Flight (hr)\": 0, \"Space Walks\": 0, \"Space Walks (hr)\": 0.0, \"Missions\": null, \"Death Date\": \"6/6/1967\", \"Death Mission\": null}, {\"Name\": \"S. David Griggs\", \"Year\": 1978, \"Group\": 8.0, \"Status\": \"Deceased\", \"Birth Date\": \"9/7/1939\", \"Birth Place\": \"Portland, OR\", \"Gender\": \"Male\", \"Alma Mater\": \"US Naval Academy; George Washington University\", \"Undergraduate Major\": null, \"Graduate Major\": \"Business Administration\", \"Military Rank\": null, \"Military Branch\": null, \"Space Flights\": 1, \"Space Flight (hr)\": 167, \"Space Walks\": 1, \"Space Walks (hr)\": 3.0, \"Missions\": \"STS 51-D (Discovery)\", \"Death Date\": \"6/17/1989\", \"Death Mission\": null}, {\"Name\": \"Virgil I. Grissom\", \"Year\": 1959, \"Group\": 1.0, \"Status\": \"Deceased\", \"Birth Date\": \"4/3/1926\", \"Birth Place\": \"Mitchell, IN\", \"Gender\": \"Male\", \"Alma Mater\": \"Purdue University\", \"Undergraduate Major\": \"Mechanical Engineering\", \"Graduate Major\": null, \"Military Rank\": \"Lieutenant Colonel\", \"Military Branch\": \"US Air Force\", \"Space Flights\": 2, \"Space Flight (hr)\": 5, \"Space Walks\": 0, \"Space Walks (hr)\": 0.0, \"Missions\": \"Mercury 4, Gemini 3, Apollo 1\", \"Death Date\": \"1/27/1967\", \"Death Mission\": \"Apollo 1\"}, {\"Name\": \"Karl G. Henize\", \"Year\": 1967, \"Group\": 6.0, \"Status\": \"Deceased\", \"Birth Date\": \"10/17/1926\", \"Birth Place\": \"Cincinnati, OH\", \"Gender\": \"Male\", \"Alma Mater\": \"University of Virginia; University of Michigan\", \"Undergraduate Major\": \"Mathematics\", \"Graduate Major\": \"Astronomy\", \"Military Rank\": null, \"Military Branch\": null, \"Space Flights\": 1, \"Space Flight (hr)\": 190, \"Space Walks\": 0, \"Space Walks (hr)\": 0.0, \"Missions\": \"STS 51-F (Challenger)\", \"Death Date\": \"10/5/1993\", \"Death Mission\": null}, {\"Name\": \"Rick D. Husband\", \"Year\": 1995, \"Group\": 15.0, \"Status\": \"Deceased\", \"Birth Date\": \"7/12/1957\", \"Birth Place\": \"Amarillo, TX\", \"Gender\": \"Male\", \"Alma Mater\": \"Texas Tech University; California State University\", \"Undergraduate Major\": \"Mechanical Engineering\", \"Graduate Major\": \"Mechanical Engineering\", \"Military Rank\": \"Colonel\", \"Military Branch\": \"US Air Force\", \"Space Flights\": 2, \"Space Flight (hr)\": 617, \"Space Walks\": 0, \"Space Walks (hr)\": 0.0, \"Missions\": \"STS-96 (Discovery), STS-107 (Columbia)\", \"Death Date\": \"2/1/2003\", \"Death Mission\": \"STS-107 (Columbia)\"}, {\"Name\": \"James B. Irwin\", \"Year\": 1966, \"Group\": 5.0, \"Status\": \"Deceased\", \"Birth Date\": \"3/17/1930\", \"Birth Place\": \"Pittsburgh, PA\", \"Gender\": \"Male\", \"Alma Mater\": \"US Naval Academy; University of Michigan\", \"Undergraduate Major\": \"Naval Sciences\", \"Graduate Major\": \"Aeronautical Engineering\", \"Military Rank\": \"Colonel\", \"Military Branch\": \"US Air Force (Retired)\", \"Space Flights\": 1, \"Space Flight (hr)\": 295, \"Space Walks\": 3, \"Space Walks (hr)\": 20.0, \"Missions\": \"Apollo 15\", \"Death Date\": \"8/8/1991\", \"Death Mission\": null}, {\"Name\": \"William B. Lenoir\", \"Year\": 1967, \"Group\": 6.0, \"Status\": \"Deceased\", \"Birth Date\": \"3/14/1939\", \"Birth Place\": \"Miami, FL\", \"Gender\": \"Male\", \"Alma Mater\": \"MIT\", \"Undergraduate Major\": \"Electrical Engineering\", \"Graduate Major\": \"Electrical Engineering\", \"Military Rank\": null, \"Military Branch\": null, \"Space Flights\": 1, \"Space Flight (hr)\": 122, \"Space Walks\": 0, \"Space Walks (hr)\": 0.0, \"Missions\": \"STS-5 (Columbia)\", \"Death Date\": \"8/26/2012\", \"Death Mission\": null}, {\"Name\": \"J. Mike Lounge\", \"Year\": 1980, \"Group\": 9.0, \"Status\": \"Deceased\", \"Birth Date\": \"6/28/1946\", \"Birth Place\": \"Denver, CO\", \"Gender\": \"Male\", \"Alma Mater\": \"US Naval Academy; University of Colorado\", \"Undergraduate Major\": \"Mathematics & Physics\", \"Graduate Major\": \"Astrogeophysics\", \"Military Rank\": null, \"Military Branch\": null, \"Space Flights\": 3, \"Space Flight (hr)\": 483, \"Space Walks\": 0, \"Space Walks (hr)\": 0.0, \"Missions\": \"STS 51-I (Discovery), STS-26 (Discovery), STS-35 (Columbia)\", \"Death Date\": \"3/1/2011\", \"Death Mission\": null}, {\"Name\": \"G. David Low\", \"Year\": 1984, \"Group\": 10.0, \"Status\": \"Deceased\", \"Birth Date\": \"2/19/1956\", \"Birth Place\": \"Cleveland, OH\", \"Gender\": \"Male\", \"Alma Mater\": \"Washington & Lee University; Cornell University; Stanford University\", \"Undergraduate Major\": \"Physics & Engineering\", \"Graduate Major\": \"Mechanical Engineering; Aeronautics & Astronautics\", \"Military Rank\": null, \"Military Branch\": null, \"Space Flights\": 3, \"Space Flight (hr)\": 714, \"Space Walks\": 1, \"Space Walks (hr)\": 6.0, \"Missions\": \"STS-32 (Columbia), STS-43 (Atlantis), STS-57 (Endeavor)\", \"Death Date\": \"3/15/2008\", \"Death Mission\": null}, {\"Name\": \"William C. McCool\", \"Year\": 1996, \"Group\": 16.0, \"Status\": \"Deceased\", \"Birth Date\": \"9/23/1961\", \"Birth Place\": \"San Diego, CA\", \"Gender\": \"Male\", \"Alma Mater\": \"US Naval Academy; University of Maryland; US Naval Postgraduate School\", \"Undergraduate Major\": \"Naval Sciences\", \"Graduate Major\": \"Computer Science; Aeronautical Engineering\", \"Military Rank\": \"Commander\", \"Military Branch\": \"US Navy\", \"Space Flights\": 1, \"Space Flight (hr)\": 382, \"Space Walks\": 0, \"Space Walks (hr)\": 0.0, \"Missions\": \"STS-107 (Columbia)\", \"Death Date\": \"2/1/2003\", \"Death Mission\": \"STS-107 (Columbia)\"}, {\"Name\": \"Ronald E. McNair\", \"Year\": 1978, \"Group\": 8.0, \"Status\": \"Deceased\", \"Birth Date\": \"10/21/1950\", \"Birth Place\": \"Lake City, SC\", \"Gender\": \"Male\", \"Alma Mater\": \"North Carolina A&T State College; MIT\", \"Undergraduate Major\": \"Physics\", \"Graduate Major\": \"Physics\", \"Military Rank\": null, \"Military Branch\": null, \"Space Flights\": 2, \"Space Flight (hr)\": 191, \"Space Walks\": 0, \"Space Walks (hr)\": 0.0, \"Missions\": \"STS 41-B (Challenger), STS 51-L (Challenger)\", \"Death Date\": \"1/28/1986\", \"Death Mission\": \"STS 51-L (Challenger)\"}, {\"Name\": \"Brian T. O'Leary\", \"Year\": 1967, \"Group\": 6.0, \"Status\": \"Deceased\", \"Birth Date\": \"1/27/1940\", \"Birth Place\": \"Boston, MA\", \"Gender\": \"Male\", \"Alma Mater\": \"Williams College; Georgetown University; University of California-Berkeley\", \"Undergraduate Major\": \"Physics\", \"Graduate Major\": \"Astronomy\", \"Military Rank\": null, \"Military Branch\": null, \"Space Flights\": 0, \"Space Flight (hr)\": 0, \"Space Walks\": 0, \"Space Walks (hr)\": 0.0, \"Missions\": null, \"Death Date\": \"7/28/2011\", \"Death Mission\": null}, {\"Name\": \"Ellison S. Onizuka\", \"Year\": 1978, \"Group\": 8.0, \"Status\": \"Deceased\", \"Birth Date\": \"6/24/1946\", \"Birth Place\": \"Kealakekua, HI\", \"Gender\": \"Male\", \"Alma Mater\": \"University of Colorado\", \"Undergraduate Major\": \"Aerospace Engineering\", \"Graduate Major\": \"Aerospace Engineering\", \"Military Rank\": \"Lieutenant Colonel\", \"Military Branch\": \"US Air Force\", \"Space Flights\": 2, \"Space Flight (hr)\": 73, \"Space Walks\": 0, \"Space Walks (hr)\": 0.0, \"Missions\": \"STS 51-C (Discovery), STS 51-L (Challenger)\", \"Death Date\": \"1/28/1986\", \"Death Mission\": \"STS 51-L (Challenger)\"}, {\"Name\": \"Robert F. Overmyer\", \"Year\": 1969, \"Group\": 7.0, \"Status\": \"Deceased\", \"Birth Date\": \"7/14/1936\", \"Birth Place\": \"Lorain, OH\", \"Gender\": \"Male\", \"Alma Mater\": \"Baldwin Wallace College; US Naval Postgraduate School\", \"Undergraduate Major\": \"Physics\", \"Graduate Major\": \"Aeronautics\", \"Military Rank\": \"Colonel\", \"Military Branch\": \"US Marine Corps (Retired)\", \"Space Flights\": 2, \"Space Flight (hr)\": 290, \"Space Walks\": 0, \"Space Walks (hr)\": 0.0, \"Missions\": \"STS-5 (Columbia), STS 51-B (Challenger)\", \"Death Date\": \"3/22/1996\", \"Death Mission\": null}, {\"Name\": \"Alan G. Poindexter\", \"Year\": 1998, \"Group\": 17.0, \"Status\": \"Deceased\", \"Birth Date\": \"11/5/1961\", \"Birth Place\": \"Pasadena, CA\", \"Gender\": \"Male\", \"Alma Mater\": \"Georgia Institute of Technology; US Naval Postgraduate School\", \"Undergraduate Major\": \"Aerospace Engineering\", \"Graduate Major\": \"Aeronautical Engineering\", \"Military Rank\": \"Captain\", \"Military Branch\": \"US Navy\", \"Space Flights\": 2, \"Space Flight (hr)\": 669, \"Space Walks\": 0, \"Space Walks (hr)\": 0.0, \"Missions\": \"STS-122 (Atlantis), STS-131 (Discovery)\", \"Death Date\": \"7/1/2012\", \"Death Mission\": null}, {\"Name\": \"Judith A. Resnik\", \"Year\": 1978, \"Group\": 8.0, \"Status\": \"Deceased\", \"Birth Date\": \"4/5/1949\", \"Birth Place\": \"Akron, OH\", \"Gender\": \"Female\", \"Alma Mater\": \"Carnegie-Mellon University; University of Maryland\", \"Undergraduate Major\": \"Electrical Engineering\", \"Graduate Major\": \"Electrical Engineering\", \"Military Rank\": null, \"Military Branch\": null, \"Space Flights\": 2, \"Space Flight (hr)\": 144, \"Space Walks\": 0, \"Space Walks (hr)\": 0.0, \"Missions\": \"STS 41-D (Discovery), STS 51-L (Challenger)\", \"Death Date\": \"1/28/1986\", \"Death Mission\": \"STS 51-L (Challenger)\"}, {\"Name\": \"Sally K. Ride\", \"Year\": 1978, \"Group\": 8.0, \"Status\": \"Deceased\", \"Birth Date\": \"5/26/1951\", \"Birth Place\": \"Los Angeles, CA\", \"Gender\": \"Female\", \"Alma Mater\": \"Stanford University\", \"Undergraduate Major\": \"Physics; English\", \"Graduate Major\": \"Physics\", \"Military Rank\": null, \"Military Branch\": null, \"Space Flights\": 2, \"Space Flight (hr)\": 343, \"Space Walks\": 0, \"Space Walks (hr)\": 0.0, \"Missions\": \"STS-7 (Challenger), STS 41-G (Challenger)\", \"Death Date\": \"7/23/2012\", \"Death Mission\": null}, {\"Name\": \"Patricia Hilliard Robertson\", \"Year\": 1998, \"Group\": 17.0, \"Status\": \"Deceased\", \"Birth Date\": \"3/12/1963\", \"Birth Place\": \"Indiana, PA\", \"Gender\": \"Female\", \"Alma Mater\": \"Indiana University of Pennsylvania; Medical College of Pennsylvania\", \"Undergraduate Major\": \"Biology\", \"Graduate Major\": \"Medicine\", \"Military Rank\": null, \"Military Branch\": null, \"Space Flights\": 0, \"Space Flight (hr)\": 0, \"Space Walks\": 0, \"Space Walks (hr)\": 0.0, \"Missions\": null, \"Death Date\": \"5/24/2001\", \"Death Mission\": null}, {\"Name\": \"Stuart A. Roosa\", \"Year\": 1966, \"Group\": 5.0, \"Status\": \"Deceased\", \"Birth Date\": \"8/16/1933\", \"Birth Place\": \"Durango, CO\", \"Gender\": \"Male\", \"Alma Mater\": \"University of Colorado\", \"Undergraduate Major\": \"Aeronautical Engineering\", \"Graduate Major\": null, \"Military Rank\": \"Colonel\", \"Military Branch\": \"US Air Force (Retired)\", \"Space Flights\": 1, \"Space Flight (hr)\": 216, \"Space Walks\": 0, \"Space Walks (hr)\": 0.0, \"Missions\": \"Apollo 14\", \"Death Date\": \"12/12/1994\", \"Death Mission\": null}, {\"Name\": \"Walter M. Schirra Jr. \", \"Year\": 1959, \"Group\": 1.0, \"Status\": \"Deceased\", \"Birth Date\": \"3/12/1923\", \"Birth Place\": \"Hackensack, NJ\", \"Gender\": \"Male\", \"Alma Mater\": \"US Naval Academy\", \"Undergraduate Major\": \"Naval Sciences\", \"Graduate Major\": null, \"Military Rank\": \"Captain\", \"Military Branch\": \"US Navy (Retired)\", \"Space Flights\": 3, \"Space Flight (hr)\": 295, \"Space Walks\": 0, \"Space Walks (hr)\": 0.0, \"Missions\": \"Mercury 8, Gemini 6, Apollo 7\", \"Death Date\": \"5/2/2007\", \"Death Mission\": null}, {\"Name\": \"Francis R. Scobee\", \"Year\": 1978, \"Group\": 8.0, \"Status\": \"Deceased\", \"Birth Date\": \"5/19/1939\", \"Birth Place\": \"Cle Elum, WA\", \"Gender\": \"Male\", \"Alma Mater\": \"University of Arizona\", \"Undergraduate Major\": \"Aerospace Engineering\", \"Graduate Major\": null, \"Military Rank\": \"Major\", \"Military Branch\": \"US Air Force (Retired)\", \"Space Flights\": 2, \"Space Flight (hr)\": 167, \"Space Walks\": 0, \"Space Walks (hr)\": 0.0, \"Missions\": \"STS 41-C (Challenger), STS 51-L (Challenger)\", \"Death Date\": \"1/28/1986\", \"Death Mission\": \"STS 51-L (Challenger)\"}, {\"Name\": \"Elliot M. See Jr. \", \"Year\": 1962, \"Group\": 2.0, \"Status\": \"Deceased\", \"Birth Date\": \"7/23/1927\", \"Birth Place\": \"Dallas, TX\", \"Gender\": \"Male\", \"Alma Mater\": \"US Merchant Marine Academy; University of California-Los Angeles\", \"Undergraduate Major\": null, \"Graduate Major\": \"Engineering\", \"Military Rank\": null, \"Military Branch\": null, \"Space Flights\": 0, \"Space Flight (hr)\": 0, \"Space Walks\": 0, \"Space Walks (hr)\": 0.0, \"Missions\": null, \"Death Date\": \"2/28/1966\", \"Death Mission\": null}, {\"Name\": \"Alan B. Shepard Jr. \", \"Year\": 1959, \"Group\": 1.0, \"Status\": \"Deceased\", \"Birth Date\": \"11/18/1923\", \"Birth Place\": \"East Derry, NH\", \"Gender\": \"Male\", \"Alma Mater\": \"US Naval Academy\", \"Undergraduate Major\": \"Naval Sciences\", \"Graduate Major\": null, \"Military Rank\": \"Rear Admiral\", \"Military Branch\": \"US Navy (Retired)\", \"Space Flights\": 2, \"Space Flight (hr)\": 216, \"Space Walks\": 2, \"Space Walks (hr)\": 9.0, \"Missions\": \"Mercury 3, Apollo 14\", \"Death Date\": \"7/21/1998\", \"Death Mission\": null}, {\"Name\": \"Donald K. Slayton\", \"Year\": 1959, \"Group\": 1.0, \"Status\": \"Deceased\", \"Birth Date\": \"3/1/1924\", \"Birth Place\": \"Sparta, WI\", \"Gender\": \"Male\", \"Alma Mater\": \"University of Minnesota\", \"Undergraduate Major\": \"Aeronautical Engineering\", \"Graduate Major\": null, \"Military Rank\": \"Major\", \"Military Branch\": \"US Air Force Reserves\", \"Space Flights\": 1, \"Space Flight (hr)\": 217, \"Space Walks\": 0, \"Space Walks (hr)\": 0.0, \"Missions\": \"Apollo-Soyuz Test Project\", \"Death Date\": \"6/13/1993\", \"Death Mission\": null}, {\"Name\": \"Michael J. Smith\", \"Year\": 1980, \"Group\": 9.0, \"Status\": \"Deceased\", \"Birth Date\": \"4/30/1945\", \"Birth Place\": \"Beaufort, NC\", \"Gender\": \"Male\", \"Alma Mater\": \"US Naval Academy; US Naval Postgraduate School\", \"Undergraduate Major\": \"Naval Sciences\", \"Graduate Major\": \"Aeronautical Engineering\", \"Military Rank\": \"Captain\", \"Military Branch\": \"US Navy\", \"Space Flights\": 1, \"Space Flight (hr)\": 0, \"Space Walks\": 0, \"Space Walks (hr)\": 0.0, \"Missions\": \"STS 51-L (Challenger)\", \"Death Date\": \"1/28/1986\", \"Death Mission\": \"STS 51-L (Challenger)\"}, {\"Name\": \"John L. Swigert Jr. \", \"Year\": 1966, \"Group\": 5.0, \"Status\": \"Deceased\", \"Birth Date\": \"8/30/1931\", \"Birth Place\": \"Denver, CO\", \"Gender\": \"Male\", \"Alma Mater\": \"University of Colorado; Rensselaer Polytechnic Institute; University of Hartford\", \"Undergraduate Major\": \"Mechanical Engineering\", \"Graduate Major\": \"Aerospace Science; Business Administration\", \"Military Rank\": null, \"Military Branch\": null, \"Space Flights\": 1, \"Space Flight (hr)\": 142, \"Space Walks\": 0, \"Space Walks (hr)\": 0.0, \"Missions\": \"Apollo 13\", \"Death Date\": \"12/27/1982\", \"Death Mission\": null}, {\"Name\": \"Stephen D. Thorne\", \"Year\": 1985, \"Group\": 11.0, \"Status\": \"Deceased\", \"Birth Date\": \"2/11/1953\", \"Birth Place\": \"Frankfurt, West Germany\", \"Gender\": \"Male\", \"Alma Mater\": \"US Naval Academy\", \"Undergraduate Major\": \"Engineering\", \"Graduate Major\": null, \"Military Rank\": \"Lieutenant Commander\", \"Military Branch\": \"US Navy\", \"Space Flights\": 0, \"Space Flight (hr)\": 0, \"Space Walks\": 0, \"Space Walks (hr)\": 0.0, \"Missions\": null, \"Death Date\": \"5/24/1986\", \"Death Mission\": null}, {\"Name\": \"Charles Lacy Veach\", \"Year\": 1984, \"Group\": 10.0, \"Status\": \"Deceased\", \"Birth Date\": \"9/18/1944\", \"Birth Place\": \"Chicago, IL\", \"Gender\": \"Male\", \"Alma Mater\": \"US Air Force Academy\", \"Undergraduate Major\": \"Engineering Management\", \"Graduate Major\": null, \"Military Rank\": null, \"Military Branch\": null, \"Space Flights\": 2, \"Space Flight (hr)\": 436, \"Space Walks\": 0, \"Space Walks (hr)\": 0.0, \"Missions\": \"STS-39 (Discovery), STS-52 (Columbia)\", \"Death Date\": \"10/3/1995\", \"Death Mission\": null}, {\"Name\": \"Janice E. Voss\", \"Year\": 1990, \"Group\": 13.0, \"Status\": \"Deceased\", \"Birth Date\": \"10/8/1956\", \"Birth Place\": \"South Bend, IN\", \"Gender\": \"Female\", \"Alma Mater\": \"Purdue University; MIT\", \"Undergraduate Major\": \"Engineering Science\", \"Graduate Major\": \"Electrical Engineering; Aeronautics & Astronautics\", \"Military Rank\": null, \"Military Branch\": null, \"Space Flights\": 5, \"Space Flight (hr)\": 1179, \"Space Walks\": 0, \"Space Walks (hr)\": 0.0, \"Missions\": \"STS-57 (Endeavor), STS-63 (Discovery), STS-83 (Columbia), STS-94 (Columbia), STS-99 (Endeavor)\", \"Death Date\": \"2/6/2012\", \"Death Mission\": null}, {\"Name\": \"David M. Walker\", \"Year\": 1978, \"Group\": 8.0, \"Status\": \"Deceased\", \"Birth Date\": \"5/20/1944\", \"Birth Place\": \"Columbus, GA\", \"Gender\": \"Male\", \"Alma Mater\": \"US Naval Academy\", \"Undergraduate Major\": \"Naval Sciences\", \"Graduate Major\": null, \"Military Rank\": \"Captain\", \"Military Branch\": \"US Navy (Retired)\", \"Space Flights\": 4, \"Space Flight (hr)\": 724, \"Space Walks\": 0, \"Space Walks (hr)\": 0.0, \"Missions\": \"STS 51-A (Discovery), STS-30 (Atlantis), STS-53 (Discovery), STS-69 (Endeavor)\", \"Death Date\": \"4/23/2001\", \"Death Mission\": null}, {\"Name\": \"Edward H. White II \", \"Year\": 1962, \"Group\": 2.0, \"Status\": \"Deceased\", \"Birth Date\": \"11/14/1930\", \"Birth Place\": \"San Antonio, TX\", \"Gender\": \"Male\", \"Alma Mater\": \"US Military Academy; University of Michigan\", \"Undergraduate Major\": null, \"Graduate Major\": \"Aeronautical Engineering\", \"Military Rank\": \"Lieutenant Colonel\", \"Military Branch\": \"US Air Force\", \"Space Flights\": 2, \"Space Flight (hr)\": 97, \"Space Walks\": 1, \"Space Walks (hr)\": 0.5, \"Missions\": \"Gemini 4, Apollo 1\", \"Death Date\": \"1/27/1967\", \"Death Mission\": \"Apollo 1\"}, {\"Name\": \"Clifton C. Williams Jr. \", \"Year\": 1963, \"Group\": 3.0, \"Status\": \"Deceased\", \"Birth Date\": \"9/26/1932\", \"Birth Place\": \"Mobile, AL\", \"Gender\": \"Male\", \"Alma Mater\": \"Auburn University\", \"Undergraduate Major\": \"Mechanical Engineering\", \"Graduate Major\": null, \"Military Rank\": \"Major\", \"Military Branch\": \"US Marine Corps\", \"Space Flights\": 0, \"Space Flight (hr)\": 0, \"Space Walks\": 0, \"Space Walks (hr)\": 0.0, \"Missions\": null, \"Death Date\": \"10/5/1967\", \"Death Mission\": null}]}}, {\"mode\": \"vega-lite\"});\n",
       "</script>"
      ],
      "text/plain": [
       "alt.Chart(...)"
      ]
     },
     "metadata": {},
     "output_type": "display_data"
    },
    {
     "data": {
      "text/html": [
       "\n",
       "<div id=\"altair-viz-65f31c3ced2b49f08495cf8caa965dfe\"></div>\n",
       "<script type=\"text/javascript\">\n",
       "  (function(spec, embedOpt){\n",
       "    let outputDiv = document.currentScript.previousElementSibling;\n",
       "    if (outputDiv.id !== \"altair-viz-65f31c3ced2b49f08495cf8caa965dfe\") {\n",
       "      outputDiv = document.getElementById(\"altair-viz-65f31c3ced2b49f08495cf8caa965dfe\");\n",
       "    }\n",
       "    const paths = {\n",
       "      \"vega\": \"https://cdn.jsdelivr.net/npm//vega@5?noext\",\n",
       "      \"vega-lib\": \"https://cdn.jsdelivr.net/npm//vega-lib?noext\",\n",
       "      \"vega-lite\": \"https://cdn.jsdelivr.net/npm//vega-lite@4.8.1?noext\",\n",
       "      \"vega-embed\": \"https://cdn.jsdelivr.net/npm//vega-embed@6?noext\",\n",
       "    };\n",
       "\n",
       "    function loadScript(lib) {\n",
       "      return new Promise(function(resolve, reject) {\n",
       "        var s = document.createElement('script');\n",
       "        s.src = paths[lib];\n",
       "        s.async = true;\n",
       "        s.onload = () => resolve(paths[lib]);\n",
       "        s.onerror = () => reject(`Error loading script: ${paths[lib]}`);\n",
       "        document.getElementsByTagName(\"head\")[0].appendChild(s);\n",
       "      });\n",
       "    }\n",
       "\n",
       "    function showError(err) {\n",
       "      outputDiv.innerHTML = `<div class=\"error\" style=\"color:red;\">${err}</div>`;\n",
       "      throw err;\n",
       "    }\n",
       "\n",
       "    function displayChart(vegaEmbed) {\n",
       "      vegaEmbed(outputDiv, spec, embedOpt)\n",
       "        .catch(err => showError(`Javascript Error: ${err.message}<br>This usually means there's a typo in your chart specification. See the javascript console for the full traceback.`));\n",
       "    }\n",
       "\n",
       "    if(typeof define === \"function\" && define.amd) {\n",
       "      requirejs.config({paths});\n",
       "      require([\"vega-embed\"], displayChart, err => showError(`Error loading script: ${err.message}`));\n",
       "    } else if (typeof vegaEmbed === \"function\") {\n",
       "      displayChart(vegaEmbed);\n",
       "    } else {\n",
       "      loadScript(\"vega\")\n",
       "        .then(() => loadScript(\"vega-lite\"))\n",
       "        .then(() => loadScript(\"vega-embed\"))\n",
       "        .catch(showError)\n",
       "        .then(() => displayChart(vegaEmbed));\n",
       "    }\n",
       "  })({\"config\": {\"view\": {\"continuousWidth\": 400, \"continuousHeight\": 300}}, \"data\": {\"name\": \"data-67e0a46a3ce8a6ec6dea522d3738dd03\"}, \"facet\": {\"type\": \"nominal\", \"field\": \"Gender\"}, \"spec\": {\"mark\": {\"type\": \"bar\", \"size\": 40}, \"encoding\": {\"color\": {\"type\": \"nominal\", \"field\": \"Gender\", \"scale\": {\"domain\": [\"Male\", \"Female\"], \"range\": [\"Navy\", \"tomato\"]}}, \"x\": {\"type\": \"quantitative\", \"field\": \"Space Flights\"}, \"y\": {\"type\": \"quantitative\", \"aggregate\": \"count\"}}}, \"$schema\": \"https://vega.github.io/schema/vega-lite/v4.8.1.json\", \"datasets\": {\"data-67e0a46a3ce8a6ec6dea522d3738dd03\": [{\"Name\": \"Michael P. Anderson\", \"Year\": 1995, \"Group\": 15.0, \"Status\": \"Deceased\", \"Birth Date\": \"12/25/1959\", \"Birth Place\": \"Plattsburgh, NY\", \"Gender\": \"Male\", \"Alma Mater\": \"University of Washington; Creighton University\", \"Undergraduate Major\": \"Physics & Astronomy\", \"Graduate Major\": \"Physics\", \"Military Rank\": \"Lieutenant Colonel\", \"Military Branch\": \"US Air Force\", \"Space Flights\": 2, \"Space Flight (hr)\": 594, \"Space Walks\": 0, \"Space Walks (hr)\": 0.0, \"Missions\": \"STS-89 (Endeavor), STS-107 (Columbia)\", \"Death Date\": \"2/1/2003\", \"Death Mission\": \"STS-107 (Columbia)\"}, {\"Name\": \"Neil A. Armstrong\", \"Year\": 1962, \"Group\": 2.0, \"Status\": \"Deceased\", \"Birth Date\": \"8/5/1930\", \"Birth Place\": \"Wapakoneta, OH\", \"Gender\": \"Male\", \"Alma Mater\": \"Purdue University; University of Southern California\", \"Undergraduate Major\": \"Aeronautical Engineering\", \"Graduate Major\": \"Aerospace Engineering\", \"Military Rank\": null, \"Military Branch\": null, \"Space Flights\": 2, \"Space Flight (hr)\": 205, \"Space Walks\": 1, \"Space Walks (hr)\": 2.0, \"Missions\": \"Gemini 8, Apollo 11\", \"Death Date\": \"8/25/2012\", \"Death Mission\": null}, {\"Name\": \"Charles A. Bassett II \", \"Year\": 1963, \"Group\": 3.0, \"Status\": \"Deceased\", \"Birth Date\": \"12/30/1931\", \"Birth Place\": \"Dayton, OH\", \"Gender\": \"Male\", \"Alma Mater\": \"Texas Technological College\", \"Undergraduate Major\": \"Electrical Engineering\", \"Graduate Major\": null, \"Military Rank\": \"Captain\", \"Military Branch\": \"US Air Force\", \"Space Flights\": 0, \"Space Flight (hr)\": 0, \"Space Walks\": 0, \"Space Walks (hr)\": 0.0, \"Missions\": null, \"Death Date\": \"2/28/1966\", \"Death Mission\": null}, {\"Name\": \"Charles E. Brady Jr. \", \"Year\": 1992, \"Group\": 14.0, \"Status\": \"Deceased\", \"Birth Date\": \"8/12/1951\", \"Birth Place\": \"Pinehurst, NC\", \"Gender\": \"Male\", \"Alma Mater\": \"University of North Carolina at Chapel Hill; Duke University\", \"Undergraduate Major\": null, \"Graduate Major\": \"Medicine\", \"Military Rank\": \"Captain\", \"Military Branch\": \"US Navy\", \"Space Flights\": 1, \"Space Flight (hr)\": 405, \"Space Walks\": 0, \"Space Walks (hr)\": 0.0, \"Missions\": \"STS-78 (Columbia)\", \"Death Date\": \"7/23/2006\", \"Death Mission\": null}, {\"Name\": \"David M. Brown\", \"Year\": 1996, \"Group\": 16.0, \"Status\": \"Deceased\", \"Birth Date\": \"4/16/1956\", \"Birth Place\": \"Arlington, VA\", \"Gender\": \"Male\", \"Alma Mater\": \"College of William & Mary; Eastern Virginia Medical School\", \"Undergraduate Major\": \"Biology\", \"Graduate Major\": \"Medicine\", \"Military Rank\": \"Captain\", \"Military Branch\": \"US Navy\", \"Space Flights\": 1, \"Space Flight (hr)\": 382, \"Space Walks\": 0, \"Space Walks (hr)\": 0.0, \"Missions\": \"STS-107 (Columbia)\", \"Death Date\": \"2/1/2003\", \"Death Mission\": \"STS-107 (Columbia)\"}, {\"Name\": \"John S. Bull\", \"Year\": 1966, \"Group\": 5.0, \"Status\": \"Deceased\", \"Birth Date\": \"9/25/1934\", \"Birth Place\": \"Memphis, TN\", \"Gender\": \"Male\", \"Alma Mater\": \"Rice University; Stanford University\", \"Undergraduate Major\": \"Mechanical Engineering\", \"Graduate Major\": \"Aeronautical Engineering\", \"Military Rank\": null, \"Military Branch\": null, \"Space Flights\": 0, \"Space Flight (hr)\": 0, \"Space Walks\": 0, \"Space Walks (hr)\": 0.0, \"Missions\": null, \"Death Date\": \"8/11/2008\", \"Death Mission\": null}, {\"Name\": \"Fernando Caldeiro\", \"Year\": 1996, \"Group\": 16.0, \"Status\": \"Deceased\", \"Birth Date\": \"6/12/1958\", \"Birth Place\": \"Buenos Aires, Argentina\", \"Gender\": \"Male\", \"Alma Mater\": \"University of Arizona; University of Central Florida\", \"Undergraduate Major\": \"Mechanical Engineering\", \"Graduate Major\": \"Engineering Management\", \"Military Rank\": null, \"Military Branch\": null, \"Space Flights\": 0, \"Space Flight (hr)\": 0, \"Space Walks\": 0, \"Space Walks (hr)\": 0.0, \"Missions\": null, \"Death Date\": \"10/3/2009\", \"Death Mission\": null}, {\"Name\": \"Manley Lanier Carter Jr. \", \"Year\": 1984, \"Group\": 10.0, \"Status\": \"Deceased\", \"Birth Date\": \"8/15/1947\", \"Birth Place\": \"Macon, GA\", \"Gender\": \"Male\", \"Alma Mater\": \"Emory University\", \"Undergraduate Major\": \"Chemistry\", \"Graduate Major\": \"Medicine\", \"Military Rank\": \"Captain\", \"Military Branch\": \"US Navy\", \"Space Flights\": 1, \"Space Flight (hr)\": 120, \"Space Walks\": 0, \"Space Walks (hr)\": 0.0, \"Missions\": \"STS-33 (Discovery)\", \"Death Date\": \"4/5/1991\", \"Death Mission\": null}, {\"Name\": \"Roger B. Chaffee\", \"Year\": 1963, \"Group\": 3.0, \"Status\": \"Deceased\", \"Birth Date\": \"2/15/1935\", \"Birth Place\": \"Grand Rapids, MI\", \"Gender\": \"Male\", \"Alma Mater\": \"Purdue University\", \"Undergraduate Major\": \"Aeronautical Engineering\", \"Graduate Major\": null, \"Military Rank\": \"Lieutenant Commander\", \"Military Branch\": \"US Navy\", \"Space Flights\": 1, \"Space Flight (hr)\": 0, \"Space Walks\": 0, \"Space Walks (hr)\": 0.0, \"Missions\": \"Apollo 1\", \"Death Date\": \"1/27/1967\", \"Death Mission\": \"Apollo 1\"}, {\"Name\": \"Kalpana Chawla\", \"Year\": 1995, \"Group\": 15.0, \"Status\": \"Deceased\", \"Birth Date\": \"6/1/1961\", \"Birth Place\": \"Karnal, India\", \"Gender\": \"Female\", \"Alma Mater\": \"Punjab Engineering College; University of Texas-Arlington; University of Colorado\", \"Undergraduate Major\": \"Aeronautical Engineering\", \"Graduate Major\": \"Aerospace Engineering\", \"Military Rank\": null, \"Military Branch\": null, \"Space Flights\": 2, \"Space Flight (hr)\": 734, \"Space Walks\": 0, \"Space Walks (hr)\": 0.0, \"Missions\": \"STS-87 (Columbia), STS-107 (Columbia)\", \"Death Date\": \"2/1/2003\", \"Death Mission\": \"STS-107 (Columbia)\"}, {\"Name\": \"Laurel B. Clark\", \"Year\": 1996, \"Group\": 16.0, \"Status\": \"Deceased\", \"Birth Date\": \"3/10/1961\", \"Birth Place\": \"Ames, IA\", \"Gender\": \"Female\", \"Alma Mater\": \"University of Wisconsin-Madison\", \"Undergraduate Major\": \"Zoology\", \"Graduate Major\": \"Medicine\", \"Military Rank\": \"Captain\", \"Military Branch\": \"US Navy\", \"Space Flights\": 1, \"Space Flight (hr)\": 382, \"Space Walks\": 0, \"Space Walks (hr)\": 0.0, \"Missions\": \"STS-107 (Columbia)\", \"Death Date\": \"2/1/2003\", \"Death Mission\": \"STS-107 (Columbia)\"}, {\"Name\": \"Charles Conrad Jr. \", \"Year\": 1962, \"Group\": 2.0, \"Status\": \"Deceased\", \"Birth Date\": \"5/2/1930\", \"Birth Place\": \"Philadelphia, PA\", \"Gender\": \"Male\", \"Alma Mater\": \"Princeton University\", \"Undergraduate Major\": \"Aeronautical Engineering\", \"Graduate Major\": null, \"Military Rank\": \"Captain\", \"Military Branch\": \"US Navy (Retired)\", \"Space Flights\": 4, \"Space Flight (hr)\": 1179, \"Space Walks\": 4, \"Space Walks (hr)\": 12.0, \"Missions\": \"Gemini 5, Gemini 11, Apollo 12, Skylab 2\", \"Death Date\": \"7/8/1999\", \"Death Mission\": null}, {\"Name\": \"L. Gordon Cooper Jr. \", \"Year\": 1959, \"Group\": 1.0, \"Status\": \"Deceased\", \"Birth Date\": \"3/6/1927\", \"Birth Place\": \"Shawnee, OK\", \"Gender\": \"Male\", \"Alma Mater\": \"Air Force Institute of Technology\", \"Undergraduate Major\": \"Aeronautical Engineering\", \"Graduate Major\": null, \"Military Rank\": \"Colonel\", \"Military Branch\": \"US Air Force (Retired)\", \"Space Flights\": 2, \"Space Flight (hr)\": 225, \"Space Walks\": 0, \"Space Walks (hr)\": 0.0, \"Missions\": \"Mercury 9, Gemini 5\", \"Death Date\": \"10/4/2004\", \"Death Mission\": null}, {\"Name\": \"Donn F. Eisele\", \"Year\": 1963, \"Group\": 3.0, \"Status\": \"Deceased\", \"Birth Date\": \"5/23/1930\", \"Birth Place\": \"Columbus, OH\", \"Gender\": \"Male\", \"Alma Mater\": \"US Naval Academy; US Air Force Institute of Technology\", \"Undergraduate Major\": \"Astronautics\", \"Graduate Major\": \"Astronautics\", \"Military Rank\": \"Colonel\", \"Military Branch\": \"US Air Force (Retired)\", \"Space Flights\": 1, \"Space Flight (hr)\": 260, \"Space Walks\": 0, \"Space Walks (hr)\": 0.0, \"Missions\": \"Apollo 7\", \"Death Date\": \"12/2/1987\", \"Death Mission\": null}, {\"Name\": \"Ronald E. Evans Jr. \", \"Year\": 1966, \"Group\": 5.0, \"Status\": \"Deceased\", \"Birth Date\": \"11/10/1933\", \"Birth Place\": \"St. Francis, KS\", \"Gender\": \"Male\", \"Alma Mater\": \"University of Kansas; US Naval Postgraduate School\", \"Undergraduate Major\": \"Electrical Engineering\", \"Graduate Major\": \"Aeronautical Engineering\", \"Military Rank\": \"Captain\", \"Military Branch\": \"US Navy (Retired)\", \"Space Flights\": 1, \"Space Flight (hr)\": 301, \"Space Walks\": 1, \"Space Walks (hr)\": 1.0, \"Missions\": \"Apollo 17\", \"Death Date\": \"4/6/1990\", \"Death Mission\": null}, {\"Name\": \"Theodore C. Freeman\", \"Year\": 1963, \"Group\": 3.0, \"Status\": \"Deceased\", \"Birth Date\": \"2/18/1930\", \"Birth Place\": \"Haversford, PA\", \"Gender\": \"Male\", \"Alma Mater\": \"US Naval Academy; University of Michigan\", \"Undergraduate Major\": null, \"Graduate Major\": \"Aeronautical Engineering\", \"Military Rank\": \"Captain\", \"Military Branch\": \"US Air Force\", \"Space Flights\": 0, \"Space Flight (hr)\": 0, \"Space Walks\": 0, \"Space Walks (hr)\": 0.0, \"Missions\": null, \"Death Date\": \"10/31/1964\", \"Death Mission\": null}, {\"Name\": \"Edward G. Givens Jr. \", \"Year\": 1966, \"Group\": 5.0, \"Status\": \"Deceased\", \"Birth Date\": \"1/5/1930\", \"Birth Place\": \"Quanah, TX\", \"Gender\": \"Male\", \"Alma Mater\": \"US Naval Academy\", \"Undergraduate Major\": \"Naval Sciences\", \"Graduate Major\": null, \"Military Rank\": \"Major\", \"Military Branch\": \"US Air Force\", \"Space Flights\": 0, \"Space Flight (hr)\": 0, \"Space Walks\": 0, \"Space Walks (hr)\": 0.0, \"Missions\": null, \"Death Date\": \"6/6/1967\", \"Death Mission\": null}, {\"Name\": \"S. David Griggs\", \"Year\": 1978, \"Group\": 8.0, \"Status\": \"Deceased\", \"Birth Date\": \"9/7/1939\", \"Birth Place\": \"Portland, OR\", \"Gender\": \"Male\", \"Alma Mater\": \"US Naval Academy; George Washington University\", \"Undergraduate Major\": null, \"Graduate Major\": \"Business Administration\", \"Military Rank\": null, \"Military Branch\": null, \"Space Flights\": 1, \"Space Flight (hr)\": 167, \"Space Walks\": 1, \"Space Walks (hr)\": 3.0, \"Missions\": \"STS 51-D (Discovery)\", \"Death Date\": \"6/17/1989\", \"Death Mission\": null}, {\"Name\": \"Virgil I. Grissom\", \"Year\": 1959, \"Group\": 1.0, \"Status\": \"Deceased\", \"Birth Date\": \"4/3/1926\", \"Birth Place\": \"Mitchell, IN\", \"Gender\": \"Male\", \"Alma Mater\": \"Purdue University\", \"Undergraduate Major\": \"Mechanical Engineering\", \"Graduate Major\": null, \"Military Rank\": \"Lieutenant Colonel\", \"Military Branch\": \"US Air Force\", \"Space Flights\": 2, \"Space Flight (hr)\": 5, \"Space Walks\": 0, \"Space Walks (hr)\": 0.0, \"Missions\": \"Mercury 4, Gemini 3, Apollo 1\", \"Death Date\": \"1/27/1967\", \"Death Mission\": \"Apollo 1\"}, {\"Name\": \"Karl G. Henize\", \"Year\": 1967, \"Group\": 6.0, \"Status\": \"Deceased\", \"Birth Date\": \"10/17/1926\", \"Birth Place\": \"Cincinnati, OH\", \"Gender\": \"Male\", \"Alma Mater\": \"University of Virginia; University of Michigan\", \"Undergraduate Major\": \"Mathematics\", \"Graduate Major\": \"Astronomy\", \"Military Rank\": null, \"Military Branch\": null, \"Space Flights\": 1, \"Space Flight (hr)\": 190, \"Space Walks\": 0, \"Space Walks (hr)\": 0.0, \"Missions\": \"STS 51-F (Challenger)\", \"Death Date\": \"10/5/1993\", \"Death Mission\": null}, {\"Name\": \"Rick D. Husband\", \"Year\": 1995, \"Group\": 15.0, \"Status\": \"Deceased\", \"Birth Date\": \"7/12/1957\", \"Birth Place\": \"Amarillo, TX\", \"Gender\": \"Male\", \"Alma Mater\": \"Texas Tech University; California State University\", \"Undergraduate Major\": \"Mechanical Engineering\", \"Graduate Major\": \"Mechanical Engineering\", \"Military Rank\": \"Colonel\", \"Military Branch\": \"US Air Force\", \"Space Flights\": 2, \"Space Flight (hr)\": 617, \"Space Walks\": 0, \"Space Walks (hr)\": 0.0, \"Missions\": \"STS-96 (Discovery), STS-107 (Columbia)\", \"Death Date\": \"2/1/2003\", \"Death Mission\": \"STS-107 (Columbia)\"}, {\"Name\": \"James B. Irwin\", \"Year\": 1966, \"Group\": 5.0, \"Status\": \"Deceased\", \"Birth Date\": \"3/17/1930\", \"Birth Place\": \"Pittsburgh, PA\", \"Gender\": \"Male\", \"Alma Mater\": \"US Naval Academy; University of Michigan\", \"Undergraduate Major\": \"Naval Sciences\", \"Graduate Major\": \"Aeronautical Engineering\", \"Military Rank\": \"Colonel\", \"Military Branch\": \"US Air Force (Retired)\", \"Space Flights\": 1, \"Space Flight (hr)\": 295, \"Space Walks\": 3, \"Space Walks (hr)\": 20.0, \"Missions\": \"Apollo 15\", \"Death Date\": \"8/8/1991\", \"Death Mission\": null}, {\"Name\": \"William B. Lenoir\", \"Year\": 1967, \"Group\": 6.0, \"Status\": \"Deceased\", \"Birth Date\": \"3/14/1939\", \"Birth Place\": \"Miami, FL\", \"Gender\": \"Male\", \"Alma Mater\": \"MIT\", \"Undergraduate Major\": \"Electrical Engineering\", \"Graduate Major\": \"Electrical Engineering\", \"Military Rank\": null, \"Military Branch\": null, \"Space Flights\": 1, \"Space Flight (hr)\": 122, \"Space Walks\": 0, \"Space Walks (hr)\": 0.0, \"Missions\": \"STS-5 (Columbia)\", \"Death Date\": \"8/26/2012\", \"Death Mission\": null}, {\"Name\": \"J. Mike Lounge\", \"Year\": 1980, \"Group\": 9.0, \"Status\": \"Deceased\", \"Birth Date\": \"6/28/1946\", \"Birth Place\": \"Denver, CO\", \"Gender\": \"Male\", \"Alma Mater\": \"US Naval Academy; University of Colorado\", \"Undergraduate Major\": \"Mathematics & Physics\", \"Graduate Major\": \"Astrogeophysics\", \"Military Rank\": null, \"Military Branch\": null, \"Space Flights\": 3, \"Space Flight (hr)\": 483, \"Space Walks\": 0, \"Space Walks (hr)\": 0.0, \"Missions\": \"STS 51-I (Discovery), STS-26 (Discovery), STS-35 (Columbia)\", \"Death Date\": \"3/1/2011\", \"Death Mission\": null}, {\"Name\": \"G. David Low\", \"Year\": 1984, \"Group\": 10.0, \"Status\": \"Deceased\", \"Birth Date\": \"2/19/1956\", \"Birth Place\": \"Cleveland, OH\", \"Gender\": \"Male\", \"Alma Mater\": \"Washington & Lee University; Cornell University; Stanford University\", \"Undergraduate Major\": \"Physics & Engineering\", \"Graduate Major\": \"Mechanical Engineering; Aeronautics & Astronautics\", \"Military Rank\": null, \"Military Branch\": null, \"Space Flights\": 3, \"Space Flight (hr)\": 714, \"Space Walks\": 1, \"Space Walks (hr)\": 6.0, \"Missions\": \"STS-32 (Columbia), STS-43 (Atlantis), STS-57 (Endeavor)\", \"Death Date\": \"3/15/2008\", \"Death Mission\": null}, {\"Name\": \"William C. McCool\", \"Year\": 1996, \"Group\": 16.0, \"Status\": \"Deceased\", \"Birth Date\": \"9/23/1961\", \"Birth Place\": \"San Diego, CA\", \"Gender\": \"Male\", \"Alma Mater\": \"US Naval Academy; University of Maryland; US Naval Postgraduate School\", \"Undergraduate Major\": \"Naval Sciences\", \"Graduate Major\": \"Computer Science; Aeronautical Engineering\", \"Military Rank\": \"Commander\", \"Military Branch\": \"US Navy\", \"Space Flights\": 1, \"Space Flight (hr)\": 382, \"Space Walks\": 0, \"Space Walks (hr)\": 0.0, \"Missions\": \"STS-107 (Columbia)\", \"Death Date\": \"2/1/2003\", \"Death Mission\": \"STS-107 (Columbia)\"}, {\"Name\": \"Ronald E. McNair\", \"Year\": 1978, \"Group\": 8.0, \"Status\": \"Deceased\", \"Birth Date\": \"10/21/1950\", \"Birth Place\": \"Lake City, SC\", \"Gender\": \"Male\", \"Alma Mater\": \"North Carolina A&T State College; MIT\", \"Undergraduate Major\": \"Physics\", \"Graduate Major\": \"Physics\", \"Military Rank\": null, \"Military Branch\": null, \"Space Flights\": 2, \"Space Flight (hr)\": 191, \"Space Walks\": 0, \"Space Walks (hr)\": 0.0, \"Missions\": \"STS 41-B (Challenger), STS 51-L (Challenger)\", \"Death Date\": \"1/28/1986\", \"Death Mission\": \"STS 51-L (Challenger)\"}, {\"Name\": \"Brian T. O'Leary\", \"Year\": 1967, \"Group\": 6.0, \"Status\": \"Deceased\", \"Birth Date\": \"1/27/1940\", \"Birth Place\": \"Boston, MA\", \"Gender\": \"Male\", \"Alma Mater\": \"Williams College; Georgetown University; University of California-Berkeley\", \"Undergraduate Major\": \"Physics\", \"Graduate Major\": \"Astronomy\", \"Military Rank\": null, \"Military Branch\": null, \"Space Flights\": 0, \"Space Flight (hr)\": 0, \"Space Walks\": 0, \"Space Walks (hr)\": 0.0, \"Missions\": null, \"Death Date\": \"7/28/2011\", \"Death Mission\": null}, {\"Name\": \"Ellison S. Onizuka\", \"Year\": 1978, \"Group\": 8.0, \"Status\": \"Deceased\", \"Birth Date\": \"6/24/1946\", \"Birth Place\": \"Kealakekua, HI\", \"Gender\": \"Male\", \"Alma Mater\": \"University of Colorado\", \"Undergraduate Major\": \"Aerospace Engineering\", \"Graduate Major\": \"Aerospace Engineering\", \"Military Rank\": \"Lieutenant Colonel\", \"Military Branch\": \"US Air Force\", \"Space Flights\": 2, \"Space Flight (hr)\": 73, \"Space Walks\": 0, \"Space Walks (hr)\": 0.0, \"Missions\": \"STS 51-C (Discovery), STS 51-L (Challenger)\", \"Death Date\": \"1/28/1986\", \"Death Mission\": \"STS 51-L (Challenger)\"}, {\"Name\": \"Robert F. Overmyer\", \"Year\": 1969, \"Group\": 7.0, \"Status\": \"Deceased\", \"Birth Date\": \"7/14/1936\", \"Birth Place\": \"Lorain, OH\", \"Gender\": \"Male\", \"Alma Mater\": \"Baldwin Wallace College; US Naval Postgraduate School\", \"Undergraduate Major\": \"Physics\", \"Graduate Major\": \"Aeronautics\", \"Military Rank\": \"Colonel\", \"Military Branch\": \"US Marine Corps (Retired)\", \"Space Flights\": 2, \"Space Flight (hr)\": 290, \"Space Walks\": 0, \"Space Walks (hr)\": 0.0, \"Missions\": \"STS-5 (Columbia), STS 51-B (Challenger)\", \"Death Date\": \"3/22/1996\", \"Death Mission\": null}, {\"Name\": \"Alan G. Poindexter\", \"Year\": 1998, \"Group\": 17.0, \"Status\": \"Deceased\", \"Birth Date\": \"11/5/1961\", \"Birth Place\": \"Pasadena, CA\", \"Gender\": \"Male\", \"Alma Mater\": \"Georgia Institute of Technology; US Naval Postgraduate School\", \"Undergraduate Major\": \"Aerospace Engineering\", \"Graduate Major\": \"Aeronautical Engineering\", \"Military Rank\": \"Captain\", \"Military Branch\": \"US Navy\", \"Space Flights\": 2, \"Space Flight (hr)\": 669, \"Space Walks\": 0, \"Space Walks (hr)\": 0.0, \"Missions\": \"STS-122 (Atlantis), STS-131 (Discovery)\", \"Death Date\": \"7/1/2012\", \"Death Mission\": null}, {\"Name\": \"Judith A. Resnik\", \"Year\": 1978, \"Group\": 8.0, \"Status\": \"Deceased\", \"Birth Date\": \"4/5/1949\", \"Birth Place\": \"Akron, OH\", \"Gender\": \"Female\", \"Alma Mater\": \"Carnegie-Mellon University; University of Maryland\", \"Undergraduate Major\": \"Electrical Engineering\", \"Graduate Major\": \"Electrical Engineering\", \"Military Rank\": null, \"Military Branch\": null, \"Space Flights\": 2, \"Space Flight (hr)\": 144, \"Space Walks\": 0, \"Space Walks (hr)\": 0.0, \"Missions\": \"STS 41-D (Discovery), STS 51-L (Challenger)\", \"Death Date\": \"1/28/1986\", \"Death Mission\": \"STS 51-L (Challenger)\"}, {\"Name\": \"Sally K. Ride\", \"Year\": 1978, \"Group\": 8.0, \"Status\": \"Deceased\", \"Birth Date\": \"5/26/1951\", \"Birth Place\": \"Los Angeles, CA\", \"Gender\": \"Female\", \"Alma Mater\": \"Stanford University\", \"Undergraduate Major\": \"Physics; English\", \"Graduate Major\": \"Physics\", \"Military Rank\": null, \"Military Branch\": null, \"Space Flights\": 2, \"Space Flight (hr)\": 343, \"Space Walks\": 0, \"Space Walks (hr)\": 0.0, \"Missions\": \"STS-7 (Challenger), STS 41-G (Challenger)\", \"Death Date\": \"7/23/2012\", \"Death Mission\": null}, {\"Name\": \"Patricia Hilliard Robertson\", \"Year\": 1998, \"Group\": 17.0, \"Status\": \"Deceased\", \"Birth Date\": \"3/12/1963\", \"Birth Place\": \"Indiana, PA\", \"Gender\": \"Female\", \"Alma Mater\": \"Indiana University of Pennsylvania; Medical College of Pennsylvania\", \"Undergraduate Major\": \"Biology\", \"Graduate Major\": \"Medicine\", \"Military Rank\": null, \"Military Branch\": null, \"Space Flights\": 0, \"Space Flight (hr)\": 0, \"Space Walks\": 0, \"Space Walks (hr)\": 0.0, \"Missions\": null, \"Death Date\": \"5/24/2001\", \"Death Mission\": null}, {\"Name\": \"Stuart A. Roosa\", \"Year\": 1966, \"Group\": 5.0, \"Status\": \"Deceased\", \"Birth Date\": \"8/16/1933\", \"Birth Place\": \"Durango, CO\", \"Gender\": \"Male\", \"Alma Mater\": \"University of Colorado\", \"Undergraduate Major\": \"Aeronautical Engineering\", \"Graduate Major\": null, \"Military Rank\": \"Colonel\", \"Military Branch\": \"US Air Force (Retired)\", \"Space Flights\": 1, \"Space Flight (hr)\": 216, \"Space Walks\": 0, \"Space Walks (hr)\": 0.0, \"Missions\": \"Apollo 14\", \"Death Date\": \"12/12/1994\", \"Death Mission\": null}, {\"Name\": \"Walter M. Schirra Jr. \", \"Year\": 1959, \"Group\": 1.0, \"Status\": \"Deceased\", \"Birth Date\": \"3/12/1923\", \"Birth Place\": \"Hackensack, NJ\", \"Gender\": \"Male\", \"Alma Mater\": \"US Naval Academy\", \"Undergraduate Major\": \"Naval Sciences\", \"Graduate Major\": null, \"Military Rank\": \"Captain\", \"Military Branch\": \"US Navy (Retired)\", \"Space Flights\": 3, \"Space Flight (hr)\": 295, \"Space Walks\": 0, \"Space Walks (hr)\": 0.0, \"Missions\": \"Mercury 8, Gemini 6, Apollo 7\", \"Death Date\": \"5/2/2007\", \"Death Mission\": null}, {\"Name\": \"Francis R. Scobee\", \"Year\": 1978, \"Group\": 8.0, \"Status\": \"Deceased\", \"Birth Date\": \"5/19/1939\", \"Birth Place\": \"Cle Elum, WA\", \"Gender\": \"Male\", \"Alma Mater\": \"University of Arizona\", \"Undergraduate Major\": \"Aerospace Engineering\", \"Graduate Major\": null, \"Military Rank\": \"Major\", \"Military Branch\": \"US Air Force (Retired)\", \"Space Flights\": 2, \"Space Flight (hr)\": 167, \"Space Walks\": 0, \"Space Walks (hr)\": 0.0, \"Missions\": \"STS 41-C (Challenger), STS 51-L (Challenger)\", \"Death Date\": \"1/28/1986\", \"Death Mission\": \"STS 51-L (Challenger)\"}, {\"Name\": \"Elliot M. See Jr. \", \"Year\": 1962, \"Group\": 2.0, \"Status\": \"Deceased\", \"Birth Date\": \"7/23/1927\", \"Birth Place\": \"Dallas, TX\", \"Gender\": \"Male\", \"Alma Mater\": \"US Merchant Marine Academy; University of California-Los Angeles\", \"Undergraduate Major\": null, \"Graduate Major\": \"Engineering\", \"Military Rank\": null, \"Military Branch\": null, \"Space Flights\": 0, \"Space Flight (hr)\": 0, \"Space Walks\": 0, \"Space Walks (hr)\": 0.0, \"Missions\": null, \"Death Date\": \"2/28/1966\", \"Death Mission\": null}, {\"Name\": \"Alan B. Shepard Jr. \", \"Year\": 1959, \"Group\": 1.0, \"Status\": \"Deceased\", \"Birth Date\": \"11/18/1923\", \"Birth Place\": \"East Derry, NH\", \"Gender\": \"Male\", \"Alma Mater\": \"US Naval Academy\", \"Undergraduate Major\": \"Naval Sciences\", \"Graduate Major\": null, \"Military Rank\": \"Rear Admiral\", \"Military Branch\": \"US Navy (Retired)\", \"Space Flights\": 2, \"Space Flight (hr)\": 216, \"Space Walks\": 2, \"Space Walks (hr)\": 9.0, \"Missions\": \"Mercury 3, Apollo 14\", \"Death Date\": \"7/21/1998\", \"Death Mission\": null}, {\"Name\": \"Donald K. Slayton\", \"Year\": 1959, \"Group\": 1.0, \"Status\": \"Deceased\", \"Birth Date\": \"3/1/1924\", \"Birth Place\": \"Sparta, WI\", \"Gender\": \"Male\", \"Alma Mater\": \"University of Minnesota\", \"Undergraduate Major\": \"Aeronautical Engineering\", \"Graduate Major\": null, \"Military Rank\": \"Major\", \"Military Branch\": \"US Air Force Reserves\", \"Space Flights\": 1, \"Space Flight (hr)\": 217, \"Space Walks\": 0, \"Space Walks (hr)\": 0.0, \"Missions\": \"Apollo-Soyuz Test Project\", \"Death Date\": \"6/13/1993\", \"Death Mission\": null}, {\"Name\": \"Michael J. Smith\", \"Year\": 1980, \"Group\": 9.0, \"Status\": \"Deceased\", \"Birth Date\": \"4/30/1945\", \"Birth Place\": \"Beaufort, NC\", \"Gender\": \"Male\", \"Alma Mater\": \"US Naval Academy; US Naval Postgraduate School\", \"Undergraduate Major\": \"Naval Sciences\", \"Graduate Major\": \"Aeronautical Engineering\", \"Military Rank\": \"Captain\", \"Military Branch\": \"US Navy\", \"Space Flights\": 1, \"Space Flight (hr)\": 0, \"Space Walks\": 0, \"Space Walks (hr)\": 0.0, \"Missions\": \"STS 51-L (Challenger)\", \"Death Date\": \"1/28/1986\", \"Death Mission\": \"STS 51-L (Challenger)\"}, {\"Name\": \"John L. Swigert Jr. \", \"Year\": 1966, \"Group\": 5.0, \"Status\": \"Deceased\", \"Birth Date\": \"8/30/1931\", \"Birth Place\": \"Denver, CO\", \"Gender\": \"Male\", \"Alma Mater\": \"University of Colorado; Rensselaer Polytechnic Institute; University of Hartford\", \"Undergraduate Major\": \"Mechanical Engineering\", \"Graduate Major\": \"Aerospace Science; Business Administration\", \"Military Rank\": null, \"Military Branch\": null, \"Space Flights\": 1, \"Space Flight (hr)\": 142, \"Space Walks\": 0, \"Space Walks (hr)\": 0.0, \"Missions\": \"Apollo 13\", \"Death Date\": \"12/27/1982\", \"Death Mission\": null}, {\"Name\": \"Stephen D. Thorne\", \"Year\": 1985, \"Group\": 11.0, \"Status\": \"Deceased\", \"Birth Date\": \"2/11/1953\", \"Birth Place\": \"Frankfurt, West Germany\", \"Gender\": \"Male\", \"Alma Mater\": \"US Naval Academy\", \"Undergraduate Major\": \"Engineering\", \"Graduate Major\": null, \"Military Rank\": \"Lieutenant Commander\", \"Military Branch\": \"US Navy\", \"Space Flights\": 0, \"Space Flight (hr)\": 0, \"Space Walks\": 0, \"Space Walks (hr)\": 0.0, \"Missions\": null, \"Death Date\": \"5/24/1986\", \"Death Mission\": null}, {\"Name\": \"Charles Lacy Veach\", \"Year\": 1984, \"Group\": 10.0, \"Status\": \"Deceased\", \"Birth Date\": \"9/18/1944\", \"Birth Place\": \"Chicago, IL\", \"Gender\": \"Male\", \"Alma Mater\": \"US Air Force Academy\", \"Undergraduate Major\": \"Engineering Management\", \"Graduate Major\": null, \"Military Rank\": null, \"Military Branch\": null, \"Space Flights\": 2, \"Space Flight (hr)\": 436, \"Space Walks\": 0, \"Space Walks (hr)\": 0.0, \"Missions\": \"STS-39 (Discovery), STS-52 (Columbia)\", \"Death Date\": \"10/3/1995\", \"Death Mission\": null}, {\"Name\": \"Janice E. Voss\", \"Year\": 1990, \"Group\": 13.0, \"Status\": \"Deceased\", \"Birth Date\": \"10/8/1956\", \"Birth Place\": \"South Bend, IN\", \"Gender\": \"Female\", \"Alma Mater\": \"Purdue University; MIT\", \"Undergraduate Major\": \"Engineering Science\", \"Graduate Major\": \"Electrical Engineering; Aeronautics & Astronautics\", \"Military Rank\": null, \"Military Branch\": null, \"Space Flights\": 5, \"Space Flight (hr)\": 1179, \"Space Walks\": 0, \"Space Walks (hr)\": 0.0, \"Missions\": \"STS-57 (Endeavor), STS-63 (Discovery), STS-83 (Columbia), STS-94 (Columbia), STS-99 (Endeavor)\", \"Death Date\": \"2/6/2012\", \"Death Mission\": null}, {\"Name\": \"David M. Walker\", \"Year\": 1978, \"Group\": 8.0, \"Status\": \"Deceased\", \"Birth Date\": \"5/20/1944\", \"Birth Place\": \"Columbus, GA\", \"Gender\": \"Male\", \"Alma Mater\": \"US Naval Academy\", \"Undergraduate Major\": \"Naval Sciences\", \"Graduate Major\": null, \"Military Rank\": \"Captain\", \"Military Branch\": \"US Navy (Retired)\", \"Space Flights\": 4, \"Space Flight (hr)\": 724, \"Space Walks\": 0, \"Space Walks (hr)\": 0.0, \"Missions\": \"STS 51-A (Discovery), STS-30 (Atlantis), STS-53 (Discovery), STS-69 (Endeavor)\", \"Death Date\": \"4/23/2001\", \"Death Mission\": null}, {\"Name\": \"Edward H. White II \", \"Year\": 1962, \"Group\": 2.0, \"Status\": \"Deceased\", \"Birth Date\": \"11/14/1930\", \"Birth Place\": \"San Antonio, TX\", \"Gender\": \"Male\", \"Alma Mater\": \"US Military Academy; University of Michigan\", \"Undergraduate Major\": null, \"Graduate Major\": \"Aeronautical Engineering\", \"Military Rank\": \"Lieutenant Colonel\", \"Military Branch\": \"US Air Force\", \"Space Flights\": 2, \"Space Flight (hr)\": 97, \"Space Walks\": 1, \"Space Walks (hr)\": 0.5, \"Missions\": \"Gemini 4, Apollo 1\", \"Death Date\": \"1/27/1967\", \"Death Mission\": \"Apollo 1\"}, {\"Name\": \"Clifton C. Williams Jr. \", \"Year\": 1963, \"Group\": 3.0, \"Status\": \"Deceased\", \"Birth Date\": \"9/26/1932\", \"Birth Place\": \"Mobile, AL\", \"Gender\": \"Male\", \"Alma Mater\": \"Auburn University\", \"Undergraduate Major\": \"Mechanical Engineering\", \"Graduate Major\": null, \"Military Rank\": \"Major\", \"Military Branch\": \"US Marine Corps\", \"Space Flights\": 0, \"Space Flight (hr)\": 0, \"Space Walks\": 0, \"Space Walks (hr)\": 0.0, \"Missions\": null, \"Death Date\": \"10/5/1967\", \"Death Mission\": null}]}}, {\"mode\": \"vega-lite\"});\n",
       "</script>"
      ],
      "text/plain": [
       "alt.FacetChart(...)"
      ]
     },
     "metadata": {},
     "output_type": "display_data"
    }
   ],
   "source": [
    "def astronauts_stats(status=None): \n",
    "    \"\"\"\n",
    "    Reads in the astronaut data, and potentially filters the data based on status.\n",
    "    It plots the mean space flight time as a histogram with \n",
    "    both genders and plots both genders seperately and returns the value of the mean space flight time. \n",
    "\n",
    "    \n",
    "    Parameters\n",
    "    ----------\n",
    "    status : str, optional\n",
    "        The status of an astronaut; Active, Deceased, Retired, etc (the default is None which implies \n",
    "        that no filtering is occuring) \n",
    "    \n",
    "    Returns\n",
    "    -------\n",
    "    float\n",
    "        The Mean Space Walk Time of the filtered astronauts (or of all astronauts when status is None)\n",
    "    \n",
    "    Examples\n",
    "    --------\n",
    "    >>> astronaut_full_service('Deceased')\n",
    "    274.1875\n",
    "    \"\"\"\n",
    "    \n",
    "    df = pd.read_csv('data/astronauts.csv')\n",
    "    \n",
    "    if status is not None: \n",
    "        df = df[df['Status'] == status]\n",
    "\n",
    "    mean_flight =  df['Space Flight (hr)'].mean()\n",
    "    \n",
    "    print('Mean Space Walk Time:', mean_flight) \n",
    "    \n",
    "    \n",
    "    plot1 = alt.Chart(df).mark_bar(size=40, color = 'tomato').encode(\n",
    "            alt.X('Space Flights:Q'),\n",
    "            alt.Y('count()'))\n",
    "    \n",
    "    plot1.display()\n",
    "    \n",
    "    plot2 = alt.Chart(df).mark_bar(size=40).encode(\n",
    "            alt.X('Space Flights:Q'),\n",
    "            alt.Y('count()'),\n",
    "            color=alt.Color('Gender',\n",
    "                   scale=alt.Scale(\n",
    "            domain=['Male', 'Female'],\n",
    "            range=['Navy', 'tomato']))\n",
    "    ).facet(alt.Column('Gender:N'))\n",
    "    \n",
    "    plot2.display()\n",
    " \n",
    "    return mean_flight\n",
    "\n",
    "assert astronauts_stats('Deceased') == 274.1875"
   ]
  },
  {
   "cell_type": "code",
   "execution_count": 31,
   "metadata": {
    "deletable": false,
    "editable": false,
    "nbgrader": {
     "cell_type": "code",
     "checksum": "e568e2f44723029b7da0a698ac90912c",
     "grade": true,
     "grade_id": "cell-e2e00e6bf3bb2fb7",
     "locked": true,
     "points": 1,
     "schema_version": 3,
     "solution": false,
     "task": false
    }
   },
   "outputs": [
    {
     "name": "stdout",
     "output_type": "stream",
     "text": [
      "Mean Space Walk Time: 274.1875\n"
     ]
    },
    {
     "data": {
      "text/html": [
       "\n",
       "<div id=\"altair-viz-bfad4670796340a3a1885f4f085e52b2\"></div>\n",
       "<script type=\"text/javascript\">\n",
       "  (function(spec, embedOpt){\n",
       "    let outputDiv = document.currentScript.previousElementSibling;\n",
       "    if (outputDiv.id !== \"altair-viz-bfad4670796340a3a1885f4f085e52b2\") {\n",
       "      outputDiv = document.getElementById(\"altair-viz-bfad4670796340a3a1885f4f085e52b2\");\n",
       "    }\n",
       "    const paths = {\n",
       "      \"vega\": \"https://cdn.jsdelivr.net/npm//vega@5?noext\",\n",
       "      \"vega-lib\": \"https://cdn.jsdelivr.net/npm//vega-lib?noext\",\n",
       "      \"vega-lite\": \"https://cdn.jsdelivr.net/npm//vega-lite@4.8.1?noext\",\n",
       "      \"vega-embed\": \"https://cdn.jsdelivr.net/npm//vega-embed@6?noext\",\n",
       "    };\n",
       "\n",
       "    function loadScript(lib) {\n",
       "      return new Promise(function(resolve, reject) {\n",
       "        var s = document.createElement('script');\n",
       "        s.src = paths[lib];\n",
       "        s.async = true;\n",
       "        s.onload = () => resolve(paths[lib]);\n",
       "        s.onerror = () => reject(`Error loading script: ${paths[lib]}`);\n",
       "        document.getElementsByTagName(\"head\")[0].appendChild(s);\n",
       "      });\n",
       "    }\n",
       "\n",
       "    function showError(err) {\n",
       "      outputDiv.innerHTML = `<div class=\"error\" style=\"color:red;\">${err}</div>`;\n",
       "      throw err;\n",
       "    }\n",
       "\n",
       "    function displayChart(vegaEmbed) {\n",
       "      vegaEmbed(outputDiv, spec, embedOpt)\n",
       "        .catch(err => showError(`Javascript Error: ${err.message}<br>This usually means there's a typo in your chart specification. See the javascript console for the full traceback.`));\n",
       "    }\n",
       "\n",
       "    if(typeof define === \"function\" && define.amd) {\n",
       "      requirejs.config({paths});\n",
       "      require([\"vega-embed\"], displayChart, err => showError(`Error loading script: ${err.message}`));\n",
       "    } else if (typeof vegaEmbed === \"function\") {\n",
       "      displayChart(vegaEmbed);\n",
       "    } else {\n",
       "      loadScript(\"vega\")\n",
       "        .then(() => loadScript(\"vega-lite\"))\n",
       "        .then(() => loadScript(\"vega-embed\"))\n",
       "        .catch(showError)\n",
       "        .then(() => displayChart(vegaEmbed));\n",
       "    }\n",
       "  })({\"config\": {\"view\": {\"continuousWidth\": 400, \"continuousHeight\": 300}}, \"data\": {\"name\": \"data-67e0a46a3ce8a6ec6dea522d3738dd03\"}, \"mark\": {\"type\": \"bar\", \"color\": \"tomato\", \"size\": 40}, \"encoding\": {\"x\": {\"type\": \"quantitative\", \"field\": \"Space Flights\"}, \"y\": {\"type\": \"quantitative\", \"aggregate\": \"count\"}}, \"$schema\": \"https://vega.github.io/schema/vega-lite/v4.8.1.json\", \"datasets\": {\"data-67e0a46a3ce8a6ec6dea522d3738dd03\": [{\"Name\": \"Michael P. Anderson\", \"Year\": 1995, \"Group\": 15.0, \"Status\": \"Deceased\", \"Birth Date\": \"12/25/1959\", \"Birth Place\": \"Plattsburgh, NY\", \"Gender\": \"Male\", \"Alma Mater\": \"University of Washington; Creighton University\", \"Undergraduate Major\": \"Physics & Astronomy\", \"Graduate Major\": \"Physics\", \"Military Rank\": \"Lieutenant Colonel\", \"Military Branch\": \"US Air Force\", \"Space Flights\": 2, \"Space Flight (hr)\": 594, \"Space Walks\": 0, \"Space Walks (hr)\": 0.0, \"Missions\": \"STS-89 (Endeavor), STS-107 (Columbia)\", \"Death Date\": \"2/1/2003\", \"Death Mission\": \"STS-107 (Columbia)\"}, {\"Name\": \"Neil A. Armstrong\", \"Year\": 1962, \"Group\": 2.0, \"Status\": \"Deceased\", \"Birth Date\": \"8/5/1930\", \"Birth Place\": \"Wapakoneta, OH\", \"Gender\": \"Male\", \"Alma Mater\": \"Purdue University; University of Southern California\", \"Undergraduate Major\": \"Aeronautical Engineering\", \"Graduate Major\": \"Aerospace Engineering\", \"Military Rank\": null, \"Military Branch\": null, \"Space Flights\": 2, \"Space Flight (hr)\": 205, \"Space Walks\": 1, \"Space Walks (hr)\": 2.0, \"Missions\": \"Gemini 8, Apollo 11\", \"Death Date\": \"8/25/2012\", \"Death Mission\": null}, {\"Name\": \"Charles A. Bassett II \", \"Year\": 1963, \"Group\": 3.0, \"Status\": \"Deceased\", \"Birth Date\": \"12/30/1931\", \"Birth Place\": \"Dayton, OH\", \"Gender\": \"Male\", \"Alma Mater\": \"Texas Technological College\", \"Undergraduate Major\": \"Electrical Engineering\", \"Graduate Major\": null, \"Military Rank\": \"Captain\", \"Military Branch\": \"US Air Force\", \"Space Flights\": 0, \"Space Flight (hr)\": 0, \"Space Walks\": 0, \"Space Walks (hr)\": 0.0, \"Missions\": null, \"Death Date\": \"2/28/1966\", \"Death Mission\": null}, {\"Name\": \"Charles E. Brady Jr. \", \"Year\": 1992, \"Group\": 14.0, \"Status\": \"Deceased\", \"Birth Date\": \"8/12/1951\", \"Birth Place\": \"Pinehurst, NC\", \"Gender\": \"Male\", \"Alma Mater\": \"University of North Carolina at Chapel Hill; Duke University\", \"Undergraduate Major\": null, \"Graduate Major\": \"Medicine\", \"Military Rank\": \"Captain\", \"Military Branch\": \"US Navy\", \"Space Flights\": 1, \"Space Flight (hr)\": 405, \"Space Walks\": 0, \"Space Walks (hr)\": 0.0, \"Missions\": \"STS-78 (Columbia)\", \"Death Date\": \"7/23/2006\", \"Death Mission\": null}, {\"Name\": \"David M. Brown\", \"Year\": 1996, \"Group\": 16.0, \"Status\": \"Deceased\", \"Birth Date\": \"4/16/1956\", \"Birth Place\": \"Arlington, VA\", \"Gender\": \"Male\", \"Alma Mater\": \"College of William & Mary; Eastern Virginia Medical School\", \"Undergraduate Major\": \"Biology\", \"Graduate Major\": \"Medicine\", \"Military Rank\": \"Captain\", \"Military Branch\": \"US Navy\", \"Space Flights\": 1, \"Space Flight (hr)\": 382, \"Space Walks\": 0, \"Space Walks (hr)\": 0.0, \"Missions\": \"STS-107 (Columbia)\", \"Death Date\": \"2/1/2003\", \"Death Mission\": \"STS-107 (Columbia)\"}, {\"Name\": \"John S. Bull\", \"Year\": 1966, \"Group\": 5.0, \"Status\": \"Deceased\", \"Birth Date\": \"9/25/1934\", \"Birth Place\": \"Memphis, TN\", \"Gender\": \"Male\", \"Alma Mater\": \"Rice University; Stanford University\", \"Undergraduate Major\": \"Mechanical Engineering\", \"Graduate Major\": \"Aeronautical Engineering\", \"Military Rank\": null, \"Military Branch\": null, \"Space Flights\": 0, \"Space Flight (hr)\": 0, \"Space Walks\": 0, \"Space Walks (hr)\": 0.0, \"Missions\": null, \"Death Date\": \"8/11/2008\", \"Death Mission\": null}, {\"Name\": \"Fernando Caldeiro\", \"Year\": 1996, \"Group\": 16.0, \"Status\": \"Deceased\", \"Birth Date\": \"6/12/1958\", \"Birth Place\": \"Buenos Aires, Argentina\", \"Gender\": \"Male\", \"Alma Mater\": \"University of Arizona; University of Central Florida\", \"Undergraduate Major\": \"Mechanical Engineering\", \"Graduate Major\": \"Engineering Management\", \"Military Rank\": null, \"Military Branch\": null, \"Space Flights\": 0, \"Space Flight (hr)\": 0, \"Space Walks\": 0, \"Space Walks (hr)\": 0.0, \"Missions\": null, \"Death Date\": \"10/3/2009\", \"Death Mission\": null}, {\"Name\": \"Manley Lanier Carter Jr. \", \"Year\": 1984, \"Group\": 10.0, \"Status\": \"Deceased\", \"Birth Date\": \"8/15/1947\", \"Birth Place\": \"Macon, GA\", \"Gender\": \"Male\", \"Alma Mater\": \"Emory University\", \"Undergraduate Major\": \"Chemistry\", \"Graduate Major\": \"Medicine\", \"Military Rank\": \"Captain\", \"Military Branch\": \"US Navy\", \"Space Flights\": 1, \"Space Flight (hr)\": 120, \"Space Walks\": 0, \"Space Walks (hr)\": 0.0, \"Missions\": \"STS-33 (Discovery)\", \"Death Date\": \"4/5/1991\", \"Death Mission\": null}, {\"Name\": \"Roger B. Chaffee\", \"Year\": 1963, \"Group\": 3.0, \"Status\": \"Deceased\", \"Birth Date\": \"2/15/1935\", \"Birth Place\": \"Grand Rapids, MI\", \"Gender\": \"Male\", \"Alma Mater\": \"Purdue University\", \"Undergraduate Major\": \"Aeronautical Engineering\", \"Graduate Major\": null, \"Military Rank\": \"Lieutenant Commander\", \"Military Branch\": \"US Navy\", \"Space Flights\": 1, \"Space Flight (hr)\": 0, \"Space Walks\": 0, \"Space Walks (hr)\": 0.0, \"Missions\": \"Apollo 1\", \"Death Date\": \"1/27/1967\", \"Death Mission\": \"Apollo 1\"}, {\"Name\": \"Kalpana Chawla\", \"Year\": 1995, \"Group\": 15.0, \"Status\": \"Deceased\", \"Birth Date\": \"6/1/1961\", \"Birth Place\": \"Karnal, India\", \"Gender\": \"Female\", \"Alma Mater\": \"Punjab Engineering College; University of Texas-Arlington; University of Colorado\", \"Undergraduate Major\": \"Aeronautical Engineering\", \"Graduate Major\": \"Aerospace Engineering\", \"Military Rank\": null, \"Military Branch\": null, \"Space Flights\": 2, \"Space Flight (hr)\": 734, \"Space Walks\": 0, \"Space Walks (hr)\": 0.0, \"Missions\": \"STS-87 (Columbia), STS-107 (Columbia)\", \"Death Date\": \"2/1/2003\", \"Death Mission\": \"STS-107 (Columbia)\"}, {\"Name\": \"Laurel B. Clark\", \"Year\": 1996, \"Group\": 16.0, \"Status\": \"Deceased\", \"Birth Date\": \"3/10/1961\", \"Birth Place\": \"Ames, IA\", \"Gender\": \"Female\", \"Alma Mater\": \"University of Wisconsin-Madison\", \"Undergraduate Major\": \"Zoology\", \"Graduate Major\": \"Medicine\", \"Military Rank\": \"Captain\", \"Military Branch\": \"US Navy\", \"Space Flights\": 1, \"Space Flight (hr)\": 382, \"Space Walks\": 0, \"Space Walks (hr)\": 0.0, \"Missions\": \"STS-107 (Columbia)\", \"Death Date\": \"2/1/2003\", \"Death Mission\": \"STS-107 (Columbia)\"}, {\"Name\": \"Charles Conrad Jr. \", \"Year\": 1962, \"Group\": 2.0, \"Status\": \"Deceased\", \"Birth Date\": \"5/2/1930\", \"Birth Place\": \"Philadelphia, PA\", \"Gender\": \"Male\", \"Alma Mater\": \"Princeton University\", \"Undergraduate Major\": \"Aeronautical Engineering\", \"Graduate Major\": null, \"Military Rank\": \"Captain\", \"Military Branch\": \"US Navy (Retired)\", \"Space Flights\": 4, \"Space Flight (hr)\": 1179, \"Space Walks\": 4, \"Space Walks (hr)\": 12.0, \"Missions\": \"Gemini 5, Gemini 11, Apollo 12, Skylab 2\", \"Death Date\": \"7/8/1999\", \"Death Mission\": null}, {\"Name\": \"L. Gordon Cooper Jr. \", \"Year\": 1959, \"Group\": 1.0, \"Status\": \"Deceased\", \"Birth Date\": \"3/6/1927\", \"Birth Place\": \"Shawnee, OK\", \"Gender\": \"Male\", \"Alma Mater\": \"Air Force Institute of Technology\", \"Undergraduate Major\": \"Aeronautical Engineering\", \"Graduate Major\": null, \"Military Rank\": \"Colonel\", \"Military Branch\": \"US Air Force (Retired)\", \"Space Flights\": 2, \"Space Flight (hr)\": 225, \"Space Walks\": 0, \"Space Walks (hr)\": 0.0, \"Missions\": \"Mercury 9, Gemini 5\", \"Death Date\": \"10/4/2004\", \"Death Mission\": null}, {\"Name\": \"Donn F. Eisele\", \"Year\": 1963, \"Group\": 3.0, \"Status\": \"Deceased\", \"Birth Date\": \"5/23/1930\", \"Birth Place\": \"Columbus, OH\", \"Gender\": \"Male\", \"Alma Mater\": \"US Naval Academy; US Air Force Institute of Technology\", \"Undergraduate Major\": \"Astronautics\", \"Graduate Major\": \"Astronautics\", \"Military Rank\": \"Colonel\", \"Military Branch\": \"US Air Force (Retired)\", \"Space Flights\": 1, \"Space Flight (hr)\": 260, \"Space Walks\": 0, \"Space Walks (hr)\": 0.0, \"Missions\": \"Apollo 7\", \"Death Date\": \"12/2/1987\", \"Death Mission\": null}, {\"Name\": \"Ronald E. Evans Jr. \", \"Year\": 1966, \"Group\": 5.0, \"Status\": \"Deceased\", \"Birth Date\": \"11/10/1933\", \"Birth Place\": \"St. Francis, KS\", \"Gender\": \"Male\", \"Alma Mater\": \"University of Kansas; US Naval Postgraduate School\", \"Undergraduate Major\": \"Electrical Engineering\", \"Graduate Major\": \"Aeronautical Engineering\", \"Military Rank\": \"Captain\", \"Military Branch\": \"US Navy (Retired)\", \"Space Flights\": 1, \"Space Flight (hr)\": 301, \"Space Walks\": 1, \"Space Walks (hr)\": 1.0, \"Missions\": \"Apollo 17\", \"Death Date\": \"4/6/1990\", \"Death Mission\": null}, {\"Name\": \"Theodore C. Freeman\", \"Year\": 1963, \"Group\": 3.0, \"Status\": \"Deceased\", \"Birth Date\": \"2/18/1930\", \"Birth Place\": \"Haversford, PA\", \"Gender\": \"Male\", \"Alma Mater\": \"US Naval Academy; University of Michigan\", \"Undergraduate Major\": null, \"Graduate Major\": \"Aeronautical Engineering\", \"Military Rank\": \"Captain\", \"Military Branch\": \"US Air Force\", \"Space Flights\": 0, \"Space Flight (hr)\": 0, \"Space Walks\": 0, \"Space Walks (hr)\": 0.0, \"Missions\": null, \"Death Date\": \"10/31/1964\", \"Death Mission\": null}, {\"Name\": \"Edward G. Givens Jr. \", \"Year\": 1966, \"Group\": 5.0, \"Status\": \"Deceased\", \"Birth Date\": \"1/5/1930\", \"Birth Place\": \"Quanah, TX\", \"Gender\": \"Male\", \"Alma Mater\": \"US Naval Academy\", \"Undergraduate Major\": \"Naval Sciences\", \"Graduate Major\": null, \"Military Rank\": \"Major\", \"Military Branch\": \"US Air Force\", \"Space Flights\": 0, \"Space Flight (hr)\": 0, \"Space Walks\": 0, \"Space Walks (hr)\": 0.0, \"Missions\": null, \"Death Date\": \"6/6/1967\", \"Death Mission\": null}, {\"Name\": \"S. David Griggs\", \"Year\": 1978, \"Group\": 8.0, \"Status\": \"Deceased\", \"Birth Date\": \"9/7/1939\", \"Birth Place\": \"Portland, OR\", \"Gender\": \"Male\", \"Alma Mater\": \"US Naval Academy; George Washington University\", \"Undergraduate Major\": null, \"Graduate Major\": \"Business Administration\", \"Military Rank\": null, \"Military Branch\": null, \"Space Flights\": 1, \"Space Flight (hr)\": 167, \"Space Walks\": 1, \"Space Walks (hr)\": 3.0, \"Missions\": \"STS 51-D (Discovery)\", \"Death Date\": \"6/17/1989\", \"Death Mission\": null}, {\"Name\": \"Virgil I. Grissom\", \"Year\": 1959, \"Group\": 1.0, \"Status\": \"Deceased\", \"Birth Date\": \"4/3/1926\", \"Birth Place\": \"Mitchell, IN\", \"Gender\": \"Male\", \"Alma Mater\": \"Purdue University\", \"Undergraduate Major\": \"Mechanical Engineering\", \"Graduate Major\": null, \"Military Rank\": \"Lieutenant Colonel\", \"Military Branch\": \"US Air Force\", \"Space Flights\": 2, \"Space Flight (hr)\": 5, \"Space Walks\": 0, \"Space Walks (hr)\": 0.0, \"Missions\": \"Mercury 4, Gemini 3, Apollo 1\", \"Death Date\": \"1/27/1967\", \"Death Mission\": \"Apollo 1\"}, {\"Name\": \"Karl G. Henize\", \"Year\": 1967, \"Group\": 6.0, \"Status\": \"Deceased\", \"Birth Date\": \"10/17/1926\", \"Birth Place\": \"Cincinnati, OH\", \"Gender\": \"Male\", \"Alma Mater\": \"University of Virginia; University of Michigan\", \"Undergraduate Major\": \"Mathematics\", \"Graduate Major\": \"Astronomy\", \"Military Rank\": null, \"Military Branch\": null, \"Space Flights\": 1, \"Space Flight (hr)\": 190, \"Space Walks\": 0, \"Space Walks (hr)\": 0.0, \"Missions\": \"STS 51-F (Challenger)\", \"Death Date\": \"10/5/1993\", \"Death Mission\": null}, {\"Name\": \"Rick D. Husband\", \"Year\": 1995, \"Group\": 15.0, \"Status\": \"Deceased\", \"Birth Date\": \"7/12/1957\", \"Birth Place\": \"Amarillo, TX\", \"Gender\": \"Male\", \"Alma Mater\": \"Texas Tech University; California State University\", \"Undergraduate Major\": \"Mechanical Engineering\", \"Graduate Major\": \"Mechanical Engineering\", \"Military Rank\": \"Colonel\", \"Military Branch\": \"US Air Force\", \"Space Flights\": 2, \"Space Flight (hr)\": 617, \"Space Walks\": 0, \"Space Walks (hr)\": 0.0, \"Missions\": \"STS-96 (Discovery), STS-107 (Columbia)\", \"Death Date\": \"2/1/2003\", \"Death Mission\": \"STS-107 (Columbia)\"}, {\"Name\": \"James B. Irwin\", \"Year\": 1966, \"Group\": 5.0, \"Status\": \"Deceased\", \"Birth Date\": \"3/17/1930\", \"Birth Place\": \"Pittsburgh, PA\", \"Gender\": \"Male\", \"Alma Mater\": \"US Naval Academy; University of Michigan\", \"Undergraduate Major\": \"Naval Sciences\", \"Graduate Major\": \"Aeronautical Engineering\", \"Military Rank\": \"Colonel\", \"Military Branch\": \"US Air Force (Retired)\", \"Space Flights\": 1, \"Space Flight (hr)\": 295, \"Space Walks\": 3, \"Space Walks (hr)\": 20.0, \"Missions\": \"Apollo 15\", \"Death Date\": \"8/8/1991\", \"Death Mission\": null}, {\"Name\": \"William B. Lenoir\", \"Year\": 1967, \"Group\": 6.0, \"Status\": \"Deceased\", \"Birth Date\": \"3/14/1939\", \"Birth Place\": \"Miami, FL\", \"Gender\": \"Male\", \"Alma Mater\": \"MIT\", \"Undergraduate Major\": \"Electrical Engineering\", \"Graduate Major\": \"Electrical Engineering\", \"Military Rank\": null, \"Military Branch\": null, \"Space Flights\": 1, \"Space Flight (hr)\": 122, \"Space Walks\": 0, \"Space Walks (hr)\": 0.0, \"Missions\": \"STS-5 (Columbia)\", \"Death Date\": \"8/26/2012\", \"Death Mission\": null}, {\"Name\": \"J. Mike Lounge\", \"Year\": 1980, \"Group\": 9.0, \"Status\": \"Deceased\", \"Birth Date\": \"6/28/1946\", \"Birth Place\": \"Denver, CO\", \"Gender\": \"Male\", \"Alma Mater\": \"US Naval Academy; University of Colorado\", \"Undergraduate Major\": \"Mathematics & Physics\", \"Graduate Major\": \"Astrogeophysics\", \"Military Rank\": null, \"Military Branch\": null, \"Space Flights\": 3, \"Space Flight (hr)\": 483, \"Space Walks\": 0, \"Space Walks (hr)\": 0.0, \"Missions\": \"STS 51-I (Discovery), STS-26 (Discovery), STS-35 (Columbia)\", \"Death Date\": \"3/1/2011\", \"Death Mission\": null}, {\"Name\": \"G. David Low\", \"Year\": 1984, \"Group\": 10.0, \"Status\": \"Deceased\", \"Birth Date\": \"2/19/1956\", \"Birth Place\": \"Cleveland, OH\", \"Gender\": \"Male\", \"Alma Mater\": \"Washington & Lee University; Cornell University; Stanford University\", \"Undergraduate Major\": \"Physics & Engineering\", \"Graduate Major\": \"Mechanical Engineering; Aeronautics & Astronautics\", \"Military Rank\": null, \"Military Branch\": null, \"Space Flights\": 3, \"Space Flight (hr)\": 714, \"Space Walks\": 1, \"Space Walks (hr)\": 6.0, \"Missions\": \"STS-32 (Columbia), STS-43 (Atlantis), STS-57 (Endeavor)\", \"Death Date\": \"3/15/2008\", \"Death Mission\": null}, {\"Name\": \"William C. McCool\", \"Year\": 1996, \"Group\": 16.0, \"Status\": \"Deceased\", \"Birth Date\": \"9/23/1961\", \"Birth Place\": \"San Diego, CA\", \"Gender\": \"Male\", \"Alma Mater\": \"US Naval Academy; University of Maryland; US Naval Postgraduate School\", \"Undergraduate Major\": \"Naval Sciences\", \"Graduate Major\": \"Computer Science; Aeronautical Engineering\", \"Military Rank\": \"Commander\", \"Military Branch\": \"US Navy\", \"Space Flights\": 1, \"Space Flight (hr)\": 382, \"Space Walks\": 0, \"Space Walks (hr)\": 0.0, \"Missions\": \"STS-107 (Columbia)\", \"Death Date\": \"2/1/2003\", \"Death Mission\": \"STS-107 (Columbia)\"}, {\"Name\": \"Ronald E. McNair\", \"Year\": 1978, \"Group\": 8.0, \"Status\": \"Deceased\", \"Birth Date\": \"10/21/1950\", \"Birth Place\": \"Lake City, SC\", \"Gender\": \"Male\", \"Alma Mater\": \"North Carolina A&T State College; MIT\", \"Undergraduate Major\": \"Physics\", \"Graduate Major\": \"Physics\", \"Military Rank\": null, \"Military Branch\": null, \"Space Flights\": 2, \"Space Flight (hr)\": 191, \"Space Walks\": 0, \"Space Walks (hr)\": 0.0, \"Missions\": \"STS 41-B (Challenger), STS 51-L (Challenger)\", \"Death Date\": \"1/28/1986\", \"Death Mission\": \"STS 51-L (Challenger)\"}, {\"Name\": \"Brian T. O'Leary\", \"Year\": 1967, \"Group\": 6.0, \"Status\": \"Deceased\", \"Birth Date\": \"1/27/1940\", \"Birth Place\": \"Boston, MA\", \"Gender\": \"Male\", \"Alma Mater\": \"Williams College; Georgetown University; University of California-Berkeley\", \"Undergraduate Major\": \"Physics\", \"Graduate Major\": \"Astronomy\", \"Military Rank\": null, \"Military Branch\": null, \"Space Flights\": 0, \"Space Flight (hr)\": 0, \"Space Walks\": 0, \"Space Walks (hr)\": 0.0, \"Missions\": null, \"Death Date\": \"7/28/2011\", \"Death Mission\": null}, {\"Name\": \"Ellison S. Onizuka\", \"Year\": 1978, \"Group\": 8.0, \"Status\": \"Deceased\", \"Birth Date\": \"6/24/1946\", \"Birth Place\": \"Kealakekua, HI\", \"Gender\": \"Male\", \"Alma Mater\": \"University of Colorado\", \"Undergraduate Major\": \"Aerospace Engineering\", \"Graduate Major\": \"Aerospace Engineering\", \"Military Rank\": \"Lieutenant Colonel\", \"Military Branch\": \"US Air Force\", \"Space Flights\": 2, \"Space Flight (hr)\": 73, \"Space Walks\": 0, \"Space Walks (hr)\": 0.0, \"Missions\": \"STS 51-C (Discovery), STS 51-L (Challenger)\", \"Death Date\": \"1/28/1986\", \"Death Mission\": \"STS 51-L (Challenger)\"}, {\"Name\": \"Robert F. Overmyer\", \"Year\": 1969, \"Group\": 7.0, \"Status\": \"Deceased\", \"Birth Date\": \"7/14/1936\", \"Birth Place\": \"Lorain, OH\", \"Gender\": \"Male\", \"Alma Mater\": \"Baldwin Wallace College; US Naval Postgraduate School\", \"Undergraduate Major\": \"Physics\", \"Graduate Major\": \"Aeronautics\", \"Military Rank\": \"Colonel\", \"Military Branch\": \"US Marine Corps (Retired)\", \"Space Flights\": 2, \"Space Flight (hr)\": 290, \"Space Walks\": 0, \"Space Walks (hr)\": 0.0, \"Missions\": \"STS-5 (Columbia), STS 51-B (Challenger)\", \"Death Date\": \"3/22/1996\", \"Death Mission\": null}, {\"Name\": \"Alan G. Poindexter\", \"Year\": 1998, \"Group\": 17.0, \"Status\": \"Deceased\", \"Birth Date\": \"11/5/1961\", \"Birth Place\": \"Pasadena, CA\", \"Gender\": \"Male\", \"Alma Mater\": \"Georgia Institute of Technology; US Naval Postgraduate School\", \"Undergraduate Major\": \"Aerospace Engineering\", \"Graduate Major\": \"Aeronautical Engineering\", \"Military Rank\": \"Captain\", \"Military Branch\": \"US Navy\", \"Space Flights\": 2, \"Space Flight (hr)\": 669, \"Space Walks\": 0, \"Space Walks (hr)\": 0.0, \"Missions\": \"STS-122 (Atlantis), STS-131 (Discovery)\", \"Death Date\": \"7/1/2012\", \"Death Mission\": null}, {\"Name\": \"Judith A. Resnik\", \"Year\": 1978, \"Group\": 8.0, \"Status\": \"Deceased\", \"Birth Date\": \"4/5/1949\", \"Birth Place\": \"Akron, OH\", \"Gender\": \"Female\", \"Alma Mater\": \"Carnegie-Mellon University; University of Maryland\", \"Undergraduate Major\": \"Electrical Engineering\", \"Graduate Major\": \"Electrical Engineering\", \"Military Rank\": null, \"Military Branch\": null, \"Space Flights\": 2, \"Space Flight (hr)\": 144, \"Space Walks\": 0, \"Space Walks (hr)\": 0.0, \"Missions\": \"STS 41-D (Discovery), STS 51-L (Challenger)\", \"Death Date\": \"1/28/1986\", \"Death Mission\": \"STS 51-L (Challenger)\"}, {\"Name\": \"Sally K. Ride\", \"Year\": 1978, \"Group\": 8.0, \"Status\": \"Deceased\", \"Birth Date\": \"5/26/1951\", \"Birth Place\": \"Los Angeles, CA\", \"Gender\": \"Female\", \"Alma Mater\": \"Stanford University\", \"Undergraduate Major\": \"Physics; English\", \"Graduate Major\": \"Physics\", \"Military Rank\": null, \"Military Branch\": null, \"Space Flights\": 2, \"Space Flight (hr)\": 343, \"Space Walks\": 0, \"Space Walks (hr)\": 0.0, \"Missions\": \"STS-7 (Challenger), STS 41-G (Challenger)\", \"Death Date\": \"7/23/2012\", \"Death Mission\": null}, {\"Name\": \"Patricia Hilliard Robertson\", \"Year\": 1998, \"Group\": 17.0, \"Status\": \"Deceased\", \"Birth Date\": \"3/12/1963\", \"Birth Place\": \"Indiana, PA\", \"Gender\": \"Female\", \"Alma Mater\": \"Indiana University of Pennsylvania; Medical College of Pennsylvania\", \"Undergraduate Major\": \"Biology\", \"Graduate Major\": \"Medicine\", \"Military Rank\": null, \"Military Branch\": null, \"Space Flights\": 0, \"Space Flight (hr)\": 0, \"Space Walks\": 0, \"Space Walks (hr)\": 0.0, \"Missions\": null, \"Death Date\": \"5/24/2001\", \"Death Mission\": null}, {\"Name\": \"Stuart A. Roosa\", \"Year\": 1966, \"Group\": 5.0, \"Status\": \"Deceased\", \"Birth Date\": \"8/16/1933\", \"Birth Place\": \"Durango, CO\", \"Gender\": \"Male\", \"Alma Mater\": \"University of Colorado\", \"Undergraduate Major\": \"Aeronautical Engineering\", \"Graduate Major\": null, \"Military Rank\": \"Colonel\", \"Military Branch\": \"US Air Force (Retired)\", \"Space Flights\": 1, \"Space Flight (hr)\": 216, \"Space Walks\": 0, \"Space Walks (hr)\": 0.0, \"Missions\": \"Apollo 14\", \"Death Date\": \"12/12/1994\", \"Death Mission\": null}, {\"Name\": \"Walter M. Schirra Jr. \", \"Year\": 1959, \"Group\": 1.0, \"Status\": \"Deceased\", \"Birth Date\": \"3/12/1923\", \"Birth Place\": \"Hackensack, NJ\", \"Gender\": \"Male\", \"Alma Mater\": \"US Naval Academy\", \"Undergraduate Major\": \"Naval Sciences\", \"Graduate Major\": null, \"Military Rank\": \"Captain\", \"Military Branch\": \"US Navy (Retired)\", \"Space Flights\": 3, \"Space Flight (hr)\": 295, \"Space Walks\": 0, \"Space Walks (hr)\": 0.0, \"Missions\": \"Mercury 8, Gemini 6, Apollo 7\", \"Death Date\": \"5/2/2007\", \"Death Mission\": null}, {\"Name\": \"Francis R. Scobee\", \"Year\": 1978, \"Group\": 8.0, \"Status\": \"Deceased\", \"Birth Date\": \"5/19/1939\", \"Birth Place\": \"Cle Elum, WA\", \"Gender\": \"Male\", \"Alma Mater\": \"University of Arizona\", \"Undergraduate Major\": \"Aerospace Engineering\", \"Graduate Major\": null, \"Military Rank\": \"Major\", \"Military Branch\": \"US Air Force (Retired)\", \"Space Flights\": 2, \"Space Flight (hr)\": 167, \"Space Walks\": 0, \"Space Walks (hr)\": 0.0, \"Missions\": \"STS 41-C (Challenger), STS 51-L (Challenger)\", \"Death Date\": \"1/28/1986\", \"Death Mission\": \"STS 51-L (Challenger)\"}, {\"Name\": \"Elliot M. See Jr. \", \"Year\": 1962, \"Group\": 2.0, \"Status\": \"Deceased\", \"Birth Date\": \"7/23/1927\", \"Birth Place\": \"Dallas, TX\", \"Gender\": \"Male\", \"Alma Mater\": \"US Merchant Marine Academy; University of California-Los Angeles\", \"Undergraduate Major\": null, \"Graduate Major\": \"Engineering\", \"Military Rank\": null, \"Military Branch\": null, \"Space Flights\": 0, \"Space Flight (hr)\": 0, \"Space Walks\": 0, \"Space Walks (hr)\": 0.0, \"Missions\": null, \"Death Date\": \"2/28/1966\", \"Death Mission\": null}, {\"Name\": \"Alan B. Shepard Jr. \", \"Year\": 1959, \"Group\": 1.0, \"Status\": \"Deceased\", \"Birth Date\": \"11/18/1923\", \"Birth Place\": \"East Derry, NH\", \"Gender\": \"Male\", \"Alma Mater\": \"US Naval Academy\", \"Undergraduate Major\": \"Naval Sciences\", \"Graduate Major\": null, \"Military Rank\": \"Rear Admiral\", \"Military Branch\": \"US Navy (Retired)\", \"Space Flights\": 2, \"Space Flight (hr)\": 216, \"Space Walks\": 2, \"Space Walks (hr)\": 9.0, \"Missions\": \"Mercury 3, Apollo 14\", \"Death Date\": \"7/21/1998\", \"Death Mission\": null}, {\"Name\": \"Donald K. Slayton\", \"Year\": 1959, \"Group\": 1.0, \"Status\": \"Deceased\", \"Birth Date\": \"3/1/1924\", \"Birth Place\": \"Sparta, WI\", \"Gender\": \"Male\", \"Alma Mater\": \"University of Minnesota\", \"Undergraduate Major\": \"Aeronautical Engineering\", \"Graduate Major\": null, \"Military Rank\": \"Major\", \"Military Branch\": \"US Air Force Reserves\", \"Space Flights\": 1, \"Space Flight (hr)\": 217, \"Space Walks\": 0, \"Space Walks (hr)\": 0.0, \"Missions\": \"Apollo-Soyuz Test Project\", \"Death Date\": \"6/13/1993\", \"Death Mission\": null}, {\"Name\": \"Michael J. Smith\", \"Year\": 1980, \"Group\": 9.0, \"Status\": \"Deceased\", \"Birth Date\": \"4/30/1945\", \"Birth Place\": \"Beaufort, NC\", \"Gender\": \"Male\", \"Alma Mater\": \"US Naval Academy; US Naval Postgraduate School\", \"Undergraduate Major\": \"Naval Sciences\", \"Graduate Major\": \"Aeronautical Engineering\", \"Military Rank\": \"Captain\", \"Military Branch\": \"US Navy\", \"Space Flights\": 1, \"Space Flight (hr)\": 0, \"Space Walks\": 0, \"Space Walks (hr)\": 0.0, \"Missions\": \"STS 51-L (Challenger)\", \"Death Date\": \"1/28/1986\", \"Death Mission\": \"STS 51-L (Challenger)\"}, {\"Name\": \"John L. Swigert Jr. \", \"Year\": 1966, \"Group\": 5.0, \"Status\": \"Deceased\", \"Birth Date\": \"8/30/1931\", \"Birth Place\": \"Denver, CO\", \"Gender\": \"Male\", \"Alma Mater\": \"University of Colorado; Rensselaer Polytechnic Institute; University of Hartford\", \"Undergraduate Major\": \"Mechanical Engineering\", \"Graduate Major\": \"Aerospace Science; Business Administration\", \"Military Rank\": null, \"Military Branch\": null, \"Space Flights\": 1, \"Space Flight (hr)\": 142, \"Space Walks\": 0, \"Space Walks (hr)\": 0.0, \"Missions\": \"Apollo 13\", \"Death Date\": \"12/27/1982\", \"Death Mission\": null}, {\"Name\": \"Stephen D. Thorne\", \"Year\": 1985, \"Group\": 11.0, \"Status\": \"Deceased\", \"Birth Date\": \"2/11/1953\", \"Birth Place\": \"Frankfurt, West Germany\", \"Gender\": \"Male\", \"Alma Mater\": \"US Naval Academy\", \"Undergraduate Major\": \"Engineering\", \"Graduate Major\": null, \"Military Rank\": \"Lieutenant Commander\", \"Military Branch\": \"US Navy\", \"Space Flights\": 0, \"Space Flight (hr)\": 0, \"Space Walks\": 0, \"Space Walks (hr)\": 0.0, \"Missions\": null, \"Death Date\": \"5/24/1986\", \"Death Mission\": null}, {\"Name\": \"Charles Lacy Veach\", \"Year\": 1984, \"Group\": 10.0, \"Status\": \"Deceased\", \"Birth Date\": \"9/18/1944\", \"Birth Place\": \"Chicago, IL\", \"Gender\": \"Male\", \"Alma Mater\": \"US Air Force Academy\", \"Undergraduate Major\": \"Engineering Management\", \"Graduate Major\": null, \"Military Rank\": null, \"Military Branch\": null, \"Space Flights\": 2, \"Space Flight (hr)\": 436, \"Space Walks\": 0, \"Space Walks (hr)\": 0.0, \"Missions\": \"STS-39 (Discovery), STS-52 (Columbia)\", \"Death Date\": \"10/3/1995\", \"Death Mission\": null}, {\"Name\": \"Janice E. Voss\", \"Year\": 1990, \"Group\": 13.0, \"Status\": \"Deceased\", \"Birth Date\": \"10/8/1956\", \"Birth Place\": \"South Bend, IN\", \"Gender\": \"Female\", \"Alma Mater\": \"Purdue University; MIT\", \"Undergraduate Major\": \"Engineering Science\", \"Graduate Major\": \"Electrical Engineering; Aeronautics & Astronautics\", \"Military Rank\": null, \"Military Branch\": null, \"Space Flights\": 5, \"Space Flight (hr)\": 1179, \"Space Walks\": 0, \"Space Walks (hr)\": 0.0, \"Missions\": \"STS-57 (Endeavor), STS-63 (Discovery), STS-83 (Columbia), STS-94 (Columbia), STS-99 (Endeavor)\", \"Death Date\": \"2/6/2012\", \"Death Mission\": null}, {\"Name\": \"David M. Walker\", \"Year\": 1978, \"Group\": 8.0, \"Status\": \"Deceased\", \"Birth Date\": \"5/20/1944\", \"Birth Place\": \"Columbus, GA\", \"Gender\": \"Male\", \"Alma Mater\": \"US Naval Academy\", \"Undergraduate Major\": \"Naval Sciences\", \"Graduate Major\": null, \"Military Rank\": \"Captain\", \"Military Branch\": \"US Navy (Retired)\", \"Space Flights\": 4, \"Space Flight (hr)\": 724, \"Space Walks\": 0, \"Space Walks (hr)\": 0.0, \"Missions\": \"STS 51-A (Discovery), STS-30 (Atlantis), STS-53 (Discovery), STS-69 (Endeavor)\", \"Death Date\": \"4/23/2001\", \"Death Mission\": null}, {\"Name\": \"Edward H. White II \", \"Year\": 1962, \"Group\": 2.0, \"Status\": \"Deceased\", \"Birth Date\": \"11/14/1930\", \"Birth Place\": \"San Antonio, TX\", \"Gender\": \"Male\", \"Alma Mater\": \"US Military Academy; University of Michigan\", \"Undergraduate Major\": null, \"Graduate Major\": \"Aeronautical Engineering\", \"Military Rank\": \"Lieutenant Colonel\", \"Military Branch\": \"US Air Force\", \"Space Flights\": 2, \"Space Flight (hr)\": 97, \"Space Walks\": 1, \"Space Walks (hr)\": 0.5, \"Missions\": \"Gemini 4, Apollo 1\", \"Death Date\": \"1/27/1967\", \"Death Mission\": \"Apollo 1\"}, {\"Name\": \"Clifton C. Williams Jr. \", \"Year\": 1963, \"Group\": 3.0, \"Status\": \"Deceased\", \"Birth Date\": \"9/26/1932\", \"Birth Place\": \"Mobile, AL\", \"Gender\": \"Male\", \"Alma Mater\": \"Auburn University\", \"Undergraduate Major\": \"Mechanical Engineering\", \"Graduate Major\": null, \"Military Rank\": \"Major\", \"Military Branch\": \"US Marine Corps\", \"Space Flights\": 0, \"Space Flight (hr)\": 0, \"Space Walks\": 0, \"Space Walks (hr)\": 0.0, \"Missions\": null, \"Death Date\": \"10/5/1967\", \"Death Mission\": null}]}}, {\"mode\": \"vega-lite\"});\n",
       "</script>"
      ],
      "text/plain": [
       "alt.Chart(...)"
      ]
     },
     "metadata": {},
     "output_type": "display_data"
    },
    {
     "data": {
      "text/html": [
       "\n",
       "<div id=\"altair-viz-92b98deba624481db78e76bf71e65882\"></div>\n",
       "<script type=\"text/javascript\">\n",
       "  (function(spec, embedOpt){\n",
       "    let outputDiv = document.currentScript.previousElementSibling;\n",
       "    if (outputDiv.id !== \"altair-viz-92b98deba624481db78e76bf71e65882\") {\n",
       "      outputDiv = document.getElementById(\"altair-viz-92b98deba624481db78e76bf71e65882\");\n",
       "    }\n",
       "    const paths = {\n",
       "      \"vega\": \"https://cdn.jsdelivr.net/npm//vega@5?noext\",\n",
       "      \"vega-lib\": \"https://cdn.jsdelivr.net/npm//vega-lib?noext\",\n",
       "      \"vega-lite\": \"https://cdn.jsdelivr.net/npm//vega-lite@4.8.1?noext\",\n",
       "      \"vega-embed\": \"https://cdn.jsdelivr.net/npm//vega-embed@6?noext\",\n",
       "    };\n",
       "\n",
       "    function loadScript(lib) {\n",
       "      return new Promise(function(resolve, reject) {\n",
       "        var s = document.createElement('script');\n",
       "        s.src = paths[lib];\n",
       "        s.async = true;\n",
       "        s.onload = () => resolve(paths[lib]);\n",
       "        s.onerror = () => reject(`Error loading script: ${paths[lib]}`);\n",
       "        document.getElementsByTagName(\"head\")[0].appendChild(s);\n",
       "      });\n",
       "    }\n",
       "\n",
       "    function showError(err) {\n",
       "      outputDiv.innerHTML = `<div class=\"error\" style=\"color:red;\">${err}</div>`;\n",
       "      throw err;\n",
       "    }\n",
       "\n",
       "    function displayChart(vegaEmbed) {\n",
       "      vegaEmbed(outputDiv, spec, embedOpt)\n",
       "        .catch(err => showError(`Javascript Error: ${err.message}<br>This usually means there's a typo in your chart specification. See the javascript console for the full traceback.`));\n",
       "    }\n",
       "\n",
       "    if(typeof define === \"function\" && define.amd) {\n",
       "      requirejs.config({paths});\n",
       "      require([\"vega-embed\"], displayChart, err => showError(`Error loading script: ${err.message}`));\n",
       "    } else if (typeof vegaEmbed === \"function\") {\n",
       "      displayChart(vegaEmbed);\n",
       "    } else {\n",
       "      loadScript(\"vega\")\n",
       "        .then(() => loadScript(\"vega-lite\"))\n",
       "        .then(() => loadScript(\"vega-embed\"))\n",
       "        .catch(showError)\n",
       "        .then(() => displayChart(vegaEmbed));\n",
       "    }\n",
       "  })({\"config\": {\"view\": {\"continuousWidth\": 400, \"continuousHeight\": 300}}, \"data\": {\"name\": \"data-67e0a46a3ce8a6ec6dea522d3738dd03\"}, \"facet\": {\"type\": \"nominal\", \"field\": \"Gender\"}, \"spec\": {\"mark\": {\"type\": \"bar\", \"size\": 40}, \"encoding\": {\"color\": {\"type\": \"nominal\", \"field\": \"Gender\", \"scale\": {\"domain\": [\"Male\", \"Female\"], \"range\": [\"Navy\", \"tomato\"]}}, \"x\": {\"type\": \"quantitative\", \"field\": \"Space Flights\"}, \"y\": {\"type\": \"quantitative\", \"aggregate\": \"count\"}}}, \"$schema\": \"https://vega.github.io/schema/vega-lite/v4.8.1.json\", \"datasets\": {\"data-67e0a46a3ce8a6ec6dea522d3738dd03\": [{\"Name\": \"Michael P. Anderson\", \"Year\": 1995, \"Group\": 15.0, \"Status\": \"Deceased\", \"Birth Date\": \"12/25/1959\", \"Birth Place\": \"Plattsburgh, NY\", \"Gender\": \"Male\", \"Alma Mater\": \"University of Washington; Creighton University\", \"Undergraduate Major\": \"Physics & Astronomy\", \"Graduate Major\": \"Physics\", \"Military Rank\": \"Lieutenant Colonel\", \"Military Branch\": \"US Air Force\", \"Space Flights\": 2, \"Space Flight (hr)\": 594, \"Space Walks\": 0, \"Space Walks (hr)\": 0.0, \"Missions\": \"STS-89 (Endeavor), STS-107 (Columbia)\", \"Death Date\": \"2/1/2003\", \"Death Mission\": \"STS-107 (Columbia)\"}, {\"Name\": \"Neil A. Armstrong\", \"Year\": 1962, \"Group\": 2.0, \"Status\": \"Deceased\", \"Birth Date\": \"8/5/1930\", \"Birth Place\": \"Wapakoneta, OH\", \"Gender\": \"Male\", \"Alma Mater\": \"Purdue University; University of Southern California\", \"Undergraduate Major\": \"Aeronautical Engineering\", \"Graduate Major\": \"Aerospace Engineering\", \"Military Rank\": null, \"Military Branch\": null, \"Space Flights\": 2, \"Space Flight (hr)\": 205, \"Space Walks\": 1, \"Space Walks (hr)\": 2.0, \"Missions\": \"Gemini 8, Apollo 11\", \"Death Date\": \"8/25/2012\", \"Death Mission\": null}, {\"Name\": \"Charles A. Bassett II \", \"Year\": 1963, \"Group\": 3.0, \"Status\": \"Deceased\", \"Birth Date\": \"12/30/1931\", \"Birth Place\": \"Dayton, OH\", \"Gender\": \"Male\", \"Alma Mater\": \"Texas Technological College\", \"Undergraduate Major\": \"Electrical Engineering\", \"Graduate Major\": null, \"Military Rank\": \"Captain\", \"Military Branch\": \"US Air Force\", \"Space Flights\": 0, \"Space Flight (hr)\": 0, \"Space Walks\": 0, \"Space Walks (hr)\": 0.0, \"Missions\": null, \"Death Date\": \"2/28/1966\", \"Death Mission\": null}, {\"Name\": \"Charles E. Brady Jr. \", \"Year\": 1992, \"Group\": 14.0, \"Status\": \"Deceased\", \"Birth Date\": \"8/12/1951\", \"Birth Place\": \"Pinehurst, NC\", \"Gender\": \"Male\", \"Alma Mater\": \"University of North Carolina at Chapel Hill; Duke University\", \"Undergraduate Major\": null, \"Graduate Major\": \"Medicine\", \"Military Rank\": \"Captain\", \"Military Branch\": \"US Navy\", \"Space Flights\": 1, \"Space Flight (hr)\": 405, \"Space Walks\": 0, \"Space Walks (hr)\": 0.0, \"Missions\": \"STS-78 (Columbia)\", \"Death Date\": \"7/23/2006\", \"Death Mission\": null}, {\"Name\": \"David M. Brown\", \"Year\": 1996, \"Group\": 16.0, \"Status\": \"Deceased\", \"Birth Date\": \"4/16/1956\", \"Birth Place\": \"Arlington, VA\", \"Gender\": \"Male\", \"Alma Mater\": \"College of William & Mary; Eastern Virginia Medical School\", \"Undergraduate Major\": \"Biology\", \"Graduate Major\": \"Medicine\", \"Military Rank\": \"Captain\", \"Military Branch\": \"US Navy\", \"Space Flights\": 1, \"Space Flight (hr)\": 382, \"Space Walks\": 0, \"Space Walks (hr)\": 0.0, \"Missions\": \"STS-107 (Columbia)\", \"Death Date\": \"2/1/2003\", \"Death Mission\": \"STS-107 (Columbia)\"}, {\"Name\": \"John S. Bull\", \"Year\": 1966, \"Group\": 5.0, \"Status\": \"Deceased\", \"Birth Date\": \"9/25/1934\", \"Birth Place\": \"Memphis, TN\", \"Gender\": \"Male\", \"Alma Mater\": \"Rice University; Stanford University\", \"Undergraduate Major\": \"Mechanical Engineering\", \"Graduate Major\": \"Aeronautical Engineering\", \"Military Rank\": null, \"Military Branch\": null, \"Space Flights\": 0, \"Space Flight (hr)\": 0, \"Space Walks\": 0, \"Space Walks (hr)\": 0.0, \"Missions\": null, \"Death Date\": \"8/11/2008\", \"Death Mission\": null}, {\"Name\": \"Fernando Caldeiro\", \"Year\": 1996, \"Group\": 16.0, \"Status\": \"Deceased\", \"Birth Date\": \"6/12/1958\", \"Birth Place\": \"Buenos Aires, Argentina\", \"Gender\": \"Male\", \"Alma Mater\": \"University of Arizona; University of Central Florida\", \"Undergraduate Major\": \"Mechanical Engineering\", \"Graduate Major\": \"Engineering Management\", \"Military Rank\": null, \"Military Branch\": null, \"Space Flights\": 0, \"Space Flight (hr)\": 0, \"Space Walks\": 0, \"Space Walks (hr)\": 0.0, \"Missions\": null, \"Death Date\": \"10/3/2009\", \"Death Mission\": null}, {\"Name\": \"Manley Lanier Carter Jr. \", \"Year\": 1984, \"Group\": 10.0, \"Status\": \"Deceased\", \"Birth Date\": \"8/15/1947\", \"Birth Place\": \"Macon, GA\", \"Gender\": \"Male\", \"Alma Mater\": \"Emory University\", \"Undergraduate Major\": \"Chemistry\", \"Graduate Major\": \"Medicine\", \"Military Rank\": \"Captain\", \"Military Branch\": \"US Navy\", \"Space Flights\": 1, \"Space Flight (hr)\": 120, \"Space Walks\": 0, \"Space Walks (hr)\": 0.0, \"Missions\": \"STS-33 (Discovery)\", \"Death Date\": \"4/5/1991\", \"Death Mission\": null}, {\"Name\": \"Roger B. Chaffee\", \"Year\": 1963, \"Group\": 3.0, \"Status\": \"Deceased\", \"Birth Date\": \"2/15/1935\", \"Birth Place\": \"Grand Rapids, MI\", \"Gender\": \"Male\", \"Alma Mater\": \"Purdue University\", \"Undergraduate Major\": \"Aeronautical Engineering\", \"Graduate Major\": null, \"Military Rank\": \"Lieutenant Commander\", \"Military Branch\": \"US Navy\", \"Space Flights\": 1, \"Space Flight (hr)\": 0, \"Space Walks\": 0, \"Space Walks (hr)\": 0.0, \"Missions\": \"Apollo 1\", \"Death Date\": \"1/27/1967\", \"Death Mission\": \"Apollo 1\"}, {\"Name\": \"Kalpana Chawla\", \"Year\": 1995, \"Group\": 15.0, \"Status\": \"Deceased\", \"Birth Date\": \"6/1/1961\", \"Birth Place\": \"Karnal, India\", \"Gender\": \"Female\", \"Alma Mater\": \"Punjab Engineering College; University of Texas-Arlington; University of Colorado\", \"Undergraduate Major\": \"Aeronautical Engineering\", \"Graduate Major\": \"Aerospace Engineering\", \"Military Rank\": null, \"Military Branch\": null, \"Space Flights\": 2, \"Space Flight (hr)\": 734, \"Space Walks\": 0, \"Space Walks (hr)\": 0.0, \"Missions\": \"STS-87 (Columbia), STS-107 (Columbia)\", \"Death Date\": \"2/1/2003\", \"Death Mission\": \"STS-107 (Columbia)\"}, {\"Name\": \"Laurel B. Clark\", \"Year\": 1996, \"Group\": 16.0, \"Status\": \"Deceased\", \"Birth Date\": \"3/10/1961\", \"Birth Place\": \"Ames, IA\", \"Gender\": \"Female\", \"Alma Mater\": \"University of Wisconsin-Madison\", \"Undergraduate Major\": \"Zoology\", \"Graduate Major\": \"Medicine\", \"Military Rank\": \"Captain\", \"Military Branch\": \"US Navy\", \"Space Flights\": 1, \"Space Flight (hr)\": 382, \"Space Walks\": 0, \"Space Walks (hr)\": 0.0, \"Missions\": \"STS-107 (Columbia)\", \"Death Date\": \"2/1/2003\", \"Death Mission\": \"STS-107 (Columbia)\"}, {\"Name\": \"Charles Conrad Jr. \", \"Year\": 1962, \"Group\": 2.0, \"Status\": \"Deceased\", \"Birth Date\": \"5/2/1930\", \"Birth Place\": \"Philadelphia, PA\", \"Gender\": \"Male\", \"Alma Mater\": \"Princeton University\", \"Undergraduate Major\": \"Aeronautical Engineering\", \"Graduate Major\": null, \"Military Rank\": \"Captain\", \"Military Branch\": \"US Navy (Retired)\", \"Space Flights\": 4, \"Space Flight (hr)\": 1179, \"Space Walks\": 4, \"Space Walks (hr)\": 12.0, \"Missions\": \"Gemini 5, Gemini 11, Apollo 12, Skylab 2\", \"Death Date\": \"7/8/1999\", \"Death Mission\": null}, {\"Name\": \"L. Gordon Cooper Jr. \", \"Year\": 1959, \"Group\": 1.0, \"Status\": \"Deceased\", \"Birth Date\": \"3/6/1927\", \"Birth Place\": \"Shawnee, OK\", \"Gender\": \"Male\", \"Alma Mater\": \"Air Force Institute of Technology\", \"Undergraduate Major\": \"Aeronautical Engineering\", \"Graduate Major\": null, \"Military Rank\": \"Colonel\", \"Military Branch\": \"US Air Force (Retired)\", \"Space Flights\": 2, \"Space Flight (hr)\": 225, \"Space Walks\": 0, \"Space Walks (hr)\": 0.0, \"Missions\": \"Mercury 9, Gemini 5\", \"Death Date\": \"10/4/2004\", \"Death Mission\": null}, {\"Name\": \"Donn F. Eisele\", \"Year\": 1963, \"Group\": 3.0, \"Status\": \"Deceased\", \"Birth Date\": \"5/23/1930\", \"Birth Place\": \"Columbus, OH\", \"Gender\": \"Male\", \"Alma Mater\": \"US Naval Academy; US Air Force Institute of Technology\", \"Undergraduate Major\": \"Astronautics\", \"Graduate Major\": \"Astronautics\", \"Military Rank\": \"Colonel\", \"Military Branch\": \"US Air Force (Retired)\", \"Space Flights\": 1, \"Space Flight (hr)\": 260, \"Space Walks\": 0, \"Space Walks (hr)\": 0.0, \"Missions\": \"Apollo 7\", \"Death Date\": \"12/2/1987\", \"Death Mission\": null}, {\"Name\": \"Ronald E. Evans Jr. \", \"Year\": 1966, \"Group\": 5.0, \"Status\": \"Deceased\", \"Birth Date\": \"11/10/1933\", \"Birth Place\": \"St. Francis, KS\", \"Gender\": \"Male\", \"Alma Mater\": \"University of Kansas; US Naval Postgraduate School\", \"Undergraduate Major\": \"Electrical Engineering\", \"Graduate Major\": \"Aeronautical Engineering\", \"Military Rank\": \"Captain\", \"Military Branch\": \"US Navy (Retired)\", \"Space Flights\": 1, \"Space Flight (hr)\": 301, \"Space Walks\": 1, \"Space Walks (hr)\": 1.0, \"Missions\": \"Apollo 17\", \"Death Date\": \"4/6/1990\", \"Death Mission\": null}, {\"Name\": \"Theodore C. Freeman\", \"Year\": 1963, \"Group\": 3.0, \"Status\": \"Deceased\", \"Birth Date\": \"2/18/1930\", \"Birth Place\": \"Haversford, PA\", \"Gender\": \"Male\", \"Alma Mater\": \"US Naval Academy; University of Michigan\", \"Undergraduate Major\": null, \"Graduate Major\": \"Aeronautical Engineering\", \"Military Rank\": \"Captain\", \"Military Branch\": \"US Air Force\", \"Space Flights\": 0, \"Space Flight (hr)\": 0, \"Space Walks\": 0, \"Space Walks (hr)\": 0.0, \"Missions\": null, \"Death Date\": \"10/31/1964\", \"Death Mission\": null}, {\"Name\": \"Edward G. Givens Jr. \", \"Year\": 1966, \"Group\": 5.0, \"Status\": \"Deceased\", \"Birth Date\": \"1/5/1930\", \"Birth Place\": \"Quanah, TX\", \"Gender\": \"Male\", \"Alma Mater\": \"US Naval Academy\", \"Undergraduate Major\": \"Naval Sciences\", \"Graduate Major\": null, \"Military Rank\": \"Major\", \"Military Branch\": \"US Air Force\", \"Space Flights\": 0, \"Space Flight (hr)\": 0, \"Space Walks\": 0, \"Space Walks (hr)\": 0.0, \"Missions\": null, \"Death Date\": \"6/6/1967\", \"Death Mission\": null}, {\"Name\": \"S. David Griggs\", \"Year\": 1978, \"Group\": 8.0, \"Status\": \"Deceased\", \"Birth Date\": \"9/7/1939\", \"Birth Place\": \"Portland, OR\", \"Gender\": \"Male\", \"Alma Mater\": \"US Naval Academy; George Washington University\", \"Undergraduate Major\": null, \"Graduate Major\": \"Business Administration\", \"Military Rank\": null, \"Military Branch\": null, \"Space Flights\": 1, \"Space Flight (hr)\": 167, \"Space Walks\": 1, \"Space Walks (hr)\": 3.0, \"Missions\": \"STS 51-D (Discovery)\", \"Death Date\": \"6/17/1989\", \"Death Mission\": null}, {\"Name\": \"Virgil I. Grissom\", \"Year\": 1959, \"Group\": 1.0, \"Status\": \"Deceased\", \"Birth Date\": \"4/3/1926\", \"Birth Place\": \"Mitchell, IN\", \"Gender\": \"Male\", \"Alma Mater\": \"Purdue University\", \"Undergraduate Major\": \"Mechanical Engineering\", \"Graduate Major\": null, \"Military Rank\": \"Lieutenant Colonel\", \"Military Branch\": \"US Air Force\", \"Space Flights\": 2, \"Space Flight (hr)\": 5, \"Space Walks\": 0, \"Space Walks (hr)\": 0.0, \"Missions\": \"Mercury 4, Gemini 3, Apollo 1\", \"Death Date\": \"1/27/1967\", \"Death Mission\": \"Apollo 1\"}, {\"Name\": \"Karl G. Henize\", \"Year\": 1967, \"Group\": 6.0, \"Status\": \"Deceased\", \"Birth Date\": \"10/17/1926\", \"Birth Place\": \"Cincinnati, OH\", \"Gender\": \"Male\", \"Alma Mater\": \"University of Virginia; University of Michigan\", \"Undergraduate Major\": \"Mathematics\", \"Graduate Major\": \"Astronomy\", \"Military Rank\": null, \"Military Branch\": null, \"Space Flights\": 1, \"Space Flight (hr)\": 190, \"Space Walks\": 0, \"Space Walks (hr)\": 0.0, \"Missions\": \"STS 51-F (Challenger)\", \"Death Date\": \"10/5/1993\", \"Death Mission\": null}, {\"Name\": \"Rick D. Husband\", \"Year\": 1995, \"Group\": 15.0, \"Status\": \"Deceased\", \"Birth Date\": \"7/12/1957\", \"Birth Place\": \"Amarillo, TX\", \"Gender\": \"Male\", \"Alma Mater\": \"Texas Tech University; California State University\", \"Undergraduate Major\": \"Mechanical Engineering\", \"Graduate Major\": \"Mechanical Engineering\", \"Military Rank\": \"Colonel\", \"Military Branch\": \"US Air Force\", \"Space Flights\": 2, \"Space Flight (hr)\": 617, \"Space Walks\": 0, \"Space Walks (hr)\": 0.0, \"Missions\": \"STS-96 (Discovery), STS-107 (Columbia)\", \"Death Date\": \"2/1/2003\", \"Death Mission\": \"STS-107 (Columbia)\"}, {\"Name\": \"James B. Irwin\", \"Year\": 1966, \"Group\": 5.0, \"Status\": \"Deceased\", \"Birth Date\": \"3/17/1930\", \"Birth Place\": \"Pittsburgh, PA\", \"Gender\": \"Male\", \"Alma Mater\": \"US Naval Academy; University of Michigan\", \"Undergraduate Major\": \"Naval Sciences\", \"Graduate Major\": \"Aeronautical Engineering\", \"Military Rank\": \"Colonel\", \"Military Branch\": \"US Air Force (Retired)\", \"Space Flights\": 1, \"Space Flight (hr)\": 295, \"Space Walks\": 3, \"Space Walks (hr)\": 20.0, \"Missions\": \"Apollo 15\", \"Death Date\": \"8/8/1991\", \"Death Mission\": null}, {\"Name\": \"William B. Lenoir\", \"Year\": 1967, \"Group\": 6.0, \"Status\": \"Deceased\", \"Birth Date\": \"3/14/1939\", \"Birth Place\": \"Miami, FL\", \"Gender\": \"Male\", \"Alma Mater\": \"MIT\", \"Undergraduate Major\": \"Electrical Engineering\", \"Graduate Major\": \"Electrical Engineering\", \"Military Rank\": null, \"Military Branch\": null, \"Space Flights\": 1, \"Space Flight (hr)\": 122, \"Space Walks\": 0, \"Space Walks (hr)\": 0.0, \"Missions\": \"STS-5 (Columbia)\", \"Death Date\": \"8/26/2012\", \"Death Mission\": null}, {\"Name\": \"J. Mike Lounge\", \"Year\": 1980, \"Group\": 9.0, \"Status\": \"Deceased\", \"Birth Date\": \"6/28/1946\", \"Birth Place\": \"Denver, CO\", \"Gender\": \"Male\", \"Alma Mater\": \"US Naval Academy; University of Colorado\", \"Undergraduate Major\": \"Mathematics & Physics\", \"Graduate Major\": \"Astrogeophysics\", \"Military Rank\": null, \"Military Branch\": null, \"Space Flights\": 3, \"Space Flight (hr)\": 483, \"Space Walks\": 0, \"Space Walks (hr)\": 0.0, \"Missions\": \"STS 51-I (Discovery), STS-26 (Discovery), STS-35 (Columbia)\", \"Death Date\": \"3/1/2011\", \"Death Mission\": null}, {\"Name\": \"G. David Low\", \"Year\": 1984, \"Group\": 10.0, \"Status\": \"Deceased\", \"Birth Date\": \"2/19/1956\", \"Birth Place\": \"Cleveland, OH\", \"Gender\": \"Male\", \"Alma Mater\": \"Washington & Lee University; Cornell University; Stanford University\", \"Undergraduate Major\": \"Physics & Engineering\", \"Graduate Major\": \"Mechanical Engineering; Aeronautics & Astronautics\", \"Military Rank\": null, \"Military Branch\": null, \"Space Flights\": 3, \"Space Flight (hr)\": 714, \"Space Walks\": 1, \"Space Walks (hr)\": 6.0, \"Missions\": \"STS-32 (Columbia), STS-43 (Atlantis), STS-57 (Endeavor)\", \"Death Date\": \"3/15/2008\", \"Death Mission\": null}, {\"Name\": \"William C. McCool\", \"Year\": 1996, \"Group\": 16.0, \"Status\": \"Deceased\", \"Birth Date\": \"9/23/1961\", \"Birth Place\": \"San Diego, CA\", \"Gender\": \"Male\", \"Alma Mater\": \"US Naval Academy; University of Maryland; US Naval Postgraduate School\", \"Undergraduate Major\": \"Naval Sciences\", \"Graduate Major\": \"Computer Science; Aeronautical Engineering\", \"Military Rank\": \"Commander\", \"Military Branch\": \"US Navy\", \"Space Flights\": 1, \"Space Flight (hr)\": 382, \"Space Walks\": 0, \"Space Walks (hr)\": 0.0, \"Missions\": \"STS-107 (Columbia)\", \"Death Date\": \"2/1/2003\", \"Death Mission\": \"STS-107 (Columbia)\"}, {\"Name\": \"Ronald E. McNair\", \"Year\": 1978, \"Group\": 8.0, \"Status\": \"Deceased\", \"Birth Date\": \"10/21/1950\", \"Birth Place\": \"Lake City, SC\", \"Gender\": \"Male\", \"Alma Mater\": \"North Carolina A&T State College; MIT\", \"Undergraduate Major\": \"Physics\", \"Graduate Major\": \"Physics\", \"Military Rank\": null, \"Military Branch\": null, \"Space Flights\": 2, \"Space Flight (hr)\": 191, \"Space Walks\": 0, \"Space Walks (hr)\": 0.0, \"Missions\": \"STS 41-B (Challenger), STS 51-L (Challenger)\", \"Death Date\": \"1/28/1986\", \"Death Mission\": \"STS 51-L (Challenger)\"}, {\"Name\": \"Brian T. O'Leary\", \"Year\": 1967, \"Group\": 6.0, \"Status\": \"Deceased\", \"Birth Date\": \"1/27/1940\", \"Birth Place\": \"Boston, MA\", \"Gender\": \"Male\", \"Alma Mater\": \"Williams College; Georgetown University; University of California-Berkeley\", \"Undergraduate Major\": \"Physics\", \"Graduate Major\": \"Astronomy\", \"Military Rank\": null, \"Military Branch\": null, \"Space Flights\": 0, \"Space Flight (hr)\": 0, \"Space Walks\": 0, \"Space Walks (hr)\": 0.0, \"Missions\": null, \"Death Date\": \"7/28/2011\", \"Death Mission\": null}, {\"Name\": \"Ellison S. Onizuka\", \"Year\": 1978, \"Group\": 8.0, \"Status\": \"Deceased\", \"Birth Date\": \"6/24/1946\", \"Birth Place\": \"Kealakekua, HI\", \"Gender\": \"Male\", \"Alma Mater\": \"University of Colorado\", \"Undergraduate Major\": \"Aerospace Engineering\", \"Graduate Major\": \"Aerospace Engineering\", \"Military Rank\": \"Lieutenant Colonel\", \"Military Branch\": \"US Air Force\", \"Space Flights\": 2, \"Space Flight (hr)\": 73, \"Space Walks\": 0, \"Space Walks (hr)\": 0.0, \"Missions\": \"STS 51-C (Discovery), STS 51-L (Challenger)\", \"Death Date\": \"1/28/1986\", \"Death Mission\": \"STS 51-L (Challenger)\"}, {\"Name\": \"Robert F. Overmyer\", \"Year\": 1969, \"Group\": 7.0, \"Status\": \"Deceased\", \"Birth Date\": \"7/14/1936\", \"Birth Place\": \"Lorain, OH\", \"Gender\": \"Male\", \"Alma Mater\": \"Baldwin Wallace College; US Naval Postgraduate School\", \"Undergraduate Major\": \"Physics\", \"Graduate Major\": \"Aeronautics\", \"Military Rank\": \"Colonel\", \"Military Branch\": \"US Marine Corps (Retired)\", \"Space Flights\": 2, \"Space Flight (hr)\": 290, \"Space Walks\": 0, \"Space Walks (hr)\": 0.0, \"Missions\": \"STS-5 (Columbia), STS 51-B (Challenger)\", \"Death Date\": \"3/22/1996\", \"Death Mission\": null}, {\"Name\": \"Alan G. Poindexter\", \"Year\": 1998, \"Group\": 17.0, \"Status\": \"Deceased\", \"Birth Date\": \"11/5/1961\", \"Birth Place\": \"Pasadena, CA\", \"Gender\": \"Male\", \"Alma Mater\": \"Georgia Institute of Technology; US Naval Postgraduate School\", \"Undergraduate Major\": \"Aerospace Engineering\", \"Graduate Major\": \"Aeronautical Engineering\", \"Military Rank\": \"Captain\", \"Military Branch\": \"US Navy\", \"Space Flights\": 2, \"Space Flight (hr)\": 669, \"Space Walks\": 0, \"Space Walks (hr)\": 0.0, \"Missions\": \"STS-122 (Atlantis), STS-131 (Discovery)\", \"Death Date\": \"7/1/2012\", \"Death Mission\": null}, {\"Name\": \"Judith A. Resnik\", \"Year\": 1978, \"Group\": 8.0, \"Status\": \"Deceased\", \"Birth Date\": \"4/5/1949\", \"Birth Place\": \"Akron, OH\", \"Gender\": \"Female\", \"Alma Mater\": \"Carnegie-Mellon University; University of Maryland\", \"Undergraduate Major\": \"Electrical Engineering\", \"Graduate Major\": \"Electrical Engineering\", \"Military Rank\": null, \"Military Branch\": null, \"Space Flights\": 2, \"Space Flight (hr)\": 144, \"Space Walks\": 0, \"Space Walks (hr)\": 0.0, \"Missions\": \"STS 41-D (Discovery), STS 51-L (Challenger)\", \"Death Date\": \"1/28/1986\", \"Death Mission\": \"STS 51-L (Challenger)\"}, {\"Name\": \"Sally K. Ride\", \"Year\": 1978, \"Group\": 8.0, \"Status\": \"Deceased\", \"Birth Date\": \"5/26/1951\", \"Birth Place\": \"Los Angeles, CA\", \"Gender\": \"Female\", \"Alma Mater\": \"Stanford University\", \"Undergraduate Major\": \"Physics; English\", \"Graduate Major\": \"Physics\", \"Military Rank\": null, \"Military Branch\": null, \"Space Flights\": 2, \"Space Flight (hr)\": 343, \"Space Walks\": 0, \"Space Walks (hr)\": 0.0, \"Missions\": \"STS-7 (Challenger), STS 41-G (Challenger)\", \"Death Date\": \"7/23/2012\", \"Death Mission\": null}, {\"Name\": \"Patricia Hilliard Robertson\", \"Year\": 1998, \"Group\": 17.0, \"Status\": \"Deceased\", \"Birth Date\": \"3/12/1963\", \"Birth Place\": \"Indiana, PA\", \"Gender\": \"Female\", \"Alma Mater\": \"Indiana University of Pennsylvania; Medical College of Pennsylvania\", \"Undergraduate Major\": \"Biology\", \"Graduate Major\": \"Medicine\", \"Military Rank\": null, \"Military Branch\": null, \"Space Flights\": 0, \"Space Flight (hr)\": 0, \"Space Walks\": 0, \"Space Walks (hr)\": 0.0, \"Missions\": null, \"Death Date\": \"5/24/2001\", \"Death Mission\": null}, {\"Name\": \"Stuart A. Roosa\", \"Year\": 1966, \"Group\": 5.0, \"Status\": \"Deceased\", \"Birth Date\": \"8/16/1933\", \"Birth Place\": \"Durango, CO\", \"Gender\": \"Male\", \"Alma Mater\": \"University of Colorado\", \"Undergraduate Major\": \"Aeronautical Engineering\", \"Graduate Major\": null, \"Military Rank\": \"Colonel\", \"Military Branch\": \"US Air Force (Retired)\", \"Space Flights\": 1, \"Space Flight (hr)\": 216, \"Space Walks\": 0, \"Space Walks (hr)\": 0.0, \"Missions\": \"Apollo 14\", \"Death Date\": \"12/12/1994\", \"Death Mission\": null}, {\"Name\": \"Walter M. Schirra Jr. \", \"Year\": 1959, \"Group\": 1.0, \"Status\": \"Deceased\", \"Birth Date\": \"3/12/1923\", \"Birth Place\": \"Hackensack, NJ\", \"Gender\": \"Male\", \"Alma Mater\": \"US Naval Academy\", \"Undergraduate Major\": \"Naval Sciences\", \"Graduate Major\": null, \"Military Rank\": \"Captain\", \"Military Branch\": \"US Navy (Retired)\", \"Space Flights\": 3, \"Space Flight (hr)\": 295, \"Space Walks\": 0, \"Space Walks (hr)\": 0.0, \"Missions\": \"Mercury 8, Gemini 6, Apollo 7\", \"Death Date\": \"5/2/2007\", \"Death Mission\": null}, {\"Name\": \"Francis R. Scobee\", \"Year\": 1978, \"Group\": 8.0, \"Status\": \"Deceased\", \"Birth Date\": \"5/19/1939\", \"Birth Place\": \"Cle Elum, WA\", \"Gender\": \"Male\", \"Alma Mater\": \"University of Arizona\", \"Undergraduate Major\": \"Aerospace Engineering\", \"Graduate Major\": null, \"Military Rank\": \"Major\", \"Military Branch\": \"US Air Force (Retired)\", \"Space Flights\": 2, \"Space Flight (hr)\": 167, \"Space Walks\": 0, \"Space Walks (hr)\": 0.0, \"Missions\": \"STS 41-C (Challenger), STS 51-L (Challenger)\", \"Death Date\": \"1/28/1986\", \"Death Mission\": \"STS 51-L (Challenger)\"}, {\"Name\": \"Elliot M. See Jr. \", \"Year\": 1962, \"Group\": 2.0, \"Status\": \"Deceased\", \"Birth Date\": \"7/23/1927\", \"Birth Place\": \"Dallas, TX\", \"Gender\": \"Male\", \"Alma Mater\": \"US Merchant Marine Academy; University of California-Los Angeles\", \"Undergraduate Major\": null, \"Graduate Major\": \"Engineering\", \"Military Rank\": null, \"Military Branch\": null, \"Space Flights\": 0, \"Space Flight (hr)\": 0, \"Space Walks\": 0, \"Space Walks (hr)\": 0.0, \"Missions\": null, \"Death Date\": \"2/28/1966\", \"Death Mission\": null}, {\"Name\": \"Alan B. Shepard Jr. \", \"Year\": 1959, \"Group\": 1.0, \"Status\": \"Deceased\", \"Birth Date\": \"11/18/1923\", \"Birth Place\": \"East Derry, NH\", \"Gender\": \"Male\", \"Alma Mater\": \"US Naval Academy\", \"Undergraduate Major\": \"Naval Sciences\", \"Graduate Major\": null, \"Military Rank\": \"Rear Admiral\", \"Military Branch\": \"US Navy (Retired)\", \"Space Flights\": 2, \"Space Flight (hr)\": 216, \"Space Walks\": 2, \"Space Walks (hr)\": 9.0, \"Missions\": \"Mercury 3, Apollo 14\", \"Death Date\": \"7/21/1998\", \"Death Mission\": null}, {\"Name\": \"Donald K. Slayton\", \"Year\": 1959, \"Group\": 1.0, \"Status\": \"Deceased\", \"Birth Date\": \"3/1/1924\", \"Birth Place\": \"Sparta, WI\", \"Gender\": \"Male\", \"Alma Mater\": \"University of Minnesota\", \"Undergraduate Major\": \"Aeronautical Engineering\", \"Graduate Major\": null, \"Military Rank\": \"Major\", \"Military Branch\": \"US Air Force Reserves\", \"Space Flights\": 1, \"Space Flight (hr)\": 217, \"Space Walks\": 0, \"Space Walks (hr)\": 0.0, \"Missions\": \"Apollo-Soyuz Test Project\", \"Death Date\": \"6/13/1993\", \"Death Mission\": null}, {\"Name\": \"Michael J. Smith\", \"Year\": 1980, \"Group\": 9.0, \"Status\": \"Deceased\", \"Birth Date\": \"4/30/1945\", \"Birth Place\": \"Beaufort, NC\", \"Gender\": \"Male\", \"Alma Mater\": \"US Naval Academy; US Naval Postgraduate School\", \"Undergraduate Major\": \"Naval Sciences\", \"Graduate Major\": \"Aeronautical Engineering\", \"Military Rank\": \"Captain\", \"Military Branch\": \"US Navy\", \"Space Flights\": 1, \"Space Flight (hr)\": 0, \"Space Walks\": 0, \"Space Walks (hr)\": 0.0, \"Missions\": \"STS 51-L (Challenger)\", \"Death Date\": \"1/28/1986\", \"Death Mission\": \"STS 51-L (Challenger)\"}, {\"Name\": \"John L. Swigert Jr. \", \"Year\": 1966, \"Group\": 5.0, \"Status\": \"Deceased\", \"Birth Date\": \"8/30/1931\", \"Birth Place\": \"Denver, CO\", \"Gender\": \"Male\", \"Alma Mater\": \"University of Colorado; Rensselaer Polytechnic Institute; University of Hartford\", \"Undergraduate Major\": \"Mechanical Engineering\", \"Graduate Major\": \"Aerospace Science; Business Administration\", \"Military Rank\": null, \"Military Branch\": null, \"Space Flights\": 1, \"Space Flight (hr)\": 142, \"Space Walks\": 0, \"Space Walks (hr)\": 0.0, \"Missions\": \"Apollo 13\", \"Death Date\": \"12/27/1982\", \"Death Mission\": null}, {\"Name\": \"Stephen D. Thorne\", \"Year\": 1985, \"Group\": 11.0, \"Status\": \"Deceased\", \"Birth Date\": \"2/11/1953\", \"Birth Place\": \"Frankfurt, West Germany\", \"Gender\": \"Male\", \"Alma Mater\": \"US Naval Academy\", \"Undergraduate Major\": \"Engineering\", \"Graduate Major\": null, \"Military Rank\": \"Lieutenant Commander\", \"Military Branch\": \"US Navy\", \"Space Flights\": 0, \"Space Flight (hr)\": 0, \"Space Walks\": 0, \"Space Walks (hr)\": 0.0, \"Missions\": null, \"Death Date\": \"5/24/1986\", \"Death Mission\": null}, {\"Name\": \"Charles Lacy Veach\", \"Year\": 1984, \"Group\": 10.0, \"Status\": \"Deceased\", \"Birth Date\": \"9/18/1944\", \"Birth Place\": \"Chicago, IL\", \"Gender\": \"Male\", \"Alma Mater\": \"US Air Force Academy\", \"Undergraduate Major\": \"Engineering Management\", \"Graduate Major\": null, \"Military Rank\": null, \"Military Branch\": null, \"Space Flights\": 2, \"Space Flight (hr)\": 436, \"Space Walks\": 0, \"Space Walks (hr)\": 0.0, \"Missions\": \"STS-39 (Discovery), STS-52 (Columbia)\", \"Death Date\": \"10/3/1995\", \"Death Mission\": null}, {\"Name\": \"Janice E. Voss\", \"Year\": 1990, \"Group\": 13.0, \"Status\": \"Deceased\", \"Birth Date\": \"10/8/1956\", \"Birth Place\": \"South Bend, IN\", \"Gender\": \"Female\", \"Alma Mater\": \"Purdue University; MIT\", \"Undergraduate Major\": \"Engineering Science\", \"Graduate Major\": \"Electrical Engineering; Aeronautics & Astronautics\", \"Military Rank\": null, \"Military Branch\": null, \"Space Flights\": 5, \"Space Flight (hr)\": 1179, \"Space Walks\": 0, \"Space Walks (hr)\": 0.0, \"Missions\": \"STS-57 (Endeavor), STS-63 (Discovery), STS-83 (Columbia), STS-94 (Columbia), STS-99 (Endeavor)\", \"Death Date\": \"2/6/2012\", \"Death Mission\": null}, {\"Name\": \"David M. Walker\", \"Year\": 1978, \"Group\": 8.0, \"Status\": \"Deceased\", \"Birth Date\": \"5/20/1944\", \"Birth Place\": \"Columbus, GA\", \"Gender\": \"Male\", \"Alma Mater\": \"US Naval Academy\", \"Undergraduate Major\": \"Naval Sciences\", \"Graduate Major\": null, \"Military Rank\": \"Captain\", \"Military Branch\": \"US Navy (Retired)\", \"Space Flights\": 4, \"Space Flight (hr)\": 724, \"Space Walks\": 0, \"Space Walks (hr)\": 0.0, \"Missions\": \"STS 51-A (Discovery), STS-30 (Atlantis), STS-53 (Discovery), STS-69 (Endeavor)\", \"Death Date\": \"4/23/2001\", \"Death Mission\": null}, {\"Name\": \"Edward H. White II \", \"Year\": 1962, \"Group\": 2.0, \"Status\": \"Deceased\", \"Birth Date\": \"11/14/1930\", \"Birth Place\": \"San Antonio, TX\", \"Gender\": \"Male\", \"Alma Mater\": \"US Military Academy; University of Michigan\", \"Undergraduate Major\": null, \"Graduate Major\": \"Aeronautical Engineering\", \"Military Rank\": \"Lieutenant Colonel\", \"Military Branch\": \"US Air Force\", \"Space Flights\": 2, \"Space Flight (hr)\": 97, \"Space Walks\": 1, \"Space Walks (hr)\": 0.5, \"Missions\": \"Gemini 4, Apollo 1\", \"Death Date\": \"1/27/1967\", \"Death Mission\": \"Apollo 1\"}, {\"Name\": \"Clifton C. Williams Jr. \", \"Year\": 1963, \"Group\": 3.0, \"Status\": \"Deceased\", \"Birth Date\": \"9/26/1932\", \"Birth Place\": \"Mobile, AL\", \"Gender\": \"Male\", \"Alma Mater\": \"Auburn University\", \"Undergraduate Major\": \"Mechanical Engineering\", \"Graduate Major\": null, \"Military Rank\": \"Major\", \"Military Branch\": \"US Marine Corps\", \"Space Flights\": 0, \"Space Flight (hr)\": 0, \"Space Walks\": 0, \"Space Walks (hr)\": 0.0, \"Missions\": null, \"Death Date\": \"10/5/1967\", \"Death Mission\": null}]}}, {\"mode\": \"vega-lite\"});\n",
       "</script>"
      ],
      "text/plain": [
       "alt.FacetChart(...)"
      ]
     },
     "metadata": {},
     "output_type": "display_data"
    },
    {
     "data": {
      "text/plain": [
       "'Success'"
      ]
     },
     "execution_count": 31,
     "metadata": {},
     "output_type": "execute_result"
    }
   ],
   "source": [
    "t.test_5d(astronauts_stats)"
   ]
  },
  {
   "cell_type": "markdown",
   "metadata": {},
   "source": [
    "**Question  5(e)** <br> {points: 1} \n",
    "\n",
    "We have a final function named `filter_astronauts` that uses the astronaut dataset as an argument. It takes multiple arguments and returns a dictionary with 2 dataframes as values\n"
   ]
  },
  {
   "cell_type": "code",
   "execution_count": 32,
   "metadata": {},
   "outputs": [],
   "source": [
    "astronauts = pd.read_csv('data/astronauts.csv')\n",
    "\n",
    "def filter_astronauts(df, military_rank, year_min, year_max): \n",
    "    \"\"\"\n",
    "    Filters the input argument data based on military rank and the astronauts entry year.\n",
    "\n",
    "    \n",
    "    Parameters\n",
    "    ----------\n",
    "    df : pandas.core.frame.DataFrame\n",
    "        The dataframe to filter\n",
    "    military_rank : str\n",
    "        The astronaut's military rank if any. If \"No Rank\", filters for no military ranking. \n",
    "    year_min : int\n",
    "        Astronaut entry year minimum \n",
    "    year_max : int\n",
    "        Astronaut entry year minimum \n",
    "    \n",
    "    Returns\n",
    "    -------\n",
    "    dict\n",
    "        A dictionary containing the 2 dataframes  \n",
    "    \n",
    "    Examples\n",
    "    --------\n",
    "    >>> filter_astronauts(df, \"No Rank\", 1996, 2010)\n",
    "\n",
    "    \"\"\"\n",
    "   \n",
    "    if military_rank == \"No Rank\": \n",
    "        df_military = df[df['Military Rank'].isnull()]\n",
    "    elif military_rank is None: \n",
    "        df_military = df\n",
    "    else:\n",
    "        df_military = df[df['Military Rank'] == military_rank]\n",
    "    \n",
    "    df_year = df[(df['Year'] >= year_min) & (df['Year'] <= year_max)]\n",
    "    \n",
    "    dataframe_dict = {'military_filtered': df_military, 'year_filtered': df_military}\n",
    "   \n",
    "    return dataframe_dict"
   ]
  },
  {
   "cell_type": "code",
   "execution_count": 33,
   "metadata": {},
   "outputs": [
    {
     "data": {
      "text/plain": [
       "{'military_filtered':                     Name  Year  Group      Status  Birth Date  \\\n",
       " 0        Joseph M. Acaba  2004   19.0      Active   5/17/1967   \n",
       " 5        Joseph P. Allen  1967    6.0     Retired   6/27/1937   \n",
       " 8    Clayton C. Anderson  1998   17.0     Retired   2/23/1959   \n",
       " 11       Jerome Apt III   1985   11.0     Retired   4/18/1949   \n",
       " 13     Neil A. Armstrong  1962    2.0    Deceased    8/5/1930   \n",
       " ..                   ...   ...    ...         ...         ...   \n",
       " 315     Peggy A. Whitson  1996   16.0      Active    2/9/1960   \n",
       " 316  Terrence W. Wilcutt  1990   13.0  Management  10/31/1949   \n",
       " 322  Stephanie D. Wilson  1996   16.0      Active   9/27/1966   \n",
       " 324   Peter J. K. Wisoff  1990   13.0     Retired   8/16/1958   \n",
       " 325        David A. Wolf  1990   13.0     Retired   8/23/1956   \n",
       " \n",
       "              Birth Place  Gender  \\\n",
       " 0          Inglewood, CA    Male   \n",
       " 5    Crawsfordsville, IN    Male   \n",
       " 8              Omaha, NE    Male   \n",
       " 11       Springfield, MA    Male   \n",
       " 13        Wapakoneta, OH    Male   \n",
       " ..                   ...     ...   \n",
       " 315          Mt. Ayr, IA  Female   \n",
       " 316     Russellville, KY    Male   \n",
       " 322           Boston, MA  Female   \n",
       " 324          Norfolk, VA    Male   \n",
       " 325     Indianapolis, IN    Male   \n",
       " \n",
       "                                             Alma Mater  \\\n",
       " 0    University of California-Santa Barbara; Univer...   \n",
       " 5                   DePauw University; Yale University   \n",
       " 8              Hastings College; Iowa State University   \n",
       " 11                             Harvard University; MIT   \n",
       " 13   Purdue University; University of Southern Cali...   \n",
       " ..                                                 ...   \n",
       " 315             Iowa Wesleyan College; Rice University   \n",
       " 316                        Western Kentucky University   \n",
       " 322            Harvard University; University of Texas   \n",
       " 324        University of Virginia; Stanford University   \n",
       " 325              Purdue University; Indiana University   \n",
       " \n",
       "           Undergraduate Major         Graduate Major Military Rank  \\\n",
       " 0                     Geology                Geology           NaN   \n",
       " 5       Mathematics & Physics                Physics           NaN   \n",
       " 8                     Physics  Aerospace Engineering           NaN   \n",
       " 11                    Physics                Physics           NaN   \n",
       " 13   Aeronautical Engineering  Aerospace Engineering           NaN   \n",
       " ..                        ...                    ...           ...   \n",
       " 315       Chemistry & Biology           Biochemistry           NaN   \n",
       " 316               Mathematics                    NaN           NaN   \n",
       " 322       Engineering Science  Aerospace Engineering           NaN   \n",
       " 324                   Physics        Applied Physics           NaN   \n",
       " 325    Electrical Engineering               Medicine           NaN   \n",
       " \n",
       "     Military Branch  Space Flights  Space Flight (hr)  Space Walks  \\\n",
       " 0               NaN              2               3307            2   \n",
       " 5               NaN              2                313            2   \n",
       " 8               NaN              2               4005            6   \n",
       " 11              NaN              4                847            2   \n",
       " 13              NaN              2                205            1   \n",
       " ..              ...            ...                ...          ...   \n",
       " 315             NaN              3              11698            7   \n",
       " 316             NaN              4               1008            0   \n",
       " 322             NaN              3               1031            0   \n",
       " 324             NaN              4               1064            3   \n",
       " 325             NaN              3               4044            7   \n",
       " \n",
       "      Space Walks (hr)                                           Missions  \\\n",
       " 0                13.0             STS-119 (Discovery), ISS-31/32 (Soyuz)   \n",
       " 5                12.0              ST-5 (Columbia), STS 51-A (Discovery)   \n",
       " 8                38.0  STS-117/120 (Atlantis/Discovery), STS-131 (Dis...   \n",
       " 11               11.0  STS-37 (Atlantis), STS-47 (Endeavor), STS-59 (...   \n",
       " 13                2.0                                Gemini 8, Apollo 11   \n",
       " ..                ...                                                ...   \n",
       " 315              46.0  STS-111/113 (Endeavor), ISS-16 (Soyuz), ISS-50...   \n",
       " 316               0.0  STS-68 (Endeavor), STS-79 (Atlantis), STS-89 (...   \n",
       " 322               0.0  STS-121 (Discovery), STS-120 (Discovery), STS-...   \n",
       " 324              20.0  STS-57 (Endeavor), STS-68 (Endeavor), STS-81 (...   \n",
       " 325              41.0  STS-58 (Columbia). STS-86/89 (Atlantis/Endeavo...   \n",
       " \n",
       "     Death Date Death Mission  \n",
       " 0          NaN           NaN  \n",
       " 5          NaN           NaN  \n",
       " 8          NaN           NaN  \n",
       " 11         NaN           NaN  \n",
       " 13   8/25/2012           NaN  \n",
       " ..         ...           ...  \n",
       " 315        NaN           NaN  \n",
       " 316        NaN           NaN  \n",
       " 322        NaN           NaN  \n",
       " 324        NaN           NaN  \n",
       " 325        NaN           NaN  \n",
       " \n",
       " [127 rows x 19 columns],\n",
       " 'year_filtered':                     Name  Year  Group      Status  Birth Date  \\\n",
       " 0        Joseph M. Acaba  2004   19.0      Active   5/17/1967   \n",
       " 5        Joseph P. Allen  1967    6.0     Retired   6/27/1937   \n",
       " 8    Clayton C. Anderson  1998   17.0     Retired   2/23/1959   \n",
       " 11       Jerome Apt III   1985   11.0     Retired   4/18/1949   \n",
       " 13     Neil A. Armstrong  1962    2.0    Deceased    8/5/1930   \n",
       " ..                   ...   ...    ...         ...         ...   \n",
       " 315     Peggy A. Whitson  1996   16.0      Active    2/9/1960   \n",
       " 316  Terrence W. Wilcutt  1990   13.0  Management  10/31/1949   \n",
       " 322  Stephanie D. Wilson  1996   16.0      Active   9/27/1966   \n",
       " 324   Peter J. K. Wisoff  1990   13.0     Retired   8/16/1958   \n",
       " 325        David A. Wolf  1990   13.0     Retired   8/23/1956   \n",
       " \n",
       "              Birth Place  Gender  \\\n",
       " 0          Inglewood, CA    Male   \n",
       " 5    Crawsfordsville, IN    Male   \n",
       " 8              Omaha, NE    Male   \n",
       " 11       Springfield, MA    Male   \n",
       " 13        Wapakoneta, OH    Male   \n",
       " ..                   ...     ...   \n",
       " 315          Mt. Ayr, IA  Female   \n",
       " 316     Russellville, KY    Male   \n",
       " 322           Boston, MA  Female   \n",
       " 324          Norfolk, VA    Male   \n",
       " 325     Indianapolis, IN    Male   \n",
       " \n",
       "                                             Alma Mater  \\\n",
       " 0    University of California-Santa Barbara; Univer...   \n",
       " 5                   DePauw University; Yale University   \n",
       " 8              Hastings College; Iowa State University   \n",
       " 11                             Harvard University; MIT   \n",
       " 13   Purdue University; University of Southern Cali...   \n",
       " ..                                                 ...   \n",
       " 315             Iowa Wesleyan College; Rice University   \n",
       " 316                        Western Kentucky University   \n",
       " 322            Harvard University; University of Texas   \n",
       " 324        University of Virginia; Stanford University   \n",
       " 325              Purdue University; Indiana University   \n",
       " \n",
       "           Undergraduate Major         Graduate Major Military Rank  \\\n",
       " 0                     Geology                Geology           NaN   \n",
       " 5       Mathematics & Physics                Physics           NaN   \n",
       " 8                     Physics  Aerospace Engineering           NaN   \n",
       " 11                    Physics                Physics           NaN   \n",
       " 13   Aeronautical Engineering  Aerospace Engineering           NaN   \n",
       " ..                        ...                    ...           ...   \n",
       " 315       Chemistry & Biology           Biochemistry           NaN   \n",
       " 316               Mathematics                    NaN           NaN   \n",
       " 322       Engineering Science  Aerospace Engineering           NaN   \n",
       " 324                   Physics        Applied Physics           NaN   \n",
       " 325    Electrical Engineering               Medicine           NaN   \n",
       " \n",
       "     Military Branch  Space Flights  Space Flight (hr)  Space Walks  \\\n",
       " 0               NaN              2               3307            2   \n",
       " 5               NaN              2                313            2   \n",
       " 8               NaN              2               4005            6   \n",
       " 11              NaN              4                847            2   \n",
       " 13              NaN              2                205            1   \n",
       " ..              ...            ...                ...          ...   \n",
       " 315             NaN              3              11698            7   \n",
       " 316             NaN              4               1008            0   \n",
       " 322             NaN              3               1031            0   \n",
       " 324             NaN              4               1064            3   \n",
       " 325             NaN              3               4044            7   \n",
       " \n",
       "      Space Walks (hr)                                           Missions  \\\n",
       " 0                13.0             STS-119 (Discovery), ISS-31/32 (Soyuz)   \n",
       " 5                12.0              ST-5 (Columbia), STS 51-A (Discovery)   \n",
       " 8                38.0  STS-117/120 (Atlantis/Discovery), STS-131 (Dis...   \n",
       " 11               11.0  STS-37 (Atlantis), STS-47 (Endeavor), STS-59 (...   \n",
       " 13                2.0                                Gemini 8, Apollo 11   \n",
       " ..                ...                                                ...   \n",
       " 315              46.0  STS-111/113 (Endeavor), ISS-16 (Soyuz), ISS-50...   \n",
       " 316               0.0  STS-68 (Endeavor), STS-79 (Atlantis), STS-89 (...   \n",
       " 322               0.0  STS-121 (Discovery), STS-120 (Discovery), STS-...   \n",
       " 324              20.0  STS-57 (Endeavor), STS-68 (Endeavor), STS-81 (...   \n",
       " 325              41.0  STS-58 (Columbia). STS-86/89 (Atlantis/Endeavo...   \n",
       " \n",
       "     Death Date Death Mission  \n",
       " 0          NaN           NaN  \n",
       " 5          NaN           NaN  \n",
       " 8          NaN           NaN  \n",
       " 11         NaN           NaN  \n",
       " 13   8/25/2012           NaN  \n",
       " ..         ...           ...  \n",
       " 315        NaN           NaN  \n",
       " 316        NaN           NaN  \n",
       " 322        NaN           NaN  \n",
       " 324        NaN           NaN  \n",
       " 325        NaN           NaN  \n",
       " \n",
       " [127 rows x 19 columns]}"
      ]
     },
     "execution_count": 33,
     "metadata": {},
     "output_type": "execute_result"
    }
   ],
   "source": [
    "filter_astronauts(astronauts, \"No Rank\", 1996, 2010 )"
   ]
  },
  {
   "cell_type": "markdown",
   "metadata": {},
   "source": [
    "Why is the function `filter_astronauts()` not considered the best possible design ?\n",
    "\n",
    "A) It returns a dictionary which is not good function design. \n",
    "\n",
    "B) It's attempting to do too many things and it would be better to have 2 separate functions, one that returns each dataframe. \n",
    "\n",
    "C) It contains side effects that could easily be removed. \n",
    "\n",
    "D) It limits the user's ability to filter on specific columns. \n",
    "\n",
    "\n",
    "*Answer in the cell below using the uppercase letter associated with your answer. Place your answer between \"\", assign the correct answer to an object called `answer5_e`.*"
   ]
  },
  {
   "cell_type": "code",
   "execution_count": 34,
   "metadata": {
    "deletable": false,
    "nbgrader": {
     "cell_type": "code",
     "checksum": "2042b70c7fd28abd36ea8dab2e1aff3b",
     "grade": false,
     "grade_id": "cell-24c846478500c470",
     "locked": false,
     "schema_version": 3,
     "solution": true,
     "task": false
    }
   },
   "outputs": [],
   "source": [
    "answer5_e = \"B\"\n"
   ]
  },
  {
   "cell_type": "code",
   "execution_count": 35,
   "metadata": {
    "deletable": false,
    "editable": false,
    "nbgrader": {
     "cell_type": "code",
     "checksum": "663873b03e018f70fe4db77453a9fce7",
     "grade": true,
     "grade_id": "cell-ed62e9fa8c8405a4",
     "locked": true,
     "points": 1,
     "schema_version": 3,
     "solution": false,
     "task": false
    }
   },
   "outputs": [
    {
     "data": {
      "text/plain": [
       "'Success'"
      ]
     },
     "execution_count": 35,
     "metadata": {},
     "output_type": "execute_result"
    }
   ],
   "source": [
    "t.test_5e(answer5_e)"
   ]
  },
  {
   "cell_type": "markdown",
   "metadata": {},
   "source": [
    "**Question  5(f)** <br> {points: 1} \n",
    "\n",
    "Given the function above, solve the issue that you specified above by making 2 new functions named `filters_military_rank` and `filters_active_years`. \n",
    "Your new functions should have applicable arguments from the function in question `5e`.\n",
    "\n",
    "Make sure to include a `docstring` for your function.\n",
    "\n",
    "Run your new functions using the same parameters as: \n",
    "\n",
    "`filter_astronauts(astronauts, \"No Rank\", 1996, 2010)`\n",
    "\n",
    "Save your answers in objects named `astro_no_rank` and `astro_96_10`.\n",
    "\n",
    "The returned items should be `dataframes`."
   ]
  },
  {
   "cell_type": "code",
   "execution_count": 36,
   "metadata": {
    "deletable": false,
    "nbgrader": {
     "cell_type": "code",
     "checksum": "0dc5f74ad58142e1690b854f43cae430",
     "grade": false,
     "grade_id": "cell-919a370931bd870f",
     "locked": false,
     "schema_version": 3,
     "solution": true,
     "task": false
    }
   },
   "outputs": [],
   "source": [
    "astronauts = pd.read_csv('data/astronauts.csv')\n",
    "\n",
    "def filters_military_rank(df, military_rank): \n",
    "    \"\"\"\n",
    "    Filters the input argument data based on military rank\n",
    "\n",
    "    \n",
    "    Parameters\n",
    "    ----------\n",
    "    df : pandas.core.frame.DataFrame\n",
    "        The dataframe to filter\n",
    "    military_rank : str\n",
    "        The astronaut's military rank if any. If \"No Rank\", filters for no military ranking. \n",
    "    \n",
    "    Returns\n",
    "    -------\n",
    "    pandas.core.frame.DataFrame\n",
    "        A DataFrame representing the filtered data \n",
    "    \n",
    "    Examples\n",
    "    --------\n",
    "    >>> filter_astronauts(df, \"No Rank\")\n",
    "\n",
    "    \"\"\"\n",
    "   \n",
    "    if military_rank == \"No Rank\": \n",
    "        df_military = df[df['Military Rank'].isnull()]\n",
    "    elif military_rank is None: \n",
    "        df_military = df\n",
    "    else:\n",
    "        df_military = df[df['Military Rank'] == military_rank]\n",
    "    \n",
    "    return df_military\n",
    "\n",
    "def filters_active_years(df, year_min, year_max): \n",
    "    \"\"\"\n",
    "    Filters the input argument data based on the astronauts entry year.\n",
    "\n",
    "    \n",
    "    Parameters\n",
    "    ----------\n",
    "    df : pandas.core.frame.DataFrame\n",
    "        The dataframe to filter\n",
    "    year_min : int\n",
    "        Astronaut entry year minimum \n",
    "    year_max : int\n",
    "        Astronaut entry year minimum \n",
    "    \n",
    "    Returns\n",
    "    -------\n",
    "    pandas.core.frame.DataFrame\n",
    "        A DataFrame representing the filtered data  \n",
    "    \n",
    "    Examples\n",
    "    --------\n",
    "    >>> filter_astronauts(df, 1996, 2010)\n",
    "\n",
    "    \"\"\"\n",
    "    \n",
    "    df_year = df[(df['Year'] >= year_min) & (df['Year'] <= year_max)]\n",
    "    \n",
    "    return df_year\n",
    "\n",
    "astro_no_rank = filters_military_rank(astronauts, \"No Rank\")\n",
    "astro_96_10 = filters_active_years(astronauts, 1996, 2010)"
   ]
  },
  {
   "cell_type": "code",
   "execution_count": 37,
   "metadata": {
    "deletable": false,
    "editable": false,
    "nbgrader": {
     "cell_type": "code",
     "checksum": "0ffa96a782a03f1541e60d927a8c69e7",
     "grade": true,
     "grade_id": "cell-efa69495ceec32ee",
     "locked": true,
     "points": 1,
     "schema_version": 3,
     "solution": false,
     "task": false
    }
   },
   "outputs": [
    {
     "data": {
      "text/plain": [
       "'Success'"
      ]
     },
     "execution_count": 37,
     "metadata": {},
     "output_type": "execute_result"
    }
   ],
   "source": [
    "t.test_5f(filters_military_rank,filters_active_years,astronauts)"
   ]
  },
  {
   "cell_type": "markdown",
   "metadata": {},
   "source": [
    "Before submitting your assignment please do the following:\n",
    "\n",
    "- Read through your solutions\n",
    "- **Restart your kernel and clear output and rerun your cells from top to bottom** \n",
    "- Makes sure that none of your code is broken \n",
    "- Verify that the tests from the questions you answered have obtained the output \"Success\"\n",
    "\n",
    "This is a simple way to make sure that you are submitting all the variables needed to mark the assignment. This method should help avoid losing marks due to changes in your environment.  "
   ]
  },
  {
   "cell_type": "markdown",
   "metadata": {},
   "source": [
    "## Attributions\n",
    "- MDS DSCI 511 - Programming for Data Science - [MDS's GitHub website](https://ubc-mds.github.io/course-descriptions/DSCI_511_prog-dsci/) \n",
    "- Astronaut Dataset - [Kaggle](https://www.kaggle.com/nasa/astronaut-yearbook?select=astronauts.csv)"
   ]
  },
  {
   "cell_type": "markdown",
   "metadata": {},
   "source": [
    "## Module Debriefing\n",
    "\n",
    "If this video is not showing up below, click on the cell and click the ▶ button in the toolbar above."
   ]
  },
  {
   "cell_type": "code",
   "execution_count": 38,
   "metadata": {},
   "outputs": [
    {
     "data": {
      "image/jpeg": "[encoded data removed]",
      "text/html": [
       "\n",
       "        <iframe\n",
       "            width=\"854\"\n",
       "            height=\"480\"\n",
       "            src=\"https://www.youtube.com/embed/3d5rOf1SEUY\"\n",
       "            frameborder=\"0\"\n",
       "            allowfullscreen\n",
       "        ></iframe>\n",
       "        "
      ],
      "text/plain": [
       "<IPython.lib.display.YouTubeVideo at 0x7f1811f3ec40>"
      ]
     },
     "execution_count": 38,
     "metadata": {},
     "output_type": "execute_result"
    }
   ],
   "source": [
    "from IPython.display import YouTubeVideo\n",
    "YouTubeVideo('3d5rOf1SEUY', width=854, height=480)"
   ]
  },
  {
   "cell_type": "code",
   "execution_count": null,
   "metadata": {},
   "outputs": [],
   "source": []
  }
 ],
 "metadata": {
  "kernelspec": {
   "display_name": "Python 3",
   "language": "python",
   "name": "python3"
  },
  "language_info": {
   "codemirror_mode": {
    "name": "ipython",
    "version": 3
   },
   "file_extension": ".py",
   "mimetype": "text/x-python",
   "name": "python",
   "nbconvert_exporter": "python",
   "pygments_lexer": "ipython3",
   "version": "3.8.5"
  }
 },
 "nbformat": 4,
 "nbformat_minor": 4
}
